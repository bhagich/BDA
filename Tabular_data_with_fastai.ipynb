{
  "cells": [
    {
      "cell_type": "markdown",
      "metadata": {
        "id": "view-in-github",
        "colab_type": "text"
      },
      "source": [
        "<a href=\"https://colab.research.google.com/github/bhagich/BDA/blob/main/Tabular_data_with_fastai.ipynb\" target=\"_parent\"><img src=\"https://colab.research.google.com/assets/colab-badge.svg\" alt=\"Open In Colab\"/></a>"
      ]
    },
    {
      "cell_type": "code",
      "source": [
        "# Last amended: 14th Jan, 2022\n",
        "# github deeplearning repo\n",
        "# Ref: https://docs.fast.ai/tutorial.tabular.html\n",
        "#      https://confusedcoders.com/data-science/deep-learning/how-to-apply-deep-learning-on-tabular-data-with-fastai\n",
        "#      https://www.martinalarcon.org/2018-12-31-b-water-pumps/\n",
        "# Objectives:\n",
        "#           a) Using fastai to preprocess data\n",
        "#           b) fastai for developing model\n",
        "#           c) fast ai for making data ready for other libraries"
      ],
      "metadata": {
        "id": "GHshFDQIb0zb"
      },
      "execution_count": null,
      "outputs": []
    },
    {
      "cell_type": "markdown",
      "metadata": {
        "id": "bOa9XKc_XKRg"
      },
      "source": [
        "# Tabular models\n",
        "To get help on fastai functons use `doc()`.<br>\n",
        "Reference See [here](https://docs.fast.ai/tutorial.tabular.html)<br>\n",
        "What are DataLoaders? See [here](https://dirk-kalmbach.medium.com/datablock-and-dataloaders-in-fastai-d5aa7ae560e5) and [here](https://muttoni.github.io/blog/machine-learning/fastai/2020/12/26/datablocks-vs-dataloaders.html)"
      ]
    },
    {
      "cell_type": "code",
      "source": [
        "# 0.0\n",
        "from IPython.core.interactiveshell import InteractiveShell\n",
        "InteractiveShell.ast_node_interactivity = \"all\"\n"
      ],
      "metadata": {
        "id": "rvQc2pStXZoY"
      },
      "execution_count": null,
      "outputs": []
    },
    {
      "cell_type": "code",
      "source": [
        "# To see prettier help using doc()\n",
        "!pip install nbdev"
      ],
      "metadata": {
        "id": "HEkvNy7CFFRc"
      },
      "execution_count": null,
      "outputs": []
    },
    {
      "cell_type": "markdown",
      "source": [
        "## Call libraries"
      ],
      "metadata": {
        "id": "X_KE1ZCVWkMR"
      }
    },
    {
      "cell_type": "code",
      "execution_count": null,
      "metadata": {
        "id": "Q_nz0bE0XKRi"
      },
      "outputs": [],
      "source": [
        "# 1.0 Call libraries:\n",
        "\n",
        "from fastai.tabular import *\n",
        "\n",
        "# For FillMissing, Categorify, Normalize, untar_data\n",
        "from fastai.tabular.all import *"
      ]
    },
    {
      "cell_type": "markdown",
      "source": [
        "## Get data"
      ],
      "metadata": {
        "id": "v81AU7F1Wgap"
      }
    },
    {
      "cell_type": "markdown",
      "source": [
        "Pathlib module contains useful functions to perform file-related tasks. Pathlib provides a more readable and easier way to build up paths by representing filesystem paths as proper objects and enables us to write code that is portable across platforms."
      ],
      "metadata": {
        "id": "OT6kRsFfUXbJ"
      }
    },
    {
      "cell_type": "code",
      "source": [
        "# 1.1 untar_data will download data (if not already downloaded)\n",
        "#      to /root/.fastai/data/adult_sample\n",
        "\n",
        "path = untar_data(URLs.ADULT_SAMPLE)\n",
        "path\n",
        "print(\"=====\\n\")\n",
        "path.ls()\n",
        "print(\"=====\\n\")\n",
        "type(path)"
      ],
      "metadata": {
        "id": "Qlb0ohSMXRna",
        "outputId": "b496e3c4-302a-4dd7-81fb-fe72cfaac998",
        "colab": {
          "base_uri": "https://localhost:8080/",
          "height": 411
        }
      },
      "execution_count": null,
      "outputs": [
        {
          "output_type": "display_data",
          "data": {
            "text/plain": [
              "<IPython.core.display.HTML object>"
            ],
            "text/html": [
              "\n",
              "<style>\n",
              "    /* Turns off some styling */\n",
              "    progress {\n",
              "        /* gets rid of default border in Firefox and Opera. */\n",
              "        border: none;\n",
              "        /* Needs to be in here for Safari polyfill so background images work as expected. */\n",
              "        background-size: auto;\n",
              "    }\n",
              "    progress:not([value]), progress:not([value])::-webkit-progress-bar {\n",
              "        background: repeating-linear-gradient(45deg, #7e7e7e, #7e7e7e 10px, #5c5c5c 10px, #5c5c5c 20px);\n",
              "    }\n",
              "    .progress-bar-interrupted, .progress-bar-interrupted::-webkit-progress-bar {\n",
              "        background: #F44336;\n",
              "    }\n",
              "</style>\n"
            ]
          },
          "metadata": {}
        },
        {
          "output_type": "display_data",
          "data": {
            "text/plain": [
              "<IPython.core.display.HTML object>"
            ],
            "text/html": [
              "\n",
              "    <div>\n",
              "      <progress value='974848' class='' max='968212' style='width:300px; height:20px; vertical-align: middle;'></progress>\n",
              "      100.69% [974848/968212 00:00&lt;00:00]\n",
              "    </div>\n",
              "    "
            ]
          },
          "metadata": {}
        },
        {
          "output_type": "execute_result",
          "data": {
            "text/plain": [
              "Path('/root/.fastai/data/adult_sample')"
            ]
          },
          "metadata": {},
          "execution_count": 5
        },
        {
          "output_type": "stream",
          "name": "stdout",
          "text": [
            "=====\n",
            "\n"
          ]
        },
        {
          "output_type": "execute_result",
          "data": {
            "text/plain": [
              "(#3) [Path('/root/.fastai/data/adult_sample/models'),Path('/root/.fastai/data/adult_sample/export.pkl'),Path('/root/.fastai/data/adult_sample/adult.csv')]"
            ]
          },
          "metadata": {},
          "execution_count": 5
        },
        {
          "output_type": "stream",
          "name": "stdout",
          "text": [
            "=====\n",
            "\n"
          ]
        },
        {
          "output_type": "execute_result",
          "data": {
            "text/plain": [
              "pathlib.PosixPath"
            ]
          },
          "metadata": {},
          "execution_count": 5
        }
      ]
    },
    {
      "cell_type": "markdown",
      "source": [
        "### About pathlib\n",
        "See [here](https://stackabuse.com/introduction-to-the-python-pathlib-module/)"
      ],
      "metadata": {
        "id": "xxejytbIWC1J"
      }
    },
    {
      "cell_type": "markdown",
      "source": [
        "\n",
        "    Path.cwd(): Return path object representing the current working directory\n",
        "    Path.home(): Return path object representing the home directory\n",
        "    Path.stat(): return info about the path\n",
        "    Path.chmod(): change file mode and permissions\n",
        "    Path.glob(pattern): Glob the pattern given in the directory that is represented by the path, yielding matching files of any kind\n",
        "    Path.mkdir(): to create a new directory at the given path\n",
        "    Path.open(): To open the file created by the path\n",
        "    Path.rename(): Rename a file or directory to the given target\n",
        "    Path.rmdir(): Remove the empty directory\n",
        "    Path.unlink(): Remove the file or symbolic link\n"
      ],
      "metadata": {
        "id": "_sQMqoJHWIoT"
      }
    },
    {
      "cell_type": "code",
      "source": [
        "# 2.0\n",
        "from pathlib import *\n"
      ],
      "metadata": {
        "id": "fPKkWYlwUoGI"
      },
      "execution_count": null,
      "outputs": []
    },
    {
      "cell_type": "code",
      "source": [
        "# 2.1\n",
        "Path.cwd()\n",
        "Path.home()"
      ],
      "metadata": {
        "colab": {
          "base_uri": "https://localhost:8080/"
        },
        "id": "3i0TnDk9Uv5a",
        "outputId": "1425500a-628f-441d-95db-fe791ab6905b"
      },
      "execution_count": null,
      "outputs": [
        {
          "output_type": "execute_result",
          "data": {
            "text/plain": [
              "Path('/content')"
            ]
          },
          "metadata": {},
          "execution_count": 7
        },
        {
          "output_type": "execute_result",
          "data": {
            "text/plain": [
              "Path('/root')"
            ]
          },
          "metadata": {},
          "execution_count": 7
        }
      ]
    },
    {
      "cell_type": "code",
      "source": [
        "# 2.2 How to buid paths\n",
        "outpath = Path.cwd() / 'output' / 'output.xlsx'\n",
        "outpath"
      ],
      "metadata": {
        "colab": {
          "base_uri": "https://localhost:8080/"
        },
        "id": "LjFU4fuUU9no",
        "outputId": "1e0c3fa9-7a03-4985-a3e9-528ab583356e"
      },
      "execution_count": null,
      "outputs": [
        {
          "output_type": "execute_result",
          "data": {
            "text/plain": [
              "Path('/content/output/output.xlsx')"
            ]
          },
          "metadata": {},
          "execution_count": 8
        }
      ]
    },
    {
      "cell_type": "code",
      "source": [
        "# 2.3\n",
        "path.is_dir()\n",
        "path.stat()"
      ],
      "metadata": {
        "colab": {
          "base_uri": "https://localhost:8080/"
        },
        "id": "uitRTWvLVMax",
        "outputId": "d24c7444-4c40-431d-a21f-bbc4256cc0aa"
      },
      "execution_count": null,
      "outputs": [
        {
          "output_type": "execute_result",
          "data": {
            "text/plain": [
              "True"
            ]
          },
          "metadata": {},
          "execution_count": 9
        },
        {
          "output_type": "execute_result",
          "data": {
            "text/plain": [
              "os.stat_result(st_mode=16893, st_ino=6029508, st_dev=45, st_nlink=3, st_uid=1000, st_gid=1000, st_size=4096, st_atime=1673680234, st_mtime=1543965152, st_ctime=1673680234)"
            ]
          },
          "metadata": {},
          "execution_count": 9
        }
      ]
    },
    {
      "cell_type": "code",
      "source": [
        "# 2.4\n",
        "path.glob(\"*.csv\")"
      ],
      "metadata": {
        "colab": {
          "base_uri": "https://localhost:8080/"
        },
        "id": "TSToK7ZcVsMr",
        "outputId": "42e1e205-797f-4cd9-e7d4-08b562253938"
      },
      "execution_count": null,
      "outputs": [
        {
          "output_type": "execute_result",
          "data": {
            "text/plain": [
              "<generator object Path.glob at 0x7f62979e5190>"
            ]
          },
          "metadata": {},
          "execution_count": 10
        }
      ]
    },
    {
      "cell_type": "code",
      "source": [
        "# 2.5\n",
        "for i in path.glob(\"*.csv\"):\n",
        "  print(i)"
      ],
      "metadata": {
        "colab": {
          "base_uri": "https://localhost:8080/"
        },
        "id": "usV4SWhuV5GZ",
        "outputId": "9108da90-5bf8-4caa-ebee-f6fb08155bdc"
      },
      "execution_count": null,
      "outputs": [
        {
          "output_type": "stream",
          "name": "stdout",
          "text": [
            "/root/.fastai/data/adult_sample/adult.csv\n"
          ]
        }
      ]
    },
    {
      "cell_type": "markdown",
      "source": [
        "## Read our data"
      ],
      "metadata": {
        "id": "JIXnSaAmWcG5"
      }
    },
    {
      "cell_type": "code",
      "execution_count": null,
      "metadata": {
        "id": "OCKeDjT8XKRl",
        "colab": {
          "base_uri": "https://localhost:8080/",
          "height": 337
        },
        "outputId": "3b578905-88b2-4c0d-c822-57dca2e76276"
      },
      "outputs": [
        {
          "output_type": "execute_result",
          "data": {
            "text/plain": [
              "   age          workclass  fnlwgt     education  education-num  \\\n",
              "0   49            Private  101320    Assoc-acdm           12.0   \n",
              "1   44            Private  236746       Masters           14.0   \n",
              "2   38            Private   96185       HS-grad            NaN   \n",
              "3   38       Self-emp-inc  112847   Prof-school           15.0   \n",
              "4   42   Self-emp-not-inc   82297       7th-8th            NaN   \n",
              "\n",
              "        marital-status        occupation    relationship                 race  \\\n",
              "0   Married-civ-spouse               NaN            Wife                White   \n",
              "1             Divorced   Exec-managerial   Not-in-family                White   \n",
              "2             Divorced               NaN       Unmarried                Black   \n",
              "3   Married-civ-spouse    Prof-specialty         Husband   Asian-Pac-Islander   \n",
              "4   Married-civ-spouse     Other-service            Wife                Black   \n",
              "\n",
              "       sex  capital-gain  capital-loss  hours-per-week  native-country salary  \n",
              "0   Female             0          1902              40   United-States  >=50k  \n",
              "1     Male         10520             0              45   United-States  >=50k  \n",
              "2   Female             0             0              32   United-States   <50k  \n",
              "3     Male             0             0              40   United-States  >=50k  \n",
              "4   Female             0             0              50   United-States   <50k  "
            ],
            "text/html": [
              "\n",
              "  <div id=\"df-1405894f-3e21-4ea6-a807-a5f29b06b2b0\">\n",
              "    <div class=\"colab-df-container\">\n",
              "      <div>\n",
              "<style scoped>\n",
              "    .dataframe tbody tr th:only-of-type {\n",
              "        vertical-align: middle;\n",
              "    }\n",
              "\n",
              "    .dataframe tbody tr th {\n",
              "        vertical-align: top;\n",
              "    }\n",
              "\n",
              "    .dataframe thead th {\n",
              "        text-align: right;\n",
              "    }\n",
              "</style>\n",
              "<table border=\"1\" class=\"dataframe\">\n",
              "  <thead>\n",
              "    <tr style=\"text-align: right;\">\n",
              "      <th></th>\n",
              "      <th>age</th>\n",
              "      <th>workclass</th>\n",
              "      <th>fnlwgt</th>\n",
              "      <th>education</th>\n",
              "      <th>education-num</th>\n",
              "      <th>marital-status</th>\n",
              "      <th>occupation</th>\n",
              "      <th>relationship</th>\n",
              "      <th>race</th>\n",
              "      <th>sex</th>\n",
              "      <th>capital-gain</th>\n",
              "      <th>capital-loss</th>\n",
              "      <th>hours-per-week</th>\n",
              "      <th>native-country</th>\n",
              "      <th>salary</th>\n",
              "    </tr>\n",
              "  </thead>\n",
              "  <tbody>\n",
              "    <tr>\n",
              "      <th>0</th>\n",
              "      <td>49</td>\n",
              "      <td>Private</td>\n",
              "      <td>101320</td>\n",
              "      <td>Assoc-acdm</td>\n",
              "      <td>12.0</td>\n",
              "      <td>Married-civ-spouse</td>\n",
              "      <td>NaN</td>\n",
              "      <td>Wife</td>\n",
              "      <td>White</td>\n",
              "      <td>Female</td>\n",
              "      <td>0</td>\n",
              "      <td>1902</td>\n",
              "      <td>40</td>\n",
              "      <td>United-States</td>\n",
              "      <td>&gt;=50k</td>\n",
              "    </tr>\n",
              "    <tr>\n",
              "      <th>1</th>\n",
              "      <td>44</td>\n",
              "      <td>Private</td>\n",
              "      <td>236746</td>\n",
              "      <td>Masters</td>\n",
              "      <td>14.0</td>\n",
              "      <td>Divorced</td>\n",
              "      <td>Exec-managerial</td>\n",
              "      <td>Not-in-family</td>\n",
              "      <td>White</td>\n",
              "      <td>Male</td>\n",
              "      <td>10520</td>\n",
              "      <td>0</td>\n",
              "      <td>45</td>\n",
              "      <td>United-States</td>\n",
              "      <td>&gt;=50k</td>\n",
              "    </tr>\n",
              "    <tr>\n",
              "      <th>2</th>\n",
              "      <td>38</td>\n",
              "      <td>Private</td>\n",
              "      <td>96185</td>\n",
              "      <td>HS-grad</td>\n",
              "      <td>NaN</td>\n",
              "      <td>Divorced</td>\n",
              "      <td>NaN</td>\n",
              "      <td>Unmarried</td>\n",
              "      <td>Black</td>\n",
              "      <td>Female</td>\n",
              "      <td>0</td>\n",
              "      <td>0</td>\n",
              "      <td>32</td>\n",
              "      <td>United-States</td>\n",
              "      <td>&lt;50k</td>\n",
              "    </tr>\n",
              "    <tr>\n",
              "      <th>3</th>\n",
              "      <td>38</td>\n",
              "      <td>Self-emp-inc</td>\n",
              "      <td>112847</td>\n",
              "      <td>Prof-school</td>\n",
              "      <td>15.0</td>\n",
              "      <td>Married-civ-spouse</td>\n",
              "      <td>Prof-specialty</td>\n",
              "      <td>Husband</td>\n",
              "      <td>Asian-Pac-Islander</td>\n",
              "      <td>Male</td>\n",
              "      <td>0</td>\n",
              "      <td>0</td>\n",
              "      <td>40</td>\n",
              "      <td>United-States</td>\n",
              "      <td>&gt;=50k</td>\n",
              "    </tr>\n",
              "    <tr>\n",
              "      <th>4</th>\n",
              "      <td>42</td>\n",
              "      <td>Self-emp-not-inc</td>\n",
              "      <td>82297</td>\n",
              "      <td>7th-8th</td>\n",
              "      <td>NaN</td>\n",
              "      <td>Married-civ-spouse</td>\n",
              "      <td>Other-service</td>\n",
              "      <td>Wife</td>\n",
              "      <td>Black</td>\n",
              "      <td>Female</td>\n",
              "      <td>0</td>\n",
              "      <td>0</td>\n",
              "      <td>50</td>\n",
              "      <td>United-States</td>\n",
              "      <td>&lt;50k</td>\n",
              "    </tr>\n",
              "  </tbody>\n",
              "</table>\n",
              "</div>\n",
              "      <button class=\"colab-df-convert\" onclick=\"convertToInteractive('df-1405894f-3e21-4ea6-a807-a5f29b06b2b0')\"\n",
              "              title=\"Convert this dataframe to an interactive table.\"\n",
              "              style=\"display:none;\">\n",
              "        \n",
              "  <svg xmlns=\"http://www.w3.org/2000/svg\" height=\"24px\"viewBox=\"0 0 24 24\"\n",
              "       width=\"24px\">\n",
              "    <path d=\"M0 0h24v24H0V0z\" fill=\"none\"/>\n",
              "    <path d=\"M18.56 5.44l.94 2.06.94-2.06 2.06-.94-2.06-.94-.94-2.06-.94 2.06-2.06.94zm-11 1L8.5 8.5l.94-2.06 2.06-.94-2.06-.94L8.5 2.5l-.94 2.06-2.06.94zm10 10l.94 2.06.94-2.06 2.06-.94-2.06-.94-.94-2.06-.94 2.06-2.06.94z\"/><path d=\"M17.41 7.96l-1.37-1.37c-.4-.4-.92-.59-1.43-.59-.52 0-1.04.2-1.43.59L10.3 9.45l-7.72 7.72c-.78.78-.78 2.05 0 2.83L4 21.41c.39.39.9.59 1.41.59.51 0 1.02-.2 1.41-.59l7.78-7.78 2.81-2.81c.8-.78.8-2.07 0-2.86zM5.41 20L4 18.59l7.72-7.72 1.47 1.35L5.41 20z\"/>\n",
              "  </svg>\n",
              "      </button>\n",
              "      \n",
              "  <style>\n",
              "    .colab-df-container {\n",
              "      display:flex;\n",
              "      flex-wrap:wrap;\n",
              "      gap: 12px;\n",
              "    }\n",
              "\n",
              "    .colab-df-convert {\n",
              "      background-color: #E8F0FE;\n",
              "      border: none;\n",
              "      border-radius: 50%;\n",
              "      cursor: pointer;\n",
              "      display: none;\n",
              "      fill: #1967D2;\n",
              "      height: 32px;\n",
              "      padding: 0 0 0 0;\n",
              "      width: 32px;\n",
              "    }\n",
              "\n",
              "    .colab-df-convert:hover {\n",
              "      background-color: #E2EBFA;\n",
              "      box-shadow: 0px 1px 2px rgba(60, 64, 67, 0.3), 0px 1px 3px 1px rgba(60, 64, 67, 0.15);\n",
              "      fill: #174EA6;\n",
              "    }\n",
              "\n",
              "    [theme=dark] .colab-df-convert {\n",
              "      background-color: #3B4455;\n",
              "      fill: #D2E3FC;\n",
              "    }\n",
              "\n",
              "    [theme=dark] .colab-df-convert:hover {\n",
              "      background-color: #434B5C;\n",
              "      box-shadow: 0px 1px 3px 1px rgba(0, 0, 0, 0.15);\n",
              "      filter: drop-shadow(0px 1px 2px rgba(0, 0, 0, 0.3));\n",
              "      fill: #FFFFFF;\n",
              "    }\n",
              "  </style>\n",
              "\n",
              "      <script>\n",
              "        const buttonEl =\n",
              "          document.querySelector('#df-1405894f-3e21-4ea6-a807-a5f29b06b2b0 button.colab-df-convert');\n",
              "        buttonEl.style.display =\n",
              "          google.colab.kernel.accessAllowed ? 'block' : 'none';\n",
              "\n",
              "        async function convertToInteractive(key) {\n",
              "          const element = document.querySelector('#df-1405894f-3e21-4ea6-a807-a5f29b06b2b0');\n",
              "          const dataTable =\n",
              "            await google.colab.kernel.invokeFunction('convertToInteractive',\n",
              "                                                     [key], {});\n",
              "          if (!dataTable) return;\n",
              "\n",
              "          const docLinkHtml = 'Like what you see? Visit the ' +\n",
              "            '<a target=\"_blank\" href=https://colab.research.google.com/notebooks/data_table.ipynb>data table notebook</a>'\n",
              "            + ' to learn more about interactive tables.';\n",
              "          element.innerHTML = '';\n",
              "          dataTable['output_type'] = 'display_data';\n",
              "          await google.colab.output.renderOutput(dataTable, element);\n",
              "          const docLink = document.createElement('div');\n",
              "          docLink.innerHTML = docLinkHtml;\n",
              "          element.appendChild(docLink);\n",
              "        }\n",
              "      </script>\n",
              "    </div>\n",
              "  </div>\n",
              "  "
            ]
          },
          "metadata": {},
          "execution_count": 12
        }
      ],
      "source": [
        "# 3.0 Read the downloaded dataset \n",
        "df = pd.read_csv(path/'adult.csv')\n",
        "df.head()"
      ]
    },
    {
      "cell_type": "code",
      "source": [
        "# 3.1\n",
        "df.shape   # (32561, 15)"
      ],
      "metadata": {
        "colab": {
          "base_uri": "https://localhost:8080/"
        },
        "id": "7vaziIKRjVyr",
        "outputId": "442ae024-6d16-4255-9090-b6a22e124cbe"
      },
      "execution_count": null,
      "outputs": [
        {
          "output_type": "execute_result",
          "data": {
            "text/plain": [
              "(32561, 15)"
            ]
          },
          "metadata": {},
          "execution_count": 13
        }
      ]
    },
    {
      "cell_type": "markdown",
      "source": [
        "## Data types & Data processing"
      ],
      "metadata": {
        "id": "HQPWnmFCXGMK"
      }
    },
    {
      "cell_type": "code",
      "execution_count": null,
      "metadata": {
        "id": "oGxS7UeiXKRm"
      },
      "outputs": [],
      "source": [
        "# 3.2 Define some constants:\n",
        "\n",
        "dep_var = 'salary'    # target\n",
        "cat_names = ['workclass', 'education', 'marital-status', 'occupation', 'relationship', 'race']\n",
        "cont_names = ['age', 'fnlwgt', 'education-num']\n"
      ]
    },
    {
      "cell_type": "markdown",
      "source": [
        "Processes to operate on data. Refer below for API:<br>\n",
        "[FillMissing](https://docs.fast.ai/tabular.core.html#fillmissing) will fill the missing values in the continuous variables by the median of existing values (you can choose a specific value if you prefer)<br>\n",
        "[Categorify](https://docs.fast.ai/tabular.core.html#categorify): Transform the categorical variables to something similar to pd.Categorical<br>\n",
        "[Normalize](https://docs.fast.ai/data.transforms.html#normalize) will normalize the continuous variables (subtract the mean and divide by the std)<br>\n"
      ],
      "metadata": {
        "id": "wZaGp3AnjB7H"
      }
    },
    {
      "cell_type": "code",
      "source": [
        "# 3.3 What all we need to do over this data\n",
        "#  and in what sequence:\n",
        "\n",
        "procs = [FillMissing, Categorify, Normalize]"
      ],
      "metadata": {
        "id": "N-9QI9nKYpIl"
      },
      "execution_count": null,
      "outputs": []
    },
    {
      "cell_type": "markdown",
      "source": [
        "About TabularDataLoaders see [here](https://docs.fast.ai/tabular.data.html#tabulardataloaders.from_csv)<br>\n",
        "The following code does not give satisfactory results"
      ],
      "metadata": {
        "id": "k7dC2GRrlXWe"
      }
    },
    {
      "cell_type": "code",
      "source": [
        "# Defaults to 80:20\n",
        "#dls = TabularDataLoaders.from_csv(\n",
        "#                                  path / 'adult.csv',\n",
        "#                                  path=path,\n",
        "#                                  y_names=\"salary\",\n",
        "#                                  bs = 64,   # Try 2 or 3\n",
        "#                                  cat_names = cat_names,\n",
        "#                                  cont_names = cont_names,\n",
        "#                                  procs = procs)"
      ],
      "metadata": {
        "id": "EohyIC8iiKEa"
      },
      "execution_count": null,
      "outputs": []
    },
    {
      "cell_type": "markdown",
      "source": [
        "Instead proceed as follows:<br>\n",
        "First split the dataset"
      ],
      "metadata": {
        "id": "6JtJNKQz0CZY"
      }
    },
    {
      "cell_type": "code",
      "source": [
        "# 4.0 Get two splits of data\n",
        "splits = RandomSplitter(valid_pct=0.2)(range_of(df))"
      ],
      "metadata": {
        "id": "kvV1KOmm0M_w"
      },
      "execution_count": null,
      "outputs": []
    },
    {
      "cell_type": "code",
      "source": [
        "# 4.1 This is what splits object is:\n",
        "splits"
      ],
      "metadata": {
        "colab": {
          "base_uri": "https://localhost:8080/"
        },
        "id": "J-5Gn4Y-0TIX",
        "outputId": "b5c5f347-52a1-4405-c4df-53fe70af25b6"
      },
      "execution_count": null,
      "outputs": [
        {
          "output_type": "execute_result",
          "data": {
            "text/plain": [
              "((#26049) [27068,2037,12359,8125,24249,28676,6055,19020,14970,11767...],\n",
              " (#6512) [10912,12594,17631,3823,18367,28110,14973,23337,30988,30579...])"
            ]
          },
          "metadata": {},
          "execution_count": 18
        }
      ]
    },
    {
      "cell_type": "markdown",
      "source": [
        "Transform pandas to a fastai data structure known as Tabular Pandas"
      ],
      "metadata": {
        "id": "xGBznf500e2C"
      }
    },
    {
      "cell_type": "code",
      "source": [
        "# 5.0\n",
        "to = TabularPandas(\n",
        "                   df,\n",
        "                   procs=[Categorify, FillMissing,Normalize],\n",
        "                   cat_names = ['workclass', 'education', 'marital-status', 'occupation', 'relationship', 'race'],\n",
        "                   cont_names = ['age', 'fnlwgt', 'education-num'],\n",
        "                   y_names='salary',\n",
        "                   splits=splits\n",
        "                   )"
      ],
      "metadata": {
        "id": "WWRIfJWy0krQ"
      },
      "execution_count": null,
      "outputs": []
    },
    {
      "cell_type": "code",
      "source": [
        "# 5.1 See now completely preprocessed data:\n",
        "\n",
        "to.xs.iloc[:2]"
      ],
      "metadata": {
        "colab": {
          "base_uri": "https://localhost:8080/",
          "height": 193
        },
        "id": "0n6XJ2cS4Pro",
        "outputId": "fac3b4ef-6b4d-4ae9-dab3-ea8da210531b"
      },
      "execution_count": null,
      "outputs": [
        {
          "output_type": "execute_result",
          "data": {
            "text/plain": [
              "       workclass  education  marital-status  occupation  relationship  race  \\\n",
              "27068          8         16               5          15             4     3   \n",
              "2037           5         12               3           2             1     5   \n",
              "\n",
              "       education-num_na       age    fnlwgt  education-num  \n",
              "27068                 1  0.029350  1.300734      -0.030878  \n",
              "2037                  1 -1.362189  0.358500      -0.420960  "
            ],
            "text/html": [
              "\n",
              "  <div id=\"df-caeb19c1-b3b1-4b6a-8728-082f2227a2dc\">\n",
              "    <div class=\"colab-df-container\">\n",
              "      <div>\n",
              "<style scoped>\n",
              "    .dataframe tbody tr th:only-of-type {\n",
              "        vertical-align: middle;\n",
              "    }\n",
              "\n",
              "    .dataframe tbody tr th {\n",
              "        vertical-align: top;\n",
              "    }\n",
              "\n",
              "    .dataframe thead th {\n",
              "        text-align: right;\n",
              "    }\n",
              "</style>\n",
              "<table border=\"1\" class=\"dataframe\">\n",
              "  <thead>\n",
              "    <tr style=\"text-align: right;\">\n",
              "      <th></th>\n",
              "      <th>workclass</th>\n",
              "      <th>education</th>\n",
              "      <th>marital-status</th>\n",
              "      <th>occupation</th>\n",
              "      <th>relationship</th>\n",
              "      <th>race</th>\n",
              "      <th>education-num_na</th>\n",
              "      <th>age</th>\n",
              "      <th>fnlwgt</th>\n",
              "      <th>education-num</th>\n",
              "    </tr>\n",
              "  </thead>\n",
              "  <tbody>\n",
              "    <tr>\n",
              "      <th>27068</th>\n",
              "      <td>8</td>\n",
              "      <td>16</td>\n",
              "      <td>5</td>\n",
              "      <td>15</td>\n",
              "      <td>4</td>\n",
              "      <td>3</td>\n",
              "      <td>1</td>\n",
              "      <td>0.029350</td>\n",
              "      <td>1.300734</td>\n",
              "      <td>-0.030878</td>\n",
              "    </tr>\n",
              "    <tr>\n",
              "      <th>2037</th>\n",
              "      <td>5</td>\n",
              "      <td>12</td>\n",
              "      <td>3</td>\n",
              "      <td>2</td>\n",
              "      <td>1</td>\n",
              "      <td>5</td>\n",
              "      <td>1</td>\n",
              "      <td>-1.362189</td>\n",
              "      <td>0.358500</td>\n",
              "      <td>-0.420960</td>\n",
              "    </tr>\n",
              "  </tbody>\n",
              "</table>\n",
              "</div>\n",
              "      <button class=\"colab-df-convert\" onclick=\"convertToInteractive('df-caeb19c1-b3b1-4b6a-8728-082f2227a2dc')\"\n",
              "              title=\"Convert this dataframe to an interactive table.\"\n",
              "              style=\"display:none;\">\n",
              "        \n",
              "  <svg xmlns=\"http://www.w3.org/2000/svg\" height=\"24px\"viewBox=\"0 0 24 24\"\n",
              "       width=\"24px\">\n",
              "    <path d=\"M0 0h24v24H0V0z\" fill=\"none\"/>\n",
              "    <path d=\"M18.56 5.44l.94 2.06.94-2.06 2.06-.94-2.06-.94-.94-2.06-.94 2.06-2.06.94zm-11 1L8.5 8.5l.94-2.06 2.06-.94-2.06-.94L8.5 2.5l-.94 2.06-2.06.94zm10 10l.94 2.06.94-2.06 2.06-.94-2.06-.94-.94-2.06-.94 2.06-2.06.94z\"/><path d=\"M17.41 7.96l-1.37-1.37c-.4-.4-.92-.59-1.43-.59-.52 0-1.04.2-1.43.59L10.3 9.45l-7.72 7.72c-.78.78-.78 2.05 0 2.83L4 21.41c.39.39.9.59 1.41.59.51 0 1.02-.2 1.41-.59l7.78-7.78 2.81-2.81c.8-.78.8-2.07 0-2.86zM5.41 20L4 18.59l7.72-7.72 1.47 1.35L5.41 20z\"/>\n",
              "  </svg>\n",
              "      </button>\n",
              "      \n",
              "  <style>\n",
              "    .colab-df-container {\n",
              "      display:flex;\n",
              "      flex-wrap:wrap;\n",
              "      gap: 12px;\n",
              "    }\n",
              "\n",
              "    .colab-df-convert {\n",
              "      background-color: #E8F0FE;\n",
              "      border: none;\n",
              "      border-radius: 50%;\n",
              "      cursor: pointer;\n",
              "      display: none;\n",
              "      fill: #1967D2;\n",
              "      height: 32px;\n",
              "      padding: 0 0 0 0;\n",
              "      width: 32px;\n",
              "    }\n",
              "\n",
              "    .colab-df-convert:hover {\n",
              "      background-color: #E2EBFA;\n",
              "      box-shadow: 0px 1px 2px rgba(60, 64, 67, 0.3), 0px 1px 3px 1px rgba(60, 64, 67, 0.15);\n",
              "      fill: #174EA6;\n",
              "    }\n",
              "\n",
              "    [theme=dark] .colab-df-convert {\n",
              "      background-color: #3B4455;\n",
              "      fill: #D2E3FC;\n",
              "    }\n",
              "\n",
              "    [theme=dark] .colab-df-convert:hover {\n",
              "      background-color: #434B5C;\n",
              "      box-shadow: 0px 1px 3px 1px rgba(0, 0, 0, 0.15);\n",
              "      filter: drop-shadow(0px 1px 2px rgba(0, 0, 0, 0.3));\n",
              "      fill: #FFFFFF;\n",
              "    }\n",
              "  </style>\n",
              "\n",
              "      <script>\n",
              "        const buttonEl =\n",
              "          document.querySelector('#df-caeb19c1-b3b1-4b6a-8728-082f2227a2dc button.colab-df-convert');\n",
              "        buttonEl.style.display =\n",
              "          google.colab.kernel.accessAllowed ? 'block' : 'none';\n",
              "\n",
              "        async function convertToInteractive(key) {\n",
              "          const element = document.querySelector('#df-caeb19c1-b3b1-4b6a-8728-082f2227a2dc');\n",
              "          const dataTable =\n",
              "            await google.colab.kernel.invokeFunction('convertToInteractive',\n",
              "                                                     [key], {});\n",
              "          if (!dataTable) return;\n",
              "\n",
              "          const docLinkHtml = 'Like what you see? Visit the ' +\n",
              "            '<a target=\"_blank\" href=https://colab.research.google.com/notebooks/data_table.ipynb>data table notebook</a>'\n",
              "            + ' to learn more about interactive tables.';\n",
              "          element.innerHTML = '';\n",
              "          dataTable['output_type'] = 'display_data';\n",
              "          await google.colab.output.renderOutput(dataTable, element);\n",
              "          const docLink = document.createElement('div');\n",
              "          docLink.innerHTML = docLinkHtml;\n",
              "          element.appendChild(docLink);\n",
              "        }\n",
              "      </script>\n",
              "    </div>\n",
              "  </div>\n",
              "  "
            ]
          },
          "metadata": {},
          "execution_count": 20
        }
      ]
    },
    {
      "cell_type": "code",
      "source": [
        "# 5.2 Build our DataLoaders now:\n",
        "\n",
        "dls = to.dataloaders(bs=64)"
      ],
      "metadata": {
        "id": "dB6Vt6DM4Uwx"
      },
      "execution_count": null,
      "outputs": []
    },
    {
      "cell_type": "markdown",
      "source": [
        "### A bit about `dls` object\n",
        "Can be skipped"
      ],
      "metadata": {
        "id": "KoxGDVAI4XCY"
      }
    },
    {
      "cell_type": "code",
      "source": [
        "# 5.2.1\n",
        "x = dls.train_ds\n",
        "x   #  26049 rows x 16 columns"
      ],
      "metadata": {
        "id": "O2CMZKDMjaLS",
        "colab": {
          "base_uri": "https://localhost:8080/"
        },
        "outputId": "28352e63-d8da-4486-d3b6-9d2085cbca11"
      },
      "execution_count": null,
      "outputs": [
        {
          "output_type": "execute_result",
          "data": {
            "text/plain": [
              "            age  workclass    fnlwgt  education  education-num  \\\n",
              "27068  0.029350          8  1.300734         16      -0.030878   \n",
              "2037  -1.362189          5  0.358500         12      -0.420960   \n",
              "12359 -0.995995          5  0.091077         16      -0.030878   \n",
              "8125  -1.581906          1 -1.345435          2      -1.201123   \n",
              "24249  0.249067          5 -0.596800         10       1.139366   \n",
              "...         ...        ...       ...        ...            ...   \n",
              "32076  0.761739          3  0.037889         13       1.529448   \n",
              "9110  -0.849517          5 -1.313770         10       1.139366   \n",
              "22640 -0.849517          3  1.259232         16      -0.030878   \n",
              "5635  -0.263606          5  0.241211          2      -1.201123   \n",
              "13292  2.812429          5 -0.022146         16      -0.030878   \n",
              "\n",
              "       marital-status  occupation  relationship  race      sex  capital-gain  \\\n",
              "27068               5          15             4     3     Male             0   \n",
              "2037                3           2             1     5     Male             0   \n",
              "12359               3           5             6     5   Female             0   \n",
              "8125                5           1             4     5   Female             0   \n",
              "24249               3          14             1     5     Male             0   \n",
              "...               ...         ...           ...   ...      ...           ...   \n",
              "32076               3          11             1     5     Male             0   \n",
              "9110                3           5             6     2   Female             0   \n",
              "22640               5          15             4     5     Male             0   \n",
              "5635                1           7             3     5     Male             0   \n",
              "13292               7          10             2     5   Female             0   \n",
              "\n",
              "       capital-loss  hours-per-week  native-country  salary  education-num_na  \n",
              "27068             0              40   United-States       0                 1  \n",
              "2037              0              60   United-States       0                 1  \n",
              "12359             0              15   United-States       0                 1  \n",
              "8125              0              30   United-States       0                 1  \n",
              "24249             0              45   United-States       1                 1  \n",
              "...             ...             ...             ...     ...               ...  \n",
              "32076          1902              40   United-States       1                 1  \n",
              "9110              0              40           South       0                 1  \n",
              "22640             0              40   United-States       0                 1  \n",
              "5635              0              40   United-States       0                 1  \n",
              "13292             0              20   United-States       0                 1  \n",
              "\n",
              "[26049 rows x 16 columns]"
            ]
          },
          "metadata": {},
          "execution_count": 22
        }
      ]
    },
    {
      "cell_type": "code",
      "source": [
        "# 5.2.2\n",
        "type(x)"
      ],
      "metadata": {
        "colab": {
          "base_uri": "https://localhost:8080/"
        },
        "id": "yzeerYSV4rW3",
        "outputId": "aa1b1ea4-e29e-4e90-c69c-6e26f2660a00"
      },
      "execution_count": null,
      "outputs": [
        {
          "output_type": "execute_result",
          "data": {
            "text/plain": [
              "fastai.tabular.core.TabularPandas"
            ]
          },
          "metadata": {},
          "execution_count": 23
        }
      ]
    },
    {
      "cell_type": "code",
      "source": [
        "# 5.2.3 Show validation batch\n",
        "dls.valid.show_batch()"
      ],
      "metadata": {
        "id": "cmL_BqLZmSxc",
        "colab": {
          "base_uri": "https://localhost:8080/",
          "height": 626
        },
        "outputId": "1e4c1982-d702-4ac9-a0cc-5f9a9c03baf1"
      },
      "execution_count": null,
      "outputs": [
        {
          "output_type": "display_data",
          "data": {
            "text/plain": [
              "<IPython.core.display.HTML object>"
            ],
            "text/html": [
              "<table border=\"1\" class=\"dataframe\">\n",
              "  <thead>\n",
              "    <tr style=\"text-align: right;\">\n",
              "      <th></th>\n",
              "      <th>workclass</th>\n",
              "      <th>education</th>\n",
              "      <th>marital-status</th>\n",
              "      <th>occupation</th>\n",
              "      <th>relationship</th>\n",
              "      <th>race</th>\n",
              "      <th>education-num_na</th>\n",
              "      <th>age</th>\n",
              "      <th>fnlwgt</th>\n",
              "      <th>education-num</th>\n",
              "      <th>salary</th>\n",
              "    </tr>\n",
              "  </thead>\n",
              "  <tbody>\n",
              "    <tr>\n",
              "      <th>0</th>\n",
              "      <td>Self-emp-inc</td>\n",
              "      <td>7th-8th</td>\n",
              "      <td>Divorced</td>\n",
              "      <td>Craft-repair</td>\n",
              "      <td>Unmarried</td>\n",
              "      <td>White</td>\n",
              "      <td>False</td>\n",
              "      <td>42.0</td>\n",
              "      <td>369781.000875</td>\n",
              "      <td>4.0</td>\n",
              "      <td>&lt;50k</td>\n",
              "    </tr>\n",
              "    <tr>\n",
              "      <th>1</th>\n",
              "      <td>Private</td>\n",
              "      <td>HS-grad</td>\n",
              "      <td>Never-married</td>\n",
              "      <td>Other-service</td>\n",
              "      <td>Not-in-family</td>\n",
              "      <td>White</td>\n",
              "      <td>False</td>\n",
              "      <td>33.0</td>\n",
              "      <td>184832.999807</td>\n",
              "      <td>9.0</td>\n",
              "      <td>&lt;50k</td>\n",
              "    </tr>\n",
              "    <tr>\n",
              "      <th>2</th>\n",
              "      <td>State-gov</td>\n",
              "      <td>Masters</td>\n",
              "      <td>Divorced</td>\n",
              "      <td>Protective-serv</td>\n",
              "      <td>Not-in-family</td>\n",
              "      <td>White</td>\n",
              "      <td>False</td>\n",
              "      <td>48.0</td>\n",
              "      <td>49595.003624</td>\n",
              "      <td>14.0</td>\n",
              "      <td>&lt;50k</td>\n",
              "    </tr>\n",
              "    <tr>\n",
              "      <th>3</th>\n",
              "      <td>Private</td>\n",
              "      <td>HS-grad</td>\n",
              "      <td>Widowed</td>\n",
              "      <td>Transport-moving</td>\n",
              "      <td>Unmarried</td>\n",
              "      <td>White</td>\n",
              "      <td>False</td>\n",
              "      <td>57.0</td>\n",
              "      <td>34269.005325</td>\n",
              "      <td>9.0</td>\n",
              "      <td>&gt;=50k</td>\n",
              "    </tr>\n",
              "    <tr>\n",
              "      <th>4</th>\n",
              "      <td>Private</td>\n",
              "      <td>HS-grad</td>\n",
              "      <td>Divorced</td>\n",
              "      <td>Other-service</td>\n",
              "      <td>Not-in-family</td>\n",
              "      <td>White</td>\n",
              "      <td>False</td>\n",
              "      <td>30.0</td>\n",
              "      <td>46711.998521</td>\n",
              "      <td>9.0</td>\n",
              "      <td>&lt;50k</td>\n",
              "    </tr>\n",
              "    <tr>\n",
              "      <th>5</th>\n",
              "      <td>Private</td>\n",
              "      <td>HS-grad</td>\n",
              "      <td>Married-civ-spouse</td>\n",
              "      <td>Craft-repair</td>\n",
              "      <td>Husband</td>\n",
              "      <td>White</td>\n",
              "      <td>False</td>\n",
              "      <td>36.0</td>\n",
              "      <td>175642.999743</td>\n",
              "      <td>9.0</td>\n",
              "      <td>&lt;50k</td>\n",
              "    </tr>\n",
              "    <tr>\n",
              "      <th>6</th>\n",
              "      <td>Self-emp-not-inc</td>\n",
              "      <td>HS-grad</td>\n",
              "      <td>Married-civ-spouse</td>\n",
              "      <td>Craft-repair</td>\n",
              "      <td>Husband</td>\n",
              "      <td>White</td>\n",
              "      <td>False</td>\n",
              "      <td>57.0</td>\n",
              "      <td>165922.000106</td>\n",
              "      <td>9.0</td>\n",
              "      <td>&lt;50k</td>\n",
              "    </tr>\n",
              "    <tr>\n",
              "      <th>7</th>\n",
              "      <td>Private</td>\n",
              "      <td>HS-grad</td>\n",
              "      <td>Never-married</td>\n",
              "      <td>Exec-managerial</td>\n",
              "      <td>Own-child</td>\n",
              "      <td>White</td>\n",
              "      <td>False</td>\n",
              "      <td>27.0</td>\n",
              "      <td>301654.006173</td>\n",
              "      <td>9.0</td>\n",
              "      <td>&lt;50k</td>\n",
              "    </tr>\n",
              "    <tr>\n",
              "      <th>8</th>\n",
              "      <td>Private</td>\n",
              "      <td>Some-college</td>\n",
              "      <td>Divorced</td>\n",
              "      <td>Adm-clerical</td>\n",
              "      <td>Unmarried</td>\n",
              "      <td>Black</td>\n",
              "      <td>False</td>\n",
              "      <td>46.0</td>\n",
              "      <td>200734.000387</td>\n",
              "      <td>10.0</td>\n",
              "      <td>&lt;50k</td>\n",
              "    </tr>\n",
              "    <tr>\n",
              "      <th>9</th>\n",
              "      <td>Local-gov</td>\n",
              "      <td>HS-grad</td>\n",
              "      <td>Married-civ-spouse</td>\n",
              "      <td>Exec-managerial</td>\n",
              "      <td>Husband</td>\n",
              "      <td>White</td>\n",
              "      <td>False</td>\n",
              "      <td>58.0</td>\n",
              "      <td>217774.999614</td>\n",
              "      <td>9.0</td>\n",
              "      <td>&gt;=50k</td>\n",
              "    </tr>\n",
              "  </tbody>\n",
              "</table>"
            ]
          },
          "metadata": {}
        }
      ]
    },
    {
      "cell_type": "code",
      "source": [
        "# 5.2.4 Show a batch (bs = 3)\n",
        "#  Batch has three observations\n",
        "#   List contains label encoded cat values\n",
        "#    And tensor floats are numerical values\n",
        "#     Displayed batch is picked up randomy\n",
        "dls.one_batch()"
      ],
      "metadata": {
        "id": "vShDjH3TYrPR",
        "colab": {
          "base_uri": "https://localhost:8080/"
        },
        "outputId": "1e0241bb-669e-4c35-a5c3-f48c8af0f555"
      },
      "execution_count": null,
      "outputs": [
        {
          "output_type": "execute_result",
          "data": {
            "text/plain": [
              "(tensor([[ 3,  3,  7,  2,  2,  5,  1],\n",
              "         [ 5, 10,  3,  5,  1,  2,  1],\n",
              "         [ 5,  8,  5, 13,  2,  3,  1],\n",
              "         [ 8,  7,  3, 15,  1,  5,  1],\n",
              "         [ 5,  2,  3, 15,  1,  5,  1],\n",
              "         [ 5, 16,  5,  2,  4,  3,  1],\n",
              "         [ 5, 13,  3, 11,  1,  2,  1],\n",
              "         [ 3, 12,  3,  5,  1,  5,  1],\n",
              "         [ 3, 10,  1, 11,  5,  3,  1],\n",
              "         [ 5, 13,  3, 11,  1,  5,  1],\n",
              "         [ 6, 16,  3,  5,  1,  5,  1],\n",
              "         [ 5, 12,  3,  5,  1,  5,  1],\n",
              "         [ 5, 12,  4,  9,  2,  5,  1],\n",
              "         [ 5,  2,  5,  8,  2,  5,  1],\n",
              "         [ 5,  9,  3, 15,  1,  5,  1],\n",
              "         [ 5, 12,  1,  5,  5,  5,  1],\n",
              "         [ 5, 10,  5, 11,  2,  3,  1],\n",
              "         [ 5, 12,  1,  9,  5,  5,  1],\n",
              "         [ 6, 16,  3,  5,  1,  2,  1],\n",
              "         [ 5, 10,  3,  5,  1,  5,  1],\n",
              "         [ 5, 12,  1,  2,  4,  5,  1],\n",
              "         [ 5, 16,  3,  4,  1,  5,  1],\n",
              "         [ 5, 12,  6,  8,  4,  5,  1],\n",
              "         [ 2, 10,  3, 11,  1,  5,  1],\n",
              "         [ 5, 12,  7,  5,  5,  5,  1],\n",
              "         [ 5, 16,  6,  5,  5,  5,  1],\n",
              "         [ 5,  8,  1,  5,  2,  5,  1],\n",
              "         [ 5, 10,  5,  2,  2,  2,  1],\n",
              "         [ 5, 10,  3, 13,  1,  5,  1],\n",
              "         [ 1,  9,  3,  1,  6,  5,  1],\n",
              "         [ 5, 12,  3,  8,  1,  5,  1],\n",
              "         [ 5, 12,  3,  4,  1,  5,  1],\n",
              "         [ 7, 12,  3, 13,  6,  5,  1],\n",
              "         [ 5,  8,  3,  5,  1,  5,  1],\n",
              "         [ 5, 16,  3,  5,  1,  5,  1],\n",
              "         [ 6, 15,  3, 11,  1,  5,  1],\n",
              "         [ 5, 12,  5,  4,  2,  5,  1],\n",
              "         [ 7, 16,  1,  9,  2,  5,  1],\n",
              "         [ 5, 12,  5,  4,  2,  5,  1],\n",
              "         [ 5, 16,  6,  8,  5,  3,  1],\n",
              "         [ 5, 15,  4, 11,  5,  5,  1],\n",
              "         [ 5, 12,  3,  5,  6,  5,  1],\n",
              "         [ 6, 16,  3,  0,  1,  5,  1],\n",
              "         [ 5, 16,  3,  2,  6,  5,  1],\n",
              "         [ 5, 12,  1, 11,  2,  5,  1],\n",
              "         [ 5,  7,  5,  9,  5,  5,  1],\n",
              "         [ 5, 16,  1,  2,  5,  5,  1],\n",
              "         [ 8, 16,  1,  2,  4,  5,  1],\n",
              "         [ 5,  2,  3,  8,  1,  5,  1],\n",
              "         [ 2, 12,  6,  7,  5,  5,  1],\n",
              "         [ 5, 16,  3, 13,  1,  5,  1],\n",
              "         [ 5, 12,  1, 14,  5,  5,  1],\n",
              "         [ 5, 12,  3, 15,  1,  5,  1],\n",
              "         [ 1, 12,  1,  1,  2,  5,  1],\n",
              "         [ 5, 10,  3,  7,  1,  5,  1],\n",
              "         [ 5, 12,  3, 13,  1,  5,  1],\n",
              "         [ 5,  8,  5, 14,  4,  5,  1],\n",
              "         [ 5, 12,  3,  4,  1,  5,  1],\n",
              "         [ 5,  2,  5,  7,  4,  5,  1],\n",
              "         [ 5, 12,  3,  4,  1,  5,  1],\n",
              "         [ 5, 12,  5, 13,  2,  5,  1],\n",
              "         [ 5, 12,  5,  2,  4,  5,  1],\n",
              "         [ 5,  9,  3,  8,  1,  5,  1],\n",
              "         [ 5,  1,  5, 11,  2,  5,  1]]), tensor([[ 1.2012, -1.3516, -0.8110],\n",
              "         [ 0.6885,  0.4785,  1.1394],\n",
              "         [-0.4833,  0.1432,  0.7493],\n",
              "         [ 1.4941, -0.2906, -1.9813],\n",
              "         [ 0.8350,  0.0212, -1.2011],\n",
              "         [-1.1425, -0.1386, -0.0309],\n",
              "         [-0.8495,  1.0347,  1.5294],\n",
              "         [-0.1904,  1.0355, -0.4210],\n",
              "         [ 0.7617,  0.5648,  1.1394],\n",
              "         [ 0.5420, -0.4346,  1.5294],\n",
              "         [ 0.5420,  1.2958, -0.0309],\n",
              "         [ 0.1026,  1.4167, -0.4210],\n",
              "         [-0.0439, -0.0055, -0.4210],\n",
              "         [-0.1171, -0.7509, -1.2011],\n",
              "         [-0.6298,  0.4883,  0.3592],\n",
              "         [ 0.1026, -0.1228, -0.4210],\n",
              "         [-0.7763,  2.6654,  1.1394],\n",
              "         [-0.2636, -1.1835, -0.4210],\n",
              "         [ 0.1026, -0.5011, -0.0309],\n",
              "         [ 0.3223,  0.8036,  1.1394],\n",
              "         [-0.0439,  1.0367, -0.4210],\n",
              "         [-0.7763,  3.8579, -0.0309],\n",
              "         [-1.3622, -0.2667, -0.4210],\n",
              "         [ 0.5420,  1.4455,  1.1394],\n",
              "         [ 1.7871, -0.0767, -0.4210],\n",
              "         [ 0.1026,  0.0537, -0.0309],\n",
              "         [ 0.7617,  0.1340,  0.7493],\n",
              "         [-0.4833, -0.7882,  1.1394],\n",
              "         [-0.4101, -0.3753,  1.1394],\n",
              "         [-0.9228, -0.0728,  0.3592],\n",
              "         [ 0.7617, -0.2288, -0.4210],\n",
              "         [ 0.7617, -0.6220, -0.4210],\n",
              "         [ 2.5195, -1.3663, -0.4210],\n",
              "         [ 1.9336, -0.7300,  0.7493],\n",
              "         [-0.5566, -0.5465, -0.0309],\n",
              "         [ 2.2998, -0.3004,  1.9195],\n",
              "         [-1.3622, -0.7135, -0.4210],\n",
              "         [ 0.3955,  0.6126, -0.0309],\n",
              "         [-0.3368,  0.1286, -0.4210],\n",
              "         [ 0.2491,  0.0718, -0.0309],\n",
              "         [ 1.4941, -1.1437,  1.9195],\n",
              "         [-0.4833,  1.7454, -0.4210],\n",
              "         [ 1.9336,  0.1759, -0.0309],\n",
              "         [ 0.1026,  0.3233, -0.0309],\n",
              "         [-0.0439, -1.1331, -0.4210],\n",
              "         [ 0.6153, -0.1112, -1.9813],\n",
              "         [ 0.1026,  0.1228, -0.0309],\n",
              "         [ 0.2491, -0.4935, -0.0309],\n",
              "         [ 1.4941, -0.8725, -1.2011],\n",
              "         [-0.5566,  0.1995, -0.4210],\n",
              "         [ 0.0294, -0.7411, -0.0309],\n",
              "         [ 0.1758,  2.4262, -0.4210],\n",
              "         [-0.6298, -0.3948, -0.4210],\n",
              "         [ 1.5674, -0.0166, -0.4210],\n",
              "         [ 0.1758, -0.7008,  1.1394],\n",
              "         [-1.1425, -0.2575, -0.4210],\n",
              "         [-0.7030, -0.5047,  0.7493],\n",
              "         [-0.1904,  0.3997, -0.4210],\n",
              "         [-1.5819,  0.8343, -1.2011],\n",
              "         [-0.4101,  1.4237, -0.4210],\n",
              "         [-0.0439,  2.5842, -0.4210],\n",
              "         [-1.2890,  1.5371, -0.4210],\n",
              "         [-0.7030,  0.5808,  0.3592],\n",
              "         [-0.0439, -0.1392, -1.5912]]), tensor([[0],\n",
              "         [1],\n",
              "         [0],\n",
              "         [0],\n",
              "         [0],\n",
              "         [0],\n",
              "         [1],\n",
              "         [0],\n",
              "         [0],\n",
              "         [1],\n",
              "         [1],\n",
              "         [0],\n",
              "         [0],\n",
              "         [0],\n",
              "         [0],\n",
              "         [0],\n",
              "         [0],\n",
              "         [0],\n",
              "         [0],\n",
              "         [1],\n",
              "         [0],\n",
              "         [0],\n",
              "         [0],\n",
              "         [1],\n",
              "         [1],\n",
              "         [0],\n",
              "         [0],\n",
              "         [0],\n",
              "         [0],\n",
              "         [0],\n",
              "         [0],\n",
              "         [1],\n",
              "         [0],\n",
              "         [0],\n",
              "         [0],\n",
              "         [1],\n",
              "         [0],\n",
              "         [0],\n",
              "         [0],\n",
              "         [0],\n",
              "         [0],\n",
              "         [0],\n",
              "         [1],\n",
              "         [1],\n",
              "         [0],\n",
              "         [0],\n",
              "         [0],\n",
              "         [0],\n",
              "         [0],\n",
              "         [0],\n",
              "         [0],\n",
              "         [0],\n",
              "         [0],\n",
              "         [0],\n",
              "         [0],\n",
              "         [0],\n",
              "         [0],\n",
              "         [1],\n",
              "         [0],\n",
              "         [0],\n",
              "         [0],\n",
              "         [0],\n",
              "         [1],\n",
              "         [1]], dtype=torch.int8))"
            ]
          },
          "metadata": {},
          "execution_count": 25
        }
      ]
    },
    {
      "cell_type": "code",
      "source": [
        "# 5.2.5 Same batch as above but actual values are shown:\n",
        "##       Displayed batch is picked up randomly\n",
        "dls.show_batch()"
      ],
      "metadata": {
        "id": "b_X-9MXTdUeb",
        "colab": {
          "base_uri": "https://localhost:8080/",
          "height": 661
        },
        "outputId": "b14c3448-a82f-49e5-cb66-e68997104adb"
      },
      "execution_count": null,
      "outputs": [
        {
          "output_type": "display_data",
          "data": {
            "text/plain": [
              "<IPython.core.display.HTML object>"
            ],
            "text/html": [
              "<table border=\"1\" class=\"dataframe\">\n",
              "  <thead>\n",
              "    <tr style=\"text-align: right;\">\n",
              "      <th></th>\n",
              "      <th>workclass</th>\n",
              "      <th>education</th>\n",
              "      <th>marital-status</th>\n",
              "      <th>occupation</th>\n",
              "      <th>relationship</th>\n",
              "      <th>race</th>\n",
              "      <th>education-num_na</th>\n",
              "      <th>age</th>\n",
              "      <th>fnlwgt</th>\n",
              "      <th>education-num</th>\n",
              "      <th>salary</th>\n",
              "    </tr>\n",
              "  </thead>\n",
              "  <tbody>\n",
              "    <tr>\n",
              "      <th>0</th>\n",
              "      <td>Private</td>\n",
              "      <td>Masters</td>\n",
              "      <td>Married-civ-spouse</td>\n",
              "      <td>Transport-moving</td>\n",
              "      <td>Husband</td>\n",
              "      <td>White</td>\n",
              "      <td>False</td>\n",
              "      <td>39.000000</td>\n",
              "      <td>225544.001447</td>\n",
              "      <td>14.0</td>\n",
              "      <td>&lt;50k</td>\n",
              "    </tr>\n",
              "    <tr>\n",
              "      <th>1</th>\n",
              "      <td>Private</td>\n",
              "      <td>Assoc-voc</td>\n",
              "      <td>Widowed</td>\n",
              "      <td>Prof-specialty</td>\n",
              "      <td>Not-in-family</td>\n",
              "      <td>White</td>\n",
              "      <td>False</td>\n",
              "      <td>72.999999</td>\n",
              "      <td>183212.999712</td>\n",
              "      <td>11.0</td>\n",
              "      <td>&gt;=50k</td>\n",
              "    </tr>\n",
              "    <tr>\n",
              "      <th>2</th>\n",
              "      <td>Private</td>\n",
              "      <td>11th</td>\n",
              "      <td>Divorced</td>\n",
              "      <td>Machine-op-inspct</td>\n",
              "      <td>Unmarried</td>\n",
              "      <td>White</td>\n",
              "      <td>False</td>\n",
              "      <td>35.000000</td>\n",
              "      <td>194808.999847</td>\n",
              "      <td>7.0</td>\n",
              "      <td>&lt;50k</td>\n",
              "    </tr>\n",
              "    <tr>\n",
              "      <th>3</th>\n",
              "      <td>Private</td>\n",
              "      <td>HS-grad</td>\n",
              "      <td>Married-civ-spouse</td>\n",
              "      <td>Exec-managerial</td>\n",
              "      <td>Husband</td>\n",
              "      <td>White</td>\n",
              "      <td>False</td>\n",
              "      <td>48.000000</td>\n",
              "      <td>121123.998174</td>\n",
              "      <td>9.0</td>\n",
              "      <td>&gt;=50k</td>\n",
              "    </tr>\n",
              "    <tr>\n",
              "      <th>4</th>\n",
              "      <td>Local-gov</td>\n",
              "      <td>Masters</td>\n",
              "      <td>Never-married</td>\n",
              "      <td>Prof-specialty</td>\n",
              "      <td>Not-in-family</td>\n",
              "      <td>White</td>\n",
              "      <td>False</td>\n",
              "      <td>45.000000</td>\n",
              "      <td>167334.000095</td>\n",
              "      <td>14.0</td>\n",
              "      <td>&gt;=50k</td>\n",
              "    </tr>\n",
              "    <tr>\n",
              "      <th>5</th>\n",
              "      <td>Private</td>\n",
              "      <td>Some-college</td>\n",
              "      <td>Never-married</td>\n",
              "      <td>Machine-op-inspct</td>\n",
              "      <td>Not-in-family</td>\n",
              "      <td>White</td>\n",
              "      <td>False</td>\n",
              "      <td>27.000000</td>\n",
              "      <td>146460.000739</td>\n",
              "      <td>10.0</td>\n",
              "      <td>&lt;50k</td>\n",
              "    </tr>\n",
              "    <tr>\n",
              "      <th>6</th>\n",
              "      <td>Private</td>\n",
              "      <td>Some-college</td>\n",
              "      <td>Married-civ-spouse</td>\n",
              "      <td>Sales</td>\n",
              "      <td>Husband</td>\n",
              "      <td>White</td>\n",
              "      <td>False</td>\n",
              "      <td>53.000000</td>\n",
              "      <td>121441.001681</td>\n",
              "      <td>10.0</td>\n",
              "      <td>&lt;50k</td>\n",
              "    </tr>\n",
              "    <tr>\n",
              "      <th>7</th>\n",
              "      <td>Self-emp-not-inc</td>\n",
              "      <td>HS-grad</td>\n",
              "      <td>Married-civ-spouse</td>\n",
              "      <td>Transport-moving</td>\n",
              "      <td>Husband</td>\n",
              "      <td>White</td>\n",
              "      <td>False</td>\n",
              "      <td>42.000000</td>\n",
              "      <td>238188.000114</td>\n",
              "      <td>9.0</td>\n",
              "      <td>&lt;50k</td>\n",
              "    </tr>\n",
              "    <tr>\n",
              "      <th>8</th>\n",
              "      <td>Private</td>\n",
              "      <td>Some-college</td>\n",
              "      <td>Divorced</td>\n",
              "      <td>Craft-repair</td>\n",
              "      <td>Not-in-family</td>\n",
              "      <td>White</td>\n",
              "      <td>False</td>\n",
              "      <td>42.000000</td>\n",
              "      <td>193994.999820</td>\n",
              "      <td>10.0</td>\n",
              "      <td>&lt;50k</td>\n",
              "    </tr>\n",
              "    <tr>\n",
              "      <th>9</th>\n",
              "      <td>Private</td>\n",
              "      <td>HS-grad</td>\n",
              "      <td>Married-civ-spouse</td>\n",
              "      <td>#na#</td>\n",
              "      <td>Husband</td>\n",
              "      <td>White</td>\n",
              "      <td>False</td>\n",
              "      <td>31.000000</td>\n",
              "      <td>49923.003896</td>\n",
              "      <td>9.0</td>\n",
              "      <td>&lt;50k</td>\n",
              "    </tr>\n",
              "  </tbody>\n",
              "</table>"
            ]
          },
          "metadata": {}
        }
      ]
    },
    {
      "cell_type": "markdown",
      "source": [
        "## LEarn now"
      ],
      "metadata": {
        "id": "kgr2Wr3X5Fi6"
      }
    },
    {
      "cell_type": "code",
      "source": [
        "# 6.0\n",
        "learn = tabular_learner(dls, metrics=accuracy)"
      ],
      "metadata": {
        "id": "h6YuOmH5exdT"
      },
      "execution_count": null,
      "outputs": []
    },
    {
      "cell_type": "code",
      "source": [
        "# To get help on tabular_learner\n",
        "doc(tabular_learner)"
      ],
      "metadata": {
        "id": "WIwvVfjfHhIp",
        "outputId": "59d0dd76-ede1-478d-ba47-ee4fe833bf4e",
        "colab": {
          "base_uri": "https://localhost:8080/",
          "height": 174
        }
      },
      "execution_count": null,
      "outputs": [
        {
          "output_type": "display_data",
          "data": {
            "text/plain": [
              "<IPython.core.display.HTML object>"
            ],
            "text/html": [
              "<hr/>\n",
              "<h3>tabular_learner</h3>\n",
              "<blockquote><pre><code>tabular_learner(dls:fastai.tabular.data.TabularDataLoaders, layers:list=None, emb_szs:list=None, config:dict=None, n_out:int=None, y_range:Tuple[float,float]=None, loss_func:Union[<built-infunctioncallable>,NoneType]=None, opt_func=<function Adam>, lr=0.001, splitter:<built-infunctioncallable>=<function trainable_params>, cbs=None, metrics=None, path=None, model_dir='models', wd=None, wd_bn_bias=False, train_bn=True, moms=(0.95, 0.85, 0.95), default_cbs:bool=True)</code></pre></blockquote><p>Get a `Learner` using `dls`, with `metrics`, including a `TabularModel` created using the remaining params.</p>\n",
              "<p><a href=\"https://docs.fast.ai/tabular.learner.html#tabular_learner\" target=\"_blank\" rel=\"noreferrer noopener\">Show in docs</a></p>"
            ]
          },
          "metadata": {}
        }
      ]
    },
    {
      "cell_type": "code",
      "source": [
        "doc(learn.lr_find)"
      ],
      "metadata": {
        "id": "jmZij3FOHvM9",
        "outputId": "5b8b0cba-223c-483d-eb02-20bcc12e61e8",
        "colab": {
          "base_uri": "https://localhost:8080/",
          "height": 154
        }
      },
      "execution_count": null,
      "outputs": [
        {
          "output_type": "display_data",
          "data": {
            "text/plain": [
              "<IPython.core.display.HTML object>"
            ],
            "text/html": [
              "<hr/>\n",
              "<h3>Learner.lr_find</h3>\n",
              "<blockquote><pre><code>Learner.lr_find(start_lr=1e-07, end_lr=10, num_it=100, stop_div=True, show_plot=True, suggest_funcs=<function valley>)</code></pre></blockquote><p>Launch a mock training to find a good learning rate and return suggestions based on `suggest_funcs` as a named tuple</p>\n",
              "<p><a href=\"https://docs.fast.ai/callback.schedule.html#learner.lr_find\" target=\"_blank\" rel=\"noreferrer noopener\">Show in docs</a></p>"
            ]
          },
          "metadata": {}
        }
      ]
    },
    {
      "cell_type": "code",
      "source": [
        "# 6.1 select the appropriate learning rate\n",
        "#       we typically find the point where the slope is steepest\n",
        "learn.lr_find()"
      ],
      "metadata": {
        "colab": {
          "base_uri": "https://localhost:8080/",
          "height": 302
        },
        "id": "lkZm1craEJh1",
        "outputId": "ba131c9f-2c39-4a00-fea3-3aa38f26f4cf"
      },
      "execution_count": null,
      "outputs": [
        {
          "output_type": "display_data",
          "data": {
            "text/plain": [
              "<IPython.core.display.HTML object>"
            ],
            "text/html": [
              "\n",
              "<style>\n",
              "    /* Turns off some styling */\n",
              "    progress {\n",
              "        /* gets rid of default border in Firefox and Opera. */\n",
              "        border: none;\n",
              "        /* Needs to be in here for Safari polyfill so background images work as expected. */\n",
              "        background-size: auto;\n",
              "    }\n",
              "    progress:not([value]), progress:not([value])::-webkit-progress-bar {\n",
              "        background: repeating-linear-gradient(45deg, #7e7e7e, #7e7e7e 10px, #5c5c5c 10px, #5c5c5c 20px);\n",
              "    }\n",
              "    .progress-bar-interrupted, .progress-bar-interrupted::-webkit-progress-bar {\n",
              "        background: #F44336;\n",
              "    }\n",
              "</style>\n"
            ]
          },
          "metadata": {}
        },
        {
          "output_type": "display_data",
          "data": {
            "text/plain": [
              "<IPython.core.display.HTML object>"
            ],
            "text/html": []
          },
          "metadata": {}
        },
        {
          "output_type": "execute_result",
          "data": {
            "text/plain": [
              "SuggestedLRs(valley=0.002511886414140463)"
            ]
          },
          "metadata": {},
          "execution_count": 62
        },
        {
          "output_type": "display_data",
          "data": {
            "text/plain": [
              "<Figure size 432x288 with 1 Axes>"
            ],
            "image/png": "[encoded data removed]"
          },
          "metadata": {
            "needs_background": "light"
          }
        }
      ]
    },
    {
      "cell_type": "markdown",
      "source": [
        "### Our model"
      ],
      "metadata": {
        "id": "MK1wkxLgEyhD"
      }
    },
    {
      "cell_type": "code",
      "source": [
        "# 6.2 Embeddings\n",
        "learn.embeds"
      ],
      "metadata": {
        "id": "mTKypJgoDfsR"
      },
      "execution_count": null,
      "outputs": []
    },
    {
      "cell_type": "code",
      "source": [
        "# 6.3 Drop outs in embedding layers\n",
        "learn.emb_drop"
      ],
      "metadata": {
        "colab": {
          "base_uri": "https://localhost:8080/"
        },
        "id": "Fpy7TYT3Di2h",
        "outputId": "d81d0b7c-863f-49e7-9f44-888dcdbeaa2b"
      },
      "execution_count": null,
      "outputs": [
        {
          "output_type": "execute_result",
          "data": {
            "text/plain": [
              "Dropout(p=0.0, inplace=False)"
            ]
          },
          "metadata": {},
          "execution_count": 64
        }
      ]
    },
    {
      "cell_type": "code",
      "source": [
        "# 6.4 Batch Normalization\n",
        "learn.bn_cont"
      ],
      "metadata": {
        "colab": {
          "base_uri": "https://localhost:8080/"
        },
        "id": "Ifre3BZbDoHJ",
        "outputId": "bfea5ae7-13e1-45b5-aae4-1f7bc9a2368f"
      },
      "execution_count": null,
      "outputs": [
        {
          "output_type": "execute_result",
          "data": {
            "text/plain": [
              "BatchNorm1d(3, eps=1e-05, momentum=0.1, affine=True, track_running_stats=True)"
            ]
          },
          "metadata": {},
          "execution_count": 60
        }
      ]
    },
    {
      "cell_type": "code",
      "source": [
        "# 6.5 Model layers:\n",
        "learn.layers"
      ],
      "metadata": {
        "colab": {
          "base_uri": "https://localhost:8080/"
        },
        "id": "_ilf3FJdCuRi",
        "outputId": "7b101f4c-4246-4e03-8895-e3a35845bce8"
      },
      "execution_count": null,
      "outputs": [
        {
          "output_type": "execute_result",
          "data": {
            "text/plain": [
              "Sequential(\n",
              "  (0): LinBnDrop(\n",
              "    (0): Linear(in_features=42, out_features=200, bias=False)\n",
              "    (1): ReLU(inplace=True)\n",
              "    (2): BatchNorm1d(200, eps=1e-05, momentum=0.1, affine=True, track_running_stats=True)\n",
              "  )\n",
              "  (1): LinBnDrop(\n",
              "    (0): Linear(in_features=200, out_features=100, bias=False)\n",
              "    (1): ReLU(inplace=True)\n",
              "    (2): BatchNorm1d(100, eps=1e-05, momentum=0.1, affine=True, track_running_stats=True)\n",
              "  )\n",
              "  (2): LinBnDrop(\n",
              "    (0): Linear(in_features=100, out_features=2, bias=True)\n",
              "  )\n",
              ")"
            ]
          },
          "metadata": {},
          "execution_count": 57
        }
      ]
    },
    {
      "cell_type": "markdown",
      "source": [
        "And we can train that model with the `fit_one_cycle` method (the `fine_tune` method won’t be useful here since we don’t have a pretrained model)."
      ],
      "metadata": {
        "id": "ycc8lkDbe3oi"
      }
    },
    {
      "cell_type": "code",
      "source": [
        "# 6.2 Less the batch_size (bs), more the time:\n",
        "#     On slice(), see this discussion:\n",
        "#      https://forums.fast.ai/t/what-does-the-slice-lr-mean-in-fit-one-cycle/60896/6\n",
        "learn.fit_one_cycle(10, slice(1e-03, 1e-02))"
      ],
      "metadata": {
        "colab": {
          "base_uri": "https://localhost:8080/",
          "height": 363
        },
        "id": "YbDRmy90fBzE",
        "outputId": "a4d1252d-533c-4e27-ff7d-800c15908ee9"
      },
      "execution_count": null,
      "outputs": [
        {
          "output_type": "display_data",
          "data": {
            "text/plain": [
              "<IPython.core.display.HTML object>"
            ],
            "text/html": [
              "\n",
              "<style>\n",
              "    /* Turns off some styling */\n",
              "    progress {\n",
              "        /* gets rid of default border in Firefox and Opera. */\n",
              "        border: none;\n",
              "        /* Needs to be in here for Safari polyfill so background images work as expected. */\n",
              "        background-size: auto;\n",
              "    }\n",
              "    progress:not([value]), progress:not([value])::-webkit-progress-bar {\n",
              "        background: repeating-linear-gradient(45deg, #7e7e7e, #7e7e7e 10px, #5c5c5c 10px, #5c5c5c 20px);\n",
              "    }\n",
              "    .progress-bar-interrupted, .progress-bar-interrupted::-webkit-progress-bar {\n",
              "        background: #F44336;\n",
              "    }\n",
              "</style>\n"
            ]
          },
          "metadata": {}
        },
        {
          "output_type": "display_data",
          "data": {
            "text/plain": [
              "<IPython.core.display.HTML object>"
            ],
            "text/html": [
              "<table border=\"1\" class=\"dataframe\">\n",
              "  <thead>\n",
              "    <tr style=\"text-align: left;\">\n",
              "      <th>epoch</th>\n",
              "      <th>train_loss</th>\n",
              "      <th>valid_loss</th>\n",
              "      <th>accuracy</th>\n",
              "      <th>time</th>\n",
              "    </tr>\n",
              "  </thead>\n",
              "  <tbody>\n",
              "    <tr>\n",
              "      <td>0</td>\n",
              "      <td>0.357202</td>\n",
              "      <td>0.369609</td>\n",
              "      <td>0.830927</td>\n",
              "      <td>00:05</td>\n",
              "    </tr>\n",
              "    <tr>\n",
              "      <td>1</td>\n",
              "      <td>0.365751</td>\n",
              "      <td>0.362052</td>\n",
              "      <td>0.828317</td>\n",
              "      <td>00:04</td>\n",
              "    </tr>\n",
              "    <tr>\n",
              "      <td>2</td>\n",
              "      <td>0.345085</td>\n",
              "      <td>0.362962</td>\n",
              "      <td>0.828624</td>\n",
              "      <td>00:04</td>\n",
              "    </tr>\n",
              "    <tr>\n",
              "      <td>3</td>\n",
              "      <td>0.350397</td>\n",
              "      <td>0.361008</td>\n",
              "      <td>0.833385</td>\n",
              "      <td>00:04</td>\n",
              "    </tr>\n",
              "    <tr>\n",
              "      <td>4</td>\n",
              "      <td>0.342867</td>\n",
              "      <td>0.363868</td>\n",
              "      <td>0.831849</td>\n",
              "      <td>00:04</td>\n",
              "    </tr>\n",
              "    <tr>\n",
              "      <td>5</td>\n",
              "      <td>0.348970</td>\n",
              "      <td>0.356818</td>\n",
              "      <td>0.834306</td>\n",
              "      <td>00:04</td>\n",
              "    </tr>\n",
              "    <tr>\n",
              "      <td>6</td>\n",
              "      <td>0.345280</td>\n",
              "      <td>0.356516</td>\n",
              "      <td>0.832924</td>\n",
              "      <td>00:05</td>\n",
              "    </tr>\n",
              "    <tr>\n",
              "      <td>7</td>\n",
              "      <td>0.341203</td>\n",
              "      <td>0.353796</td>\n",
              "      <td>0.834613</td>\n",
              "      <td>00:05</td>\n",
              "    </tr>\n",
              "    <tr>\n",
              "      <td>8</td>\n",
              "      <td>0.335134</td>\n",
              "      <td>0.354227</td>\n",
              "      <td>0.834613</td>\n",
              "      <td>00:05</td>\n",
              "    </tr>\n",
              "    <tr>\n",
              "      <td>9</td>\n",
              "      <td>0.329142</td>\n",
              "      <td>0.354331</td>\n",
              "      <td>0.834613</td>\n",
              "      <td>00:04</td>\n",
              "    </tr>\n",
              "  </tbody>\n",
              "</table>"
            ]
          },
          "metadata": {}
        }
      ]
    },
    {
      "cell_type": "markdown",
      "source": [
        "## Make predictions"
      ],
      "metadata": {
        "id": "fRneyzk55PKH"
      }
    },
    {
      "cell_type": "markdown",
      "source": [
        "### Directly from a DataFrame"
      ],
      "metadata": {
        "id": "hHcgWKgw_kXA"
      }
    },
    {
      "cell_type": "code",
      "source": [
        "# 7.0 We can then have a look at some predictions:\n",
        "learn.show_results()"
      ],
      "metadata": {
        "id": "AmTBD_70fGBz",
        "colab": {
          "base_uri": "https://localhost:8080/",
          "height": 331
        },
        "outputId": "dfcc6a59-cea7-4aea-8bbf-68f7b8e14130"
      },
      "execution_count": null,
      "outputs": [
        {
          "output_type": "display_data",
          "data": {
            "text/plain": [
              "<IPython.core.display.HTML object>"
            ],
            "text/html": [
              "\n",
              "<style>\n",
              "    /* Turns off some styling */\n",
              "    progress {\n",
              "        /* gets rid of default border in Firefox and Opera. */\n",
              "        border: none;\n",
              "        /* Needs to be in here for Safari polyfill so background images work as expected. */\n",
              "        background-size: auto;\n",
              "    }\n",
              "    progress:not([value]), progress:not([value])::-webkit-progress-bar {\n",
              "        background: repeating-linear-gradient(45deg, #7e7e7e, #7e7e7e 10px, #5c5c5c 10px, #5c5c5c 20px);\n",
              "    }\n",
              "    .progress-bar-interrupted, .progress-bar-interrupted::-webkit-progress-bar {\n",
              "        background: #F44336;\n",
              "    }\n",
              "</style>\n"
            ]
          },
          "metadata": {}
        },
        {
          "output_type": "display_data",
          "data": {
            "text/plain": [
              "<IPython.core.display.HTML object>"
            ],
            "text/html": []
          },
          "metadata": {}
        },
        {
          "output_type": "display_data",
          "data": {
            "text/plain": [
              "<IPython.core.display.HTML object>"
            ],
            "text/html": [
              "<table border=\"1\" class=\"dataframe\">\n",
              "  <thead>\n",
              "    <tr style=\"text-align: right;\">\n",
              "      <th></th>\n",
              "      <th>workclass</th>\n",
              "      <th>education</th>\n",
              "      <th>marital-status</th>\n",
              "      <th>occupation</th>\n",
              "      <th>relationship</th>\n",
              "      <th>race</th>\n",
              "      <th>education-num_na</th>\n",
              "      <th>age</th>\n",
              "      <th>fnlwgt</th>\n",
              "      <th>education-num</th>\n",
              "      <th>salary</th>\n",
              "      <th>salary_pred</th>\n",
              "    </tr>\n",
              "  </thead>\n",
              "  <tbody>\n",
              "    <tr>\n",
              "      <th>0</th>\n",
              "      <td>5.0</td>\n",
              "      <td>9.0</td>\n",
              "      <td>5.0</td>\n",
              "      <td>2.0</td>\n",
              "      <td>2.0</td>\n",
              "      <td>5.0</td>\n",
              "      <td>1.0</td>\n",
              "      <td>-0.993250</td>\n",
              "      <td>-1.034500</td>\n",
              "      <td>0.360500</td>\n",
              "      <td>0.0</td>\n",
              "      <td>0.0</td>\n",
              "    </tr>\n",
              "    <tr>\n",
              "      <th>1</th>\n",
              "      <td>5.0</td>\n",
              "      <td>12.0</td>\n",
              "      <td>5.0</td>\n",
              "      <td>7.0</td>\n",
              "      <td>2.0</td>\n",
              "      <td>5.0</td>\n",
              "      <td>1.0</td>\n",
              "      <td>-1.066548</td>\n",
              "      <td>-0.071559</td>\n",
              "      <td>-0.424213</td>\n",
              "      <td>0.0</td>\n",
              "      <td>0.0</td>\n",
              "    </tr>\n",
              "    <tr>\n",
              "      <th>2</th>\n",
              "      <td>7.0</td>\n",
              "      <td>10.0</td>\n",
              "      <td>3.0</td>\n",
              "      <td>5.0</td>\n",
              "      <td>1.0</td>\n",
              "      <td>5.0</td>\n",
              "      <td>1.0</td>\n",
              "      <td>0.839200</td>\n",
              "      <td>-1.434654</td>\n",
              "      <td>1.145213</td>\n",
              "      <td>1.0</td>\n",
              "      <td>1.0</td>\n",
              "    </tr>\n",
              "    <tr>\n",
              "      <th>3</th>\n",
              "      <td>6.0</td>\n",
              "      <td>10.0</td>\n",
              "      <td>3.0</td>\n",
              "      <td>11.0</td>\n",
              "      <td>1.0</td>\n",
              "      <td>5.0</td>\n",
              "      <td>1.0</td>\n",
              "      <td>0.106220</td>\n",
              "      <td>-0.856380</td>\n",
              "      <td>1.145213</td>\n",
              "      <td>0.0</td>\n",
              "      <td>1.0</td>\n",
              "    </tr>\n",
              "    <tr>\n",
              "      <th>4</th>\n",
              "      <td>5.0</td>\n",
              "      <td>16.0</td>\n",
              "      <td>3.0</td>\n",
              "      <td>8.0</td>\n",
              "      <td>1.0</td>\n",
              "      <td>5.0</td>\n",
              "      <td>1.0</td>\n",
              "      <td>0.326114</td>\n",
              "      <td>-0.038621</td>\n",
              "      <td>-0.031857</td>\n",
              "      <td>1.0</td>\n",
              "      <td>0.0</td>\n",
              "    </tr>\n",
              "    <tr>\n",
              "      <th>5</th>\n",
              "      <td>2.0</td>\n",
              "      <td>10.0</td>\n",
              "      <td>3.0</td>\n",
              "      <td>11.0</td>\n",
              "      <td>1.0</td>\n",
              "      <td>5.0</td>\n",
              "      <td>1.0</td>\n",
              "      <td>0.765902</td>\n",
              "      <td>-0.575086</td>\n",
              "      <td>1.145213</td>\n",
              "      <td>1.0</td>\n",
              "      <td>1.0</td>\n",
              "    </tr>\n",
              "    <tr>\n",
              "      <th>6</th>\n",
              "      <td>5.0</td>\n",
              "      <td>12.0</td>\n",
              "      <td>5.0</td>\n",
              "      <td>9.0</td>\n",
              "      <td>4.0</td>\n",
              "      <td>2.0</td>\n",
              "      <td>1.0</td>\n",
              "      <td>-1.433037</td>\n",
              "      <td>-0.881881</td>\n",
              "      <td>-0.424213</td>\n",
              "      <td>0.0</td>\n",
              "      <td>0.0</td>\n",
              "    </tr>\n",
              "    <tr>\n",
              "      <th>7</th>\n",
              "      <td>5.0</td>\n",
              "      <td>12.0</td>\n",
              "      <td>3.0</td>\n",
              "      <td>8.0</td>\n",
              "      <td>1.0</td>\n",
              "      <td>3.0</td>\n",
              "      <td>1.0</td>\n",
              "      <td>0.546008</td>\n",
              "      <td>2.963465</td>\n",
              "      <td>-0.424213</td>\n",
              "      <td>1.0</td>\n",
              "      <td>0.0</td>\n",
              "    </tr>\n",
              "    <tr>\n",
              "      <th>8</th>\n",
              "      <td>5.0</td>\n",
              "      <td>8.0</td>\n",
              "      <td>5.0</td>\n",
              "      <td>2.0</td>\n",
              "      <td>2.0</td>\n",
              "      <td>5.0</td>\n",
              "      <td>1.0</td>\n",
              "      <td>0.546008</td>\n",
              "      <td>0.392527</td>\n",
              "      <td>0.752856</td>\n",
              "      <td>0.0</td>\n",
              "      <td>0.0</td>\n",
              "    </tr>\n",
              "  </tbody>\n",
              "</table>"
            ]
          },
          "metadata": {}
        }
      ]
    },
    {
      "cell_type": "code",
      "source": [
        "# 7.1 Make prediction for one row:\n",
        "row, clas, probs = learn.predict(df.iloc[0])"
      ],
      "metadata": {
        "colab": {
          "base_uri": "https://localhost:8080/",
          "height": 17
        },
        "id": "ANEFUxC1zq5P",
        "outputId": "28b8efde-1af2-4ce0-d14d-3ca5ad2af3de"
      },
      "execution_count": null,
      "outputs": [
        {
          "output_type": "display_data",
          "data": {
            "text/plain": [
              "<IPython.core.display.HTML object>"
            ],
            "text/html": [
              "\n",
              "<style>\n",
              "    /* Turns off some styling */\n",
              "    progress {\n",
              "        /* gets rid of default border in Firefox and Opera. */\n",
              "        border: none;\n",
              "        /* Needs to be in here for Safari polyfill so background images work as expected. */\n",
              "        background-size: auto;\n",
              "    }\n",
              "    progress:not([value]), progress:not([value])::-webkit-progress-bar {\n",
              "        background: repeating-linear-gradient(45deg, #7e7e7e, #7e7e7e 10px, #5c5c5c 10px, #5c5c5c 20px);\n",
              "    }\n",
              "    .progress-bar-interrupted, .progress-bar-interrupted::-webkit-progress-bar {\n",
              "        background: #F44336;\n",
              "    }\n",
              "</style>\n"
            ]
          },
          "metadata": {}
        },
        {
          "output_type": "display_data",
          "data": {
            "text/plain": [
              "<IPython.core.display.HTML object>"
            ],
            "text/html": []
          },
          "metadata": {}
        }
      ]
    },
    {
      "cell_type": "code",
      "source": [
        "# 7.2 Show result of one row\n",
        "row.show()"
      ],
      "metadata": {
        "colab": {
          "base_uri": "https://localhost:8080/",
          "height": 81
        },
        "id": "KGFAehdhzs2X",
        "outputId": "e0ee3614-00ad-46da-a16f-17cf4a2ce403"
      },
      "execution_count": null,
      "outputs": [
        {
          "output_type": "display_data",
          "data": {
            "text/plain": [
              "<IPython.core.display.HTML object>"
            ],
            "text/html": [
              "<table border=\"1\" class=\"dataframe\">\n",
              "  <thead>\n",
              "    <tr style=\"text-align: right;\">\n",
              "      <th></th>\n",
              "      <th>workclass</th>\n",
              "      <th>education</th>\n",
              "      <th>marital-status</th>\n",
              "      <th>occupation</th>\n",
              "      <th>relationship</th>\n",
              "      <th>race</th>\n",
              "      <th>education-num_na</th>\n",
              "      <th>age</th>\n",
              "      <th>fnlwgt</th>\n",
              "      <th>education-num</th>\n",
              "      <th>salary</th>\n",
              "    </tr>\n",
              "  </thead>\n",
              "  <tbody>\n",
              "    <tr>\n",
              "      <th>0</th>\n",
              "      <td>Private</td>\n",
              "      <td>Assoc-acdm</td>\n",
              "      <td>Married-civ-spouse</td>\n",
              "      <td>#na#</td>\n",
              "      <td>Wife</td>\n",
              "      <td>White</td>\n",
              "      <td>False</td>\n",
              "      <td>49.0</td>\n",
              "      <td>101319.999696</td>\n",
              "      <td>12.0</td>\n",
              "      <td>&gt;=50k</td>\n",
              "    </tr>\n",
              "  </tbody>\n",
              "</table>"
            ]
          },
          "metadata": {}
        }
      ]
    },
    {
      "cell_type": "code",
      "source": [
        "# 7.3 Other information\n",
        "clas, probs"
      ],
      "metadata": {
        "colab": {
          "base_uri": "https://localhost:8080/"
        },
        "id": "BYXoCXYA7T4w",
        "outputId": "95f9dbab-2c57-41c3-c23f-a2257ab32632"
      },
      "execution_count": null,
      "outputs": [
        {
          "output_type": "execute_result",
          "data": {
            "text/plain": [
              "(tensor(1), tensor([0.4005, 0.5995]))"
            ]
          },
          "metadata": {},
          "execution_count": 72
        }
      ]
    },
    {
      "cell_type": "markdown",
      "source": [
        "### From Data Loader object"
      ],
      "metadata": {
        "id": "8SKHmw3s_pZQ"
      }
    },
    {
      "cell_type": "markdown",
      "source": [
        "To get prediction on a new dataframe, you can use the test_dl method of the DataLoaders. That dataframe does not need to have the dependent variable in its column. About `test_dl` object , see [here](https://muellerzr.github.io/fastblog/2020/08/10/testdl.html)"
      ],
      "metadata": {
        "id": "QOO_M0Wv7YtP"
      }
    },
    {
      "cell_type": "code",
      "source": [
        "# 8.0\n",
        "test_df = df.copy()\n",
        "test_df.drop(['salary'], axis=1, inplace=True)"
      ],
      "metadata": {
        "id": "7LVGTgiF7cky"
      },
      "execution_count": null,
      "outputs": []
    },
    {
      "cell_type": "code",
      "source": [
        "# 8.1 Transform test_df exactly in the manner\n",
        "#      train was done using test_dl\n",
        "dl = learn.dls.test_dl(test_df)"
      ],
      "metadata": {
        "id": "XLxaHSfn7mdA"
      },
      "execution_count": null,
      "outputs": []
    },
    {
      "cell_type": "code",
      "source": [
        "# 8.2 Get predictions now:\n",
        "\n",
        "learn.get_preds(dl=dl)"
      ],
      "metadata": {
        "colab": {
          "base_uri": "https://localhost:8080/",
          "height": 141
        },
        "id": "Jlf2zfdF7rRB",
        "outputId": "b63634be-3f22-4217-d61f-8091abeefa1e"
      },
      "execution_count": null,
      "outputs": [
        {
          "output_type": "display_data",
          "data": {
            "text/plain": [
              "<IPython.core.display.HTML object>"
            ],
            "text/html": [
              "\n",
              "<style>\n",
              "    /* Turns off some styling */\n",
              "    progress {\n",
              "        /* gets rid of default border in Firefox and Opera. */\n",
              "        border: none;\n",
              "        /* Needs to be in here for Safari polyfill so background images work as expected. */\n",
              "        background-size: auto;\n",
              "    }\n",
              "    progress:not([value]), progress:not([value])::-webkit-progress-bar {\n",
              "        background: repeating-linear-gradient(45deg, #7e7e7e, #7e7e7e 10px, #5c5c5c 10px, #5c5c5c 20px);\n",
              "    }\n",
              "    .progress-bar-interrupted, .progress-bar-interrupted::-webkit-progress-bar {\n",
              "        background: #F44336;\n",
              "    }\n",
              "</style>\n"
            ]
          },
          "metadata": {}
        },
        {
          "output_type": "display_data",
          "data": {
            "text/plain": [
              "<IPython.core.display.HTML object>"
            ],
            "text/html": []
          },
          "metadata": {}
        },
        {
          "output_type": "execute_result",
          "data": {
            "text/plain": [
              "(tensor([[0.4005, 0.5995],\n",
              "         [0.3844, 0.6156],\n",
              "         [0.9888, 0.0112],\n",
              "         ...,\n",
              "         [0.5176, 0.4824],\n",
              "         [0.6915, 0.3085],\n",
              "         [0.6965, 0.3035]]), None)"
            ]
          },
          "metadata": {},
          "execution_count": 75
        }
      ]
    },
    {
      "cell_type": "markdown",
      "source": [
        "### Get prediction from any arbitrary data"
      ],
      "metadata": {
        "id": "EhQZccri94GB"
      }
    },
    {
      "cell_type": "code",
      "source": [
        "# 9.0\n",
        "test_data = {\n",
        "    'age': [49], \n",
        "    'workclass': ['Private'], \n",
        "    'fnlwgt': [101320],\n",
        "    'education': ['Assoc-acdm'], \n",
        "    'education-num': [12.0],\n",
        "    'marital-status': ['Married-civ-spouse'], \n",
        "    'occupation': [''],\n",
        "    'relationship': ['Wife'],\n",
        "    'race': ['White'],\n",
        "}\n",
        "\n",
        "# 9.1\n",
        "input = pd.DataFrame(test_data)"
      ],
      "metadata": {
        "id": "_6HFZNWYrTKL"
      },
      "execution_count": null,
      "outputs": []
    },
    {
      "cell_type": "code",
      "source": [
        "# 9.2\n",
        "tdl = learn.dls.test_dl(input)"
      ],
      "metadata": {
        "id": "iFBxzTgJ9uUo"
      },
      "execution_count": null,
      "outputs": []
    },
    {
      "cell_type": "code",
      "source": [
        "# 9.3\n",
        "learn.get_preds(dl=tdl)"
      ],
      "metadata": {
        "colab": {
          "base_uri": "https://localhost:8080/",
          "height": 35
        },
        "id": "BSs682tGrdYF",
        "outputId": "7efafa5a-63b9-474f-9760-cdc9d1457dbc"
      },
      "execution_count": null,
      "outputs": [
        {
          "output_type": "display_data",
          "data": {
            "text/plain": [
              "<IPython.core.display.HTML object>"
            ],
            "text/html": [
              "\n",
              "<style>\n",
              "    /* Turns off some styling */\n",
              "    progress {\n",
              "        /* gets rid of default border in Firefox and Opera. */\n",
              "        border: none;\n",
              "        /* Needs to be in here for Safari polyfill so background images work as expected. */\n",
              "        background-size: auto;\n",
              "    }\n",
              "    progress:not([value]), progress:not([value])::-webkit-progress-bar {\n",
              "        background: repeating-linear-gradient(45deg, #7e7e7e, #7e7e7e 10px, #5c5c5c 10px, #5c5c5c 20px);\n",
              "    }\n",
              "    .progress-bar-interrupted, .progress-bar-interrupted::-webkit-progress-bar {\n",
              "        background: #F44336;\n",
              "    }\n",
              "</style>\n"
            ]
          },
          "metadata": {}
        },
        {
          "output_type": "display_data",
          "data": {
            "text/plain": [
              "<IPython.core.display.HTML object>"
            ],
            "text/html": []
          },
          "metadata": {}
        },
        {
          "output_type": "execute_result",
          "data": {
            "text/plain": [
              "(tensor([[0.7156, 0.2844]]), None)"
            ]
          },
          "metadata": {},
          "execution_count": 52
        }
      ]
    },
    {
      "cell_type": "markdown",
      "source": [
        "## USing fastai pre-processing with sklearn and other libraries"
      ],
      "metadata": {
        "id": "fW_HOXvNAv0J"
      }
    },
    {
      "cell_type": "markdown",
      "source": [
        "As mentioned earlier, `TabularPandas` is a powerful and easy preprocessing tool for tabular data. Integration with libraries such as `Random Forests` and `XGBoost` requires only one extra step, that the .dataloaders call did for us. Let’s look at our `to` object again. Its values are stored in a DataFrame like object, where we can extract the `cats`, `conts`, `xs` and `ys` if we want to:"
      ],
      "metadata": {
        "id": "yyO4Q7IcA4Sa"
      }
    },
    {
      "cell_type": "code",
      "source": [
        "# 10.0\n",
        "to.xs[:3]"
      ],
      "metadata": {
        "colab": {
          "base_uri": "https://localhost:8080/",
          "height": 143
        },
        "id": "8kIetzOsBHnp",
        "outputId": "3c76f962-7bd2-447b-97e9-39843f889777"
      },
      "execution_count": null,
      "outputs": [
        {
          "output_type": "execute_result",
          "data": {
            "text/plain": [
              "       workclass  education  marital-status  occupation  relationship  race  \\\n",
              "19042          8         13               3           5             1     3   \n",
              "20852          5         16               3           4             1     5   \n",
              "25104          7         16               1           9             2     5   \n",
              "\n",
              "       education-num_na       age    fnlwgt  education-num  \n",
              "19042                 1 -0.773356 -1.052961       1.537569  \n",
              "20852                 1 -0.113674 -1.496425      -0.031857  \n",
              "25104                 1  0.619306 -0.297038      -0.031857  "
            ],
            "text/html": [
              "\n",
              "  <div id=\"df-73d1d012-7927-4c01-b52a-0d10b55b6d29\">\n",
              "    <div class=\"colab-df-container\">\n",
              "      <div>\n",
              "<style scoped>\n",
              "    .dataframe tbody tr th:only-of-type {\n",
              "        vertical-align: middle;\n",
              "    }\n",
              "\n",
              "    .dataframe tbody tr th {\n",
              "        vertical-align: top;\n",
              "    }\n",
              "\n",
              "    .dataframe thead th {\n",
              "        text-align: right;\n",
              "    }\n",
              "</style>\n",
              "<table border=\"1\" class=\"dataframe\">\n",
              "  <thead>\n",
              "    <tr style=\"text-align: right;\">\n",
              "      <th></th>\n",
              "      <th>workclass</th>\n",
              "      <th>education</th>\n",
              "      <th>marital-status</th>\n",
              "      <th>occupation</th>\n",
              "      <th>relationship</th>\n",
              "      <th>race</th>\n",
              "      <th>education-num_na</th>\n",
              "      <th>age</th>\n",
              "      <th>fnlwgt</th>\n",
              "      <th>education-num</th>\n",
              "    </tr>\n",
              "  </thead>\n",
              "  <tbody>\n",
              "    <tr>\n",
              "      <th>19042</th>\n",
              "      <td>8</td>\n",
              "      <td>13</td>\n",
              "      <td>3</td>\n",
              "      <td>5</td>\n",
              "      <td>1</td>\n",
              "      <td>3</td>\n",
              "      <td>1</td>\n",
              "      <td>-0.773356</td>\n",
              "      <td>-1.052961</td>\n",
              "      <td>1.537569</td>\n",
              "    </tr>\n",
              "    <tr>\n",
              "      <th>20852</th>\n",
              "      <td>5</td>\n",
              "      <td>16</td>\n",
              "      <td>3</td>\n",
              "      <td>4</td>\n",
              "      <td>1</td>\n",
              "      <td>5</td>\n",
              "      <td>1</td>\n",
              "      <td>-0.113674</td>\n",
              "      <td>-1.496425</td>\n",
              "      <td>-0.031857</td>\n",
              "    </tr>\n",
              "    <tr>\n",
              "      <th>25104</th>\n",
              "      <td>7</td>\n",
              "      <td>16</td>\n",
              "      <td>1</td>\n",
              "      <td>9</td>\n",
              "      <td>2</td>\n",
              "      <td>5</td>\n",
              "      <td>1</td>\n",
              "      <td>0.619306</td>\n",
              "      <td>-0.297038</td>\n",
              "      <td>-0.031857</td>\n",
              "    </tr>\n",
              "  </tbody>\n",
              "</table>\n",
              "</div>\n",
              "      <button class=\"colab-df-convert\" onclick=\"convertToInteractive('df-73d1d012-7927-4c01-b52a-0d10b55b6d29')\"\n",
              "              title=\"Convert this dataframe to an interactive table.\"\n",
              "              style=\"display:none;\">\n",
              "        \n",
              "  <svg xmlns=\"http://www.w3.org/2000/svg\" height=\"24px\"viewBox=\"0 0 24 24\"\n",
              "       width=\"24px\">\n",
              "    <path d=\"M0 0h24v24H0V0z\" fill=\"none\"/>\n",
              "    <path d=\"M18.56 5.44l.94 2.06.94-2.06 2.06-.94-2.06-.94-.94-2.06-.94 2.06-2.06.94zm-11 1L8.5 8.5l.94-2.06 2.06-.94-2.06-.94L8.5 2.5l-.94 2.06-2.06.94zm10 10l.94 2.06.94-2.06 2.06-.94-2.06-.94-.94-2.06-.94 2.06-2.06.94z\"/><path d=\"M17.41 7.96l-1.37-1.37c-.4-.4-.92-.59-1.43-.59-.52 0-1.04.2-1.43.59L10.3 9.45l-7.72 7.72c-.78.78-.78 2.05 0 2.83L4 21.41c.39.39.9.59 1.41.59.51 0 1.02-.2 1.41-.59l7.78-7.78 2.81-2.81c.8-.78.8-2.07 0-2.86zM5.41 20L4 18.59l7.72-7.72 1.47 1.35L5.41 20z\"/>\n",
              "  </svg>\n",
              "      </button>\n",
              "      \n",
              "  <style>\n",
              "    .colab-df-container {\n",
              "      display:flex;\n",
              "      flex-wrap:wrap;\n",
              "      gap: 12px;\n",
              "    }\n",
              "\n",
              "    .colab-df-convert {\n",
              "      background-color: #E8F0FE;\n",
              "      border: none;\n",
              "      border-radius: 50%;\n",
              "      cursor: pointer;\n",
              "      display: none;\n",
              "      fill: #1967D2;\n",
              "      height: 32px;\n",
              "      padding: 0 0 0 0;\n",
              "      width: 32px;\n",
              "    }\n",
              "\n",
              "    .colab-df-convert:hover {\n",
              "      background-color: #E2EBFA;\n",
              "      box-shadow: 0px 1px 2px rgba(60, 64, 67, 0.3), 0px 1px 3px 1px rgba(60, 64, 67, 0.15);\n",
              "      fill: #174EA6;\n",
              "    }\n",
              "\n",
              "    [theme=dark] .colab-df-convert {\n",
              "      background-color: #3B4455;\n",
              "      fill: #D2E3FC;\n",
              "    }\n",
              "\n",
              "    [theme=dark] .colab-df-convert:hover {\n",
              "      background-color: #434B5C;\n",
              "      box-shadow: 0px 1px 3px 1px rgba(0, 0, 0, 0.15);\n",
              "      filter: drop-shadow(0px 1px 2px rgba(0, 0, 0, 0.3));\n",
              "      fill: #FFFFFF;\n",
              "    }\n",
              "  </style>\n",
              "\n",
              "      <script>\n",
              "        const buttonEl =\n",
              "          document.querySelector('#df-73d1d012-7927-4c01-b52a-0d10b55b6d29 button.colab-df-convert');\n",
              "        buttonEl.style.display =\n",
              "          google.colab.kernel.accessAllowed ? 'block' : 'none';\n",
              "\n",
              "        async function convertToInteractive(key) {\n",
              "          const element = document.querySelector('#df-73d1d012-7927-4c01-b52a-0d10b55b6d29');\n",
              "          const dataTable =\n",
              "            await google.colab.kernel.invokeFunction('convertToInteractive',\n",
              "                                                     [key], {});\n",
              "          if (!dataTable) return;\n",
              "\n",
              "          const docLinkHtml = 'Like what you see? Visit the ' +\n",
              "            '<a target=\"_blank\" href=https://colab.research.google.com/notebooks/data_table.ipynb>data table notebook</a>'\n",
              "            + ' to learn more about interactive tables.';\n",
              "          element.innerHTML = '';\n",
              "          dataTable['output_type'] = 'display_data';\n",
              "          await google.colab.output.renderOutput(dataTable, element);\n",
              "          const docLink = document.createElement('div');\n",
              "          docLink.innerHTML = docLinkHtml;\n",
              "          element.appendChild(docLink);\n",
              "        }\n",
              "      </script>\n",
              "    </div>\n",
              "  </div>\n",
              "  "
            ]
          },
          "metadata": {},
          "execution_count": 53
        }
      ]
    },
    {
      "cell_type": "markdown",
      "source": [
        "Now that everything is encoded, you can then send this off to `XGBoost` or `Random Forests` by extracting the train and validation sets and their values:"
      ],
      "metadata": {
        "id": "W-o33FhuBOtT"
      }
    },
    {
      "cell_type": "code",
      "source": [
        "# 10.1 Get split and pre-processed data:\n",
        "\n",
        "X_train, y_train = to.train.xs, to.train.ys.values.ravel()\n",
        "X_test, y_test = to.valid.xs, to.valid.ys.values.ravel()"
      ],
      "metadata": {
        "id": "yHR_NSY0BUzQ"
      },
      "execution_count": null,
      "outputs": []
    },
    {
      "cell_type": "code",
      "source": [
        "# 10.2\n",
        "X_train.shape\n",
        "X_test.shape\n",
        "y_train.shape\n",
        "y_test.shape"
      ],
      "metadata": {
        "colab": {
          "base_uri": "https://localhost:8080/"
        },
        "id": "DzK_KKJjB9xQ",
        "outputId": "bed488f6-9647-4f71-db75-2d2e23ed7972"
      },
      "execution_count": null,
      "outputs": [
        {
          "output_type": "execute_result",
          "data": {
            "text/plain": [
              "(26049, 10)"
            ]
          },
          "metadata": {},
          "execution_count": 56
        },
        {
          "output_type": "execute_result",
          "data": {
            "text/plain": [
              "(6512, 10)"
            ]
          },
          "metadata": {},
          "execution_count": 56
        },
        {
          "output_type": "execute_result",
          "data": {
            "text/plain": [
              "(26049,)"
            ]
          },
          "metadata": {},
          "execution_count": 56
        },
        {
          "output_type": "execute_result",
          "data": {
            "text/plain": [
              "(6512,)"
            ]
          },
          "metadata": {},
          "execution_count": 56
        }
      ]
    },
    {
      "cell_type": "code",
      "source": [
        "###########################"
      ],
      "metadata": {
        "id": "JaVRVRwzpQXa"
      },
      "execution_count": null,
      "outputs": []
    }
  ],
  "metadata": {
    "kernelspec": {
      "display_name": "Python 3",
      "language": "python",
      "name": "python3"
    },
    "colab": {
      "provenance": [],
      "collapsed_sections": [
        "X_KE1ZCVWkMR",
        "v81AU7F1Wgap",
        "JIXnSaAmWcG5",
        "HQPWnmFCXGMK"
      ],
      "include_colab_link": true
    }
  },
  "nbformat": 4,
  "nbformat_minor": 0
}