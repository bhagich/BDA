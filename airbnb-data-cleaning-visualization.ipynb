{
 "cells": [
  {
   "cell_type": "markdown",
   "id": "278eeb51",
   "metadata": {
    "_cell_guid": "b1076dfc-b9ad-4769-8c92-a6c4dae69d19",
    "_uuid": "8f2839f25d086af736a60e9eeb907d3b93b6e0e5",
    "execution": {
     "iopub.execute_input": "2022-09-18T15:44:07.788658Z",
     "iopub.status.busy": "2022-09-18T15:44:07.788005Z",
     "iopub.status.idle": "2022-09-18T15:44:07.835835Z",
     "shell.execute_reply": "2022-09-18T15:44:07.834948Z",
     "shell.execute_reply.started": "2022-09-18T15:44:07.788565Z"
    },
    "papermill": {
     "duration": 0.01109,
     "end_time": "2022-10-06T17:02:43.942683",
     "exception": false,
     "start_time": "2022-10-06T17:02:43.931593",
     "status": "completed"
    },
    "tags": []
   },
   "source": [
    "# 1. **Call Libraries** "
   ]
  },
  {
   "cell_type": "code",
   "execution_count": 1,
   "id": "fda59837",
   "metadata": {
    "execution": {
     "iopub.execute_input": "2022-10-06T17:02:43.964218Z",
     "iopub.status.busy": "2022-10-06T17:02:43.963667Z",
     "iopub.status.idle": "2022-10-06T17:02:45.047692Z",
     "shell.execute_reply": "2022-10-06T17:02:45.046695Z"
    },
    "papermill": {
     "duration": 1.098154,
     "end_time": "2022-10-06T17:02:45.050618",
     "exception": false,
     "start_time": "2022-10-06T17:02:43.952464",
     "status": "completed"
    },
    "tags": []
   },
   "outputs": [],
   "source": [
    "#For data review\n",
    "import numpy as np\n",
    "import pandas as pd # data processing, CSV file I/O (e.g. pd.read_csv)\n",
    "\n",
    "#for plotting\n",
    "import matplotlib.pyplot as plt\n",
    "%matplotlib inline\n",
    "import seaborn as sns\n",
    "\n",
    "#for listing the directory\n",
    "import os\n",
    "\n",
    "# for printing\n",
    "from IPython.core.interactiveshell import InteractiveShell\n",
    "InteractiveShell.ast_node_interactivity = \"all\""
   ]
  },
  {
   "cell_type": "markdown",
   "id": "29343bec",
   "metadata": {
    "papermill": {
     "duration": 0.01053,
     "end_time": "2022-10-06T17:02:45.070866",
     "exception": false,
     "start_time": "2022-10-06T17:02:45.060336",
     "status": "completed"
    },
    "tags": []
   },
   "source": [
    "# 2. **Read the data file**"
   ]
  },
  {
   "cell_type": "code",
   "execution_count": 2,
   "id": "deae8134",
   "metadata": {
    "execution": {
     "iopub.execute_input": "2022-10-06T17:02:45.093994Z",
     "iopub.status.busy": "2022-10-06T17:02:45.092781Z",
     "iopub.status.idle": "2022-10-06T17:02:46.317000Z",
     "shell.execute_reply": "2022-10-06T17:02:46.316064Z"
    },
    "papermill": {
     "duration": 1.237719,
     "end_time": "2022-10-06T17:02:46.319647",
     "exception": false,
     "start_time": "2022-10-06T17:02:45.081928",
     "status": "completed"
    },
    "tags": []
   },
   "outputs": [
    {
     "name": "stdout",
     "output_type": "stream",
     "text": [
      "['Airbnb_Open_Data.csv']\n"
     ]
    }
   ],
   "source": [
    "print(os.listdir(\"../input/airbnbopendata\"))\n",
    "airbnb = pd.read_csv('../input/airbnbopendata/Airbnb_Open_Data.csv', low_memory = False);"
   ]
  },
  {
   "cell_type": "markdown",
   "id": "9b3866fb",
   "metadata": {
    "papermill": {
     "duration": 0.009162,
     "end_time": "2022-10-06T17:02:46.338502",
     "exception": false,
     "start_time": "2022-10-06T17:02:46.329340",
     "status": "completed"
    },
    "tags": []
   },
   "source": [
    "# 3. **Data Exploration**"
   ]
  },
  {
   "cell_type": "code",
   "execution_count": 3,
   "id": "51862b2f",
   "metadata": {
    "execution": {
     "iopub.execute_input": "2022-10-06T17:02:46.359753Z",
     "iopub.status.busy": "2022-10-06T17:02:46.359346Z",
     "iopub.status.idle": "2022-10-06T17:02:46.452608Z",
     "shell.execute_reply": "2022-10-06T17:02:46.451549Z"
    },
    "papermill": {
     "duration": 0.107669,
     "end_time": "2022-10-06T17:02:46.455804",
     "exception": false,
     "start_time": "2022-10-06T17:02:46.348135",
     "status": "completed"
    },
    "tags": []
   },
   "outputs": [
    {
     "name": "stdout",
     "output_type": "stream",
     "text": [
      "<class 'pandas.core.frame.DataFrame'>\n",
      "RangeIndex: 102599 entries, 0 to 102598\n",
      "Data columns (total 26 columns):\n",
      " #   Column                          Non-Null Count   Dtype  \n",
      "---  ------                          --------------   -----  \n",
      " 0   id                              102599 non-null  int64  \n",
      " 1   NAME                            102349 non-null  object \n",
      " 2   host id                         102599 non-null  int64  \n",
      " 3   host_identity_verified          102310 non-null  object \n",
      " 4   host name                       102193 non-null  object \n",
      " 5   neighbourhood group             102570 non-null  object \n",
      " 6   neighbourhood                   102583 non-null  object \n",
      " 7   lat                             102591 non-null  float64\n",
      " 8   long                            102591 non-null  float64\n",
      " 9   country                         102067 non-null  object \n",
      " 10  country code                    102468 non-null  object \n",
      " 11  instant_bookable                102494 non-null  object \n",
      " 12  cancellation_policy             102523 non-null  object \n",
      " 13  room type                       102599 non-null  object \n",
      " 14  Construction year               102385 non-null  float64\n",
      " 15  price                           102352 non-null  object \n",
      " 16  service fee                     102326 non-null  object \n",
      " 17  minimum nights                  102190 non-null  float64\n",
      " 18  number of reviews               102416 non-null  float64\n",
      " 19  last review                     86706 non-null   object \n",
      " 20  reviews per month               86720 non-null   float64\n",
      " 21  review rate number              102273 non-null  float64\n",
      " 22  calculated host listings count  102280 non-null  float64\n",
      " 23  availability 365                102151 non-null  float64\n",
      " 24  house_rules                     50468 non-null   object \n",
      " 25  license                         2 non-null       object \n",
      "dtypes: float64(9), int64(2), object(15)\n",
      "memory usage: 20.4+ MB\n"
     ]
    }
   ],
   "source": [
    "airbnb.info()"
   ]
  },
  {
   "cell_type": "code",
   "execution_count": 4,
   "id": "92258fef",
   "metadata": {
    "execution": {
     "iopub.execute_input": "2022-10-06T17:02:46.477825Z",
     "iopub.status.busy": "2022-10-06T17:02:46.476837Z",
     "iopub.status.idle": "2022-10-06T17:02:46.486908Z",
     "shell.execute_reply": "2022-10-06T17:02:46.486098Z"
    },
    "papermill": {
     "duration": 0.023155,
     "end_time": "2022-10-06T17:02:46.488839",
     "exception": false,
     "start_time": "2022-10-06T17:02:46.465684",
     "status": "completed"
    },
    "tags": []
   },
   "outputs": [
    {
     "data": {
      "text/plain": [
       "(102599, 26)"
      ]
     },
     "execution_count": 4,
     "metadata": {},
     "output_type": "execute_result"
    },
    {
     "data": {
      "text/plain": [
       "Index(['id', 'NAME', 'host id', 'host_identity_verified', 'host name',\n",
       "       'neighbourhood group', 'neighbourhood', 'lat', 'long', 'country',\n",
       "       'country code', 'instant_bookable', 'cancellation_policy', 'room type',\n",
       "       'Construction year', 'price', 'service fee', 'minimum nights',\n",
       "       'number of reviews', 'last review', 'reviews per month',\n",
       "       'review rate number', 'calculated host listings count',\n",
       "       'availability 365', 'house_rules', 'license'],\n",
       "      dtype='object')"
      ]
     },
     "execution_count": 4,
     "metadata": {},
     "output_type": "execute_result"
    }
   ],
   "source": [
    "airbnb.shape\n",
    "airbnb.columns"
   ]
  },
  {
   "cell_type": "code",
   "execution_count": 5,
   "id": "857b6f1e",
   "metadata": {
    "execution": {
     "iopub.execute_input": "2022-10-06T17:02:46.511159Z",
     "iopub.status.busy": "2022-10-06T17:02:46.510022Z",
     "iopub.status.idle": "2022-10-06T17:02:46.518593Z",
     "shell.execute_reply": "2022-10-06T17:02:46.517648Z"
    },
    "papermill": {
     "duration": 0.021914,
     "end_time": "2022-10-06T17:02:46.520676",
     "exception": false,
     "start_time": "2022-10-06T17:02:46.498762",
     "status": "completed"
    },
    "tags": []
   },
   "outputs": [
    {
     "data": {
      "text/plain": [
       "id                                  int64\n",
       "NAME                               object\n",
       "host id                             int64\n",
       "host_identity_verified             object\n",
       "host name                          object\n",
       "neighbourhood group                object\n",
       "neighbourhood                      object\n",
       "lat                               float64\n",
       "long                              float64\n",
       "country                            object\n",
       "country code                       object\n",
       "instant_bookable                   object\n",
       "cancellation_policy                object\n",
       "room type                          object\n",
       "Construction year                 float64\n",
       "price                              object\n",
       "service fee                        object\n",
       "minimum nights                    float64\n",
       "number of reviews                 float64\n",
       "last review                        object\n",
       "reviews per month                 float64\n",
       "review rate number                float64\n",
       "calculated host listings count    float64\n",
       "availability 365                  float64\n",
       "house_rules                        object\n",
       "license                            object\n",
       "dtype: object"
      ]
     },
     "execution_count": 5,
     "metadata": {},
     "output_type": "execute_result"
    }
   ],
   "source": [
    "airbnb.dtypes"
   ]
  },
  {
   "cell_type": "code",
   "execution_count": 6,
   "id": "0a6ea1a9",
   "metadata": {
    "execution": {
     "iopub.execute_input": "2022-10-06T17:02:46.543166Z",
     "iopub.status.busy": "2022-10-06T17:02:46.542468Z",
     "iopub.status.idle": "2022-10-06T17:02:46.576067Z",
     "shell.execute_reply": "2022-10-06T17:02:46.574895Z"
    },
    "papermill": {
     "duration": 0.047598,
     "end_time": "2022-10-06T17:02:46.578460",
     "exception": false,
     "start_time": "2022-10-06T17:02:46.530862",
     "status": "completed"
    },
    "tags": []
   },
   "outputs": [
    {
     "data": {
      "text/html": [
       "<div>\n",
       "<style scoped>\n",
       "    .dataframe tbody tr th:only-of-type {\n",
       "        vertical-align: middle;\n",
       "    }\n",
       "\n",
       "    .dataframe tbody tr th {\n",
       "        vertical-align: top;\n",
       "    }\n",
       "\n",
       "    .dataframe thead th {\n",
       "        text-align: right;\n",
       "    }\n",
       "</style>\n",
       "<table border=\"1\" class=\"dataframe\">\n",
       "  <thead>\n",
       "    <tr style=\"text-align: right;\">\n",
       "      <th></th>\n",
       "      <th>id</th>\n",
       "      <th>NAME</th>\n",
       "      <th>host id</th>\n",
       "      <th>host_identity_verified</th>\n",
       "      <th>host name</th>\n",
       "      <th>neighbourhood group</th>\n",
       "      <th>neighbourhood</th>\n",
       "      <th>lat</th>\n",
       "      <th>long</th>\n",
       "      <th>country</th>\n",
       "      <th>...</th>\n",
       "      <th>service fee</th>\n",
       "      <th>minimum nights</th>\n",
       "      <th>number of reviews</th>\n",
       "      <th>last review</th>\n",
       "      <th>reviews per month</th>\n",
       "      <th>review rate number</th>\n",
       "      <th>calculated host listings count</th>\n",
       "      <th>availability 365</th>\n",
       "      <th>house_rules</th>\n",
       "      <th>license</th>\n",
       "    </tr>\n",
       "  </thead>\n",
       "  <tbody>\n",
       "    <tr>\n",
       "      <th>0</th>\n",
       "      <td>1001254</td>\n",
       "      <td>Clean &amp; quiet apt home by the park</td>\n",
       "      <td>80014485718</td>\n",
       "      <td>unconfirmed</td>\n",
       "      <td>Madaline</td>\n",
       "      <td>Brooklyn</td>\n",
       "      <td>Kensington</td>\n",
       "      <td>40.64749</td>\n",
       "      <td>-73.97237</td>\n",
       "      <td>United States</td>\n",
       "      <td>...</td>\n",
       "      <td>$193</td>\n",
       "      <td>10.0</td>\n",
       "      <td>9.0</td>\n",
       "      <td>10/19/2021</td>\n",
       "      <td>0.21</td>\n",
       "      <td>4.0</td>\n",
       "      <td>6.0</td>\n",
       "      <td>286.0</td>\n",
       "      <td>Clean up and treat the home the way you'd like...</td>\n",
       "      <td>NaN</td>\n",
       "    </tr>\n",
       "    <tr>\n",
       "      <th>1</th>\n",
       "      <td>1002102</td>\n",
       "      <td>Skylit Midtown Castle</td>\n",
       "      <td>52335172823</td>\n",
       "      <td>verified</td>\n",
       "      <td>Jenna</td>\n",
       "      <td>Manhattan</td>\n",
       "      <td>Midtown</td>\n",
       "      <td>40.75362</td>\n",
       "      <td>-73.98377</td>\n",
       "      <td>United States</td>\n",
       "      <td>...</td>\n",
       "      <td>$28</td>\n",
       "      <td>30.0</td>\n",
       "      <td>45.0</td>\n",
       "      <td>5/21/2022</td>\n",
       "      <td>0.38</td>\n",
       "      <td>4.0</td>\n",
       "      <td>2.0</td>\n",
       "      <td>228.0</td>\n",
       "      <td>Pet friendly but please confirm with me if the...</td>\n",
       "      <td>NaN</td>\n",
       "    </tr>\n",
       "    <tr>\n",
       "      <th>2</th>\n",
       "      <td>1002403</td>\n",
       "      <td>THE VILLAGE OF HARLEM....NEW YORK !</td>\n",
       "      <td>78829239556</td>\n",
       "      <td>NaN</td>\n",
       "      <td>Elise</td>\n",
       "      <td>Manhattan</td>\n",
       "      <td>Harlem</td>\n",
       "      <td>40.80902</td>\n",
       "      <td>-73.94190</td>\n",
       "      <td>United States</td>\n",
       "      <td>...</td>\n",
       "      <td>$124</td>\n",
       "      <td>3.0</td>\n",
       "      <td>0.0</td>\n",
       "      <td>NaN</td>\n",
       "      <td>NaN</td>\n",
       "      <td>5.0</td>\n",
       "      <td>1.0</td>\n",
       "      <td>352.0</td>\n",
       "      <td>I encourage you to use my kitchen, cooking and...</td>\n",
       "      <td>NaN</td>\n",
       "    </tr>\n",
       "    <tr>\n",
       "      <th>3</th>\n",
       "      <td>1002755</td>\n",
       "      <td>NaN</td>\n",
       "      <td>85098326012</td>\n",
       "      <td>unconfirmed</td>\n",
       "      <td>Garry</td>\n",
       "      <td>Brooklyn</td>\n",
       "      <td>Clinton Hill</td>\n",
       "      <td>40.68514</td>\n",
       "      <td>-73.95976</td>\n",
       "      <td>United States</td>\n",
       "      <td>...</td>\n",
       "      <td>$74</td>\n",
       "      <td>30.0</td>\n",
       "      <td>270.0</td>\n",
       "      <td>7/5/2019</td>\n",
       "      <td>4.64</td>\n",
       "      <td>4.0</td>\n",
       "      <td>1.0</td>\n",
       "      <td>322.0</td>\n",
       "      <td>NaN</td>\n",
       "      <td>NaN</td>\n",
       "    </tr>\n",
       "    <tr>\n",
       "      <th>4</th>\n",
       "      <td>1003689</td>\n",
       "      <td>Entire Apt: Spacious Studio/Loft by central park</td>\n",
       "      <td>92037596077</td>\n",
       "      <td>verified</td>\n",
       "      <td>Lyndon</td>\n",
       "      <td>Manhattan</td>\n",
       "      <td>East Harlem</td>\n",
       "      <td>40.79851</td>\n",
       "      <td>-73.94399</td>\n",
       "      <td>United States</td>\n",
       "      <td>...</td>\n",
       "      <td>$41</td>\n",
       "      <td>10.0</td>\n",
       "      <td>9.0</td>\n",
       "      <td>11/19/2018</td>\n",
       "      <td>0.10</td>\n",
       "      <td>3.0</td>\n",
       "      <td>1.0</td>\n",
       "      <td>289.0</td>\n",
       "      <td>Please no smoking in the house, porch or on th...</td>\n",
       "      <td>NaN</td>\n",
       "    </tr>\n",
       "  </tbody>\n",
       "</table>\n",
       "<p>5 rows × 26 columns</p>\n",
       "</div>"
      ],
      "text/plain": [
       "        id                                              NAME      host id  \\\n",
       "0  1001254                Clean & quiet apt home by the park  80014485718   \n",
       "1  1002102                             Skylit Midtown Castle  52335172823   \n",
       "2  1002403               THE VILLAGE OF HARLEM....NEW YORK !  78829239556   \n",
       "3  1002755                                               NaN  85098326012   \n",
       "4  1003689  Entire Apt: Spacious Studio/Loft by central park  92037596077   \n",
       "\n",
       "  host_identity_verified host name neighbourhood group neighbourhood  \\\n",
       "0            unconfirmed  Madaline            Brooklyn    Kensington   \n",
       "1               verified     Jenna           Manhattan       Midtown   \n",
       "2                    NaN     Elise           Manhattan        Harlem   \n",
       "3            unconfirmed     Garry            Brooklyn  Clinton Hill   \n",
       "4               verified    Lyndon           Manhattan   East Harlem   \n",
       "\n",
       "        lat      long        country  ... service fee minimum nights  \\\n",
       "0  40.64749 -73.97237  United States  ...       $193            10.0   \n",
       "1  40.75362 -73.98377  United States  ...        $28            30.0   \n",
       "2  40.80902 -73.94190  United States  ...       $124             3.0   \n",
       "3  40.68514 -73.95976  United States  ...        $74            30.0   \n",
       "4  40.79851 -73.94399  United States  ...        $41            10.0   \n",
       "\n",
       "  number of reviews last review  reviews per month review rate number  \\\n",
       "0               9.0  10/19/2021               0.21                4.0   \n",
       "1              45.0   5/21/2022               0.38                4.0   \n",
       "2               0.0         NaN                NaN                5.0   \n",
       "3             270.0    7/5/2019               4.64                4.0   \n",
       "4               9.0  11/19/2018               0.10                3.0   \n",
       "\n",
       "  calculated host listings count  availability 365  \\\n",
       "0                            6.0             286.0   \n",
       "1                            2.0             228.0   \n",
       "2                            1.0             352.0   \n",
       "3                            1.0             322.0   \n",
       "4                            1.0             289.0   \n",
       "\n",
       "                                         house_rules license  \n",
       "0  Clean up and treat the home the way you'd like...     NaN  \n",
       "1  Pet friendly but please confirm with me if the...     NaN  \n",
       "2  I encourage you to use my kitchen, cooking and...     NaN  \n",
       "3                                                NaN     NaN  \n",
       "4  Please no smoking in the house, porch or on th...     NaN  \n",
       "\n",
       "[5 rows x 26 columns]"
      ]
     },
     "execution_count": 6,
     "metadata": {},
     "output_type": "execute_result"
    }
   ],
   "source": [
    "airbnb.head()"
   ]
  },
  {
   "cell_type": "code",
   "execution_count": 7,
   "id": "e99c7394",
   "metadata": {
    "execution": {
     "iopub.execute_input": "2022-10-06T17:02:46.602006Z",
     "iopub.status.busy": "2022-10-06T17:02:46.601582Z",
     "iopub.status.idle": "2022-10-06T17:02:46.632604Z",
     "shell.execute_reply": "2022-10-06T17:02:46.631542Z"
    },
    "papermill": {
     "duration": 0.045356,
     "end_time": "2022-10-06T17:02:46.635112",
     "exception": false,
     "start_time": "2022-10-06T17:02:46.589756",
     "status": "completed"
    },
    "tags": []
   },
   "outputs": [
    {
     "data": {
      "text/html": [
       "<div>\n",
       "<style scoped>\n",
       "    .dataframe tbody tr th:only-of-type {\n",
       "        vertical-align: middle;\n",
       "    }\n",
       "\n",
       "    .dataframe tbody tr th {\n",
       "        vertical-align: top;\n",
       "    }\n",
       "\n",
       "    .dataframe thead th {\n",
       "        text-align: right;\n",
       "    }\n",
       "</style>\n",
       "<table border=\"1\" class=\"dataframe\">\n",
       "  <thead>\n",
       "    <tr style=\"text-align: right;\">\n",
       "      <th></th>\n",
       "      <th>id</th>\n",
       "      <th>NAME</th>\n",
       "      <th>host id</th>\n",
       "      <th>host_identity_verified</th>\n",
       "      <th>host name</th>\n",
       "      <th>neighbourhood group</th>\n",
       "      <th>neighbourhood</th>\n",
       "      <th>lat</th>\n",
       "      <th>long</th>\n",
       "      <th>country</th>\n",
       "      <th>...</th>\n",
       "      <th>service fee</th>\n",
       "      <th>minimum nights</th>\n",
       "      <th>number of reviews</th>\n",
       "      <th>last review</th>\n",
       "      <th>reviews per month</th>\n",
       "      <th>review rate number</th>\n",
       "      <th>calculated host listings count</th>\n",
       "      <th>availability 365</th>\n",
       "      <th>house_rules</th>\n",
       "      <th>license</th>\n",
       "    </tr>\n",
       "  </thead>\n",
       "  <tbody>\n",
       "    <tr>\n",
       "      <th>102594</th>\n",
       "      <td>6092437</td>\n",
       "      <td>Spare room in Williamsburg</td>\n",
       "      <td>12312296767</td>\n",
       "      <td>verified</td>\n",
       "      <td>Krik</td>\n",
       "      <td>Brooklyn</td>\n",
       "      <td>Williamsburg</td>\n",
       "      <td>40.70862</td>\n",
       "      <td>-73.94651</td>\n",
       "      <td>United States</td>\n",
       "      <td>...</td>\n",
       "      <td>$169</td>\n",
       "      <td>1.0</td>\n",
       "      <td>0.0</td>\n",
       "      <td>NaN</td>\n",
       "      <td>NaN</td>\n",
       "      <td>3.0</td>\n",
       "      <td>1.0</td>\n",
       "      <td>227.0</td>\n",
       "      <td>No Smoking No Parties or Events of any kind Pl...</td>\n",
       "      <td>NaN</td>\n",
       "    </tr>\n",
       "    <tr>\n",
       "      <th>102595</th>\n",
       "      <td>6092990</td>\n",
       "      <td>Best Location near Columbia U</td>\n",
       "      <td>77864383453</td>\n",
       "      <td>unconfirmed</td>\n",
       "      <td>Mifan</td>\n",
       "      <td>Manhattan</td>\n",
       "      <td>Morningside Heights</td>\n",
       "      <td>40.80460</td>\n",
       "      <td>-73.96545</td>\n",
       "      <td>United States</td>\n",
       "      <td>...</td>\n",
       "      <td>$167</td>\n",
       "      <td>1.0</td>\n",
       "      <td>1.0</td>\n",
       "      <td>7/6/2015</td>\n",
       "      <td>0.02</td>\n",
       "      <td>2.0</td>\n",
       "      <td>2.0</td>\n",
       "      <td>395.0</td>\n",
       "      <td>House rules: Guests agree to the following ter...</td>\n",
       "      <td>NaN</td>\n",
       "    </tr>\n",
       "    <tr>\n",
       "      <th>102596</th>\n",
       "      <td>6093542</td>\n",
       "      <td>Comfy, bright room in Brooklyn</td>\n",
       "      <td>69050334417</td>\n",
       "      <td>unconfirmed</td>\n",
       "      <td>Megan</td>\n",
       "      <td>Brooklyn</td>\n",
       "      <td>Park Slope</td>\n",
       "      <td>40.67505</td>\n",
       "      <td>-73.98045</td>\n",
       "      <td>United States</td>\n",
       "      <td>...</td>\n",
       "      <td>$198</td>\n",
       "      <td>3.0</td>\n",
       "      <td>0.0</td>\n",
       "      <td>NaN</td>\n",
       "      <td>NaN</td>\n",
       "      <td>5.0</td>\n",
       "      <td>1.0</td>\n",
       "      <td>342.0</td>\n",
       "      <td>NaN</td>\n",
       "      <td>NaN</td>\n",
       "    </tr>\n",
       "    <tr>\n",
       "      <th>102597</th>\n",
       "      <td>6094094</td>\n",
       "      <td>Big Studio-One Stop from Midtown</td>\n",
       "      <td>11160591270</td>\n",
       "      <td>unconfirmed</td>\n",
       "      <td>Christopher</td>\n",
       "      <td>Queens</td>\n",
       "      <td>Long Island City</td>\n",
       "      <td>40.74989</td>\n",
       "      <td>-73.93777</td>\n",
       "      <td>United States</td>\n",
       "      <td>...</td>\n",
       "      <td>$109</td>\n",
       "      <td>2.0</td>\n",
       "      <td>5.0</td>\n",
       "      <td>10/11/2015</td>\n",
       "      <td>0.10</td>\n",
       "      <td>3.0</td>\n",
       "      <td>1.0</td>\n",
       "      <td>386.0</td>\n",
       "      <td>NaN</td>\n",
       "      <td>NaN</td>\n",
       "    </tr>\n",
       "    <tr>\n",
       "      <th>102598</th>\n",
       "      <td>6094647</td>\n",
       "      <td>585 sf Luxury Studio</td>\n",
       "      <td>68170633372</td>\n",
       "      <td>unconfirmed</td>\n",
       "      <td>Rebecca</td>\n",
       "      <td>Manhattan</td>\n",
       "      <td>Upper West Side</td>\n",
       "      <td>40.76807</td>\n",
       "      <td>-73.98342</td>\n",
       "      <td>United States</td>\n",
       "      <td>...</td>\n",
       "      <td>$206</td>\n",
       "      <td>1.0</td>\n",
       "      <td>0.0</td>\n",
       "      <td>NaN</td>\n",
       "      <td>NaN</td>\n",
       "      <td>3.0</td>\n",
       "      <td>1.0</td>\n",
       "      <td>69.0</td>\n",
       "      <td>NaN</td>\n",
       "      <td>NaN</td>\n",
       "    </tr>\n",
       "  </tbody>\n",
       "</table>\n",
       "<p>5 rows × 26 columns</p>\n",
       "</div>"
      ],
      "text/plain": [
       "             id                              NAME      host id  \\\n",
       "102594  6092437        Spare room in Williamsburg  12312296767   \n",
       "102595  6092990     Best Location near Columbia U  77864383453   \n",
       "102596  6093542    Comfy, bright room in Brooklyn  69050334417   \n",
       "102597  6094094  Big Studio-One Stop from Midtown  11160591270   \n",
       "102598  6094647              585 sf Luxury Studio  68170633372   \n",
       "\n",
       "       host_identity_verified    host name neighbourhood group  \\\n",
       "102594               verified         Krik            Brooklyn   \n",
       "102595            unconfirmed        Mifan           Manhattan   \n",
       "102596            unconfirmed        Megan            Brooklyn   \n",
       "102597            unconfirmed  Christopher              Queens   \n",
       "102598            unconfirmed      Rebecca           Manhattan   \n",
       "\n",
       "              neighbourhood       lat      long        country  ...  \\\n",
       "102594         Williamsburg  40.70862 -73.94651  United States  ...   \n",
       "102595  Morningside Heights  40.80460 -73.96545  United States  ...   \n",
       "102596           Park Slope  40.67505 -73.98045  United States  ...   \n",
       "102597     Long Island City  40.74989 -73.93777  United States  ...   \n",
       "102598      Upper West Side  40.76807 -73.98342  United States  ...   \n",
       "\n",
       "       service fee minimum nights number of reviews last review  \\\n",
       "102594       $169             1.0               0.0         NaN   \n",
       "102595       $167             1.0               1.0    7/6/2015   \n",
       "102596       $198             3.0               0.0         NaN   \n",
       "102597       $109             2.0               5.0  10/11/2015   \n",
       "102598       $206             1.0               0.0         NaN   \n",
       "\n",
       "        reviews per month review rate number calculated host listings count  \\\n",
       "102594                NaN                3.0                            1.0   \n",
       "102595               0.02                2.0                            2.0   \n",
       "102596                NaN                5.0                            1.0   \n",
       "102597               0.10                3.0                            1.0   \n",
       "102598                NaN                3.0                            1.0   \n",
       "\n",
       "        availability 365                                        house_rules  \\\n",
       "102594             227.0  No Smoking No Parties or Events of any kind Pl...   \n",
       "102595             395.0  House rules: Guests agree to the following ter...   \n",
       "102596             342.0                                                NaN   \n",
       "102597             386.0                                                NaN   \n",
       "102598              69.0                                                NaN   \n",
       "\n",
       "       license  \n",
       "102594     NaN  \n",
       "102595     NaN  \n",
       "102596     NaN  \n",
       "102597     NaN  \n",
       "102598     NaN  \n",
       "\n",
       "[5 rows x 26 columns]"
      ]
     },
     "execution_count": 7,
     "metadata": {},
     "output_type": "execute_result"
    }
   ],
   "source": [
    "airbnb.tail()"
   ]
  },
  {
   "cell_type": "code",
   "execution_count": 8,
   "id": "8bb62798",
   "metadata": {
    "execution": {
     "iopub.execute_input": "2022-10-06T17:02:46.658666Z",
     "iopub.status.busy": "2022-10-06T17:02:46.658286Z",
     "iopub.status.idle": "2022-10-06T17:02:46.733608Z",
     "shell.execute_reply": "2022-10-06T17:02:46.732487Z"
    },
    "papermill": {
     "duration": 0.0898,
     "end_time": "2022-10-06T17:02:46.735982",
     "exception": false,
     "start_time": "2022-10-06T17:02:46.646182",
     "status": "completed"
    },
    "tags": []
   },
   "outputs": [
    {
     "data": {
      "text/plain": [
       "license                           102597\n",
       "house_rules                        52131\n",
       "last review                        15893\n",
       "reviews per month                  15879\n",
       "country                              532\n",
       "availability 365                     448\n",
       "minimum nights                       409\n",
       "host name                            406\n",
       "review rate number                   326\n",
       "calculated host listings count       319\n",
       "host_identity_verified               289\n",
       "service fee                          273\n",
       "NAME                                 250\n",
       "price                                247\n",
       "Construction year                    214\n",
       "number of reviews                    183\n",
       "country code                         131\n",
       "instant_bookable                     105\n",
       "cancellation_policy                   76\n",
       "neighbourhood group                   29\n",
       "neighbourhood                         16\n",
       "long                                   8\n",
       "lat                                    8\n",
       "id                                     0\n",
       "host id                                0\n",
       "room type                              0\n",
       "dtype: int64"
      ]
     },
     "execution_count": 8,
     "metadata": {},
     "output_type": "execute_result"
    }
   ],
   "source": [
    "#Find the rows with null values\n",
    "airbnb.isnull().sum().sort_values(ascending=False)\n",
    "#You can see only 3 columns has no null values : id, host id and room type"
   ]
  },
  {
   "cell_type": "code",
   "execution_count": 9,
   "id": "046d4288",
   "metadata": {
    "execution": {
     "iopub.execute_input": "2022-10-06T17:02:46.759952Z",
     "iopub.status.busy": "2022-10-06T17:02:46.759199Z",
     "iopub.status.idle": "2022-10-06T17:02:46.790309Z",
     "shell.execute_reply": "2022-10-06T17:02:46.789150Z"
    },
    "papermill": {
     "duration": 0.045571,
     "end_time": "2022-10-06T17:02:46.792575",
     "exception": false,
     "start_time": "2022-10-06T17:02:46.747004",
     "status": "completed"
    },
    "tags": []
   },
   "outputs": [
    {
     "data": {
      "text/html": [
       "<div>\n",
       "<style scoped>\n",
       "    .dataframe tbody tr th:only-of-type {\n",
       "        vertical-align: middle;\n",
       "    }\n",
       "\n",
       "    .dataframe tbody tr th {\n",
       "        vertical-align: top;\n",
       "    }\n",
       "\n",
       "    .dataframe thead th {\n",
       "        text-align: right;\n",
       "    }\n",
       "</style>\n",
       "<table border=\"1\" class=\"dataframe\">\n",
       "  <thead>\n",
       "    <tr style=\"text-align: right;\">\n",
       "      <th></th>\n",
       "      <th>id</th>\n",
       "      <th>NAME</th>\n",
       "      <th>host id</th>\n",
       "      <th>host_identity_verified</th>\n",
       "      <th>host name</th>\n",
       "      <th>neighbourhood group</th>\n",
       "      <th>neighbourhood</th>\n",
       "      <th>lat</th>\n",
       "      <th>long</th>\n",
       "      <th>country</th>\n",
       "      <th>...</th>\n",
       "      <th>service fee</th>\n",
       "      <th>minimum nights</th>\n",
       "      <th>number of reviews</th>\n",
       "      <th>last review</th>\n",
       "      <th>reviews per month</th>\n",
       "      <th>review rate number</th>\n",
       "      <th>calculated host listings count</th>\n",
       "      <th>availability 365</th>\n",
       "      <th>house_rules</th>\n",
       "      <th>license</th>\n",
       "    </tr>\n",
       "  </thead>\n",
       "  <tbody>\n",
       "    <tr>\n",
       "      <th>11114</th>\n",
       "      <td>7139598</td>\n",
       "      <td>Cozy 1 BR on Bedford Avenue, Wburg</td>\n",
       "      <td>73023181304</td>\n",
       "      <td>verified</td>\n",
       "      <td>Christina</td>\n",
       "      <td>Brooklyn</td>\n",
       "      <td>Williamsburg</td>\n",
       "      <td>40.71764</td>\n",
       "      <td>-73.95689</td>\n",
       "      <td>United States</td>\n",
       "      <td>...</td>\n",
       "      <td>$140</td>\n",
       "      <td>1.0</td>\n",
       "      <td>1.0</td>\n",
       "      <td>1/3/2016</td>\n",
       "      <td>0.02</td>\n",
       "      <td>1.0</td>\n",
       "      <td>1.0</td>\n",
       "      <td>191.0</td>\n",
       "      <td>Dear Guest, Thank you for appreciating that I ...</td>\n",
       "      <td>41662/AL</td>\n",
       "    </tr>\n",
       "    <tr>\n",
       "      <th>72947</th>\n",
       "      <td>41289964</td>\n",
       "      <td>Cozy 1 BR on Bedford Avenue, Wburg</td>\n",
       "      <td>25804773951</td>\n",
       "      <td>unconfirmed</td>\n",
       "      <td>Christina</td>\n",
       "      <td>Brooklyn</td>\n",
       "      <td>Williamsburg</td>\n",
       "      <td>40.71764</td>\n",
       "      <td>-73.95689</td>\n",
       "      <td>United States</td>\n",
       "      <td>...</td>\n",
       "      <td>$140</td>\n",
       "      <td>1.0</td>\n",
       "      <td>1.0</td>\n",
       "      <td>1/3/2016</td>\n",
       "      <td>0.02</td>\n",
       "      <td>1.0</td>\n",
       "      <td>1.0</td>\n",
       "      <td>0.0</td>\n",
       "      <td>NaN</td>\n",
       "      <td>41662/AL</td>\n",
       "    </tr>\n",
       "  </tbody>\n",
       "</table>\n",
       "<p>2 rows × 26 columns</p>\n",
       "</div>"
      ],
      "text/plain": [
       "             id                                NAME      host id  \\\n",
       "11114   7139598  Cozy 1 BR on Bedford Avenue, Wburg  73023181304   \n",
       "72947  41289964  Cozy 1 BR on Bedford Avenue, Wburg  25804773951   \n",
       "\n",
       "      host_identity_verified  host name neighbourhood group neighbourhood  \\\n",
       "11114               verified  Christina            Brooklyn  Williamsburg   \n",
       "72947            unconfirmed  Christina            Brooklyn  Williamsburg   \n",
       "\n",
       "            lat      long        country  ... service fee minimum nights  \\\n",
       "11114  40.71764 -73.95689  United States  ...       $140             1.0   \n",
       "72947  40.71764 -73.95689  United States  ...       $140             1.0   \n",
       "\n",
       "      number of reviews last review  reviews per month review rate number  \\\n",
       "11114               1.0    1/3/2016               0.02                1.0   \n",
       "72947               1.0    1/3/2016               0.02                1.0   \n",
       "\n",
       "      calculated host listings count  availability 365  \\\n",
       "11114                            1.0             191.0   \n",
       "72947                            1.0               0.0   \n",
       "\n",
       "                                             house_rules   license  \n",
       "11114  Dear Guest, Thank you for appreciating that I ...  41662/AL  \n",
       "72947                                                NaN  41662/AL  \n",
       "\n",
       "[2 rows x 26 columns]"
      ]
     },
     "execution_count": 9,
     "metadata": {},
     "output_type": "execute_result"
    }
   ],
   "source": [
    "#You can also see license has only 2 rows with values with the above output. Please check the 2 non-null rows\n",
    "airbnb[~airbnb.license.isnull()]\n",
    "#You can see two rows with almost same data"
   ]
  },
  {
   "cell_type": "code",
   "execution_count": 10,
   "id": "6b30c902",
   "metadata": {
    "execution": {
     "iopub.execute_input": "2022-10-06T17:02:46.817769Z",
     "iopub.status.busy": "2022-10-06T17:02:46.816870Z",
     "iopub.status.idle": "2022-10-06T17:02:46.936962Z",
     "shell.execute_reply": "2022-10-06T17:02:46.935877Z"
    },
    "papermill": {
     "duration": 0.135527,
     "end_time": "2022-10-06T17:02:46.939390",
     "exception": false,
     "start_time": "2022-10-06T17:02:46.803863",
     "status": "completed"
    },
    "tags": []
   },
   "outputs": [
    {
     "data": {
      "text/plain": [
       "id                                102058\n",
       "host id                           102057\n",
       "NAME                               61281\n",
       "lat                                21991\n",
       "long                               17774\n",
       "host name                          13190\n",
       "last review                         2477\n",
       "house_rules                         1976\n",
       "price                               1151\n",
       "reviews per month                   1016\n",
       "number of reviews                    476\n",
       "availability 365                     438\n",
       "service fee                          231\n",
       "neighbourhood                        224\n",
       "minimum nights                       153\n",
       "calculated host listings count        78\n",
       "Construction year                     20\n",
       "neighbourhood group                    7\n",
       "review rate number                     5\n",
       "room type                              4\n",
       "cancellation_policy                    3\n",
       "instant_bookable                       2\n",
       "host_identity_verified                 2\n",
       "country code                           1\n",
       "country                                1\n",
       "license                                1\n",
       "dtype: int64"
      ]
     },
     "execution_count": 10,
     "metadata": {},
     "output_type": "execute_result"
    }
   ],
   "source": [
    "#Find the number of unique values\n",
    "airbnb.nunique().sort_values(ascending=False)"
   ]
  },
  {
   "cell_type": "code",
   "execution_count": 11,
   "id": "dd0f1ade",
   "metadata": {
    "execution": {
     "iopub.execute_input": "2022-10-06T17:02:46.963471Z",
     "iopub.status.busy": "2022-10-06T17:02:46.963041Z",
     "iopub.status.idle": "2022-10-06T17:02:47.179324Z",
     "shell.execute_reply": "2022-10-06T17:02:47.178141Z"
    },
    "papermill": {
     "duration": 0.230895,
     "end_time": "2022-10-06T17:02:47.181526",
     "exception": false,
     "start_time": "2022-10-06T17:02:46.950631",
     "status": "completed"
    },
    "tags": []
   },
   "outputs": [
    {
     "data": {
      "text/html": [
       "<div>\n",
       "<style scoped>\n",
       "    .dataframe tbody tr th:only-of-type {\n",
       "        vertical-align: middle;\n",
       "    }\n",
       "\n",
       "    .dataframe tbody tr th {\n",
       "        vertical-align: top;\n",
       "    }\n",
       "\n",
       "    .dataframe thead th {\n",
       "        text-align: right;\n",
       "    }\n",
       "</style>\n",
       "<table border=\"1\" class=\"dataframe\">\n",
       "  <thead>\n",
       "    <tr style=\"text-align: right;\">\n",
       "      <th></th>\n",
       "      <th>id</th>\n",
       "      <th>NAME</th>\n",
       "      <th>host id</th>\n",
       "      <th>host_identity_verified</th>\n",
       "      <th>host name</th>\n",
       "      <th>neighbourhood group</th>\n",
       "      <th>neighbourhood</th>\n",
       "      <th>lat</th>\n",
       "      <th>long</th>\n",
       "      <th>country</th>\n",
       "      <th>...</th>\n",
       "      <th>service fee</th>\n",
       "      <th>minimum nights</th>\n",
       "      <th>number of reviews</th>\n",
       "      <th>last review</th>\n",
       "      <th>reviews per month</th>\n",
       "      <th>review rate number</th>\n",
       "      <th>calculated host listings count</th>\n",
       "      <th>availability 365</th>\n",
       "      <th>house_rules</th>\n",
       "      <th>license</th>\n",
       "    </tr>\n",
       "  </thead>\n",
       "  <tbody>\n",
       "    <tr>\n",
       "      <th>102058</th>\n",
       "      <td>35506831</td>\n",
       "      <td>Master Bedroom with private Bathroom &amp; Balcony</td>\n",
       "      <td>55110690425</td>\n",
       "      <td>unconfirmed</td>\n",
       "      <td>UZeyir</td>\n",
       "      <td>Queens</td>\n",
       "      <td>Maspeth</td>\n",
       "      <td>40.74056</td>\n",
       "      <td>-73.90635</td>\n",
       "      <td>United States</td>\n",
       "      <td>...</td>\n",
       "      <td>$141</td>\n",
       "      <td>1.0</td>\n",
       "      <td>1.0</td>\n",
       "      <td>11/14/2021</td>\n",
       "      <td>0.27</td>\n",
       "      <td>3.0</td>\n",
       "      <td>1.0</td>\n",
       "      <td>339.0</td>\n",
       "      <td>NaN</td>\n",
       "      <td>NaN</td>\n",
       "    </tr>\n",
       "    <tr>\n",
       "      <th>102059</th>\n",
       "      <td>35507383</td>\n",
       "      <td>Cozy 2 br in sunny Fort Greene apt</td>\n",
       "      <td>80193772189</td>\n",
       "      <td>verified</td>\n",
       "      <td>Sally</td>\n",
       "      <td>Brooklyn</td>\n",
       "      <td>Fort Greene</td>\n",
       "      <td>40.68701</td>\n",
       "      <td>-73.97555</td>\n",
       "      <td>United States</td>\n",
       "      <td>...</td>\n",
       "      <td>$130</td>\n",
       "      <td>3.0</td>\n",
       "      <td>38.0</td>\n",
       "      <td>11/13/2021</td>\n",
       "      <td>0.27</td>\n",
       "      <td>3.0</td>\n",
       "      <td>1.0</td>\n",
       "      <td>0.0</td>\n",
       "      <td>NaN</td>\n",
       "      <td>NaN</td>\n",
       "    </tr>\n",
       "    <tr>\n",
       "      <th>102060</th>\n",
       "      <td>35507935</td>\n",
       "      <td>Duplex w/ Terrace @ Box House Hotel</td>\n",
       "      <td>72991962259</td>\n",
       "      <td>verified</td>\n",
       "      <td>The Box House Hotel</td>\n",
       "      <td>Brooklyn</td>\n",
       "      <td>Greenpoint</td>\n",
       "      <td>40.73756</td>\n",
       "      <td>-73.95350</td>\n",
       "      <td>United States</td>\n",
       "      <td>...</td>\n",
       "      <td>$181</td>\n",
       "      <td>3.0</td>\n",
       "      <td>10.0</td>\n",
       "      <td>11/13/2021</td>\n",
       "      <td>0.08</td>\n",
       "      <td>3.0</td>\n",
       "      <td>30.0</td>\n",
       "      <td>32.0</td>\n",
       "      <td>NaN</td>\n",
       "      <td>NaN</td>\n",
       "    </tr>\n",
       "    <tr>\n",
       "      <th>102061</th>\n",
       "      <td>35508488</td>\n",
       "      <td>Cozy, clean Greenpoint room with yard access</td>\n",
       "      <td>74975156081</td>\n",
       "      <td>verified</td>\n",
       "      <td>Dawn</td>\n",
       "      <td>Brooklyn</td>\n",
       "      <td>Greenpoint</td>\n",
       "      <td>40.72516</td>\n",
       "      <td>-73.95004</td>\n",
       "      <td>United States</td>\n",
       "      <td>...</td>\n",
       "      <td>$118</td>\n",
       "      <td>30.0</td>\n",
       "      <td>38.0</td>\n",
       "      <td>11/13/2021</td>\n",
       "      <td>0.34</td>\n",
       "      <td>5.0</td>\n",
       "      <td>2.0</td>\n",
       "      <td>324.0</td>\n",
       "      <td>NaN</td>\n",
       "      <td>NaN</td>\n",
       "    </tr>\n",
       "    <tr>\n",
       "      <th>102062</th>\n",
       "      <td>35509040</td>\n",
       "      <td>2BR XL Loft: Cleaning CDC guidelines implemented</td>\n",
       "      <td>85844415221</td>\n",
       "      <td>unconfirmed</td>\n",
       "      <td>Vida</td>\n",
       "      <td>Brooklyn</td>\n",
       "      <td>Greenpoint</td>\n",
       "      <td>40.72732</td>\n",
       "      <td>-73.94185</td>\n",
       "      <td>United States</td>\n",
       "      <td>...</td>\n",
       "      <td>$71</td>\n",
       "      <td>30.0</td>\n",
       "      <td>13.0</td>\n",
       "      <td>11/13/2021</td>\n",
       "      <td>0.14</td>\n",
       "      <td>4.0</td>\n",
       "      <td>28.0</td>\n",
       "      <td>336.0</td>\n",
       "      <td>NaN</td>\n",
       "      <td>NaN</td>\n",
       "    </tr>\n",
       "    <tr>\n",
       "      <th>...</th>\n",
       "      <td>...</td>\n",
       "      <td>...</td>\n",
       "      <td>...</td>\n",
       "      <td>...</td>\n",
       "      <td>...</td>\n",
       "      <td>...</td>\n",
       "      <td>...</td>\n",
       "      <td>...</td>\n",
       "      <td>...</td>\n",
       "      <td>...</td>\n",
       "      <td>...</td>\n",
       "      <td>...</td>\n",
       "      <td>...</td>\n",
       "      <td>...</td>\n",
       "      <td>...</td>\n",
       "      <td>...</td>\n",
       "      <td>...</td>\n",
       "      <td>...</td>\n",
       "      <td>...</td>\n",
       "      <td>...</td>\n",
       "      <td>...</td>\n",
       "    </tr>\n",
       "    <tr>\n",
       "      <th>102594</th>\n",
       "      <td>6092437</td>\n",
       "      <td>Spare room in Williamsburg</td>\n",
       "      <td>12312296767</td>\n",
       "      <td>verified</td>\n",
       "      <td>Krik</td>\n",
       "      <td>Brooklyn</td>\n",
       "      <td>Williamsburg</td>\n",
       "      <td>40.70862</td>\n",
       "      <td>-73.94651</td>\n",
       "      <td>United States</td>\n",
       "      <td>...</td>\n",
       "      <td>$169</td>\n",
       "      <td>1.0</td>\n",
       "      <td>0.0</td>\n",
       "      <td>NaN</td>\n",
       "      <td>NaN</td>\n",
       "      <td>3.0</td>\n",
       "      <td>1.0</td>\n",
       "      <td>227.0</td>\n",
       "      <td>No Smoking No Parties or Events of any kind Pl...</td>\n",
       "      <td>NaN</td>\n",
       "    </tr>\n",
       "    <tr>\n",
       "      <th>102595</th>\n",
       "      <td>6092990</td>\n",
       "      <td>Best Location near Columbia U</td>\n",
       "      <td>77864383453</td>\n",
       "      <td>unconfirmed</td>\n",
       "      <td>Mifan</td>\n",
       "      <td>Manhattan</td>\n",
       "      <td>Morningside Heights</td>\n",
       "      <td>40.80460</td>\n",
       "      <td>-73.96545</td>\n",
       "      <td>United States</td>\n",
       "      <td>...</td>\n",
       "      <td>$167</td>\n",
       "      <td>1.0</td>\n",
       "      <td>1.0</td>\n",
       "      <td>7/6/2015</td>\n",
       "      <td>0.02</td>\n",
       "      <td>2.0</td>\n",
       "      <td>2.0</td>\n",
       "      <td>395.0</td>\n",
       "      <td>House rules: Guests agree to the following ter...</td>\n",
       "      <td>NaN</td>\n",
       "    </tr>\n",
       "    <tr>\n",
       "      <th>102596</th>\n",
       "      <td>6093542</td>\n",
       "      <td>Comfy, bright room in Brooklyn</td>\n",
       "      <td>69050334417</td>\n",
       "      <td>unconfirmed</td>\n",
       "      <td>Megan</td>\n",
       "      <td>Brooklyn</td>\n",
       "      <td>Park Slope</td>\n",
       "      <td>40.67505</td>\n",
       "      <td>-73.98045</td>\n",
       "      <td>United States</td>\n",
       "      <td>...</td>\n",
       "      <td>$198</td>\n",
       "      <td>3.0</td>\n",
       "      <td>0.0</td>\n",
       "      <td>NaN</td>\n",
       "      <td>NaN</td>\n",
       "      <td>5.0</td>\n",
       "      <td>1.0</td>\n",
       "      <td>342.0</td>\n",
       "      <td>NaN</td>\n",
       "      <td>NaN</td>\n",
       "    </tr>\n",
       "    <tr>\n",
       "      <th>102597</th>\n",
       "      <td>6094094</td>\n",
       "      <td>Big Studio-One Stop from Midtown</td>\n",
       "      <td>11160591270</td>\n",
       "      <td>unconfirmed</td>\n",
       "      <td>Christopher</td>\n",
       "      <td>Queens</td>\n",
       "      <td>Long Island City</td>\n",
       "      <td>40.74989</td>\n",
       "      <td>-73.93777</td>\n",
       "      <td>United States</td>\n",
       "      <td>...</td>\n",
       "      <td>$109</td>\n",
       "      <td>2.0</td>\n",
       "      <td>5.0</td>\n",
       "      <td>10/11/2015</td>\n",
       "      <td>0.10</td>\n",
       "      <td>3.0</td>\n",
       "      <td>1.0</td>\n",
       "      <td>386.0</td>\n",
       "      <td>NaN</td>\n",
       "      <td>NaN</td>\n",
       "    </tr>\n",
       "    <tr>\n",
       "      <th>102598</th>\n",
       "      <td>6094647</td>\n",
       "      <td>585 sf Luxury Studio</td>\n",
       "      <td>68170633372</td>\n",
       "      <td>unconfirmed</td>\n",
       "      <td>Rebecca</td>\n",
       "      <td>Manhattan</td>\n",
       "      <td>Upper West Side</td>\n",
       "      <td>40.76807</td>\n",
       "      <td>-73.98342</td>\n",
       "      <td>United States</td>\n",
       "      <td>...</td>\n",
       "      <td>$206</td>\n",
       "      <td>1.0</td>\n",
       "      <td>0.0</td>\n",
       "      <td>NaN</td>\n",
       "      <td>NaN</td>\n",
       "      <td>3.0</td>\n",
       "      <td>1.0</td>\n",
       "      <td>69.0</td>\n",
       "      <td>NaN</td>\n",
       "      <td>NaN</td>\n",
       "    </tr>\n",
       "  </tbody>\n",
       "</table>\n",
       "<p>541 rows × 26 columns</p>\n",
       "</div>"
      ],
      "text/plain": [
       "              id                                              NAME  \\\n",
       "102058  35506831    Master Bedroom with private Bathroom & Balcony   \n",
       "102059  35507383                Cozy 2 br in sunny Fort Greene apt   \n",
       "102060  35507935               Duplex w/ Terrace @ Box House Hotel   \n",
       "102061  35508488      Cozy, clean Greenpoint room with yard access   \n",
       "102062  35509040  2BR XL Loft: Cleaning CDC guidelines implemented   \n",
       "...          ...                                               ...   \n",
       "102594   6092437                        Spare room in Williamsburg   \n",
       "102595   6092990                     Best Location near Columbia U   \n",
       "102596   6093542                    Comfy, bright room in Brooklyn   \n",
       "102597   6094094                  Big Studio-One Stop from Midtown   \n",
       "102598   6094647                              585 sf Luxury Studio   \n",
       "\n",
       "            host id host_identity_verified            host name  \\\n",
       "102058  55110690425            unconfirmed               UZeyir   \n",
       "102059  80193772189               verified                Sally   \n",
       "102060  72991962259               verified  The Box House Hotel   \n",
       "102061  74975156081               verified                 Dawn   \n",
       "102062  85844415221            unconfirmed                 Vida   \n",
       "...             ...                    ...                  ...   \n",
       "102594  12312296767               verified                 Krik   \n",
       "102595  77864383453            unconfirmed                Mifan   \n",
       "102596  69050334417            unconfirmed                Megan   \n",
       "102597  11160591270            unconfirmed          Christopher   \n",
       "102598  68170633372            unconfirmed              Rebecca   \n",
       "\n",
       "       neighbourhood group        neighbourhood       lat      long  \\\n",
       "102058              Queens              Maspeth  40.74056 -73.90635   \n",
       "102059            Brooklyn          Fort Greene  40.68701 -73.97555   \n",
       "102060            Brooklyn           Greenpoint  40.73756 -73.95350   \n",
       "102061            Brooklyn           Greenpoint  40.72516 -73.95004   \n",
       "102062            Brooklyn           Greenpoint  40.72732 -73.94185   \n",
       "...                    ...                  ...       ...       ...   \n",
       "102594            Brooklyn         Williamsburg  40.70862 -73.94651   \n",
       "102595           Manhattan  Morningside Heights  40.80460 -73.96545   \n",
       "102596            Brooklyn           Park Slope  40.67505 -73.98045   \n",
       "102597              Queens     Long Island City  40.74989 -73.93777   \n",
       "102598           Manhattan      Upper West Side  40.76807 -73.98342   \n",
       "\n",
       "              country  ... service fee minimum nights number of reviews  \\\n",
       "102058  United States  ...       $141             1.0               1.0   \n",
       "102059  United States  ...       $130             3.0              38.0   \n",
       "102060  United States  ...       $181             3.0              10.0   \n",
       "102061  United States  ...       $118            30.0              38.0   \n",
       "102062  United States  ...        $71            30.0              13.0   \n",
       "...               ...  ...         ...            ...               ...   \n",
       "102594  United States  ...       $169             1.0               0.0   \n",
       "102595  United States  ...       $167             1.0               1.0   \n",
       "102596  United States  ...       $198             3.0               0.0   \n",
       "102597  United States  ...       $109             2.0               5.0   \n",
       "102598  United States  ...       $206             1.0               0.0   \n",
       "\n",
       "       last review  reviews per month review rate number  \\\n",
       "102058  11/14/2021               0.27                3.0   \n",
       "102059  11/13/2021               0.27                3.0   \n",
       "102060  11/13/2021               0.08                3.0   \n",
       "102061  11/13/2021               0.34                5.0   \n",
       "102062  11/13/2021               0.14                4.0   \n",
       "...            ...                ...                ...   \n",
       "102594         NaN                NaN                3.0   \n",
       "102595    7/6/2015               0.02                2.0   \n",
       "102596         NaN                NaN                5.0   \n",
       "102597  10/11/2015               0.10                3.0   \n",
       "102598         NaN                NaN                3.0   \n",
       "\n",
       "       calculated host listings count  availability 365  \\\n",
       "102058                            1.0             339.0   \n",
       "102059                            1.0               0.0   \n",
       "102060                           30.0              32.0   \n",
       "102061                            2.0             324.0   \n",
       "102062                           28.0             336.0   \n",
       "...                               ...               ...   \n",
       "102594                            1.0             227.0   \n",
       "102595                            2.0             395.0   \n",
       "102596                            1.0             342.0   \n",
       "102597                            1.0             386.0   \n",
       "102598                            1.0              69.0   \n",
       "\n",
       "                                              house_rules license  \n",
       "102058                                                NaN     NaN  \n",
       "102059                                                NaN     NaN  \n",
       "102060                                                NaN     NaN  \n",
       "102061                                                NaN     NaN  \n",
       "102062                                                NaN     NaN  \n",
       "...                                                   ...     ...  \n",
       "102594  No Smoking No Parties or Events of any kind Pl...     NaN  \n",
       "102595  House rules: Guests agree to the following ter...     NaN  \n",
       "102596                                                NaN     NaN  \n",
       "102597                                                NaN     NaN  \n",
       "102598                                                NaN     NaN  \n",
       "\n",
       "[541 rows x 26 columns]"
      ]
     },
     "execution_count": 11,
     "metadata": {},
     "output_type": "execute_result"
    }
   ],
   "source": [
    "#From above output, you can see id is also duplicated. check them once\n",
    "airbnb[airbnb.duplicated()]"
   ]
  },
  {
   "cell_type": "markdown",
   "id": "b7b26f78",
   "metadata": {
    "papermill": {
     "duration": 0.01161,
     "end_time": "2022-10-06T17:02:47.205194",
     "exception": false,
     "start_time": "2022-10-06T17:02:47.193584",
     "status": "completed"
    },
    "tags": []
   },
   "source": [
    "# 4. **Data Cleaning**"
   ]
  },
  {
   "cell_type": "code",
   "execution_count": 12,
   "id": "844b470e",
   "metadata": {
    "execution": {
     "iopub.execute_input": "2022-10-06T17:02:47.231667Z",
     "iopub.status.busy": "2022-10-06T17:02:47.231244Z",
     "iopub.status.idle": "2022-10-06T17:02:47.439646Z",
     "shell.execute_reply": "2022-10-06T17:02:47.438652Z"
    },
    "papermill": {
     "duration": 0.224435,
     "end_time": "2022-10-06T17:02:47.442056",
     "exception": false,
     "start_time": "2022-10-06T17:02:47.217621",
     "status": "completed"
    },
    "tags": []
   },
   "outputs": [],
   "source": [
    "#Lets start by deleting the duplicated rows listed above\n",
    "airbnb.drop_duplicates(keep='first', inplace=True)"
   ]
  },
  {
   "cell_type": "code",
   "execution_count": 13,
   "id": "18cf8bb6",
   "metadata": {
    "execution": {
     "iopub.execute_input": "2022-10-06T17:02:47.467817Z",
     "iopub.status.busy": "2022-10-06T17:02:47.467434Z",
     "iopub.status.idle": "2022-10-06T17:02:47.497426Z",
     "shell.execute_reply": "2022-10-06T17:02:47.496404Z"
    },
    "papermill": {
     "duration": 0.046054,
     "end_time": "2022-10-06T17:02:47.500317",
     "exception": false,
     "start_time": "2022-10-06T17:02:47.454263",
     "status": "completed"
    },
    "tags": []
   },
   "outputs": [
    {
     "data": {
      "text/html": [
       "<div>\n",
       "<style scoped>\n",
       "    .dataframe tbody tr th:only-of-type {\n",
       "        vertical-align: middle;\n",
       "    }\n",
       "\n",
       "    .dataframe tbody tr th {\n",
       "        vertical-align: top;\n",
       "    }\n",
       "\n",
       "    .dataframe thead th {\n",
       "        text-align: right;\n",
       "    }\n",
       "</style>\n",
       "<table border=\"1\" class=\"dataframe\">\n",
       "  <thead>\n",
       "    <tr style=\"text-align: right;\">\n",
       "      <th></th>\n",
       "      <th>id</th>\n",
       "      <th>NAME</th>\n",
       "      <th>host id</th>\n",
       "      <th>host_identity_verified</th>\n",
       "      <th>host name</th>\n",
       "      <th>neighbourhood group</th>\n",
       "      <th>neighbourhood</th>\n",
       "      <th>lat</th>\n",
       "      <th>long</th>\n",
       "      <th>country</th>\n",
       "      <th>...</th>\n",
       "      <th>service fee</th>\n",
       "      <th>minimum nights</th>\n",
       "      <th>number of reviews</th>\n",
       "      <th>last review</th>\n",
       "      <th>reviews per month</th>\n",
       "      <th>review rate number</th>\n",
       "      <th>calculated host listings count</th>\n",
       "      <th>availability 365</th>\n",
       "      <th>house_rules</th>\n",
       "      <th>license</th>\n",
       "    </tr>\n",
       "  </thead>\n",
       "  <tbody>\n",
       "    <tr>\n",
       "      <th>11114</th>\n",
       "      <td>7139598</td>\n",
       "      <td>Cozy 1 BR on Bedford Avenue, Wburg</td>\n",
       "      <td>73023181304</td>\n",
       "      <td>verified</td>\n",
       "      <td>Christina</td>\n",
       "      <td>Brooklyn</td>\n",
       "      <td>Williamsburg</td>\n",
       "      <td>40.71764</td>\n",
       "      <td>-73.95689</td>\n",
       "      <td>United States</td>\n",
       "      <td>...</td>\n",
       "      <td>$140</td>\n",
       "      <td>1.0</td>\n",
       "      <td>1.0</td>\n",
       "      <td>1/3/2016</td>\n",
       "      <td>0.02</td>\n",
       "      <td>1.0</td>\n",
       "      <td>1.0</td>\n",
       "      <td>191.0</td>\n",
       "      <td>Dear Guest, Thank you for appreciating that I ...</td>\n",
       "      <td>41662/AL</td>\n",
       "    </tr>\n",
       "    <tr>\n",
       "      <th>72947</th>\n",
       "      <td>41289964</td>\n",
       "      <td>Cozy 1 BR on Bedford Avenue, Wburg</td>\n",
       "      <td>25804773951</td>\n",
       "      <td>unconfirmed</td>\n",
       "      <td>Christina</td>\n",
       "      <td>Brooklyn</td>\n",
       "      <td>Williamsburg</td>\n",
       "      <td>40.71764</td>\n",
       "      <td>-73.95689</td>\n",
       "      <td>United States</td>\n",
       "      <td>...</td>\n",
       "      <td>$140</td>\n",
       "      <td>1.0</td>\n",
       "      <td>1.0</td>\n",
       "      <td>1/3/2016</td>\n",
       "      <td>0.02</td>\n",
       "      <td>1.0</td>\n",
       "      <td>1.0</td>\n",
       "      <td>0.0</td>\n",
       "      <td>NaN</td>\n",
       "      <td>41662/AL</td>\n",
       "    </tr>\n",
       "  </tbody>\n",
       "</table>\n",
       "<p>2 rows × 26 columns</p>\n",
       "</div>"
      ],
      "text/plain": [
       "             id                                NAME      host id  \\\n",
       "11114   7139598  Cozy 1 BR on Bedford Avenue, Wburg  73023181304   \n",
       "72947  41289964  Cozy 1 BR on Bedford Avenue, Wburg  25804773951   \n",
       "\n",
       "      host_identity_verified  host name neighbourhood group neighbourhood  \\\n",
       "11114               verified  Christina            Brooklyn  Williamsburg   \n",
       "72947            unconfirmed  Christina            Brooklyn  Williamsburg   \n",
       "\n",
       "            lat      long        country  ... service fee minimum nights  \\\n",
       "11114  40.71764 -73.95689  United States  ...       $140             1.0   \n",
       "72947  40.71764 -73.95689  United States  ...       $140             1.0   \n",
       "\n",
       "      number of reviews last review  reviews per month review rate number  \\\n",
       "11114               1.0    1/3/2016               0.02                1.0   \n",
       "72947               1.0    1/3/2016               0.02                1.0   \n",
       "\n",
       "      calculated host listings count  availability 365  \\\n",
       "11114                            1.0             191.0   \n",
       "72947                            1.0               0.0   \n",
       "\n",
       "                                             house_rules   license  \n",
       "11114  Dear Guest, Thank you for appreciating that I ...  41662/AL  \n",
       "72947                                                NaN  41662/AL  \n",
       "\n",
       "[2 rows x 26 columns]"
      ]
     },
     "execution_count": 13,
     "metadata": {},
     "output_type": "execute_result"
    }
   ],
   "source": [
    "#Lets delete the duplicate row on license which we checked earlier\n",
    "airbnb[~airbnb.license.isnull()]"
   ]
  },
  {
   "cell_type": "code",
   "execution_count": 14,
   "id": "45da9b2e",
   "metadata": {
    "execution": {
     "iopub.execute_input": "2022-10-06T17:02:47.526848Z",
     "iopub.status.busy": "2022-10-06T17:02:47.526480Z",
     "iopub.status.idle": "2022-10-06T17:02:47.571993Z",
     "shell.execute_reply": "2022-10-06T17:02:47.570976Z"
    },
    "papermill": {
     "duration": 0.061991,
     "end_time": "2022-10-06T17:02:47.574571",
     "exception": false,
     "start_time": "2022-10-06T17:02:47.512580",
     "status": "completed"
    },
    "tags": []
   },
   "outputs": [],
   "source": [
    "#Lets the keep the above row row with more apt data and delete the second one\n",
    "airbnb.drop(airbnb.index[72947],inplace=True)"
   ]
  },
  {
   "cell_type": "code",
   "execution_count": 15,
   "id": "5b70a1f7",
   "metadata": {
    "execution": {
     "iopub.execute_input": "2022-10-06T17:02:47.601400Z",
     "iopub.status.busy": "2022-10-06T17:02:47.600976Z",
     "iopub.status.idle": "2022-10-06T17:02:47.711092Z",
     "shell.execute_reply": "2022-10-06T17:02:47.710049Z"
    },
    "papermill": {
     "duration": 0.126488,
     "end_time": "2022-10-06T17:02:47.713415",
     "exception": false,
     "start_time": "2022-10-06T17:02:47.586927",
     "status": "completed"
    },
    "tags": []
   },
   "outputs": [
    {
     "data": {
      "text/plain": [
       "(102057, 26)"
      ]
     },
     "execution_count": 15,
     "metadata": {},
     "output_type": "execute_result"
    },
    {
     "data": {
      "text/plain": [
       "id                                102057\n",
       "NAME                               61281\n",
       "host id                           102056\n",
       "host_identity_verified                 2\n",
       "host name                          13190\n",
       "neighbourhood group                    7\n",
       "neighbourhood                        224\n",
       "lat                                21991\n",
       "long                               17774\n",
       "country                                1\n",
       "country code                           1\n",
       "instant_bookable                       2\n",
       "cancellation_policy                    3\n",
       "room type                              4\n",
       "Construction year                     20\n",
       "price                               1151\n",
       "service fee                          231\n",
       "minimum nights                       153\n",
       "number of reviews                    476\n",
       "last review                         2477\n",
       "reviews per month                   1016\n",
       "review rate number                     5\n",
       "calculated host listings count        78\n",
       "availability 365                     438\n",
       "house_rules                         1976\n",
       "license                                1\n",
       "dtype: int64"
      ]
     },
     "execution_count": 15,
     "metadata": {},
     "output_type": "execute_result"
    }
   ],
   "source": [
    "#Now check the shape of data\n",
    "airbnb.shape\n",
    "airbnb.nunique()\n",
    "#Now the unique values look good"
   ]
  },
  {
   "cell_type": "code",
   "execution_count": 16,
   "id": "dee0c670",
   "metadata": {
    "execution": {
     "iopub.execute_input": "2022-10-06T17:02:47.740572Z",
     "iopub.status.busy": "2022-10-06T17:02:47.740150Z",
     "iopub.status.idle": "2022-10-06T17:02:47.753316Z",
     "shell.execute_reply": "2022-10-06T17:02:47.752170Z"
    },
    "papermill": {
     "duration": 0.029417,
     "end_time": "2022-10-06T17:02:47.755574",
     "exception": false,
     "start_time": "2022-10-06T17:02:47.726157",
     "status": "completed"
    },
    "tags": []
   },
   "outputs": [
    {
     "data": {
      "text/plain": [
       "Manhattan        43557\n",
       "Brooklyn         41629\n",
       "Queens           13197\n",
       "Bronx             2694\n",
       "Staten Island      949\n",
       "brookln              1\n",
       "manhatan             1\n",
       "Name: neighbourhood group, dtype: int64"
      ]
     },
     "execution_count": 16,
     "metadata": {},
     "output_type": "execute_result"
    }
   ],
   "source": [
    "#lets find the type of data in few columns\n",
    "airbnb['neighbourhood group'].value_counts()"
   ]
  },
  {
   "cell_type": "code",
   "execution_count": 17,
   "id": "8474d8b7",
   "metadata": {
    "execution": {
     "iopub.execute_input": "2022-10-06T17:02:47.782657Z",
     "iopub.status.busy": "2022-10-06T17:02:47.782250Z",
     "iopub.status.idle": "2022-10-06T17:02:47.804857Z",
     "shell.execute_reply": "2022-10-06T17:02:47.803947Z"
    },
    "papermill": {
     "duration": 0.039127,
     "end_time": "2022-10-06T17:02:47.807383",
     "exception": false,
     "start_time": "2022-10-06T17:02:47.768256",
     "status": "completed"
    },
    "tags": []
   },
   "outputs": [],
   "source": [
    "#you can see there is discrepencies with teh values just with spelling/case. Lets replace them\n",
    "airbnb['neighbourhood group'].replace(['manhatan','brookln'],['Manhattan','Brooklyn'],inplace=True)"
   ]
  },
  {
   "cell_type": "code",
   "execution_count": 18,
   "id": "5ed2330f",
   "metadata": {
    "execution": {
     "iopub.execute_input": "2022-10-06T17:02:47.834565Z",
     "iopub.status.busy": "2022-10-06T17:02:47.834135Z",
     "iopub.status.idle": "2022-10-06T17:02:47.846725Z",
     "shell.execute_reply": "2022-10-06T17:02:47.845617Z"
    },
    "papermill": {
     "duration": 0.029136,
     "end_time": "2022-10-06T17:02:47.849128",
     "exception": false,
     "start_time": "2022-10-06T17:02:47.819992",
     "status": "completed"
    },
    "tags": []
   },
   "outputs": [
    {
     "data": {
      "text/plain": [
       "Manhattan        43558\n",
       "Brooklyn         41630\n",
       "Queens           13197\n",
       "Bronx             2694\n",
       "Staten Island      949\n",
       "Name: neighbourhood group, dtype: int64"
      ]
     },
     "execution_count": 18,
     "metadata": {},
     "output_type": "execute_result"
    }
   ],
   "source": [
    "#Now check again the values of neighbour group\n",
    "airbnb['neighbourhood group'].value_counts()"
   ]
  },
  {
   "cell_type": "code",
   "execution_count": 19,
   "id": "b81cffc9",
   "metadata": {
    "execution": {
     "iopub.execute_input": "2022-10-06T17:02:47.876497Z",
     "iopub.status.busy": "2022-10-06T17:02:47.876070Z",
     "iopub.status.idle": "2022-10-06T17:02:47.922884Z",
     "shell.execute_reply": "2022-10-06T17:02:47.921792Z"
    },
    "papermill": {
     "duration": 0.063214,
     "end_time": "2022-10-06T17:02:47.925128",
     "exception": false,
     "start_time": "2022-10-06T17:02:47.861914",
     "status": "completed"
    },
    "tags": []
   },
   "outputs": [
    {
     "data": {
      "text/plain": [
       "unconfirmed    50943\n",
       "verified       50825\n",
       "Name: host_identity_verified, dtype: int64"
      ]
     },
     "execution_count": 19,
     "metadata": {},
     "output_type": "execute_result"
    },
    {
     "data": {
      "text/plain": [
       "False    51186\n",
       "True     50766\n",
       "Name: instant_bookable, dtype: int64"
      ]
     },
     "execution_count": 19,
     "metadata": {},
     "output_type": "execute_result"
    },
    {
     "data": {
      "text/plain": [
       "Entire home/apt    53429\n",
       "Private room       46305\n",
       "Shared room         2208\n",
       "Hotel room           115\n",
       "Name: room type, dtype: int64"
      ]
     },
     "execution_count": 19,
     "metadata": {},
     "output_type": "execute_result"
    },
    {
     "data": {
      "text/plain": [
       "moderate    34162\n",
       "strict      33929\n",
       "flexible    33890\n",
       "Name: cancellation_policy, dtype: int64"
      ]
     },
     "execution_count": 19,
     "metadata": {},
     "output_type": "execute_result"
    },
    {
     "data": {
      "text/plain": [
       "5.0    23251\n",
       "4.0    23200\n",
       "3.0    23130\n",
       "2.0    22972\n",
       "1.0     9185\n",
       "Name: review rate number, dtype: int64"
      ]
     },
     "execution_count": 19,
     "metadata": {},
     "output_type": "execute_result"
    }
   ],
   "source": [
    "#Now chekc the value counts of other columns\n",
    "airbnb['host_identity_verified'].value_counts()\n",
    "airbnb['instant_bookable'].value_counts()\n",
    "airbnb['room type'].value_counts()\n",
    "airbnb['cancellation_policy'].value_counts()\n",
    "airbnb['review rate number'].value_counts()"
   ]
  },
  {
   "cell_type": "code",
   "execution_count": 20,
   "id": "c6963685",
   "metadata": {
    "execution": {
     "iopub.execute_input": "2022-10-06T17:02:47.953539Z",
     "iopub.status.busy": "2022-10-06T17:02:47.953112Z",
     "iopub.status.idle": "2022-10-06T17:02:48.032292Z",
     "shell.execute_reply": "2022-10-06T17:02:48.031028Z"
    },
    "papermill": {
     "duration": 0.096351,
     "end_time": "2022-10-06T17:02:48.034878",
     "exception": false,
     "start_time": "2022-10-06T17:02:47.938527",
     "status": "completed"
    },
    "tags": []
   },
   "outputs": [
    {
     "name": "stdout",
     "output_type": "stream",
     "text": [
      "<class 'pandas.core.frame.DataFrame'>\n",
      "Int64Index: 102057 entries, 0 to 102057\n",
      "Data columns (total 26 columns):\n",
      " #   Column                          Non-Null Count   Dtype  \n",
      "---  ------                          --------------   -----  \n",
      " 0   id                              102057 non-null  int64  \n",
      " 1   NAME                            101807 non-null  object \n",
      " 2   host id                         102057 non-null  int64  \n",
      " 3   host_identity_verified          101768 non-null  object \n",
      " 4   host name                       101653 non-null  object \n",
      " 5   neighbourhood group             102028 non-null  object \n",
      " 6   neighbourhood                   102041 non-null  object \n",
      " 7   lat                             102049 non-null  float64\n",
      " 8   long                            102049 non-null  float64\n",
      " 9   country                         101525 non-null  object \n",
      " 10  country code                    101926 non-null  object \n",
      " 11  instant_bookable                101952 non-null  object \n",
      " 12  cancellation_policy             101981 non-null  object \n",
      " 13  room type                       102057 non-null  object \n",
      " 14  Construction year               101843 non-null  float64\n",
      " 15  price                           101810 non-null  object \n",
      " 16  service fee                     101784 non-null  object \n",
      " 17  minimum nights                  101657 non-null  float64\n",
      " 18  number of reviews               101874 non-null  float64\n",
      " 19  last review                     86225 non-null   object \n",
      " 20  reviews per month               86239 non-null   float64\n",
      " 21  review rate number              101738 non-null  float64\n",
      " 22  calculated host listings count  101738 non-null  float64\n",
      " 23  availability 365                101609 non-null  float64\n",
      " 24  house_rules                     50216 non-null   object \n",
      " 25  license                         1 non-null       object \n",
      "dtypes: float64(9), int64(2), object(15)\n",
      "memory usage: 21.0+ MB\n"
     ]
    }
   ],
   "source": [
    "airbnb.info()"
   ]
  },
  {
   "cell_type": "code",
   "execution_count": 21,
   "id": "1af135bd",
   "metadata": {
    "execution": {
     "iopub.execute_input": "2022-10-06T17:02:48.063726Z",
     "iopub.status.busy": "2022-10-06T17:02:48.063286Z",
     "iopub.status.idle": "2022-10-06T17:02:48.295428Z",
     "shell.execute_reply": "2022-10-06T17:02:48.294300Z"
    },
    "papermill": {
     "duration": 0.249511,
     "end_time": "2022-10-06T17:02:48.297992",
     "exception": false,
     "start_time": "2022-10-06T17:02:48.048481",
     "status": "completed"
    },
    "tags": []
   },
   "outputs": [],
   "source": [
    "#Lets change the datatypes of above columns which we can see as categorised\n",
    "airbnb = airbnb.astype({'room type':'category','cancellation_policy':'category',\n",
    "                        'instant_bookable':'category','host_identity_verified':'category',\n",
    "                        'review rate number':'category','neighbourhood group':'category'})\n",
    "airbnb['last review'] = pd.to_datetime(airbnb['last review'])"
   ]
  },
  {
   "cell_type": "code",
   "execution_count": 22,
   "id": "858916c3",
   "metadata": {
    "execution": {
     "iopub.execute_input": "2022-10-06T17:02:48.326862Z",
     "iopub.status.busy": "2022-10-06T17:02:48.326453Z",
     "iopub.status.idle": "2022-10-06T17:02:48.631080Z",
     "shell.execute_reply": "2022-10-06T17:02:48.630108Z"
    },
    "papermill": {
     "duration": 0.322011,
     "end_time": "2022-10-06T17:02:48.633756",
     "exception": false,
     "start_time": "2022-10-06T17:02:48.311745",
     "status": "completed"
    },
    "tags": []
   },
   "outputs": [],
   "source": [
    "airbnb['price']=airbnb['price'].apply(lambda x: x.replace('$','') if pd.isna(x) == False else x)\n",
    "airbnb['service fee']=airbnb['service fee'].apply(lambda x: x.replace('$','') if pd.isna(x) == False else x)\n",
    "airbnb['service fee']=airbnb['service fee'].astype(float)\n",
    "airbnb['price']=airbnb['price'].apply(lambda x: x.replace(',','') if pd.isna(x) == False else x)\n",
    "airbnb['price']=airbnb['price'].astype(float)"
   ]
  },
  {
   "cell_type": "code",
   "execution_count": 23,
   "id": "a9e7d34b",
   "metadata": {
    "execution": {
     "iopub.execute_input": "2022-10-06T17:02:48.662892Z",
     "iopub.status.busy": "2022-10-06T17:02:48.662478Z",
     "iopub.status.idle": "2022-10-06T17:02:48.715033Z",
     "shell.execute_reply": "2022-10-06T17:02:48.713696Z"
    },
    "papermill": {
     "duration": 0.070485,
     "end_time": "2022-10-06T17:02:48.718142",
     "exception": false,
     "start_time": "2022-10-06T17:02:48.647657",
     "status": "completed"
    },
    "tags": []
   },
   "outputs": [
    {
     "name": "stdout",
     "output_type": "stream",
     "text": [
      "<class 'pandas.core.frame.DataFrame'>\n",
      "Int64Index: 102057 entries, 0 to 102057\n",
      "Data columns (total 26 columns):\n",
      " #   Column                          Non-Null Count   Dtype         \n",
      "---  ------                          --------------   -----         \n",
      " 0   id                              102057 non-null  int64         \n",
      " 1   NAME                            101807 non-null  object        \n",
      " 2   host id                         102057 non-null  int64         \n",
      " 3   host_identity_verified          101768 non-null  category      \n",
      " 4   host name                       101653 non-null  object        \n",
      " 5   neighbourhood group             102028 non-null  category      \n",
      " 6   neighbourhood                   102041 non-null  object        \n",
      " 7   lat                             102049 non-null  float64       \n",
      " 8   long                            102049 non-null  float64       \n",
      " 9   country                         101525 non-null  object        \n",
      " 10  country code                    101926 non-null  object        \n",
      " 11  instant_bookable                101952 non-null  category      \n",
      " 12  cancellation_policy             101981 non-null  category      \n",
      " 13  room type                       102057 non-null  category      \n",
      " 14  Construction year               101843 non-null  float64       \n",
      " 15  price                           101810 non-null  float64       \n",
      " 16  service fee                     101784 non-null  float64       \n",
      " 17  minimum nights                  101657 non-null  float64       \n",
      " 18  number of reviews               101874 non-null  float64       \n",
      " 19  last review                     86225 non-null   datetime64[ns]\n",
      " 20  reviews per month               86239 non-null   float64       \n",
      " 21  review rate number              101738 non-null  category      \n",
      " 22  calculated host listings count  101738 non-null  float64       \n",
      " 23  availability 365                101609 non-null  float64       \n",
      " 24  house_rules                     50216 non-null   object        \n",
      " 25  license                         1 non-null       object        \n",
      "dtypes: category(6), datetime64[ns](1), float64(10), int64(2), object(7)\n",
      "memory usage: 16.9+ MB\n"
     ]
    }
   ],
   "source": [
    "airbnb.info()"
   ]
  },
  {
   "cell_type": "code",
   "execution_count": 24,
   "id": "b2b48e37",
   "metadata": {
    "execution": {
     "iopub.execute_input": "2022-10-06T17:02:48.748430Z",
     "iopub.status.busy": "2022-10-06T17:02:48.747980Z",
     "iopub.status.idle": "2022-10-06T17:02:48.756954Z",
     "shell.execute_reply": "2022-10-06T17:02:48.755979Z"
    },
    "papermill": {
     "duration": 0.026202,
     "end_time": "2022-10-06T17:02:48.758958",
     "exception": false,
     "start_time": "2022-10-06T17:02:48.732756",
     "status": "completed"
    },
    "tags": []
   },
   "outputs": [
    {
     "data": {
      "text/plain": [
       "(Timestamp('2012-07-11 00:00:00'), Timestamp('2058-06-16 00:00:00'))"
      ]
     },
     "execution_count": 24,
     "metadata": {},
     "output_type": "execute_result"
    }
   ],
   "source": [
    "# Let's check the min and max timestamps\n",
    "airbnb['last review'].min(), airbnb['last review'].max()"
   ]
  },
  {
   "cell_type": "code",
   "execution_count": 25,
   "id": "01cefbb9",
   "metadata": {
    "execution": {
     "iopub.execute_input": "2022-10-06T17:02:48.788218Z",
     "iopub.status.busy": "2022-10-06T17:02:48.787830Z",
     "iopub.status.idle": "2022-10-06T17:02:49.292605Z",
     "shell.execute_reply": "2022-10-06T17:02:49.291562Z"
    },
    "papermill": {
     "duration": 0.522636,
     "end_time": "2022-10-06T17:02:49.295256",
     "exception": false,
     "start_time": "2022-10-06T17:02:48.772620",
     "status": "completed"
    },
    "tags": []
   },
   "outputs": [],
   "source": [
    "#We can see the wrong year. Lets clean the review to be the median of the column\n",
    "airbnb.loc[airbnb[airbnb['last review'].apply(lambda x: x.year) > 2022].index,'last review'] = airbnb['last review'].median()"
   ]
  },
  {
   "cell_type": "code",
   "execution_count": 26,
   "id": "00286796",
   "metadata": {
    "execution": {
     "iopub.execute_input": "2022-10-06T17:02:49.325738Z",
     "iopub.status.busy": "2022-10-06T17:02:49.325302Z",
     "iopub.status.idle": "2022-10-06T17:02:49.336817Z",
     "shell.execute_reply": "2022-10-06T17:02:49.335871Z"
    },
    "papermill": {
     "duration": 0.029328,
     "end_time": "2022-10-06T17:02:49.339363",
     "exception": false,
     "start_time": "2022-10-06T17:02:49.310035",
     "status": "completed"
    },
    "tags": []
   },
   "outputs": [],
   "source": [
    "#Similarly replace all the null values with median value of the column\n",
    "airbnb.loc[airbnb['last review'].isnull(), 'last review'] = airbnb['last review'].median()"
   ]
  },
  {
   "cell_type": "code",
   "execution_count": 27,
   "id": "6bc9192b",
   "metadata": {
    "execution": {
     "iopub.execute_input": "2022-10-06T17:02:49.368300Z",
     "iopub.status.busy": "2022-10-06T17:02:49.367871Z",
     "iopub.status.idle": "2022-10-06T17:02:49.377341Z",
     "shell.execute_reply": "2022-10-06T17:02:49.376424Z"
    },
    "papermill": {
     "duration": 0.026419,
     "end_time": "2022-10-06T17:02:49.379430",
     "exception": false,
     "start_time": "2022-10-06T17:02:49.353011",
     "status": "completed"
    },
    "tags": []
   },
   "outputs": [
    {
     "data": {
      "text/plain": [
       "False    102057\n",
       "Name: last review, dtype: int64"
      ]
     },
     "execution_count": 27,
     "metadata": {},
     "output_type": "execute_result"
    }
   ],
   "source": [
    "#now find the non null values for review date\n",
    "airbnb['last review'].isnull().value_counts()\n",
    "#So the column doesn't have any null values now"
   ]
  },
  {
   "cell_type": "markdown",
   "id": "3b8e2342",
   "metadata": {
    "papermill": {
     "duration": 0.013869,
     "end_time": "2022-10-06T17:02:49.406894",
     "exception": false,
     "start_time": "2022-10-06T17:02:49.393025",
     "status": "completed"
    },
    "tags": []
   },
   "source": [
    "# **5. Data Visualisation**"
   ]
  },
  {
   "cell_type": "code",
   "execution_count": 28,
   "id": "cb8aff21",
   "metadata": {
    "execution": {
     "iopub.execute_input": "2022-10-06T17:02:49.435622Z",
     "iopub.status.busy": "2022-10-06T17:02:49.435211Z",
     "iopub.status.idle": "2022-10-06T17:04:32.181250Z",
     "shell.execute_reply": "2022-10-06T17:04:32.179975Z"
    },
    "papermill": {
     "duration": 102.778774,
     "end_time": "2022-10-06T17:04:32.199322",
     "exception": false,
     "start_time": "2022-10-06T17:02:49.420548",
     "status": "completed"
    },
    "tags": []
   },
   "outputs": [
    {
     "data": {
      "text/plain": [
       "<AxesSubplot:xlabel='price', ylabel='Count'>"
      ]
     },
     "execution_count": 28,
     "metadata": {},
     "output_type": "execute_result"
    },
    {
     "data": {
      "text/plain": [
       "<AxesSubplot:xlabel='service fee', ylabel='Count'>"
      ]
     },
     "execution_count": 28,
     "metadata": {},
     "output_type": "execute_result"
    },
    {
     "data": {
      "text/plain": [
       "<AxesSubplot:xlabel='minimum nights', ylabel='Count'>"
      ]
     },
     "execution_count": 28,
     "metadata": {},
     "output_type": "execute_result"
    },
    {
     "data": {
      "text/plain": [
       "<AxesSubplot:xlabel='number of reviews', ylabel='Count'>"
      ]
     },
     "execution_count": 28,
     "metadata": {},
     "output_type": "execute_result"
    },
    {
     "data": {
      "text/plain": [
       "<AxesSubplot:xlabel='review rate number', ylabel='Count'>"
      ]
     },
     "execution_count": 28,
     "metadata": {},
     "output_type": "execute_result"
    },
    {
     "data": {
      "text/plain": [
       "<AxesSubplot:xlabel='availability 365', ylabel='Count'>"
      ]
     },
     "execution_count": 28,
     "metadata": {},
     "output_type": "execute_result"
    },
    {
     "data": {
      "image/png": "[encoded data removed]",
      "text/plain": [
       "<Figure size 1440x720 with 6 Axes>"
      ]
     },
     "metadata": {
      "needs_background": "light"
     },
     "output_type": "display_data"
    }
   ],
   "source": [
    "columns = ['price', 'service fee', 'minimum nights','number of reviews','review rate number', 'availability 365']\n",
    "fig,ax = plt.subplots(2,3, figsize = (20,10));\n",
    "ax =ax.flatten()\n",
    "for i in range(len(columns)):\n",
    "        sns.histplot(airbnb[columns[i]],ax = ax[i]);"
   ]
  },
  {
   "cell_type": "markdown",
   "id": "e9da0c4f",
   "metadata": {
    "papermill": {
     "duration": 0.0142,
     "end_time": "2022-10-06T17:04:32.228544",
     "exception": false,
     "start_time": "2022-10-06T17:04:32.214344",
     "status": "completed"
    },
    "tags": []
   },
   "source": [
    ">  # **1.Relational plots**"
   ]
  },
  {
   "cell_type": "code",
   "execution_count": 29,
   "id": "e202beea",
   "metadata": {
    "execution": {
     "iopub.execute_input": "2022-10-06T17:04:32.259621Z",
     "iopub.status.busy": "2022-10-06T17:04:32.259175Z",
     "iopub.status.idle": "2022-10-06T17:04:40.275348Z",
     "shell.execute_reply": "2022-10-06T17:04:40.274519Z"
    },
    "papermill": {
     "duration": 8.035063,
     "end_time": "2022-10-06T17:04:40.278494",
     "exception": false,
     "start_time": "2022-10-06T17:04:32.243431",
     "status": "completed"
    },
    "tags": []
   },
   "outputs": [
    {
     "data": {
      "image/png": "[encoded data removed]",
      "text/plain": [
       "<Figure size 476.25x360 with 1 Axes>"
      ]
     },
     "metadata": {
      "needs_background": "light"
     },
     "output_type": "display_data"
    }
   ],
   "source": [
    "#scatter plots\n",
    "sns.relplot(data=airbnb, kind='scatter', x='price', y='number of reviews', hue='room type');"
   ]
  },
  {
   "cell_type": "code",
   "execution_count": 30,
   "id": "b00d166a",
   "metadata": {
    "execution": {
     "iopub.execute_input": "2022-10-06T17:04:40.313633Z",
     "iopub.status.busy": "2022-10-06T17:04:40.313202Z",
     "iopub.status.idle": "2022-10-06T17:05:40.617296Z",
     "shell.execute_reply": "2022-10-06T17:05:40.616037Z"
    },
    "papermill": {
     "duration": 60.342752,
     "end_time": "2022-10-06T17:05:40.638193",
     "exception": false,
     "start_time": "2022-10-06T17:04:40.295441",
     "status": "completed"
    },
    "tags": []
   },
   "outputs": [
    {
     "data": {
      "image/png": "[encoded data removed]",
      "text/plain": [
       "<Figure size 476.25x360 with 1 Axes>"
      ]
     },
     "metadata": {
      "needs_background": "light"
     },
     "output_type": "display_data"
    }
   ],
   "source": [
    "#line plot\n",
    "sns.relplot(data=airbnb, kind='line', x='price',  y='number of reviews', hue='room type');"
   ]
  },
  {
   "cell_type": "markdown",
   "id": "66834774",
   "metadata": {
    "papermill": {
     "duration": 0.016816,
     "end_time": "2022-10-06T17:05:40.672595",
     "exception": false,
     "start_time": "2022-10-06T17:05:40.655779",
     "status": "completed"
    },
    "tags": []
   },
   "source": [
    "> #  **2. Distribution Plots**"
   ]
  },
  {
   "cell_type": "code",
   "execution_count": 31,
   "id": "8fd19e02",
   "metadata": {
    "execution": {
     "iopub.execute_input": "2022-10-06T17:05:40.709267Z",
     "iopub.status.busy": "2022-10-06T17:05:40.708261Z",
     "iopub.status.idle": "2022-10-06T17:05:41.390443Z",
     "shell.execute_reply": "2022-10-06T17:05:41.389552Z"
    },
    "papermill": {
     "duration": 0.703014,
     "end_time": "2022-10-06T17:05:41.392798",
     "exception": false,
     "start_time": "2022-10-06T17:05:40.689784",
     "status": "completed"
    },
    "tags": []
   },
   "outputs": [
    {
     "data": {
      "image/png": "[encoded data removed]",
      "text/plain": [
       "<Figure size 475.5x360 with 1 Axes>"
      ]
     },
     "metadata": {
      "needs_background": "light"
     },
     "output_type": "display_data"
    }
   ],
   "source": [
    "sns.displot(kind=\"hist\",data=airbnb, x='review rate number', hue='neighbourhood group');"
   ]
  },
  {
   "cell_type": "code",
   "execution_count": 32,
   "id": "a510e050",
   "metadata": {
    "execution": {
     "iopub.execute_input": "2022-10-06T17:05:41.429998Z",
     "iopub.status.busy": "2022-10-06T17:05:41.429601Z",
     "iopub.status.idle": "2022-10-06T17:05:43.499068Z",
     "shell.execute_reply": "2022-10-06T17:05:43.497935Z"
    },
    "papermill": {
     "duration": 2.090971,
     "end_time": "2022-10-06T17:05:43.501480",
     "exception": false,
     "start_time": "2022-10-06T17:05:41.410509",
     "status": "completed"
    },
    "tags": []
   },
   "outputs": [
    {
     "data": {
      "image/png": "[encoded data removed]",
      "text/plain": [
       "<Figure size 360x360 with 1 Axes>"
      ]
     },
     "metadata": {
      "needs_background": "light"
     },
     "output_type": "display_data"
    }
   ],
   "source": [
    "sns.displot(kind=\"kde\",data=airbnb, x='number of reviews');\n",
    "sns.rugplot(data=airbnb, x='number of reviews');"
   ]
  },
  {
   "cell_type": "markdown",
   "id": "905a6f3c",
   "metadata": {
    "papermill": {
     "duration": 0.017516,
     "end_time": "2022-10-06T17:05:43.536959",
     "exception": false,
     "start_time": "2022-10-06T17:05:43.519443",
     "status": "completed"
    },
    "tags": []
   },
   "source": [
    "> # **3. Categorical Plots**"
   ]
  },
  {
   "cell_type": "code",
   "execution_count": 33,
   "id": "466d5f2a",
   "metadata": {
    "execution": {
     "iopub.execute_input": "2022-10-06T17:05:43.574545Z",
     "iopub.status.busy": "2022-10-06T17:05:43.574147Z",
     "iopub.status.idle": "2022-10-06T17:05:45.388154Z",
     "shell.execute_reply": "2022-10-06T17:05:45.387005Z"
    },
    "papermill": {
     "duration": 1.835632,
     "end_time": "2022-10-06T17:05:45.390485",
     "exception": false,
     "start_time": "2022-10-06T17:05:43.554853",
     "status": "completed"
    },
    "tags": []
   },
   "outputs": [
    {
     "data": {
      "image/png": "[encoded data removed]",
      "text/plain": [
       "<Figure size 360x360 with 1 Axes>"
      ]
     },
     "metadata": {
      "needs_background": "light"
     },
     "output_type": "display_data"
    }
   ],
   "source": [
    "sns.catplot(kind=\"strip\",data=airbnb, x='room type', y='price');"
   ]
  },
  {
   "cell_type": "code",
   "execution_count": 34,
   "id": "3e5ed992",
   "metadata": {
    "execution": {
     "iopub.execute_input": "2022-10-06T17:05:45.428965Z",
     "iopub.status.busy": "2022-10-06T17:05:45.428581Z",
     "iopub.status.idle": "2022-10-06T17:05:46.561412Z",
     "shell.execute_reply": "2022-10-06T17:05:46.560525Z"
    },
    "papermill": {
     "duration": 1.155504,
     "end_time": "2022-10-06T17:05:46.564184",
     "exception": false,
     "start_time": "2022-10-06T17:05:45.408680",
     "status": "completed"
    },
    "tags": []
   },
   "outputs": [
    {
     "data": {
      "image/png": "[encoded data removed]",
      "text/plain": [
       "<Figure size 475.5x360 with 1 Axes>"
      ]
     },
     "metadata": {
      "needs_background": "light"
     },
     "output_type": "display_data"
    }
   ],
   "source": [
    "sns.catplot(kind=\"box\",data=airbnb, x='room type', y='price', hue='neighbourhood group');"
   ]
  },
  {
   "cell_type": "code",
   "execution_count": 35,
   "id": "6d2b9473",
   "metadata": {
    "execution": {
     "iopub.execute_input": "2022-10-06T17:05:46.603945Z",
     "iopub.status.busy": "2022-10-06T17:05:46.603531Z",
     "iopub.status.idle": "2022-10-06T17:05:48.078172Z",
     "shell.execute_reply": "2022-10-06T17:05:48.076988Z"
    },
    "papermill": {
     "duration": 1.497988,
     "end_time": "2022-10-06T17:05:48.081045",
     "exception": false,
     "start_time": "2022-10-06T17:05:46.583057",
     "status": "completed"
    },
    "tags": []
   },
   "outputs": [
    {
     "data": {
      "image/png": "[encoded data removed]",
      "text/plain": [
       "<Figure size 453x360 with 1 Axes>"
      ]
     },
     "metadata": {
      "needs_background": "light"
     },
     "output_type": "display_data"
    }
   ],
   "source": [
    "sns.catplot(kind=\"violin\",data=airbnb, x='room type', y='price', hue='instant_bookable');"
   ]
  },
  {
   "cell_type": "code",
   "execution_count": 36,
   "id": "7c1c2b4b",
   "metadata": {
    "execution": {
     "iopub.execute_input": "2022-10-06T17:05:48.121697Z",
     "iopub.status.busy": "2022-10-06T17:05:48.121282Z",
     "iopub.status.idle": "2022-10-06T17:05:49.584149Z",
     "shell.execute_reply": "2022-10-06T17:05:49.583351Z"
    },
    "papermill": {
     "duration": 1.485544,
     "end_time": "2022-10-06T17:05:49.586242",
     "exception": false,
     "start_time": "2022-10-06T17:05:48.100698",
     "status": "completed"
    },
    "tags": []
   },
   "outputs": [
    {
     "data": {
      "image/png": "[encoded data removed]",
      "text/plain": [
       "<Figure size 1555.5x360 with 4 Axes>"
      ]
     },
     "metadata": {
      "needs_background": "light"
     },
     "output_type": "display_data"
    }
   ],
   "source": [
    "sns.catplot(data=airbnb, kind='count', x='cancellation_policy', col='room type', hue='neighbourhood group');"
   ]
  }
 ],
 "metadata": {
  "kernelspec": {
   "display_name": "Python 3",
   "language": "python",
   "name": "python3"
  },
  "language_info": {
   "codemirror_mode": {
    "name": "ipython",
    "version": 3
   },
   "file_extension": ".py",
   "mimetype": "text/x-python",
   "name": "python",
   "nbconvert_exporter": "python",
   "pygments_lexer": "ipython3",
   "version": "3.7.12"
  },
  "papermill": {
   "default_parameters": {},
   "duration": 197.035461,
   "end_time": "2022-10-06T17:05:52.328310",
   "environment_variables": {},
   "exception": null,
   "input_path": "__notebook__.ipynb",
   "output_path": "__notebook__.ipynb",
   "parameters": {},
   "start_time": "2022-10-06T17:02:35.292849",
   "version": "2.3.4"
  }
 },
 "nbformat": 4,
 "nbformat_minor": 5
}
