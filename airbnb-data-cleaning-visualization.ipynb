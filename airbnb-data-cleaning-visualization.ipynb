{
 "cells": [
  {
   "cell_type": "markdown",
   "id": "ca8f49da",
   "metadata": {
    "_cell_guid": "b1076dfc-b9ad-4769-8c92-a6c4dae69d19",
    "_uuid": "8f2839f25d086af736a60e9eeb907d3b93b6e0e5",
    "execution": {
     "iopub.execute_input": "2022-09-18T15:44:07.788658Z",
     "iopub.status.busy": "2022-09-18T15:44:07.788005Z",
     "iopub.status.idle": "2022-09-18T15:44:07.835835Z",
     "shell.execute_reply": "2022-09-18T15:44:07.834948Z",
     "shell.execute_reply.started": "2022-09-18T15:44:07.788565Z"
    },
    "papermill": {
     "duration": 0.010498,
     "end_time": "2022-10-06T17:00:30.070346",
     "exception": false,
     "start_time": "2022-10-06T17:00:30.059848",
     "status": "completed"
    },
    "tags": []
   },
   "source": [
    "# 1. **Call Libraries** "
   ]
  },
  {
   "cell_type": "code",
   "execution_count": 1,
   "id": "b76f8df3",
   "metadata": {
    "execution": {
     "iopub.execute_input": "2022-10-06T17:00:30.091841Z",
     "iopub.status.busy": "2022-10-06T17:00:30.090910Z",
     "iopub.status.idle": "2022-10-06T17:00:31.315829Z",
     "shell.execute_reply": "2022-10-06T17:00:31.314641Z"
    },
    "papermill": {
     "duration": 1.239045,
     "end_time": "2022-10-06T17:00:31.318957",
     "exception": false,
     "start_time": "2022-10-06T17:00:30.079912",
     "status": "completed"
    },
    "tags": []
   },
   "outputs": [],
   "source": [
    "#For data review\n",
    "import numpy as np\n",
    "import pandas as pd # data processing, CSV file I/O (e.g. pd.read_csv)\n",
    "\n",
    "#for plotting\n",
    "import matplotlib.pyplot as plt\n",
    "%matplotlib inline\n",
    "import seaborn as sns\n",
    "\n",
    "#for listing the directory\n",
    "import os\n",
    "\n",
    "# for printing\n",
    "from IPython.core.interactiveshell import InteractiveShell\n",
    "InteractiveShell.ast_node_interactivity = \"all\""
   ]
  },
  {
   "cell_type": "markdown",
   "id": "d175bf5b",
   "metadata": {
    "papermill": {
     "duration": 0.008641,
     "end_time": "2022-10-06T17:00:31.336956",
     "exception": false,
     "start_time": "2022-10-06T17:00:31.328315",
     "status": "completed"
    },
    "tags": []
   },
   "source": [
    "# 2. **Read the data file**"
   ]
  },
  {
   "cell_type": "code",
   "execution_count": 2,
   "id": "e3069978",
   "metadata": {
    "execution": {
     "iopub.execute_input": "2022-10-06T17:00:31.356768Z",
     "iopub.status.busy": "2022-10-06T17:00:31.356319Z",
     "iopub.status.idle": "2022-10-06T17:00:32.833442Z",
     "shell.execute_reply": "2022-10-06T17:00:32.832138Z"
    },
    "papermill": {
     "duration": 1.490808,
     "end_time": "2022-10-06T17:00:32.836729",
     "exception": false,
     "start_time": "2022-10-06T17:00:31.345921",
     "status": "completed"
    },
    "tags": []
   },
   "outputs": [
    {
     "name": "stdout",
     "output_type": "stream",
     "text": [
      "['Airbnb_Open_Data.csv']\n"
     ]
    }
   ],
   "source": [
    "print(os.listdir(\"../input/airbnbopendata\"))\n",
    "airbnb = pd.read_csv('../input/airbnbopendata/Airbnb_Open_Data.csv', low_memory = False);"
   ]
  },
  {
   "cell_type": "markdown",
   "id": "36a24670",
   "metadata": {
    "papermill": {
     "duration": 0.008667,
     "end_time": "2022-10-06T17:00:32.854841",
     "exception": false,
     "start_time": "2022-10-06T17:00:32.846174",
     "status": "completed"
    },
    "tags": []
   },
   "source": [
    "# 3. **Data Exploration**"
   ]
  },
  {
   "cell_type": "code",
   "execution_count": 3,
   "id": "9a71ff7c",
   "metadata": {
    "execution": {
     "iopub.execute_input": "2022-10-06T17:00:32.877333Z",
     "iopub.status.busy": "2022-10-06T17:00:32.876835Z",
     "iopub.status.idle": "2022-10-06T17:00:32.980092Z",
     "shell.execute_reply": "2022-10-06T17:00:32.978190Z"
    },
    "papermill": {
     "duration": 0.117437,
     "end_time": "2022-10-06T17:00:32.983431",
     "exception": false,
     "start_time": "2022-10-06T17:00:32.865994",
     "status": "completed"
    },
    "tags": []
   },
   "outputs": [
    {
     "name": "stdout",
     "output_type": "stream",
     "text": [
      "<class 'pandas.core.frame.DataFrame'>\n",
      "RangeIndex: 102599 entries, 0 to 102598\n",
      "Data columns (total 26 columns):\n",
      " #   Column                          Non-Null Count   Dtype  \n",
      "---  ------                          --------------   -----  \n",
      " 0   id                              102599 non-null  int64  \n",
      " 1   NAME                            102349 non-null  object \n",
      " 2   host id                         102599 non-null  int64  \n",
      " 3   host_identity_verified          102310 non-null  object \n",
      " 4   host name                       102193 non-null  object \n",
      " 5   neighbourhood group             102570 non-null  object \n",
      " 6   neighbourhood                   102583 non-null  object \n",
      " 7   lat                             102591 non-null  float64\n",
      " 8   long                            102591 non-null  float64\n",
      " 9   country                         102067 non-null  object \n",
      " 10  country code                    102468 non-null  object \n",
      " 11  instant_bookable                102494 non-null  object \n",
      " 12  cancellation_policy             102523 non-null  object \n",
      " 13  room type                       102599 non-null  object \n",
      " 14  Construction year               102385 non-null  float64\n",
      " 15  price                           102352 non-null  object \n",
      " 16  service fee                     102326 non-null  object \n",
      " 17  minimum nights                  102190 non-null  float64\n",
      " 18  number of reviews               102416 non-null  float64\n",
      " 19  last review                     86706 non-null   object \n",
      " 20  reviews per month               86720 non-null   float64\n",
      " 21  review rate number              102273 non-null  float64\n",
      " 22  calculated host listings count  102280 non-null  float64\n",
      " 23  availability 365                102151 non-null  float64\n",
      " 24  house_rules                     50468 non-null   object \n",
      " 25  license                         2 non-null       object \n",
      "dtypes: float64(9), int64(2), object(15)\n",
      "memory usage: 20.4+ MB\n"
     ]
    }
   ],
   "source": [
    "airbnb.info()"
   ]
  },
  {
   "cell_type": "code",
   "execution_count": 4,
   "id": "6bffa0ad",
   "metadata": {
    "execution": {
     "iopub.execute_input": "2022-10-06T17:00:33.004930Z",
     "iopub.status.busy": "2022-10-06T17:00:33.004448Z",
     "iopub.status.idle": "2022-10-06T17:00:33.017750Z",
     "shell.execute_reply": "2022-10-06T17:00:33.016364Z"
    },
    "papermill": {
     "duration": 0.027317,
     "end_time": "2022-10-06T17:00:33.020456",
     "exception": false,
     "start_time": "2022-10-06T17:00:32.993139",
     "status": "completed"
    },
    "tags": []
   },
   "outputs": [
    {
     "data": {
      "text/plain": [
       "(102599, 26)"
      ]
     },
     "execution_count": 4,
     "metadata": {},
     "output_type": "execute_result"
    },
    {
     "data": {
      "text/plain": [
       "Index(['id', 'NAME', 'host id', 'host_identity_verified', 'host name',\n",
       "       'neighbourhood group', 'neighbourhood', 'lat', 'long', 'country',\n",
       "       'country code', 'instant_bookable', 'cancellation_policy', 'room type',\n",
       "       'Construction year', 'price', 'service fee', 'minimum nights',\n",
       "       'number of reviews', 'last review', 'reviews per month',\n",
       "       'review rate number', 'calculated host listings count',\n",
       "       'availability 365', 'house_rules', 'license'],\n",
       "      dtype='object')"
      ]
     },
     "execution_count": 4,
     "metadata": {},
     "output_type": "execute_result"
    }
   ],
   "source": [
    "airbnb.shape\n",
    "airbnb.columns"
   ]
  },
  {
   "cell_type": "code",
   "execution_count": 5,
   "id": "4a25e004",
   "metadata": {
    "execution": {
     "iopub.execute_input": "2022-10-06T17:00:33.041681Z",
     "iopub.status.busy": "2022-10-06T17:00:33.041225Z",
     "iopub.status.idle": "2022-10-06T17:00:33.050720Z",
     "shell.execute_reply": "2022-10-06T17:00:33.049510Z"
    },
    "papermill": {
     "duration": 0.023097,
     "end_time": "2022-10-06T17:00:33.053203",
     "exception": false,
     "start_time": "2022-10-06T17:00:33.030106",
     "status": "completed"
    },
    "tags": []
   },
   "outputs": [
    {
     "data": {
      "text/plain": [
       "id                                  int64\n",
       "NAME                               object\n",
       "host id                             int64\n",
       "host_identity_verified             object\n",
       "host name                          object\n",
       "neighbourhood group                object\n",
       "neighbourhood                      object\n",
       "lat                               float64\n",
       "long                              float64\n",
       "country                            object\n",
       "country code                       object\n",
       "instant_bookable                   object\n",
       "cancellation_policy                object\n",
       "room type                          object\n",
       "Construction year                 float64\n",
       "price                              object\n",
       "service fee                        object\n",
       "minimum nights                    float64\n",
       "number of reviews                 float64\n",
       "last review                        object\n",
       "reviews per month                 float64\n",
       "review rate number                float64\n",
       "calculated host listings count    float64\n",
       "availability 365                  float64\n",
       "house_rules                        object\n",
       "license                            object\n",
       "dtype: object"
      ]
     },
     "execution_count": 5,
     "metadata": {},
     "output_type": "execute_result"
    }
   ],
   "source": [
    "airbnb.dtypes"
   ]
  },
  {
   "cell_type": "code",
   "execution_count": 6,
   "id": "495da434",
   "metadata": {
    "execution": {
     "iopub.execute_input": "2022-10-06T17:00:33.076410Z",
     "iopub.status.busy": "2022-10-06T17:00:33.074913Z",
     "iopub.status.idle": "2022-10-06T17:00:33.115324Z",
     "shell.execute_reply": "2022-10-06T17:00:33.113919Z"
    },
    "papermill": {
     "duration": 0.055187,
     "end_time": "2022-10-06T17:00:33.118178",
     "exception": false,
     "start_time": "2022-10-06T17:00:33.062991",
     "status": "completed"
    },
    "tags": []
   },
   "outputs": [
    {
     "data": {
      "text/html": [
       "<div>\n",
       "<style scoped>\n",
       "    .dataframe tbody tr th:only-of-type {\n",
       "        vertical-align: middle;\n",
       "    }\n",
       "\n",
       "    .dataframe tbody tr th {\n",
       "        vertical-align: top;\n",
       "    }\n",
       "\n",
       "    .dataframe thead th {\n",
       "        text-align: right;\n",
       "    }\n",
       "</style>\n",
       "<table border=\"1\" class=\"dataframe\">\n",
       "  <thead>\n",
       "    <tr style=\"text-align: right;\">\n",
       "      <th></th>\n",
       "      <th>id</th>\n",
       "      <th>NAME</th>\n",
       "      <th>host id</th>\n",
       "      <th>host_identity_verified</th>\n",
       "      <th>host name</th>\n",
       "      <th>neighbourhood group</th>\n",
       "      <th>neighbourhood</th>\n",
       "      <th>lat</th>\n",
       "      <th>long</th>\n",
       "      <th>country</th>\n",
       "      <th>...</th>\n",
       "      <th>service fee</th>\n",
       "      <th>minimum nights</th>\n",
       "      <th>number of reviews</th>\n",
       "      <th>last review</th>\n",
       "      <th>reviews per month</th>\n",
       "      <th>review rate number</th>\n",
       "      <th>calculated host listings count</th>\n",
       "      <th>availability 365</th>\n",
       "      <th>house_rules</th>\n",
       "      <th>license</th>\n",
       "    </tr>\n",
       "  </thead>\n",
       "  <tbody>\n",
       "    <tr>\n",
       "      <th>0</th>\n",
       "      <td>1001254</td>\n",
       "      <td>Clean &amp; quiet apt home by the park</td>\n",
       "      <td>80014485718</td>\n",
       "      <td>unconfirmed</td>\n",
       "      <td>Madaline</td>\n",
       "      <td>Brooklyn</td>\n",
       "      <td>Kensington</td>\n",
       "      <td>40.64749</td>\n",
       "      <td>-73.97237</td>\n",
       "      <td>United States</td>\n",
       "      <td>...</td>\n",
       "      <td>$193</td>\n",
       "      <td>10.0</td>\n",
       "      <td>9.0</td>\n",
       "      <td>10/19/2021</td>\n",
       "      <td>0.21</td>\n",
       "      <td>4.0</td>\n",
       "      <td>6.0</td>\n",
       "      <td>286.0</td>\n",
       "      <td>Clean up and treat the home the way you'd like...</td>\n",
       "      <td>NaN</td>\n",
       "    </tr>\n",
       "    <tr>\n",
       "      <th>1</th>\n",
       "      <td>1002102</td>\n",
       "      <td>Skylit Midtown Castle</td>\n",
       "      <td>52335172823</td>\n",
       "      <td>verified</td>\n",
       "      <td>Jenna</td>\n",
       "      <td>Manhattan</td>\n",
       "      <td>Midtown</td>\n",
       "      <td>40.75362</td>\n",
       "      <td>-73.98377</td>\n",
       "      <td>United States</td>\n",
       "      <td>...</td>\n",
       "      <td>$28</td>\n",
       "      <td>30.0</td>\n",
       "      <td>45.0</td>\n",
       "      <td>5/21/2022</td>\n",
       "      <td>0.38</td>\n",
       "      <td>4.0</td>\n",
       "      <td>2.0</td>\n",
       "      <td>228.0</td>\n",
       "      <td>Pet friendly but please confirm with me if the...</td>\n",
       "      <td>NaN</td>\n",
       "    </tr>\n",
       "    <tr>\n",
       "      <th>2</th>\n",
       "      <td>1002403</td>\n",
       "      <td>THE VILLAGE OF HARLEM....NEW YORK !</td>\n",
       "      <td>78829239556</td>\n",
       "      <td>NaN</td>\n",
       "      <td>Elise</td>\n",
       "      <td>Manhattan</td>\n",
       "      <td>Harlem</td>\n",
       "      <td>40.80902</td>\n",
       "      <td>-73.94190</td>\n",
       "      <td>United States</td>\n",
       "      <td>...</td>\n",
       "      <td>$124</td>\n",
       "      <td>3.0</td>\n",
       "      <td>0.0</td>\n",
       "      <td>NaN</td>\n",
       "      <td>NaN</td>\n",
       "      <td>5.0</td>\n",
       "      <td>1.0</td>\n",
       "      <td>352.0</td>\n",
       "      <td>I encourage you to use my kitchen, cooking and...</td>\n",
       "      <td>NaN</td>\n",
       "    </tr>\n",
       "    <tr>\n",
       "      <th>3</th>\n",
       "      <td>1002755</td>\n",
       "      <td>NaN</td>\n",
       "      <td>85098326012</td>\n",
       "      <td>unconfirmed</td>\n",
       "      <td>Garry</td>\n",
       "      <td>Brooklyn</td>\n",
       "      <td>Clinton Hill</td>\n",
       "      <td>40.68514</td>\n",
       "      <td>-73.95976</td>\n",
       "      <td>United States</td>\n",
       "      <td>...</td>\n",
       "      <td>$74</td>\n",
       "      <td>30.0</td>\n",
       "      <td>270.0</td>\n",
       "      <td>7/5/2019</td>\n",
       "      <td>4.64</td>\n",
       "      <td>4.0</td>\n",
       "      <td>1.0</td>\n",
       "      <td>322.0</td>\n",
       "      <td>NaN</td>\n",
       "      <td>NaN</td>\n",
       "    </tr>\n",
       "    <tr>\n",
       "      <th>4</th>\n",
       "      <td>1003689</td>\n",
       "      <td>Entire Apt: Spacious Studio/Loft by central park</td>\n",
       "      <td>92037596077</td>\n",
       "      <td>verified</td>\n",
       "      <td>Lyndon</td>\n",
       "      <td>Manhattan</td>\n",
       "      <td>East Harlem</td>\n",
       "      <td>40.79851</td>\n",
       "      <td>-73.94399</td>\n",
       "      <td>United States</td>\n",
       "      <td>...</td>\n",
       "      <td>$41</td>\n",
       "      <td>10.0</td>\n",
       "      <td>9.0</td>\n",
       "      <td>11/19/2018</td>\n",
       "      <td>0.10</td>\n",
       "      <td>3.0</td>\n",
       "      <td>1.0</td>\n",
       "      <td>289.0</td>\n",
       "      <td>Please no smoking in the house, porch or on th...</td>\n",
       "      <td>NaN</td>\n",
       "    </tr>\n",
       "  </tbody>\n",
       "</table>\n",
       "<p>5 rows × 26 columns</p>\n",
       "</div>"
      ],
      "text/plain": [
       "        id                                              NAME      host id  \\\n",
       "0  1001254                Clean & quiet apt home by the park  80014485718   \n",
       "1  1002102                             Skylit Midtown Castle  52335172823   \n",
       "2  1002403               THE VILLAGE OF HARLEM....NEW YORK !  78829239556   \n",
       "3  1002755                                               NaN  85098326012   \n",
       "4  1003689  Entire Apt: Spacious Studio/Loft by central park  92037596077   \n",
       "\n",
       "  host_identity_verified host name neighbourhood group neighbourhood  \\\n",
       "0            unconfirmed  Madaline            Brooklyn    Kensington   \n",
       "1               verified     Jenna           Manhattan       Midtown   \n",
       "2                    NaN     Elise           Manhattan        Harlem   \n",
       "3            unconfirmed     Garry            Brooklyn  Clinton Hill   \n",
       "4               verified    Lyndon           Manhattan   East Harlem   \n",
       "\n",
       "        lat      long        country  ... service fee minimum nights  \\\n",
       "0  40.64749 -73.97237  United States  ...       $193            10.0   \n",
       "1  40.75362 -73.98377  United States  ...        $28            30.0   \n",
       "2  40.80902 -73.94190  United States  ...       $124             3.0   \n",
       "3  40.68514 -73.95976  United States  ...        $74            30.0   \n",
       "4  40.79851 -73.94399  United States  ...        $41            10.0   \n",
       "\n",
       "  number of reviews last review  reviews per month review rate number  \\\n",
       "0               9.0  10/19/2021               0.21                4.0   \n",
       "1              45.0   5/21/2022               0.38                4.0   \n",
       "2               0.0         NaN                NaN                5.0   \n",
       "3             270.0    7/5/2019               4.64                4.0   \n",
       "4               9.0  11/19/2018               0.10                3.0   \n",
       "\n",
       "  calculated host listings count  availability 365  \\\n",
       "0                            6.0             286.0   \n",
       "1                            2.0             228.0   \n",
       "2                            1.0             352.0   \n",
       "3                            1.0             322.0   \n",
       "4                            1.0             289.0   \n",
       "\n",
       "                                         house_rules license  \n",
       "0  Clean up and treat the home the way you'd like...     NaN  \n",
       "1  Pet friendly but please confirm with me if the...     NaN  \n",
       "2  I encourage you to use my kitchen, cooking and...     NaN  \n",
       "3                                                NaN     NaN  \n",
       "4  Please no smoking in the house, porch or on th...     NaN  \n",
       "\n",
       "[5 rows x 26 columns]"
      ]
     },
     "execution_count": 6,
     "metadata": {},
     "output_type": "execute_result"
    }
   ],
   "source": [
    "airbnb.head()"
   ]
  },
  {
   "cell_type": "code",
   "execution_count": 7,
   "id": "6c393ed9",
   "metadata": {
    "execution": {
     "iopub.execute_input": "2022-10-06T17:00:33.140339Z",
     "iopub.status.busy": "2022-10-06T17:00:33.139831Z",
     "iopub.status.idle": "2022-10-06T17:00:33.171534Z",
     "shell.execute_reply": "2022-10-06T17:00:33.170162Z"
    },
    "papermill": {
     "duration": 0.045528,
     "end_time": "2022-10-06T17:00:33.173954",
     "exception": false,
     "start_time": "2022-10-06T17:00:33.128426",
     "status": "completed"
    },
    "tags": []
   },
   "outputs": [
    {
     "data": {
      "text/html": [
       "<div>\n",
       "<style scoped>\n",
       "    .dataframe tbody tr th:only-of-type {\n",
       "        vertical-align: middle;\n",
       "    }\n",
       "\n",
       "    .dataframe tbody tr th {\n",
       "        vertical-align: top;\n",
       "    }\n",
       "\n",
       "    .dataframe thead th {\n",
       "        text-align: right;\n",
       "    }\n",
       "</style>\n",
       "<table border=\"1\" class=\"dataframe\">\n",
       "  <thead>\n",
       "    <tr style=\"text-align: right;\">\n",
       "      <th></th>\n",
       "      <th>id</th>\n",
       "      <th>NAME</th>\n",
       "      <th>host id</th>\n",
       "      <th>host_identity_verified</th>\n",
       "      <th>host name</th>\n",
       "      <th>neighbourhood group</th>\n",
       "      <th>neighbourhood</th>\n",
       "      <th>lat</th>\n",
       "      <th>long</th>\n",
       "      <th>country</th>\n",
       "      <th>...</th>\n",
       "      <th>service fee</th>\n",
       "      <th>minimum nights</th>\n",
       "      <th>number of reviews</th>\n",
       "      <th>last review</th>\n",
       "      <th>reviews per month</th>\n",
       "      <th>review rate number</th>\n",
       "      <th>calculated host listings count</th>\n",
       "      <th>availability 365</th>\n",
       "      <th>house_rules</th>\n",
       "      <th>license</th>\n",
       "    </tr>\n",
       "  </thead>\n",
       "  <tbody>\n",
       "    <tr>\n",
       "      <th>102594</th>\n",
       "      <td>6092437</td>\n",
       "      <td>Spare room in Williamsburg</td>\n",
       "      <td>12312296767</td>\n",
       "      <td>verified</td>\n",
       "      <td>Krik</td>\n",
       "      <td>Brooklyn</td>\n",
       "      <td>Williamsburg</td>\n",
       "      <td>40.70862</td>\n",
       "      <td>-73.94651</td>\n",
       "      <td>United States</td>\n",
       "      <td>...</td>\n",
       "      <td>$169</td>\n",
       "      <td>1.0</td>\n",
       "      <td>0.0</td>\n",
       "      <td>NaN</td>\n",
       "      <td>NaN</td>\n",
       "      <td>3.0</td>\n",
       "      <td>1.0</td>\n",
       "      <td>227.0</td>\n",
       "      <td>No Smoking No Parties or Events of any kind Pl...</td>\n",
       "      <td>NaN</td>\n",
       "    </tr>\n",
       "    <tr>\n",
       "      <th>102595</th>\n",
       "      <td>6092990</td>\n",
       "      <td>Best Location near Columbia U</td>\n",
       "      <td>77864383453</td>\n",
       "      <td>unconfirmed</td>\n",
       "      <td>Mifan</td>\n",
       "      <td>Manhattan</td>\n",
       "      <td>Morningside Heights</td>\n",
       "      <td>40.80460</td>\n",
       "      <td>-73.96545</td>\n",
       "      <td>United States</td>\n",
       "      <td>...</td>\n",
       "      <td>$167</td>\n",
       "      <td>1.0</td>\n",
       "      <td>1.0</td>\n",
       "      <td>7/6/2015</td>\n",
       "      <td>0.02</td>\n",
       "      <td>2.0</td>\n",
       "      <td>2.0</td>\n",
       "      <td>395.0</td>\n",
       "      <td>House rules: Guests agree to the following ter...</td>\n",
       "      <td>NaN</td>\n",
       "    </tr>\n",
       "    <tr>\n",
       "      <th>102596</th>\n",
       "      <td>6093542</td>\n",
       "      <td>Comfy, bright room in Brooklyn</td>\n",
       "      <td>69050334417</td>\n",
       "      <td>unconfirmed</td>\n",
       "      <td>Megan</td>\n",
       "      <td>Brooklyn</td>\n",
       "      <td>Park Slope</td>\n",
       "      <td>40.67505</td>\n",
       "      <td>-73.98045</td>\n",
       "      <td>United States</td>\n",
       "      <td>...</td>\n",
       "      <td>$198</td>\n",
       "      <td>3.0</td>\n",
       "      <td>0.0</td>\n",
       "      <td>NaN</td>\n",
       "      <td>NaN</td>\n",
       "      <td>5.0</td>\n",
       "      <td>1.0</td>\n",
       "      <td>342.0</td>\n",
       "      <td>NaN</td>\n",
       "      <td>NaN</td>\n",
       "    </tr>\n",
       "    <tr>\n",
       "      <th>102597</th>\n",
       "      <td>6094094</td>\n",
       "      <td>Big Studio-One Stop from Midtown</td>\n",
       "      <td>11160591270</td>\n",
       "      <td>unconfirmed</td>\n",
       "      <td>Christopher</td>\n",
       "      <td>Queens</td>\n",
       "      <td>Long Island City</td>\n",
       "      <td>40.74989</td>\n",
       "      <td>-73.93777</td>\n",
       "      <td>United States</td>\n",
       "      <td>...</td>\n",
       "      <td>$109</td>\n",
       "      <td>2.0</td>\n",
       "      <td>5.0</td>\n",
       "      <td>10/11/2015</td>\n",
       "      <td>0.10</td>\n",
       "      <td>3.0</td>\n",
       "      <td>1.0</td>\n",
       "      <td>386.0</td>\n",
       "      <td>NaN</td>\n",
       "      <td>NaN</td>\n",
       "    </tr>\n",
       "    <tr>\n",
       "      <th>102598</th>\n",
       "      <td>6094647</td>\n",
       "      <td>585 sf Luxury Studio</td>\n",
       "      <td>68170633372</td>\n",
       "      <td>unconfirmed</td>\n",
       "      <td>Rebecca</td>\n",
       "      <td>Manhattan</td>\n",
       "      <td>Upper West Side</td>\n",
       "      <td>40.76807</td>\n",
       "      <td>-73.98342</td>\n",
       "      <td>United States</td>\n",
       "      <td>...</td>\n",
       "      <td>$206</td>\n",
       "      <td>1.0</td>\n",
       "      <td>0.0</td>\n",
       "      <td>NaN</td>\n",
       "      <td>NaN</td>\n",
       "      <td>3.0</td>\n",
       "      <td>1.0</td>\n",
       "      <td>69.0</td>\n",
       "      <td>NaN</td>\n",
       "      <td>NaN</td>\n",
       "    </tr>\n",
       "  </tbody>\n",
       "</table>\n",
       "<p>5 rows × 26 columns</p>\n",
       "</div>"
      ],
      "text/plain": [
       "             id                              NAME      host id  \\\n",
       "102594  6092437        Spare room in Williamsburg  12312296767   \n",
       "102595  6092990     Best Location near Columbia U  77864383453   \n",
       "102596  6093542    Comfy, bright room in Brooklyn  69050334417   \n",
       "102597  6094094  Big Studio-One Stop from Midtown  11160591270   \n",
       "102598  6094647              585 sf Luxury Studio  68170633372   \n",
       "\n",
       "       host_identity_verified    host name neighbourhood group  \\\n",
       "102594               verified         Krik            Brooklyn   \n",
       "102595            unconfirmed        Mifan           Manhattan   \n",
       "102596            unconfirmed        Megan            Brooklyn   \n",
       "102597            unconfirmed  Christopher              Queens   \n",
       "102598            unconfirmed      Rebecca           Manhattan   \n",
       "\n",
       "              neighbourhood       lat      long        country  ...  \\\n",
       "102594         Williamsburg  40.70862 -73.94651  United States  ...   \n",
       "102595  Morningside Heights  40.80460 -73.96545  United States  ...   \n",
       "102596           Park Slope  40.67505 -73.98045  United States  ...   \n",
       "102597     Long Island City  40.74989 -73.93777  United States  ...   \n",
       "102598      Upper West Side  40.76807 -73.98342  United States  ...   \n",
       "\n",
       "       service fee minimum nights number of reviews last review  \\\n",
       "102594       $169             1.0               0.0         NaN   \n",
       "102595       $167             1.0               1.0    7/6/2015   \n",
       "102596       $198             3.0               0.0         NaN   \n",
       "102597       $109             2.0               5.0  10/11/2015   \n",
       "102598       $206             1.0               0.0         NaN   \n",
       "\n",
       "        reviews per month review rate number calculated host listings count  \\\n",
       "102594                NaN                3.0                            1.0   \n",
       "102595               0.02                2.0                            2.0   \n",
       "102596                NaN                5.0                            1.0   \n",
       "102597               0.10                3.0                            1.0   \n",
       "102598                NaN                3.0                            1.0   \n",
       "\n",
       "        availability 365                                        house_rules  \\\n",
       "102594             227.0  No Smoking No Parties or Events of any kind Pl...   \n",
       "102595             395.0  House rules: Guests agree to the following ter...   \n",
       "102596             342.0                                                NaN   \n",
       "102597             386.0                                                NaN   \n",
       "102598              69.0                                                NaN   \n",
       "\n",
       "       license  \n",
       "102594     NaN  \n",
       "102595     NaN  \n",
       "102596     NaN  \n",
       "102597     NaN  \n",
       "102598     NaN  \n",
       "\n",
       "[5 rows x 26 columns]"
      ]
     },
     "execution_count": 7,
     "metadata": {},
     "output_type": "execute_result"
    }
   ],
   "source": [
    "airbnb.tail()"
   ]
  },
  {
   "cell_type": "code",
   "execution_count": 8,
   "id": "505ded47",
   "metadata": {
    "execution": {
     "iopub.execute_input": "2022-10-06T17:00:33.197338Z",
     "iopub.status.busy": "2022-10-06T17:00:33.196839Z",
     "iopub.status.idle": "2022-10-06T17:00:33.279094Z",
     "shell.execute_reply": "2022-10-06T17:00:33.277889Z"
    },
    "papermill": {
     "duration": 0.098026,
     "end_time": "2022-10-06T17:00:33.282697",
     "exception": false,
     "start_time": "2022-10-06T17:00:33.184671",
     "status": "completed"
    },
    "tags": []
   },
   "outputs": [
    {
     "data": {
      "text/plain": [
       "license                           102597\n",
       "house_rules                        52131\n",
       "last review                        15893\n",
       "reviews per month                  15879\n",
       "country                              532\n",
       "availability 365                     448\n",
       "minimum nights                       409\n",
       "host name                            406\n",
       "review rate number                   326\n",
       "calculated host listings count       319\n",
       "host_identity_verified               289\n",
       "service fee                          273\n",
       "NAME                                 250\n",
       "price                                247\n",
       "Construction year                    214\n",
       "number of reviews                    183\n",
       "country code                         131\n",
       "instant_bookable                     105\n",
       "cancellation_policy                   76\n",
       "neighbourhood group                   29\n",
       "neighbourhood                         16\n",
       "long                                   8\n",
       "lat                                    8\n",
       "id                                     0\n",
       "host id                                0\n",
       "room type                              0\n",
       "dtype: int64"
      ]
     },
     "execution_count": 8,
     "metadata": {},
     "output_type": "execute_result"
    }
   ],
   "source": [
    "#Find the rows with null values\n",
    "airbnb.isnull().sum().sort_values(ascending=False)\n",
    "#You can see only 3 columns has no null values : id, host id and room type"
   ]
  },
  {
   "cell_type": "code",
   "execution_count": 9,
   "id": "dff3de61",
   "metadata": {
    "execution": {
     "iopub.execute_input": "2022-10-06T17:00:33.307745Z",
     "iopub.status.busy": "2022-10-06T17:00:33.306509Z",
     "iopub.status.idle": "2022-10-06T17:00:33.345514Z",
     "shell.execute_reply": "2022-10-06T17:00:33.344169Z"
    },
    "papermill": {
     "duration": 0.054555,
     "end_time": "2022-10-06T17:00:33.348301",
     "exception": false,
     "start_time": "2022-10-06T17:00:33.293746",
     "status": "completed"
    },
    "tags": []
   },
   "outputs": [
    {
     "data": {
      "text/html": [
       "<div>\n",
       "<style scoped>\n",
       "    .dataframe tbody tr th:only-of-type {\n",
       "        vertical-align: middle;\n",
       "    }\n",
       "\n",
       "    .dataframe tbody tr th {\n",
       "        vertical-align: top;\n",
       "    }\n",
       "\n",
       "    .dataframe thead th {\n",
       "        text-align: right;\n",
       "    }\n",
       "</style>\n",
       "<table border=\"1\" class=\"dataframe\">\n",
       "  <thead>\n",
       "    <tr style=\"text-align: right;\">\n",
       "      <th></th>\n",
       "      <th>id</th>\n",
       "      <th>NAME</th>\n",
       "      <th>host id</th>\n",
       "      <th>host_identity_verified</th>\n",
       "      <th>host name</th>\n",
       "      <th>neighbourhood group</th>\n",
       "      <th>neighbourhood</th>\n",
       "      <th>lat</th>\n",
       "      <th>long</th>\n",
       "      <th>country</th>\n",
       "      <th>...</th>\n",
       "      <th>service fee</th>\n",
       "      <th>minimum nights</th>\n",
       "      <th>number of reviews</th>\n",
       "      <th>last review</th>\n",
       "      <th>reviews per month</th>\n",
       "      <th>review rate number</th>\n",
       "      <th>calculated host listings count</th>\n",
       "      <th>availability 365</th>\n",
       "      <th>house_rules</th>\n",
       "      <th>license</th>\n",
       "    </tr>\n",
       "  </thead>\n",
       "  <tbody>\n",
       "    <tr>\n",
       "      <th>11114</th>\n",
       "      <td>7139598</td>\n",
       "      <td>Cozy 1 BR on Bedford Avenue, Wburg</td>\n",
       "      <td>73023181304</td>\n",
       "      <td>verified</td>\n",
       "      <td>Christina</td>\n",
       "      <td>Brooklyn</td>\n",
       "      <td>Williamsburg</td>\n",
       "      <td>40.71764</td>\n",
       "      <td>-73.95689</td>\n",
       "      <td>United States</td>\n",
       "      <td>...</td>\n",
       "      <td>$140</td>\n",
       "      <td>1.0</td>\n",
       "      <td>1.0</td>\n",
       "      <td>1/3/2016</td>\n",
       "      <td>0.02</td>\n",
       "      <td>1.0</td>\n",
       "      <td>1.0</td>\n",
       "      <td>191.0</td>\n",
       "      <td>Dear Guest, Thank you for appreciating that I ...</td>\n",
       "      <td>41662/AL</td>\n",
       "    </tr>\n",
       "    <tr>\n",
       "      <th>72947</th>\n",
       "      <td>41289964</td>\n",
       "      <td>Cozy 1 BR on Bedford Avenue, Wburg</td>\n",
       "      <td>25804773951</td>\n",
       "      <td>unconfirmed</td>\n",
       "      <td>Christina</td>\n",
       "      <td>Brooklyn</td>\n",
       "      <td>Williamsburg</td>\n",
       "      <td>40.71764</td>\n",
       "      <td>-73.95689</td>\n",
       "      <td>United States</td>\n",
       "      <td>...</td>\n",
       "      <td>$140</td>\n",
       "      <td>1.0</td>\n",
       "      <td>1.0</td>\n",
       "      <td>1/3/2016</td>\n",
       "      <td>0.02</td>\n",
       "      <td>1.0</td>\n",
       "      <td>1.0</td>\n",
       "      <td>0.0</td>\n",
       "      <td>NaN</td>\n",
       "      <td>41662/AL</td>\n",
       "    </tr>\n",
       "  </tbody>\n",
       "</table>\n",
       "<p>2 rows × 26 columns</p>\n",
       "</div>"
      ],
      "text/plain": [
       "             id                                NAME      host id  \\\n",
       "11114   7139598  Cozy 1 BR on Bedford Avenue, Wburg  73023181304   \n",
       "72947  41289964  Cozy 1 BR on Bedford Avenue, Wburg  25804773951   \n",
       "\n",
       "      host_identity_verified  host name neighbourhood group neighbourhood  \\\n",
       "11114               verified  Christina            Brooklyn  Williamsburg   \n",
       "72947            unconfirmed  Christina            Brooklyn  Williamsburg   \n",
       "\n",
       "            lat      long        country  ... service fee minimum nights  \\\n",
       "11114  40.71764 -73.95689  United States  ...       $140             1.0   \n",
       "72947  40.71764 -73.95689  United States  ...       $140             1.0   \n",
       "\n",
       "      number of reviews last review  reviews per month review rate number  \\\n",
       "11114               1.0    1/3/2016               0.02                1.0   \n",
       "72947               1.0    1/3/2016               0.02                1.0   \n",
       "\n",
       "      calculated host listings count  availability 365  \\\n",
       "11114                            1.0             191.0   \n",
       "72947                            1.0               0.0   \n",
       "\n",
       "                                             house_rules   license  \n",
       "11114  Dear Guest, Thank you for appreciating that I ...  41662/AL  \n",
       "72947                                                NaN  41662/AL  \n",
       "\n",
       "[2 rows x 26 columns]"
      ]
     },
     "execution_count": 9,
     "metadata": {},
     "output_type": "execute_result"
    }
   ],
   "source": [
    "#You can also see license has only 2 rows with values with the above output. Please check the 2 non-null rows\n",
    "airbnb[~airbnb.license.isnull()]\n",
    "#You can see two rows with almost same data"
   ]
  },
  {
   "cell_type": "code",
   "execution_count": 10,
   "id": "55077cc1",
   "metadata": {
    "execution": {
     "iopub.execute_input": "2022-10-06T17:00:33.371913Z",
     "iopub.status.busy": "2022-10-06T17:00:33.371435Z",
     "iopub.status.idle": "2022-10-06T17:00:33.505317Z",
     "shell.execute_reply": "2022-10-06T17:00:33.504133Z"
    },
    "papermill": {
     "duration": 0.149073,
     "end_time": "2022-10-06T17:00:33.508346",
     "exception": false,
     "start_time": "2022-10-06T17:00:33.359273",
     "status": "completed"
    },
    "tags": []
   },
   "outputs": [
    {
     "data": {
      "text/plain": [
       "id                                102058\n",
       "host id                           102057\n",
       "NAME                               61281\n",
       "lat                                21991\n",
       "long                               17774\n",
       "host name                          13190\n",
       "last review                         2477\n",
       "house_rules                         1976\n",
       "price                               1151\n",
       "reviews per month                   1016\n",
       "number of reviews                    476\n",
       "availability 365                     438\n",
       "service fee                          231\n",
       "neighbourhood                        224\n",
       "minimum nights                       153\n",
       "calculated host listings count        78\n",
       "Construction year                     20\n",
       "neighbourhood group                    7\n",
       "review rate number                     5\n",
       "room type                              4\n",
       "cancellation_policy                    3\n",
       "instant_bookable                       2\n",
       "host_identity_verified                 2\n",
       "country code                           1\n",
       "country                                1\n",
       "license                                1\n",
       "dtype: int64"
      ]
     },
     "execution_count": 10,
     "metadata": {},
     "output_type": "execute_result"
    }
   ],
   "source": [
    "#Find the number of unique values\n",
    "airbnb.nunique().sort_values(ascending=False)"
   ]
  },
  {
   "cell_type": "code",
   "execution_count": 11,
   "id": "7243d28a",
   "metadata": {
    "execution": {
     "iopub.execute_input": "2022-10-06T17:00:33.532282Z",
     "iopub.status.busy": "2022-10-06T17:00:33.531780Z",
     "iopub.status.idle": "2022-10-06T17:00:33.791398Z",
     "shell.execute_reply": "2022-10-06T17:00:33.790451Z"
    },
    "papermill": {
     "duration": 0.274651,
     "end_time": "2022-10-06T17:00:33.794172",
     "exception": false,
     "start_time": "2022-10-06T17:00:33.519521",
     "status": "completed"
    },
    "tags": []
   },
   "outputs": [
    {
     "data": {
      "text/html": [
       "<div>\n",
       "<style scoped>\n",
       "    .dataframe tbody tr th:only-of-type {\n",
       "        vertical-align: middle;\n",
       "    }\n",
       "\n",
       "    .dataframe tbody tr th {\n",
       "        vertical-align: top;\n",
       "    }\n",
       "\n",
       "    .dataframe thead th {\n",
       "        text-align: right;\n",
       "    }\n",
       "</style>\n",
       "<table border=\"1\" class=\"dataframe\">\n",
       "  <thead>\n",
       "    <tr style=\"text-align: right;\">\n",
       "      <th></th>\n",
       "      <th>id</th>\n",
       "      <th>NAME</th>\n",
       "      <th>host id</th>\n",
       "      <th>host_identity_verified</th>\n",
       "      <th>host name</th>\n",
       "      <th>neighbourhood group</th>\n",
       "      <th>neighbourhood</th>\n",
       "      <th>lat</th>\n",
       "      <th>long</th>\n",
       "      <th>country</th>\n",
       "      <th>...</th>\n",
       "      <th>service fee</th>\n",
       "      <th>minimum nights</th>\n",
       "      <th>number of reviews</th>\n",
       "      <th>last review</th>\n",
       "      <th>reviews per month</th>\n",
       "      <th>review rate number</th>\n",
       "      <th>calculated host listings count</th>\n",
       "      <th>availability 365</th>\n",
       "      <th>house_rules</th>\n",
       "      <th>license</th>\n",
       "    </tr>\n",
       "  </thead>\n",
       "  <tbody>\n",
       "    <tr>\n",
       "      <th>102058</th>\n",
       "      <td>35506831</td>\n",
       "      <td>Master Bedroom with private Bathroom &amp; Balcony</td>\n",
       "      <td>55110690425</td>\n",
       "      <td>unconfirmed</td>\n",
       "      <td>UZeyir</td>\n",
       "      <td>Queens</td>\n",
       "      <td>Maspeth</td>\n",
       "      <td>40.74056</td>\n",
       "      <td>-73.90635</td>\n",
       "      <td>United States</td>\n",
       "      <td>...</td>\n",
       "      <td>$141</td>\n",
       "      <td>1.0</td>\n",
       "      <td>1.0</td>\n",
       "      <td>11/14/2021</td>\n",
       "      <td>0.27</td>\n",
       "      <td>3.0</td>\n",
       "      <td>1.0</td>\n",
       "      <td>339.0</td>\n",
       "      <td>NaN</td>\n",
       "      <td>NaN</td>\n",
       "    </tr>\n",
       "    <tr>\n",
       "      <th>102059</th>\n",
       "      <td>35507383</td>\n",
       "      <td>Cozy 2 br in sunny Fort Greene apt</td>\n",
       "      <td>80193772189</td>\n",
       "      <td>verified</td>\n",
       "      <td>Sally</td>\n",
       "      <td>Brooklyn</td>\n",
       "      <td>Fort Greene</td>\n",
       "      <td>40.68701</td>\n",
       "      <td>-73.97555</td>\n",
       "      <td>United States</td>\n",
       "      <td>...</td>\n",
       "      <td>$130</td>\n",
       "      <td>3.0</td>\n",
       "      <td>38.0</td>\n",
       "      <td>11/13/2021</td>\n",
       "      <td>0.27</td>\n",
       "      <td>3.0</td>\n",
       "      <td>1.0</td>\n",
       "      <td>0.0</td>\n",
       "      <td>NaN</td>\n",
       "      <td>NaN</td>\n",
       "    </tr>\n",
       "    <tr>\n",
       "      <th>102060</th>\n",
       "      <td>35507935</td>\n",
       "      <td>Duplex w/ Terrace @ Box House Hotel</td>\n",
       "      <td>72991962259</td>\n",
       "      <td>verified</td>\n",
       "      <td>The Box House Hotel</td>\n",
       "      <td>Brooklyn</td>\n",
       "      <td>Greenpoint</td>\n",
       "      <td>40.73756</td>\n",
       "      <td>-73.95350</td>\n",
       "      <td>United States</td>\n",
       "      <td>...</td>\n",
       "      <td>$181</td>\n",
       "      <td>3.0</td>\n",
       "      <td>10.0</td>\n",
       "      <td>11/13/2021</td>\n",
       "      <td>0.08</td>\n",
       "      <td>3.0</td>\n",
       "      <td>30.0</td>\n",
       "      <td>32.0</td>\n",
       "      <td>NaN</td>\n",
       "      <td>NaN</td>\n",
       "    </tr>\n",
       "    <tr>\n",
       "      <th>102061</th>\n",
       "      <td>35508488</td>\n",
       "      <td>Cozy, clean Greenpoint room with yard access</td>\n",
       "      <td>74975156081</td>\n",
       "      <td>verified</td>\n",
       "      <td>Dawn</td>\n",
       "      <td>Brooklyn</td>\n",
       "      <td>Greenpoint</td>\n",
       "      <td>40.72516</td>\n",
       "      <td>-73.95004</td>\n",
       "      <td>United States</td>\n",
       "      <td>...</td>\n",
       "      <td>$118</td>\n",
       "      <td>30.0</td>\n",
       "      <td>38.0</td>\n",
       "      <td>11/13/2021</td>\n",
       "      <td>0.34</td>\n",
       "      <td>5.0</td>\n",
       "      <td>2.0</td>\n",
       "      <td>324.0</td>\n",
       "      <td>NaN</td>\n",
       "      <td>NaN</td>\n",
       "    </tr>\n",
       "    <tr>\n",
       "      <th>102062</th>\n",
       "      <td>35509040</td>\n",
       "      <td>2BR XL Loft: Cleaning CDC guidelines implemented</td>\n",
       "      <td>85844415221</td>\n",
       "      <td>unconfirmed</td>\n",
       "      <td>Vida</td>\n",
       "      <td>Brooklyn</td>\n",
       "      <td>Greenpoint</td>\n",
       "      <td>40.72732</td>\n",
       "      <td>-73.94185</td>\n",
       "      <td>United States</td>\n",
       "      <td>...</td>\n",
       "      <td>$71</td>\n",
       "      <td>30.0</td>\n",
       "      <td>13.0</td>\n",
       "      <td>11/13/2021</td>\n",
       "      <td>0.14</td>\n",
       "      <td>4.0</td>\n",
       "      <td>28.0</td>\n",
       "      <td>336.0</td>\n",
       "      <td>NaN</td>\n",
       "      <td>NaN</td>\n",
       "    </tr>\n",
       "    <tr>\n",
       "      <th>...</th>\n",
       "      <td>...</td>\n",
       "      <td>...</td>\n",
       "      <td>...</td>\n",
       "      <td>...</td>\n",
       "      <td>...</td>\n",
       "      <td>...</td>\n",
       "      <td>...</td>\n",
       "      <td>...</td>\n",
       "      <td>...</td>\n",
       "      <td>...</td>\n",
       "      <td>...</td>\n",
       "      <td>...</td>\n",
       "      <td>...</td>\n",
       "      <td>...</td>\n",
       "      <td>...</td>\n",
       "      <td>...</td>\n",
       "      <td>...</td>\n",
       "      <td>...</td>\n",
       "      <td>...</td>\n",
       "      <td>...</td>\n",
       "      <td>...</td>\n",
       "    </tr>\n",
       "    <tr>\n",
       "      <th>102594</th>\n",
       "      <td>6092437</td>\n",
       "      <td>Spare room in Williamsburg</td>\n",
       "      <td>12312296767</td>\n",
       "      <td>verified</td>\n",
       "      <td>Krik</td>\n",
       "      <td>Brooklyn</td>\n",
       "      <td>Williamsburg</td>\n",
       "      <td>40.70862</td>\n",
       "      <td>-73.94651</td>\n",
       "      <td>United States</td>\n",
       "      <td>...</td>\n",
       "      <td>$169</td>\n",
       "      <td>1.0</td>\n",
       "      <td>0.0</td>\n",
       "      <td>NaN</td>\n",
       "      <td>NaN</td>\n",
       "      <td>3.0</td>\n",
       "      <td>1.0</td>\n",
       "      <td>227.0</td>\n",
       "      <td>No Smoking No Parties or Events of any kind Pl...</td>\n",
       "      <td>NaN</td>\n",
       "    </tr>\n",
       "    <tr>\n",
       "      <th>102595</th>\n",
       "      <td>6092990</td>\n",
       "      <td>Best Location near Columbia U</td>\n",
       "      <td>77864383453</td>\n",
       "      <td>unconfirmed</td>\n",
       "      <td>Mifan</td>\n",
       "      <td>Manhattan</td>\n",
       "      <td>Morningside Heights</td>\n",
       "      <td>40.80460</td>\n",
       "      <td>-73.96545</td>\n",
       "      <td>United States</td>\n",
       "      <td>...</td>\n",
       "      <td>$167</td>\n",
       "      <td>1.0</td>\n",
       "      <td>1.0</td>\n",
       "      <td>7/6/2015</td>\n",
       "      <td>0.02</td>\n",
       "      <td>2.0</td>\n",
       "      <td>2.0</td>\n",
       "      <td>395.0</td>\n",
       "      <td>House rules: Guests agree to the following ter...</td>\n",
       "      <td>NaN</td>\n",
       "    </tr>\n",
       "    <tr>\n",
       "      <th>102596</th>\n",
       "      <td>6093542</td>\n",
       "      <td>Comfy, bright room in Brooklyn</td>\n",
       "      <td>69050334417</td>\n",
       "      <td>unconfirmed</td>\n",
       "      <td>Megan</td>\n",
       "      <td>Brooklyn</td>\n",
       "      <td>Park Slope</td>\n",
       "      <td>40.67505</td>\n",
       "      <td>-73.98045</td>\n",
       "      <td>United States</td>\n",
       "      <td>...</td>\n",
       "      <td>$198</td>\n",
       "      <td>3.0</td>\n",
       "      <td>0.0</td>\n",
       "      <td>NaN</td>\n",
       "      <td>NaN</td>\n",
       "      <td>5.0</td>\n",
       "      <td>1.0</td>\n",
       "      <td>342.0</td>\n",
       "      <td>NaN</td>\n",
       "      <td>NaN</td>\n",
       "    </tr>\n",
       "    <tr>\n",
       "      <th>102597</th>\n",
       "      <td>6094094</td>\n",
       "      <td>Big Studio-One Stop from Midtown</td>\n",
       "      <td>11160591270</td>\n",
       "      <td>unconfirmed</td>\n",
       "      <td>Christopher</td>\n",
       "      <td>Queens</td>\n",
       "      <td>Long Island City</td>\n",
       "      <td>40.74989</td>\n",
       "      <td>-73.93777</td>\n",
       "      <td>United States</td>\n",
       "      <td>...</td>\n",
       "      <td>$109</td>\n",
       "      <td>2.0</td>\n",
       "      <td>5.0</td>\n",
       "      <td>10/11/2015</td>\n",
       "      <td>0.10</td>\n",
       "      <td>3.0</td>\n",
       "      <td>1.0</td>\n",
       "      <td>386.0</td>\n",
       "      <td>NaN</td>\n",
       "      <td>NaN</td>\n",
       "    </tr>\n",
       "    <tr>\n",
       "      <th>102598</th>\n",
       "      <td>6094647</td>\n",
       "      <td>585 sf Luxury Studio</td>\n",
       "      <td>68170633372</td>\n",
       "      <td>unconfirmed</td>\n",
       "      <td>Rebecca</td>\n",
       "      <td>Manhattan</td>\n",
       "      <td>Upper West Side</td>\n",
       "      <td>40.76807</td>\n",
       "      <td>-73.98342</td>\n",
       "      <td>United States</td>\n",
       "      <td>...</td>\n",
       "      <td>$206</td>\n",
       "      <td>1.0</td>\n",
       "      <td>0.0</td>\n",
       "      <td>NaN</td>\n",
       "      <td>NaN</td>\n",
       "      <td>3.0</td>\n",
       "      <td>1.0</td>\n",
       "      <td>69.0</td>\n",
       "      <td>NaN</td>\n",
       "      <td>NaN</td>\n",
       "    </tr>\n",
       "  </tbody>\n",
       "</table>\n",
       "<p>541 rows × 26 columns</p>\n",
       "</div>"
      ],
      "text/plain": [
       "              id                                              NAME  \\\n",
       "102058  35506831    Master Bedroom with private Bathroom & Balcony   \n",
       "102059  35507383                Cozy 2 br in sunny Fort Greene apt   \n",
       "102060  35507935               Duplex w/ Terrace @ Box House Hotel   \n",
       "102061  35508488      Cozy, clean Greenpoint room with yard access   \n",
       "102062  35509040  2BR XL Loft: Cleaning CDC guidelines implemented   \n",
       "...          ...                                               ...   \n",
       "102594   6092437                        Spare room in Williamsburg   \n",
       "102595   6092990                     Best Location near Columbia U   \n",
       "102596   6093542                    Comfy, bright room in Brooklyn   \n",
       "102597   6094094                  Big Studio-One Stop from Midtown   \n",
       "102598   6094647                              585 sf Luxury Studio   \n",
       "\n",
       "            host id host_identity_verified            host name  \\\n",
       "102058  55110690425            unconfirmed               UZeyir   \n",
       "102059  80193772189               verified                Sally   \n",
       "102060  72991962259               verified  The Box House Hotel   \n",
       "102061  74975156081               verified                 Dawn   \n",
       "102062  85844415221            unconfirmed                 Vida   \n",
       "...             ...                    ...                  ...   \n",
       "102594  12312296767               verified                 Krik   \n",
       "102595  77864383453            unconfirmed                Mifan   \n",
       "102596  69050334417            unconfirmed                Megan   \n",
       "102597  11160591270            unconfirmed          Christopher   \n",
       "102598  68170633372            unconfirmed              Rebecca   \n",
       "\n",
       "       neighbourhood group        neighbourhood       lat      long  \\\n",
       "102058              Queens              Maspeth  40.74056 -73.90635   \n",
       "102059            Brooklyn          Fort Greene  40.68701 -73.97555   \n",
       "102060            Brooklyn           Greenpoint  40.73756 -73.95350   \n",
       "102061            Brooklyn           Greenpoint  40.72516 -73.95004   \n",
       "102062            Brooklyn           Greenpoint  40.72732 -73.94185   \n",
       "...                    ...                  ...       ...       ...   \n",
       "102594            Brooklyn         Williamsburg  40.70862 -73.94651   \n",
       "102595           Manhattan  Morningside Heights  40.80460 -73.96545   \n",
       "102596            Brooklyn           Park Slope  40.67505 -73.98045   \n",
       "102597              Queens     Long Island City  40.74989 -73.93777   \n",
       "102598           Manhattan      Upper West Side  40.76807 -73.98342   \n",
       "\n",
       "              country  ... service fee minimum nights number of reviews  \\\n",
       "102058  United States  ...       $141             1.0               1.0   \n",
       "102059  United States  ...       $130             3.0              38.0   \n",
       "102060  United States  ...       $181             3.0              10.0   \n",
       "102061  United States  ...       $118            30.0              38.0   \n",
       "102062  United States  ...        $71            30.0              13.0   \n",
       "...               ...  ...         ...            ...               ...   \n",
       "102594  United States  ...       $169             1.0               0.0   \n",
       "102595  United States  ...       $167             1.0               1.0   \n",
       "102596  United States  ...       $198             3.0               0.0   \n",
       "102597  United States  ...       $109             2.0               5.0   \n",
       "102598  United States  ...       $206             1.0               0.0   \n",
       "\n",
       "       last review  reviews per month review rate number  \\\n",
       "102058  11/14/2021               0.27                3.0   \n",
       "102059  11/13/2021               0.27                3.0   \n",
       "102060  11/13/2021               0.08                3.0   \n",
       "102061  11/13/2021               0.34                5.0   \n",
       "102062  11/13/2021               0.14                4.0   \n",
       "...            ...                ...                ...   \n",
       "102594         NaN                NaN                3.0   \n",
       "102595    7/6/2015               0.02                2.0   \n",
       "102596         NaN                NaN                5.0   \n",
       "102597  10/11/2015               0.10                3.0   \n",
       "102598         NaN                NaN                3.0   \n",
       "\n",
       "       calculated host listings count  availability 365  \\\n",
       "102058                            1.0             339.0   \n",
       "102059                            1.0               0.0   \n",
       "102060                           30.0              32.0   \n",
       "102061                            2.0             324.0   \n",
       "102062                           28.0             336.0   \n",
       "...                               ...               ...   \n",
       "102594                            1.0             227.0   \n",
       "102595                            2.0             395.0   \n",
       "102596                            1.0             342.0   \n",
       "102597                            1.0             386.0   \n",
       "102598                            1.0              69.0   \n",
       "\n",
       "                                              house_rules license  \n",
       "102058                                                NaN     NaN  \n",
       "102059                                                NaN     NaN  \n",
       "102060                                                NaN     NaN  \n",
       "102061                                                NaN     NaN  \n",
       "102062                                                NaN     NaN  \n",
       "...                                                   ...     ...  \n",
       "102594  No Smoking No Parties or Events of any kind Pl...     NaN  \n",
       "102595  House rules: Guests agree to the following ter...     NaN  \n",
       "102596                                                NaN     NaN  \n",
       "102597                                                NaN     NaN  \n",
       "102598                                                NaN     NaN  \n",
       "\n",
       "[541 rows x 26 columns]"
      ]
     },
     "execution_count": 11,
     "metadata": {},
     "output_type": "execute_result"
    }
   ],
   "source": [
    "#From above output, you can see id is also duplicated. check them once\n",
    "airbnb[airbnb.duplicated()]"
   ]
  },
  {
   "cell_type": "markdown",
   "id": "70a15826",
   "metadata": {
    "papermill": {
     "duration": 0.011723,
     "end_time": "2022-10-06T17:00:33.817732",
     "exception": false,
     "start_time": "2022-10-06T17:00:33.806009",
     "status": "completed"
    },
    "tags": []
   },
   "source": [
    "# 4. **Data Cleaning**"
   ]
  },
  {
   "cell_type": "code",
   "execution_count": 12,
   "id": "87b945f7",
   "metadata": {
    "execution": {
     "iopub.execute_input": "2022-10-06T17:00:33.843264Z",
     "iopub.status.busy": "2022-10-06T17:00:33.842533Z",
     "iopub.status.idle": "2022-10-06T17:00:34.104538Z",
     "shell.execute_reply": "2022-10-06T17:00:34.103324Z"
    },
    "papermill": {
     "duration": 0.27815,
     "end_time": "2022-10-06T17:00:34.107643",
     "exception": false,
     "start_time": "2022-10-06T17:00:33.829493",
     "status": "completed"
    },
    "tags": []
   },
   "outputs": [],
   "source": [
    "#Lets start by deleting the duplicated rows listed above\n",
    "airbnb.drop_duplicates(keep='first', inplace=True)"
   ]
  },
  {
   "cell_type": "code",
   "execution_count": 13,
   "id": "88eb9e87",
   "metadata": {
    "execution": {
     "iopub.execute_input": "2022-10-06T17:00:34.133270Z",
     "iopub.status.busy": "2022-10-06T17:00:34.132534Z",
     "iopub.status.idle": "2022-10-06T17:00:34.163669Z",
     "shell.execute_reply": "2022-10-06T17:00:34.162342Z"
    },
    "papermill": {
     "duration": 0.046987,
     "end_time": "2022-10-06T17:00:34.166487",
     "exception": false,
     "start_time": "2022-10-06T17:00:34.119500",
     "status": "completed"
    },
    "tags": []
   },
   "outputs": [
    {
     "data": {
      "text/html": [
       "<div>\n",
       "<style scoped>\n",
       "    .dataframe tbody tr th:only-of-type {\n",
       "        vertical-align: middle;\n",
       "    }\n",
       "\n",
       "    .dataframe tbody tr th {\n",
       "        vertical-align: top;\n",
       "    }\n",
       "\n",
       "    .dataframe thead th {\n",
       "        text-align: right;\n",
       "    }\n",
       "</style>\n",
       "<table border=\"1\" class=\"dataframe\">\n",
       "  <thead>\n",
       "    <tr style=\"text-align: right;\">\n",
       "      <th></th>\n",
       "      <th>id</th>\n",
       "      <th>NAME</th>\n",
       "      <th>host id</th>\n",
       "      <th>host_identity_verified</th>\n",
       "      <th>host name</th>\n",
       "      <th>neighbourhood group</th>\n",
       "      <th>neighbourhood</th>\n",
       "      <th>lat</th>\n",
       "      <th>long</th>\n",
       "      <th>country</th>\n",
       "      <th>...</th>\n",
       "      <th>service fee</th>\n",
       "      <th>minimum nights</th>\n",
       "      <th>number of reviews</th>\n",
       "      <th>last review</th>\n",
       "      <th>reviews per month</th>\n",
       "      <th>review rate number</th>\n",
       "      <th>calculated host listings count</th>\n",
       "      <th>availability 365</th>\n",
       "      <th>house_rules</th>\n",
       "      <th>license</th>\n",
       "    </tr>\n",
       "  </thead>\n",
       "  <tbody>\n",
       "    <tr>\n",
       "      <th>11114</th>\n",
       "      <td>7139598</td>\n",
       "      <td>Cozy 1 BR on Bedford Avenue, Wburg</td>\n",
       "      <td>73023181304</td>\n",
       "      <td>verified</td>\n",
       "      <td>Christina</td>\n",
       "      <td>Brooklyn</td>\n",
       "      <td>Williamsburg</td>\n",
       "      <td>40.71764</td>\n",
       "      <td>-73.95689</td>\n",
       "      <td>United States</td>\n",
       "      <td>...</td>\n",
       "      <td>$140</td>\n",
       "      <td>1.0</td>\n",
       "      <td>1.0</td>\n",
       "      <td>1/3/2016</td>\n",
       "      <td>0.02</td>\n",
       "      <td>1.0</td>\n",
       "      <td>1.0</td>\n",
       "      <td>191.0</td>\n",
       "      <td>Dear Guest, Thank you for appreciating that I ...</td>\n",
       "      <td>41662/AL</td>\n",
       "    </tr>\n",
       "    <tr>\n",
       "      <th>72947</th>\n",
       "      <td>41289964</td>\n",
       "      <td>Cozy 1 BR on Bedford Avenue, Wburg</td>\n",
       "      <td>25804773951</td>\n",
       "      <td>unconfirmed</td>\n",
       "      <td>Christina</td>\n",
       "      <td>Brooklyn</td>\n",
       "      <td>Williamsburg</td>\n",
       "      <td>40.71764</td>\n",
       "      <td>-73.95689</td>\n",
       "      <td>United States</td>\n",
       "      <td>...</td>\n",
       "      <td>$140</td>\n",
       "      <td>1.0</td>\n",
       "      <td>1.0</td>\n",
       "      <td>1/3/2016</td>\n",
       "      <td>0.02</td>\n",
       "      <td>1.0</td>\n",
       "      <td>1.0</td>\n",
       "      <td>0.0</td>\n",
       "      <td>NaN</td>\n",
       "      <td>41662/AL</td>\n",
       "    </tr>\n",
       "  </tbody>\n",
       "</table>\n",
       "<p>2 rows × 26 columns</p>\n",
       "</div>"
      ],
      "text/plain": [
       "             id                                NAME      host id  \\\n",
       "11114   7139598  Cozy 1 BR on Bedford Avenue, Wburg  73023181304   \n",
       "72947  41289964  Cozy 1 BR on Bedford Avenue, Wburg  25804773951   \n",
       "\n",
       "      host_identity_verified  host name neighbourhood group neighbourhood  \\\n",
       "11114               verified  Christina            Brooklyn  Williamsburg   \n",
       "72947            unconfirmed  Christina            Brooklyn  Williamsburg   \n",
       "\n",
       "            lat      long        country  ... service fee minimum nights  \\\n",
       "11114  40.71764 -73.95689  United States  ...       $140             1.0   \n",
       "72947  40.71764 -73.95689  United States  ...       $140             1.0   \n",
       "\n",
       "      number of reviews last review  reviews per month review rate number  \\\n",
       "11114               1.0    1/3/2016               0.02                1.0   \n",
       "72947               1.0    1/3/2016               0.02                1.0   \n",
       "\n",
       "      calculated host listings count  availability 365  \\\n",
       "11114                            1.0             191.0   \n",
       "72947                            1.0               0.0   \n",
       "\n",
       "                                             house_rules   license  \n",
       "11114  Dear Guest, Thank you for appreciating that I ...  41662/AL  \n",
       "72947                                                NaN  41662/AL  \n",
       "\n",
       "[2 rows x 26 columns]"
      ]
     },
     "execution_count": 13,
     "metadata": {},
     "output_type": "execute_result"
    }
   ],
   "source": [
    "#Lets delete the duplicate row on license which we checked earlier\n",
    "airbnb[~airbnb.license.isnull()]"
   ]
  },
  {
   "cell_type": "code",
   "execution_count": 14,
   "id": "c2baa607",
   "metadata": {
    "execution": {
     "iopub.execute_input": "2022-10-06T17:00:34.193055Z",
     "iopub.status.busy": "2022-10-06T17:00:34.191883Z",
     "iopub.status.idle": "2022-10-06T17:00:34.247835Z",
     "shell.execute_reply": "2022-10-06T17:00:34.246733Z"
    },
    "papermill": {
     "duration": 0.072319,
     "end_time": "2022-10-06T17:00:34.250814",
     "exception": false,
     "start_time": "2022-10-06T17:00:34.178495",
     "status": "completed"
    },
    "tags": []
   },
   "outputs": [],
   "source": [
    "#Lets the keep the above row row with more apt data and delete the second one\n",
    "airbnb.drop(airbnb.index[72947],inplace=True)"
   ]
  },
  {
   "cell_type": "code",
   "execution_count": 15,
   "id": "6ca88683",
   "metadata": {
    "execution": {
     "iopub.execute_input": "2022-10-06T17:00:34.277859Z",
     "iopub.status.busy": "2022-10-06T17:00:34.276867Z",
     "iopub.status.idle": "2022-10-06T17:00:34.407204Z",
     "shell.execute_reply": "2022-10-06T17:00:34.405894Z"
    },
    "papermill": {
     "duration": 0.146596,
     "end_time": "2022-10-06T17:00:34.409950",
     "exception": false,
     "start_time": "2022-10-06T17:00:34.263354",
     "status": "completed"
    },
    "tags": []
   },
   "outputs": [
    {
     "data": {
      "text/plain": [
       "(102057, 26)"
      ]
     },
     "execution_count": 15,
     "metadata": {},
     "output_type": "execute_result"
    },
    {
     "data": {
      "text/plain": [
       "id                                102057\n",
       "NAME                               61281\n",
       "host id                           102056\n",
       "host_identity_verified                 2\n",
       "host name                          13190\n",
       "neighbourhood group                    7\n",
       "neighbourhood                        224\n",
       "lat                                21991\n",
       "long                               17774\n",
       "country                                1\n",
       "country code                           1\n",
       "instant_bookable                       2\n",
       "cancellation_policy                    3\n",
       "room type                              4\n",
       "Construction year                     20\n",
       "price                               1151\n",
       "service fee                          231\n",
       "minimum nights                       153\n",
       "number of reviews                    476\n",
       "last review                         2477\n",
       "reviews per month                   1016\n",
       "review rate number                     5\n",
       "calculated host listings count        78\n",
       "availability 365                     438\n",
       "house_rules                         1976\n",
       "license                                1\n",
       "dtype: int64"
      ]
     },
     "execution_count": 15,
     "metadata": {},
     "output_type": "execute_result"
    }
   ],
   "source": [
    "#Now check the shape of data\n",
    "airbnb.shape\n",
    "airbnb.nunique()\n",
    "#Now the unique values look good"
   ]
  },
  {
   "cell_type": "code",
   "execution_count": 16,
   "id": "fc6ab3bd",
   "metadata": {
    "execution": {
     "iopub.execute_input": "2022-10-06T17:00:34.438535Z",
     "iopub.status.busy": "2022-10-06T17:00:34.435755Z",
     "iopub.status.idle": "2022-10-06T17:00:34.452802Z",
     "shell.execute_reply": "2022-10-06T17:00:34.451464Z"
    },
    "papermill": {
     "duration": 0.033711,
     "end_time": "2022-10-06T17:00:34.455742",
     "exception": false,
     "start_time": "2022-10-06T17:00:34.422031",
     "status": "completed"
    },
    "tags": []
   },
   "outputs": [
    {
     "data": {
      "text/plain": [
       "Manhattan        43557\n",
       "Brooklyn         41629\n",
       "Queens           13197\n",
       "Bronx             2694\n",
       "Staten Island      949\n",
       "brookln              1\n",
       "manhatan             1\n",
       "Name: neighbourhood group, dtype: int64"
      ]
     },
     "execution_count": 16,
     "metadata": {},
     "output_type": "execute_result"
    }
   ],
   "source": [
    "#lets find the type of data in few columns\n",
    "airbnb['neighbourhood group'].value_counts()"
   ]
  },
  {
   "cell_type": "code",
   "execution_count": 17,
   "id": "1c203656",
   "metadata": {
    "execution": {
     "iopub.execute_input": "2022-10-06T17:00:34.483027Z",
     "iopub.status.busy": "2022-10-06T17:00:34.481712Z",
     "iopub.status.idle": "2022-10-06T17:00:34.500928Z",
     "shell.execute_reply": "2022-10-06T17:00:34.499619Z"
    },
    "papermill": {
     "duration": 0.036264,
     "end_time": "2022-10-06T17:00:34.504283",
     "exception": false,
     "start_time": "2022-10-06T17:00:34.468019",
     "status": "completed"
    },
    "tags": []
   },
   "outputs": [],
   "source": [
    "#you can see there is discrepencies with teh values just with spelling/case. Lets replace them\n",
    "airbnb['neighbourhood group'].replace(['manhatan','brookln'],['Manhattan','Brooklyn'],inplace=True)"
   ]
  },
  {
   "cell_type": "code",
   "execution_count": 18,
   "id": "ff242f9f",
   "metadata": {
    "execution": {
     "iopub.execute_input": "2022-10-06T17:00:34.530919Z",
     "iopub.status.busy": "2022-10-06T17:00:34.530408Z",
     "iopub.status.idle": "2022-10-06T17:00:34.545350Z",
     "shell.execute_reply": "2022-10-06T17:00:34.544180Z"
    },
    "papermill": {
     "duration": 0.031191,
     "end_time": "2022-10-06T17:00:34.547857",
     "exception": false,
     "start_time": "2022-10-06T17:00:34.516666",
     "status": "completed"
    },
    "tags": []
   },
   "outputs": [
    {
     "data": {
      "text/plain": [
       "Manhattan        43558\n",
       "Brooklyn         41630\n",
       "Queens           13197\n",
       "Bronx             2694\n",
       "Staten Island      949\n",
       "Name: neighbourhood group, dtype: int64"
      ]
     },
     "execution_count": 18,
     "metadata": {},
     "output_type": "execute_result"
    }
   ],
   "source": [
    "#Now check again the values of neighbour group\n",
    "airbnb['neighbourhood group'].value_counts()"
   ]
  },
  {
   "cell_type": "code",
   "execution_count": 19,
   "id": "572655b8",
   "metadata": {
    "execution": {
     "iopub.execute_input": "2022-10-06T17:00:34.575631Z",
     "iopub.status.busy": "2022-10-06T17:00:34.574688Z",
     "iopub.status.idle": "2022-10-06T17:00:34.626682Z",
     "shell.execute_reply": "2022-10-06T17:00:34.625470Z"
    },
    "papermill": {
     "duration": 0.068842,
     "end_time": "2022-10-06T17:00:34.629371",
     "exception": false,
     "start_time": "2022-10-06T17:00:34.560529",
     "status": "completed"
    },
    "tags": []
   },
   "outputs": [
    {
     "data": {
      "text/plain": [
       "unconfirmed    50943\n",
       "verified       50825\n",
       "Name: host_identity_verified, dtype: int64"
      ]
     },
     "execution_count": 19,
     "metadata": {},
     "output_type": "execute_result"
    },
    {
     "data": {
      "text/plain": [
       "False    51186\n",
       "True     50766\n",
       "Name: instant_bookable, dtype: int64"
      ]
     },
     "execution_count": 19,
     "metadata": {},
     "output_type": "execute_result"
    },
    {
     "data": {
      "text/plain": [
       "Entire home/apt    53429\n",
       "Private room       46305\n",
       "Shared room         2208\n",
       "Hotel room           115\n",
       "Name: room type, dtype: int64"
      ]
     },
     "execution_count": 19,
     "metadata": {},
     "output_type": "execute_result"
    },
    {
     "data": {
      "text/plain": [
       "moderate    34162\n",
       "strict      33929\n",
       "flexible    33890\n",
       "Name: cancellation_policy, dtype: int64"
      ]
     },
     "execution_count": 19,
     "metadata": {},
     "output_type": "execute_result"
    },
    {
     "data": {
      "text/plain": [
       "5.0    23251\n",
       "4.0    23200\n",
       "3.0    23130\n",
       "2.0    22972\n",
       "1.0     9185\n",
       "Name: review rate number, dtype: int64"
      ]
     },
     "execution_count": 19,
     "metadata": {},
     "output_type": "execute_result"
    }
   ],
   "source": [
    "#Now chekc the value counts of other columns\n",
    "airbnb['host_identity_verified'].value_counts()\n",
    "airbnb['instant_bookable'].value_counts()\n",
    "airbnb['room type'].value_counts()\n",
    "airbnb['cancellation_policy'].value_counts()\n",
    "airbnb['review rate number'].value_counts()"
   ]
  },
  {
   "cell_type": "code",
   "execution_count": 20,
   "id": "b933f0ea",
   "metadata": {
    "execution": {
     "iopub.execute_input": "2022-10-06T17:00:34.656772Z",
     "iopub.status.busy": "2022-10-06T17:00:34.656282Z",
     "iopub.status.idle": "2022-10-06T17:00:34.740112Z",
     "shell.execute_reply": "2022-10-06T17:00:34.738298Z"
    },
    "papermill": {
     "duration": 0.100568,
     "end_time": "2022-10-06T17:00:34.742769",
     "exception": false,
     "start_time": "2022-10-06T17:00:34.642201",
     "status": "completed"
    },
    "tags": []
   },
   "outputs": [
    {
     "name": "stdout",
     "output_type": "stream",
     "text": [
      "<class 'pandas.core.frame.DataFrame'>\n",
      "Int64Index: 102057 entries, 0 to 102057\n",
      "Data columns (total 26 columns):\n",
      " #   Column                          Non-Null Count   Dtype  \n",
      "---  ------                          --------------   -----  \n",
      " 0   id                              102057 non-null  int64  \n",
      " 1   NAME                            101807 non-null  object \n",
      " 2   host id                         102057 non-null  int64  \n",
      " 3   host_identity_verified          101768 non-null  object \n",
      " 4   host name                       101653 non-null  object \n",
      " 5   neighbourhood group             102028 non-null  object \n",
      " 6   neighbourhood                   102041 non-null  object \n",
      " 7   lat                             102049 non-null  float64\n",
      " 8   long                            102049 non-null  float64\n",
      " 9   country                         101525 non-null  object \n",
      " 10  country code                    101926 non-null  object \n",
      " 11  instant_bookable                101952 non-null  object \n",
      " 12  cancellation_policy             101981 non-null  object \n",
      " 13  room type                       102057 non-null  object \n",
      " 14  Construction year               101843 non-null  float64\n",
      " 15  price                           101810 non-null  object \n",
      " 16  service fee                     101784 non-null  object \n",
      " 17  minimum nights                  101657 non-null  float64\n",
      " 18  number of reviews               101874 non-null  float64\n",
      " 19  last review                     86225 non-null   object \n",
      " 20  reviews per month               86239 non-null   float64\n",
      " 21  review rate number              101738 non-null  float64\n",
      " 22  calculated host listings count  101738 non-null  float64\n",
      " 23  availability 365                101609 non-null  float64\n",
      " 24  house_rules                     50216 non-null   object \n",
      " 25  license                         1 non-null       object \n",
      "dtypes: float64(9), int64(2), object(15)\n",
      "memory usage: 21.0+ MB\n"
     ]
    }
   ],
   "source": [
    "airbnb.info()"
   ]
  },
  {
   "cell_type": "code",
   "execution_count": 21,
   "id": "bd3f0ccb",
   "metadata": {
    "execution": {
     "iopub.execute_input": "2022-10-06T17:00:34.771049Z",
     "iopub.status.busy": "2022-10-06T17:00:34.770231Z",
     "iopub.status.idle": "2022-10-06T17:00:35.004096Z",
     "shell.execute_reply": "2022-10-06T17:00:35.002733Z"
    },
    "papermill": {
     "duration": 0.251494,
     "end_time": "2022-10-06T17:00:35.007165",
     "exception": false,
     "start_time": "2022-10-06T17:00:34.755671",
     "status": "completed"
    },
    "tags": []
   },
   "outputs": [],
   "source": [
    "#Lets change the datatypes of above columns which we can see as categorised\n",
    "airbnb = airbnb.astype({'room type':'category','cancellation_policy':'category',\n",
    "                        'instant_bookable':'category','host_identity_verified':'category',\n",
    "                        'review rate number':'category','neighbourhood group':'category'})\n",
    "airbnb['last review'] = pd.to_datetime(airbnb['last review'])"
   ]
  },
  {
   "cell_type": "code",
   "execution_count": 22,
   "id": "eb088df0",
   "metadata": {
    "execution": {
     "iopub.execute_input": "2022-10-06T17:00:35.035800Z",
     "iopub.status.busy": "2022-10-06T17:00:35.034491Z",
     "iopub.status.idle": "2022-10-06T17:00:35.341667Z",
     "shell.execute_reply": "2022-10-06T17:00:35.340693Z"
    },
    "papermill": {
     "duration": 0.324527,
     "end_time": "2022-10-06T17:00:35.344740",
     "exception": false,
     "start_time": "2022-10-06T17:00:35.020213",
     "status": "completed"
    },
    "tags": []
   },
   "outputs": [],
   "source": [
    "airbnb['price']=airbnb['price'].apply(lambda x: x.replace('$','') if pd.isna(x) == False else x)\n",
    "airbnb['service fee']=airbnb['service fee'].apply(lambda x: x.replace('$','') if pd.isna(x) == False else x)\n",
    "airbnb['service fee']=airbnb['service fee'].astype(float)\n",
    "airbnb['price']=airbnb['price'].apply(lambda x: x.replace(',','') if pd.isna(x) == False else x)\n",
    "airbnb['price']=airbnb['price'].astype(float)"
   ]
  },
  {
   "cell_type": "code",
   "execution_count": 23,
   "id": "d7a8cf37",
   "metadata": {
    "execution": {
     "iopub.execute_input": "2022-10-06T17:00:35.373575Z",
     "iopub.status.busy": "2022-10-06T17:00:35.372807Z",
     "iopub.status.idle": "2022-10-06T17:00:35.434166Z",
     "shell.execute_reply": "2022-10-06T17:00:35.432548Z"
    },
    "papermill": {
     "duration": 0.07861,
     "end_time": "2022-10-06T17:00:35.437097",
     "exception": false,
     "start_time": "2022-10-06T17:00:35.358487",
     "status": "completed"
    },
    "tags": []
   },
   "outputs": [
    {
     "name": "stdout",
     "output_type": "stream",
     "text": [
      "<class 'pandas.core.frame.DataFrame'>\n",
      "Int64Index: 102057 entries, 0 to 102057\n",
      "Data columns (total 26 columns):\n",
      " #   Column                          Non-Null Count   Dtype         \n",
      "---  ------                          --------------   -----         \n",
      " 0   id                              102057 non-null  int64         \n",
      " 1   NAME                            101807 non-null  object        \n",
      " 2   host id                         102057 non-null  int64         \n",
      " 3   host_identity_verified          101768 non-null  category      \n",
      " 4   host name                       101653 non-null  object        \n",
      " 5   neighbourhood group             102028 non-null  category      \n",
      " 6   neighbourhood                   102041 non-null  object        \n",
      " 7   lat                             102049 non-null  float64       \n",
      " 8   long                            102049 non-null  float64       \n",
      " 9   country                         101525 non-null  object        \n",
      " 10  country code                    101926 non-null  object        \n",
      " 11  instant_bookable                101952 non-null  category      \n",
      " 12  cancellation_policy             101981 non-null  category      \n",
      " 13  room type                       102057 non-null  category      \n",
      " 14  Construction year               101843 non-null  float64       \n",
      " 15  price                           101810 non-null  float64       \n",
      " 16  service fee                     101784 non-null  float64       \n",
      " 17  minimum nights                  101657 non-null  float64       \n",
      " 18  number of reviews               101874 non-null  float64       \n",
      " 19  last review                     86225 non-null   datetime64[ns]\n",
      " 20  reviews per month               86239 non-null   float64       \n",
      " 21  review rate number              101738 non-null  category      \n",
      " 22  calculated host listings count  101738 non-null  float64       \n",
      " 23  availability 365                101609 non-null  float64       \n",
      " 24  house_rules                     50216 non-null   object        \n",
      " 25  license                         1 non-null       object        \n",
      "dtypes: category(6), datetime64[ns](1), float64(10), int64(2), object(7)\n",
      "memory usage: 16.9+ MB\n"
     ]
    }
   ],
   "source": [
    "airbnb.info()"
   ]
  },
  {
   "cell_type": "code",
   "execution_count": 24,
   "id": "197c4ac2",
   "metadata": {
    "execution": {
     "iopub.execute_input": "2022-10-06T17:00:35.465827Z",
     "iopub.status.busy": "2022-10-06T17:00:35.465350Z",
     "iopub.status.idle": "2022-10-06T17:00:35.475570Z",
     "shell.execute_reply": "2022-10-06T17:00:35.474171Z"
    },
    "papermill": {
     "duration": 0.02789,
     "end_time": "2022-10-06T17:00:35.478354",
     "exception": false,
     "start_time": "2022-10-06T17:00:35.450464",
     "status": "completed"
    },
    "tags": []
   },
   "outputs": [
    {
     "data": {
      "text/plain": [
       "(Timestamp('2012-07-11 00:00:00'), Timestamp('2058-06-16 00:00:00'))"
      ]
     },
     "execution_count": 24,
     "metadata": {},
     "output_type": "execute_result"
    }
   ],
   "source": [
    "# Let's check the min and max timestamps\n",
    "airbnb['last review'].min(), airbnb['last review'].max()"
   ]
  },
  {
   "cell_type": "code",
   "execution_count": 25,
   "id": "f4cefbca",
   "metadata": {
    "execution": {
     "iopub.execute_input": "2022-10-06T17:00:35.506727Z",
     "iopub.status.busy": "2022-10-06T17:00:35.506265Z",
     "iopub.status.idle": "2022-10-06T17:00:36.076542Z",
     "shell.execute_reply": "2022-10-06T17:00:36.075125Z"
    },
    "papermill": {
     "duration": 0.587902,
     "end_time": "2022-10-06T17:00:36.079591",
     "exception": false,
     "start_time": "2022-10-06T17:00:35.491689",
     "status": "completed"
    },
    "tags": []
   },
   "outputs": [],
   "source": [
    "#We can see the wrong year. Lets clean the review to be the median of the column\n",
    "airbnb.loc[airbnb[airbnb['last review'].apply(lambda x: x.year) > 2022].index,'last review'] = airbnb['last review'].median()"
   ]
  },
  {
   "cell_type": "code",
   "execution_count": 26,
   "id": "82a68311",
   "metadata": {
    "execution": {
     "iopub.execute_input": "2022-10-06T17:00:36.108269Z",
     "iopub.status.busy": "2022-10-06T17:00:36.107667Z",
     "iopub.status.idle": "2022-10-06T17:00:36.120499Z",
     "shell.execute_reply": "2022-10-06T17:00:36.119151Z"
    },
    "papermill": {
     "duration": 0.030538,
     "end_time": "2022-10-06T17:00:36.123461",
     "exception": false,
     "start_time": "2022-10-06T17:00:36.092923",
     "status": "completed"
    },
    "tags": []
   },
   "outputs": [],
   "source": [
    "#Similarly replace all the null values with median value of the column\n",
    "airbnb.loc[airbnb['last review'].isnull(), 'last review'] = airbnb['last review'].median()"
   ]
  },
  {
   "cell_type": "code",
   "execution_count": 27,
   "id": "c46058d4",
   "metadata": {
    "execution": {
     "iopub.execute_input": "2022-10-06T17:00:36.152291Z",
     "iopub.status.busy": "2022-10-06T17:00:36.151754Z",
     "iopub.status.idle": "2022-10-06T17:00:36.163129Z",
     "shell.execute_reply": "2022-10-06T17:00:36.161892Z"
    },
    "papermill": {
     "duration": 0.028587,
     "end_time": "2022-10-06T17:00:36.165603",
     "exception": false,
     "start_time": "2022-10-06T17:00:36.137016",
     "status": "completed"
    },
    "tags": []
   },
   "outputs": [
    {
     "data": {
      "text/plain": [
       "False    102057\n",
       "Name: last review, dtype: int64"
      ]
     },
     "execution_count": 27,
     "metadata": {},
     "output_type": "execute_result"
    }
   ],
   "source": [
    "#now find the non null values for review date\n",
    "airbnb['last review'].isnull().value_counts()\n",
    "#So the column doesn't have any null values now"
   ]
  },
  {
   "cell_type": "markdown",
   "id": "b3a88232",
   "metadata": {
    "papermill": {
     "duration": 0.013125,
     "end_time": "2022-10-06T17:00:36.193267",
     "exception": false,
     "start_time": "2022-10-06T17:00:36.180142",
     "status": "completed"
    },
    "tags": []
   },
   "source": [
    "# **5. Data Visualisation**"
   ]
  },
  {
   "cell_type": "code",
   "execution_count": 28,
   "id": "f3f04722",
   "metadata": {
    "execution": {
     "iopub.execute_input": "2022-10-06T17:00:36.223264Z",
     "iopub.status.busy": "2022-10-06T17:00:36.221871Z",
     "iopub.status.idle": "2022-10-06T17:02:24.230979Z",
     "shell.execute_reply": "2022-10-06T17:02:24.229597Z"
    },
    "papermill": {
     "duration": 108.042202,
     "end_time": "2022-10-06T17:02:24.248994",
     "exception": false,
     "start_time": "2022-10-06T17:00:36.206792",
     "status": "completed"
    },
    "tags": []
   },
   "outputs": [
    {
     "data": {
      "text/plain": [
       "<AxesSubplot:xlabel='price', ylabel='Count'>"
      ]
     },
     "execution_count": 28,
     "metadata": {},
     "output_type": "execute_result"
    },
    {
     "data": {
      "text/plain": [
       "<AxesSubplot:xlabel='service fee', ylabel='Count'>"
      ]
     },
     "execution_count": 28,
     "metadata": {},
     "output_type": "execute_result"
    },
    {
     "data": {
      "text/plain": [
       "<AxesSubplot:xlabel='minimum nights', ylabel='Count'>"
      ]
     },
     "execution_count": 28,
     "metadata": {},
     "output_type": "execute_result"
    },
    {
     "data": {
      "text/plain": [
       "<AxesSubplot:xlabel='number of reviews', ylabel='Count'>"
      ]
     },
     "execution_count": 28,
     "metadata": {},
     "output_type": "execute_result"
    },
    {
     "data": {
      "text/plain": [
       "<AxesSubplot:xlabel='review rate number', ylabel='Count'>"
      ]
     },
     "execution_count": 28,
     "metadata": {},
     "output_type": "execute_result"
    },
    {
     "data": {
      "text/plain": [
       "<AxesSubplot:xlabel='availability 365', ylabel='Count'>"
      ]
     },
     "execution_count": 28,
     "metadata": {},
     "output_type": "execute_result"
    },
    {
     "data": {
      "image/png": "[encoded data removed]",
      "text/plain": [
       "<Figure size 1440x720 with 6 Axes>"
      ]
     },
     "metadata": {
      "needs_background": "light"
     },
     "output_type": "display_data"
    }
   ],
   "source": [
    "columns = ['price', 'service fee', 'minimum nights','number of reviews','review rate number', 'availability 365']\n",
    "fig,ax = plt.subplots(2,3, figsize = (20,10));\n",
    "ax =ax.flatten()\n",
    "for i in range(len(columns)):\n",
    "        sns.histplot(airbnb[columns[i]],ax = ax[i]);"
   ]
  },
  {
   "cell_type": "markdown",
   "id": "63f105e2",
   "metadata": {
    "papermill": {
     "duration": 0.014665,
     "end_time": "2022-10-06T17:02:24.279122",
     "exception": false,
     "start_time": "2022-10-06T17:02:24.264457",
     "status": "completed"
    },
    "tags": []
   },
   "source": [
    ">  # **1.Relational plots**"
   ]
  },
  {
   "cell_type": "code",
   "execution_count": 29,
   "id": "739975d3",
   "metadata": {
    "execution": {
     "iopub.execute_input": "2022-10-06T17:02:24.311535Z",
     "iopub.status.busy": "2022-10-06T17:02:24.310132Z",
     "iopub.status.idle": "2022-10-06T17:02:32.464241Z",
     "shell.execute_reply": "2022-10-06T17:02:32.462520Z"
    },
    "papermill": {
     "duration": 8.17409,
     "end_time": "2022-10-06T17:02:32.467879",
     "exception": false,
     "start_time": "2022-10-06T17:02:24.293789",
     "status": "completed"
    },
    "tags": []
   },
   "outputs": [
    {
     "data": {
      "image/png": "[encoded data removed]",
      "text/plain": [
       "<Figure size 476.25x360 with 1 Axes>"
      ]
     },
     "metadata": {
      "needs_background": "light"
     },
     "output_type": "display_data"
    }
   ],
   "source": [
    "#scatter plots\n",
    "sns.relplot(data=airbnb, kind='scatter', x='price', y='number of reviews', hue='room type');"
   ]
  },
  {
   "cell_type": "code",
   "execution_count": 30,
   "id": "32881a2a",
   "metadata": {
    "execution": {
     "iopub.execute_input": "2022-10-06T17:02:32.503918Z",
     "iopub.status.busy": "2022-10-06T17:02:32.503431Z",
     "iopub.status.idle": "2022-10-06T17:03:31.496969Z",
     "shell.execute_reply": "2022-10-06T17:03:31.495474Z"
    },
    "papermill": {
     "duration": 59.028497,
     "end_time": "2022-10-06T17:03:31.513496",
     "exception": false,
     "start_time": "2022-10-06T17:02:32.484999",
     "status": "completed"
    },
    "tags": []
   },
   "outputs": [
    {
     "data": {
      "image/png": "[encoded data removed]",
      "text/plain": [
       "<Figure size 476.25x360 with 1 Axes>"
      ]
     },
     "metadata": {
      "needs_background": "light"
     },
     "output_type": "display_data"
    }
   ],
   "source": [
    "#line plot\n",
    "sns.relplot(data=airbnb, kind='line', x='price',  y='number of reviews', hue='room type');"
   ]
  },
  {
   "cell_type": "markdown",
   "id": "acf2198b",
   "metadata": {
    "papermill": {
     "duration": 0.017789,
     "end_time": "2022-10-06T17:03:31.548713",
     "exception": false,
     "start_time": "2022-10-06T17:03:31.530924",
     "status": "completed"
    },
    "tags": []
   },
   "source": [
    "> #  **2. Distribution Plots**"
   ]
  },
  {
   "cell_type": "code",
   "execution_count": 31,
   "id": "8a49dfb7",
   "metadata": {
    "execution": {
     "iopub.execute_input": "2022-10-06T17:03:31.586366Z",
     "iopub.status.busy": "2022-10-06T17:03:31.585857Z",
     "iopub.status.idle": "2022-10-06T17:03:32.311834Z",
     "shell.execute_reply": "2022-10-06T17:03:32.310312Z"
    },
    "papermill": {
     "duration": 0.74833,
     "end_time": "2022-10-06T17:03:32.315027",
     "exception": false,
     "start_time": "2022-10-06T17:03:31.566697",
     "status": "completed"
    },
    "tags": []
   },
   "outputs": [
    {
     "data": {
      "image/png": "[encoded data removed]",
      "text/plain": [
       "<Figure size 475.5x360 with 1 Axes>"
      ]
     },
     "metadata": {
      "needs_background": "light"
     },
     "output_type": "display_data"
    }
   ],
   "source": [
    "sns.displot(kind=\"hist\",data=airbnb, x='review rate number', hue='neighbourhood group');"
   ]
  },
  {
   "cell_type": "code",
   "execution_count": 32,
   "id": "210e0201",
   "metadata": {
    "execution": {
     "iopub.execute_input": "2022-10-06T17:03:32.354802Z",
     "iopub.status.busy": "2022-10-06T17:03:32.352984Z",
     "iopub.status.idle": "2022-10-06T17:03:34.579570Z",
     "shell.execute_reply": "2022-10-06T17:03:34.577113Z"
    },
    "papermill": {
     "duration": 2.24948,
     "end_time": "2022-10-06T17:03:34.582778",
     "exception": false,
     "start_time": "2022-10-06T17:03:32.333298",
     "status": "completed"
    },
    "tags": []
   },
   "outputs": [
    {
     "data": {
      "image/png": "[encoded data removed]",
      "text/plain": [
       "<Figure size 360x360 with 1 Axes>"
      ]
     },
     "metadata": {
      "needs_background": "light"
     },
     "output_type": "display_data"
    }
   ],
   "source": [
    "sns.displot(kind=\"kde\",data=airbnb, x='number of reviews');\n",
    "sns.rugplot(data=airbnb, x='number of reviews');"
   ]
  }
 ],
 "metadata": {
  "kernelspec": {
   "display_name": "Python 3",
   "language": "python",
   "name": "python3"
  },
  "language_info": {
   "codemirror_mode": {
    "name": "ipython",
    "version": 3
   },
   "file_extension": ".py",
   "mimetype": "text/x-python",
   "name": "python",
   "nbconvert_exporter": "python",
   "pygments_lexer": "ipython3",
   "version": "3.7.12"
  },
  "papermill": {
   "default_parameters": {},
   "duration": 198.256542,
   "end_time": "2022-10-06T17:03:37.223916",
   "environment_variables": {},
   "exception": null,
   "input_path": "__notebook__.ipynb",
   "output_path": "__notebook__.ipynb",
   "parameters": {},
   "start_time": "2022-10-06T17:00:18.967374",
   "version": "2.3.4"
  }
 },
 "nbformat": 4,
 "nbformat_minor": 5
}
