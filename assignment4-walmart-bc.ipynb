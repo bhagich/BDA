{
 "cells": [
  {
   "cell_type": "markdown",
   "id": "ef645f40",
   "metadata": {
    "papermill": {
     "duration": 0.016102,
     "end_time": "2022-11-15T10:35:50.283926",
     "exception": false,
     "start_time": "2022-11-15T10:35:50.267824",
     "status": "completed"
    },
    "tags": []
   },
   "source": [
    "# Call Libraries"
   ]
  },
  {
   "cell_type": "code",
   "execution_count": 1,
   "id": "2027c9a1",
   "metadata": {
    "_cell_guid": "b1076dfc-b9ad-4769-8c92-a6c4dae69d19",
    "_uuid": "8f2839f25d086af736a60e9eeb907d3b93b6e0e5",
    "execution": {
     "iopub.execute_input": "2022-11-15T10:35:50.316354Z",
     "iopub.status.busy": "2022-11-15T10:35:50.315586Z",
     "iopub.status.idle": "2022-11-15T10:35:51.777310Z",
     "shell.execute_reply": "2022-11-15T10:35:51.775805Z"
    },
    "papermill": {
     "duration": 1.482391,
     "end_time": "2022-11-15T10:35:51.780434",
     "exception": false,
     "start_time": "2022-11-15T10:35:50.298043",
     "status": "completed"
    },
    "tags": []
   },
   "outputs": [],
   "source": [
    "## 1.0 Call needed libraries\n",
    "\n",
    "#%reset -f              # Clear all variables\n",
    "\n",
    "# 1.1 Load pandas & numpy \n",
    "import numpy as np\n",
    "import pandas as pd\n",
    "\n",
    "# 1.2 OS related\n",
    "import os\n",
    "\n",
    "#1.3 Sklearn lineear model\n",
    "from sklearn.linear_model import LinearRegression\n",
    "\n",
    "#1.4 Feature Selection\n",
    "from sklearn.feature_selection import f_regression\n",
    "\n",
    "#1.5 Standardization\n",
    "from sklearn.preprocessing import StandardScaler\n",
    "\n",
    "#1.6 RandomForest regressor\n",
    "from sklearn.ensemble import RandomForestRegressor\n",
    "from sklearn.model_selection import train_test_split \n",
    "from sklearn import metrics\n",
    "from sklearn.metrics import mean_squared_error,f1_score, r2_score\n",
    "from sklearn.metrics import explained_variance_score, mean_absolute_error\n",
    "\n",
    "#1.7 XGBoost\n",
    "import xgboost"
   ]
  },
  {
   "cell_type": "markdown",
   "id": "7e73886b",
   "metadata": {
    "papermill": {
     "duration": 0.01573,
     "end_time": "2022-11-15T10:35:51.810904",
     "exception": false,
     "start_time": "2022-11-15T10:35:51.795174",
     "status": "completed"
    },
    "tags": []
   },
   "source": [
    "# Read Data File"
   ]
  },
  {
   "cell_type": "code",
   "execution_count": 2,
   "id": "05ebc114",
   "metadata": {
    "execution": {
     "iopub.execute_input": "2022-11-15T10:35:51.846832Z",
     "iopub.status.busy": "2022-11-15T10:35:51.846001Z",
     "iopub.status.idle": "2022-11-15T10:35:51.890558Z",
     "shell.execute_reply": "2022-11-15T10:35:51.889335Z"
    },
    "papermill": {
     "duration": 0.064627,
     "end_time": "2022-11-15T10:35:51.893425",
     "exception": false,
     "start_time": "2022-11-15T10:35:51.828798",
     "status": "completed"
    },
    "tags": []
   },
   "outputs": [
    {
     "name": "stdout",
     "output_type": "stream",
     "text": [
      "['walmart-sales-dataset-of-45stores.csv']\n"
     ]
    }
   ],
   "source": [
    "print(os.listdir('../input/walmart-sales-dataset-of-45stores'))\n",
    "walmart_data = pd.read_csv('../input/walmart-sales-dataset-of-45stores/walmart-sales-dataset-of-45stores.csv')"
   ]
  },
  {
   "cell_type": "markdown",
   "id": "4701ca9d",
   "metadata": {
    "papermill": {
     "duration": 0.013515,
     "end_time": "2022-11-15T10:35:51.921527",
     "exception": false,
     "start_time": "2022-11-15T10:35:51.908012",
     "status": "completed"
    },
    "tags": []
   },
   "source": [
    "# Understand Data Attributes"
   ]
  },
  {
   "cell_type": "code",
   "execution_count": 3,
   "id": "f0c7c244",
   "metadata": {
    "execution": {
     "iopub.execute_input": "2022-11-15T10:35:51.951085Z",
     "iopub.status.busy": "2022-11-15T10:35:51.950019Z",
     "iopub.status.idle": "2022-11-15T10:35:51.960135Z",
     "shell.execute_reply": "2022-11-15T10:35:51.958966Z"
    },
    "papermill": {
     "duration": 0.027532,
     "end_time": "2022-11-15T10:35:51.962657",
     "exception": false,
     "start_time": "2022-11-15T10:35:51.935125",
     "status": "completed"
    },
    "tags": []
   },
   "outputs": [
    {
     "data": {
      "text/plain": [
       "(6435, 8)"
      ]
     },
     "execution_count": 3,
     "metadata": {},
     "output_type": "execute_result"
    }
   ],
   "source": [
    "walmart_data.shape"
   ]
  },
  {
   "cell_type": "code",
   "execution_count": 4,
   "id": "b6e72ce3",
   "metadata": {
    "execution": {
     "iopub.execute_input": "2022-11-15T10:35:51.992367Z",
     "iopub.status.busy": "2022-11-15T10:35:51.991979Z",
     "iopub.status.idle": "2022-11-15T10:35:51.998785Z",
     "shell.execute_reply": "2022-11-15T10:35:51.997679Z"
    },
    "papermill": {
     "duration": 0.024385,
     "end_time": "2022-11-15T10:35:52.001100",
     "exception": false,
     "start_time": "2022-11-15T10:35:51.976715",
     "status": "completed"
    },
    "tags": []
   },
   "outputs": [
    {
     "data": {
      "text/plain": [
       "Index(['Store', 'Date', 'Weekly_Sales', 'Holiday_Flag', 'Temperature',\n",
       "       'Fuel_Price', 'CPI', 'Unemployment'],\n",
       "      dtype='object')"
      ]
     },
     "execution_count": 4,
     "metadata": {},
     "output_type": "execute_result"
    }
   ],
   "source": [
    "walmart_data.columns"
   ]
  },
  {
   "cell_type": "code",
   "execution_count": 5,
   "id": "e4eb4f64",
   "metadata": {
    "execution": {
     "iopub.execute_input": "2022-11-15T10:35:52.030904Z",
     "iopub.status.busy": "2022-11-15T10:35:52.030512Z",
     "iopub.status.idle": "2022-11-15T10:35:52.050612Z",
     "shell.execute_reply": "2022-11-15T10:35:52.049786Z"
    },
    "papermill": {
     "duration": 0.037634,
     "end_time": "2022-11-15T10:35:52.052818",
     "exception": false,
     "start_time": "2022-11-15T10:35:52.015184",
     "status": "completed"
    },
    "tags": []
   },
   "outputs": [
    {
     "data": {
      "text/html": [
       "<div>\n",
       "<style scoped>\n",
       "    .dataframe tbody tr th:only-of-type {\n",
       "        vertical-align: middle;\n",
       "    }\n",
       "\n",
       "    .dataframe tbody tr th {\n",
       "        vertical-align: top;\n",
       "    }\n",
       "\n",
       "    .dataframe thead th {\n",
       "        text-align: right;\n",
       "    }\n",
       "</style>\n",
       "<table border=\"1\" class=\"dataframe\">\n",
       "  <thead>\n",
       "    <tr style=\"text-align: right;\">\n",
       "      <th></th>\n",
       "      <th>Store</th>\n",
       "      <th>Date</th>\n",
       "      <th>Weekly_Sales</th>\n",
       "      <th>Holiday_Flag</th>\n",
       "      <th>Temperature</th>\n",
       "      <th>Fuel_Price</th>\n",
       "      <th>CPI</th>\n",
       "      <th>Unemployment</th>\n",
       "    </tr>\n",
       "  </thead>\n",
       "  <tbody>\n",
       "    <tr>\n",
       "      <th>0</th>\n",
       "      <td>1</td>\n",
       "      <td>05-02-2010</td>\n",
       "      <td>1643690.90</td>\n",
       "      <td>0</td>\n",
       "      <td>42.31</td>\n",
       "      <td>2.572</td>\n",
       "      <td>211.096358</td>\n",
       "      <td>8.106</td>\n",
       "    </tr>\n",
       "    <tr>\n",
       "      <th>1</th>\n",
       "      <td>1</td>\n",
       "      <td>12-02-2010</td>\n",
       "      <td>1641957.44</td>\n",
       "      <td>1</td>\n",
       "      <td>38.51</td>\n",
       "      <td>2.548</td>\n",
       "      <td>211.242170</td>\n",
       "      <td>8.106</td>\n",
       "    </tr>\n",
       "    <tr>\n",
       "      <th>2</th>\n",
       "      <td>1</td>\n",
       "      <td>19-02-2010</td>\n",
       "      <td>1611968.17</td>\n",
       "      <td>0</td>\n",
       "      <td>39.93</td>\n",
       "      <td>2.514</td>\n",
       "      <td>211.289143</td>\n",
       "      <td>8.106</td>\n",
       "    </tr>\n",
       "    <tr>\n",
       "      <th>3</th>\n",
       "      <td>1</td>\n",
       "      <td>26-02-2010</td>\n",
       "      <td>1409727.59</td>\n",
       "      <td>0</td>\n",
       "      <td>46.63</td>\n",
       "      <td>2.561</td>\n",
       "      <td>211.319643</td>\n",
       "      <td>8.106</td>\n",
       "    </tr>\n",
       "    <tr>\n",
       "      <th>4</th>\n",
       "      <td>1</td>\n",
       "      <td>05-03-2010</td>\n",
       "      <td>1554806.68</td>\n",
       "      <td>0</td>\n",
       "      <td>46.50</td>\n",
       "      <td>2.625</td>\n",
       "      <td>211.350143</td>\n",
       "      <td>8.106</td>\n",
       "    </tr>\n",
       "  </tbody>\n",
       "</table>\n",
       "</div>"
      ],
      "text/plain": [
       "   Store        Date  Weekly_Sales  Holiday_Flag  Temperature  Fuel_Price  \\\n",
       "0      1  05-02-2010    1643690.90             0        42.31       2.572   \n",
       "1      1  12-02-2010    1641957.44             1        38.51       2.548   \n",
       "2      1  19-02-2010    1611968.17             0        39.93       2.514   \n",
       "3      1  26-02-2010    1409727.59             0        46.63       2.561   \n",
       "4      1  05-03-2010    1554806.68             0        46.50       2.625   \n",
       "\n",
       "          CPI  Unemployment  \n",
       "0  211.096358         8.106  \n",
       "1  211.242170         8.106  \n",
       "2  211.289143         8.106  \n",
       "3  211.319643         8.106  \n",
       "4  211.350143         8.106  "
      ]
     },
     "execution_count": 5,
     "metadata": {},
     "output_type": "execute_result"
    }
   ],
   "source": [
    "walmart_data.head()"
   ]
  },
  {
   "cell_type": "code",
   "execution_count": 6,
   "id": "31b4a526",
   "metadata": {
    "execution": {
     "iopub.execute_input": "2022-11-15T10:35:52.083892Z",
     "iopub.status.busy": "2022-11-15T10:35:52.083216Z",
     "iopub.status.idle": "2022-11-15T10:35:52.099933Z",
     "shell.execute_reply": "2022-11-15T10:35:52.098592Z"
    },
    "papermill": {
     "duration": 0.03453,
     "end_time": "2022-11-15T10:35:52.102414",
     "exception": false,
     "start_time": "2022-11-15T10:35:52.067884",
     "status": "completed"
    },
    "tags": []
   },
   "outputs": [
    {
     "data": {
      "text/html": [
       "<div>\n",
       "<style scoped>\n",
       "    .dataframe tbody tr th:only-of-type {\n",
       "        vertical-align: middle;\n",
       "    }\n",
       "\n",
       "    .dataframe tbody tr th {\n",
       "        vertical-align: top;\n",
       "    }\n",
       "\n",
       "    .dataframe thead th {\n",
       "        text-align: right;\n",
       "    }\n",
       "</style>\n",
       "<table border=\"1\" class=\"dataframe\">\n",
       "  <thead>\n",
       "    <tr style=\"text-align: right;\">\n",
       "      <th></th>\n",
       "      <th>Store</th>\n",
       "      <th>Date</th>\n",
       "      <th>Weekly_Sales</th>\n",
       "      <th>Holiday_Flag</th>\n",
       "      <th>Temperature</th>\n",
       "      <th>Fuel_Price</th>\n",
       "      <th>CPI</th>\n",
       "      <th>Unemployment</th>\n",
       "    </tr>\n",
       "  </thead>\n",
       "  <tbody>\n",
       "    <tr>\n",
       "      <th>6430</th>\n",
       "      <td>45</td>\n",
       "      <td>28-09-2012</td>\n",
       "      <td>713173.95</td>\n",
       "      <td>0</td>\n",
       "      <td>64.88</td>\n",
       "      <td>3.997</td>\n",
       "      <td>192.013558</td>\n",
       "      <td>8.684</td>\n",
       "    </tr>\n",
       "    <tr>\n",
       "      <th>6431</th>\n",
       "      <td>45</td>\n",
       "      <td>05-10-2012</td>\n",
       "      <td>733455.07</td>\n",
       "      <td>0</td>\n",
       "      <td>64.89</td>\n",
       "      <td>3.985</td>\n",
       "      <td>192.170412</td>\n",
       "      <td>8.667</td>\n",
       "    </tr>\n",
       "    <tr>\n",
       "      <th>6432</th>\n",
       "      <td>45</td>\n",
       "      <td>12-10-2012</td>\n",
       "      <td>734464.36</td>\n",
       "      <td>0</td>\n",
       "      <td>54.47</td>\n",
       "      <td>4.000</td>\n",
       "      <td>192.327265</td>\n",
       "      <td>8.667</td>\n",
       "    </tr>\n",
       "    <tr>\n",
       "      <th>6433</th>\n",
       "      <td>45</td>\n",
       "      <td>19-10-2012</td>\n",
       "      <td>718125.53</td>\n",
       "      <td>0</td>\n",
       "      <td>56.47</td>\n",
       "      <td>3.969</td>\n",
       "      <td>192.330854</td>\n",
       "      <td>8.667</td>\n",
       "    </tr>\n",
       "    <tr>\n",
       "      <th>6434</th>\n",
       "      <td>45</td>\n",
       "      <td>26-10-2012</td>\n",
       "      <td>760281.43</td>\n",
       "      <td>0</td>\n",
       "      <td>58.85</td>\n",
       "      <td>3.882</td>\n",
       "      <td>192.308899</td>\n",
       "      <td>8.667</td>\n",
       "    </tr>\n",
       "  </tbody>\n",
       "</table>\n",
       "</div>"
      ],
      "text/plain": [
       "      Store        Date  Weekly_Sales  Holiday_Flag  Temperature  Fuel_Price  \\\n",
       "6430     45  28-09-2012     713173.95             0        64.88       3.997   \n",
       "6431     45  05-10-2012     733455.07             0        64.89       3.985   \n",
       "6432     45  12-10-2012     734464.36             0        54.47       4.000   \n",
       "6433     45  19-10-2012     718125.53             0        56.47       3.969   \n",
       "6434     45  26-10-2012     760281.43             0        58.85       3.882   \n",
       "\n",
       "             CPI  Unemployment  \n",
       "6430  192.013558         8.684  \n",
       "6431  192.170412         8.667  \n",
       "6432  192.327265         8.667  \n",
       "6433  192.330854         8.667  \n",
       "6434  192.308899         8.667  "
      ]
     },
     "execution_count": 6,
     "metadata": {},
     "output_type": "execute_result"
    }
   ],
   "source": [
    "walmart_data.tail()"
   ]
  },
  {
   "cell_type": "code",
   "execution_count": 7,
   "id": "6ca3d588",
   "metadata": {
    "execution": {
     "iopub.execute_input": "2022-11-15T10:35:52.134240Z",
     "iopub.status.busy": "2022-11-15T10:35:52.133862Z",
     "iopub.status.idle": "2022-11-15T10:35:52.159013Z",
     "shell.execute_reply": "2022-11-15T10:35:52.157708Z"
    },
    "papermill": {
     "duration": 0.044596,
     "end_time": "2022-11-15T10:35:52.161808",
     "exception": false,
     "start_time": "2022-11-15T10:35:52.117212",
     "status": "completed"
    },
    "tags": []
   },
   "outputs": [
    {
     "name": "stdout",
     "output_type": "stream",
     "text": [
      "<class 'pandas.core.frame.DataFrame'>\n",
      "RangeIndex: 6435 entries, 0 to 6434\n",
      "Data columns (total 8 columns):\n",
      " #   Column        Non-Null Count  Dtype  \n",
      "---  ------        --------------  -----  \n",
      " 0   Store         6435 non-null   int64  \n",
      " 1   Date          6435 non-null   object \n",
      " 2   Weekly_Sales  6435 non-null   float64\n",
      " 3   Holiday_Flag  6435 non-null   int64  \n",
      " 4   Temperature   6435 non-null   float64\n",
      " 5   Fuel_Price    6435 non-null   float64\n",
      " 6   CPI           6435 non-null   float64\n",
      " 7   Unemployment  6435 non-null   float64\n",
      "dtypes: float64(5), int64(2), object(1)\n",
      "memory usage: 402.3+ KB\n"
     ]
    }
   ],
   "source": [
    "walmart_data.info()"
   ]
  },
  {
   "cell_type": "code",
   "execution_count": 8,
   "id": "bdbb34da",
   "metadata": {
    "execution": {
     "iopub.execute_input": "2022-11-15T10:35:52.194681Z",
     "iopub.status.busy": "2022-11-15T10:35:52.194265Z",
     "iopub.status.idle": "2022-11-15T10:35:52.211927Z",
     "shell.execute_reply": "2022-11-15T10:35:52.210719Z"
    },
    "papermill": {
     "duration": 0.036668,
     "end_time": "2022-11-15T10:35:52.214405",
     "exception": false,
     "start_time": "2022-11-15T10:35:52.177737",
     "status": "completed"
    },
    "tags": []
   },
   "outputs": [
    {
     "data": {
      "text/plain": [
       "Store                    int64\n",
       "Date            datetime64[ns]\n",
       "Weekly_Sales           float64\n",
       "Holiday_Flag             int64\n",
       "Temperature            float64\n",
       "Fuel_Price             float64\n",
       "CPI                    float64\n",
       "Unemployment           float64\n",
       "dtype: object"
      ]
     },
     "execution_count": 8,
     "metadata": {},
     "output_type": "execute_result"
    }
   ],
   "source": [
    "walmart_data[\"Date\"] = pd.to_datetime(walmart_data.Date, format=\"%d-%m-%Y\")\n",
    "walmart_data.dtypes"
   ]
  },
  {
   "cell_type": "markdown",
   "id": "eb7de799",
   "metadata": {
    "papermill": {
     "duration": 0.016226,
     "end_time": "2022-11-15T10:35:52.246042",
     "exception": false,
     "start_time": "2022-11-15T10:35:52.229816",
     "status": "completed"
    },
    "tags": []
   },
   "source": [
    "describe() The describe() function summarizes the dataset’s statistical properties, such as count, mean, min, and max:\n",
    "\n",
    "It’s also useful to see if any column has null values since it shows us the count of values in each one."
   ]
  },
  {
   "cell_type": "code",
   "execution_count": 9,
   "id": "b5a883bd",
   "metadata": {
    "execution": {
     "iopub.execute_input": "2022-11-15T10:35:52.281763Z",
     "iopub.status.busy": "2022-11-15T10:35:52.281285Z",
     "iopub.status.idle": "2022-11-15T10:35:52.319342Z",
     "shell.execute_reply": "2022-11-15T10:35:52.318204Z"
    },
    "papermill": {
     "duration": 0.059652,
     "end_time": "2022-11-15T10:35:52.321791",
     "exception": false,
     "start_time": "2022-11-15T10:35:52.262139",
     "status": "completed"
    },
    "tags": []
   },
   "outputs": [
    {
     "data": {
      "text/html": [
       "<div>\n",
       "<style scoped>\n",
       "    .dataframe tbody tr th:only-of-type {\n",
       "        vertical-align: middle;\n",
       "    }\n",
       "\n",
       "    .dataframe tbody tr th {\n",
       "        vertical-align: top;\n",
       "    }\n",
       "\n",
       "    .dataframe thead th {\n",
       "        text-align: right;\n",
       "    }\n",
       "</style>\n",
       "<table border=\"1\" class=\"dataframe\">\n",
       "  <thead>\n",
       "    <tr style=\"text-align: right;\">\n",
       "      <th></th>\n",
       "      <th>Store</th>\n",
       "      <th>Weekly_Sales</th>\n",
       "      <th>Holiday_Flag</th>\n",
       "      <th>Temperature</th>\n",
       "      <th>Fuel_Price</th>\n",
       "      <th>CPI</th>\n",
       "      <th>Unemployment</th>\n",
       "    </tr>\n",
       "  </thead>\n",
       "  <tbody>\n",
       "    <tr>\n",
       "      <th>count</th>\n",
       "      <td>6435.000000</td>\n",
       "      <td>6.435000e+03</td>\n",
       "      <td>6435.000000</td>\n",
       "      <td>6435.000000</td>\n",
       "      <td>6435.000000</td>\n",
       "      <td>6435.000000</td>\n",
       "      <td>6435.000000</td>\n",
       "    </tr>\n",
       "    <tr>\n",
       "      <th>mean</th>\n",
       "      <td>23.000000</td>\n",
       "      <td>1.046965e+06</td>\n",
       "      <td>0.069930</td>\n",
       "      <td>60.663782</td>\n",
       "      <td>3.358607</td>\n",
       "      <td>171.578394</td>\n",
       "      <td>7.999151</td>\n",
       "    </tr>\n",
       "    <tr>\n",
       "      <th>std</th>\n",
       "      <td>12.988182</td>\n",
       "      <td>5.643666e+05</td>\n",
       "      <td>0.255049</td>\n",
       "      <td>18.444933</td>\n",
       "      <td>0.459020</td>\n",
       "      <td>39.356712</td>\n",
       "      <td>1.875885</td>\n",
       "    </tr>\n",
       "    <tr>\n",
       "      <th>min</th>\n",
       "      <td>1.000000</td>\n",
       "      <td>2.099862e+05</td>\n",
       "      <td>0.000000</td>\n",
       "      <td>-2.060000</td>\n",
       "      <td>2.472000</td>\n",
       "      <td>126.064000</td>\n",
       "      <td>3.879000</td>\n",
       "    </tr>\n",
       "    <tr>\n",
       "      <th>25%</th>\n",
       "      <td>12.000000</td>\n",
       "      <td>5.533501e+05</td>\n",
       "      <td>0.000000</td>\n",
       "      <td>47.460000</td>\n",
       "      <td>2.933000</td>\n",
       "      <td>131.735000</td>\n",
       "      <td>6.891000</td>\n",
       "    </tr>\n",
       "    <tr>\n",
       "      <th>50%</th>\n",
       "      <td>23.000000</td>\n",
       "      <td>9.607460e+05</td>\n",
       "      <td>0.000000</td>\n",
       "      <td>62.670000</td>\n",
       "      <td>3.445000</td>\n",
       "      <td>182.616521</td>\n",
       "      <td>7.874000</td>\n",
       "    </tr>\n",
       "    <tr>\n",
       "      <th>75%</th>\n",
       "      <td>34.000000</td>\n",
       "      <td>1.420159e+06</td>\n",
       "      <td>0.000000</td>\n",
       "      <td>74.940000</td>\n",
       "      <td>3.735000</td>\n",
       "      <td>212.743293</td>\n",
       "      <td>8.622000</td>\n",
       "    </tr>\n",
       "    <tr>\n",
       "      <th>max</th>\n",
       "      <td>45.000000</td>\n",
       "      <td>3.818686e+06</td>\n",
       "      <td>1.000000</td>\n",
       "      <td>100.140000</td>\n",
       "      <td>4.468000</td>\n",
       "      <td>227.232807</td>\n",
       "      <td>14.313000</td>\n",
       "    </tr>\n",
       "  </tbody>\n",
       "</table>\n",
       "</div>"
      ],
      "text/plain": [
       "             Store  Weekly_Sales  Holiday_Flag  Temperature   Fuel_Price  \\\n",
       "count  6435.000000  6.435000e+03   6435.000000  6435.000000  6435.000000   \n",
       "mean     23.000000  1.046965e+06      0.069930    60.663782     3.358607   \n",
       "std      12.988182  5.643666e+05      0.255049    18.444933     0.459020   \n",
       "min       1.000000  2.099862e+05      0.000000    -2.060000     2.472000   \n",
       "25%      12.000000  5.533501e+05      0.000000    47.460000     2.933000   \n",
       "50%      23.000000  9.607460e+05      0.000000    62.670000     3.445000   \n",
       "75%      34.000000  1.420159e+06      0.000000    74.940000     3.735000   \n",
       "max      45.000000  3.818686e+06      1.000000   100.140000     4.468000   \n",
       "\n",
       "               CPI  Unemployment  \n",
       "count  6435.000000   6435.000000  \n",
       "mean    171.578394      7.999151  \n",
       "std      39.356712      1.875885  \n",
       "min     126.064000      3.879000  \n",
       "25%     131.735000      6.891000  \n",
       "50%     182.616521      7.874000  \n",
       "75%     212.743293      8.622000  \n",
       "max     227.232807     14.313000  "
      ]
     },
     "execution_count": 9,
     "metadata": {},
     "output_type": "execute_result"
    }
   ],
   "source": [
    "walmart_data.describe()"
   ]
  },
  {
   "cell_type": "markdown",
   "id": "ae88c915",
   "metadata": {
    "papermill": {
     "duration": 0.014801,
     "end_time": "2022-11-15T10:35:52.352173",
     "exception": false,
     "start_time": "2022-11-15T10:35:52.337372",
     "status": "completed"
    },
    "tags": []
   },
   "source": [
    "corr() The corr() function displays the correlation between different variables in our dataset.\n",
    "\n",
    "The closer to 1, the stronger the correlation between these variables.\n",
    "\n",
    "A minus sign means that these 2 variables are negatively correlated, i.e. one decreases with increasing the other and vice versa.\n",
    "\n",
    "We have removed the column, Store_Number as it just indicates the number of the store and find the correlation between other columns"
   ]
  },
  {
   "cell_type": "code",
   "execution_count": 10,
   "id": "1d755c01",
   "metadata": {
    "execution": {
     "iopub.execute_input": "2022-11-15T10:35:52.384659Z",
     "iopub.status.busy": "2022-11-15T10:35:52.383968Z",
     "iopub.status.idle": "2022-11-15T10:35:52.402840Z",
     "shell.execute_reply": "2022-11-15T10:35:52.401509Z"
    },
    "papermill": {
     "duration": 0.037808,
     "end_time": "2022-11-15T10:35:52.405079",
     "exception": false,
     "start_time": "2022-11-15T10:35:52.367271",
     "status": "completed"
    },
    "tags": []
   },
   "outputs": [
    {
     "data": {
      "text/html": [
       "<div>\n",
       "<style scoped>\n",
       "    .dataframe tbody tr th:only-of-type {\n",
       "        vertical-align: middle;\n",
       "    }\n",
       "\n",
       "    .dataframe tbody tr th {\n",
       "        vertical-align: top;\n",
       "    }\n",
       "\n",
       "    .dataframe thead th {\n",
       "        text-align: right;\n",
       "    }\n",
       "</style>\n",
       "<table border=\"1\" class=\"dataframe\">\n",
       "  <thead>\n",
       "    <tr style=\"text-align: right;\">\n",
       "      <th></th>\n",
       "      <th>Weekly_Sales</th>\n",
       "      <th>Holiday_Flag</th>\n",
       "      <th>Temperature</th>\n",
       "      <th>Fuel_Price</th>\n",
       "      <th>CPI</th>\n",
       "      <th>Unemployment</th>\n",
       "    </tr>\n",
       "  </thead>\n",
       "  <tbody>\n",
       "    <tr>\n",
       "      <th>Weekly_Sales</th>\n",
       "      <td>1.000000</td>\n",
       "      <td>0.036891</td>\n",
       "      <td>-0.063810</td>\n",
       "      <td>0.009464</td>\n",
       "      <td>-0.072634</td>\n",
       "      <td>-0.106176</td>\n",
       "    </tr>\n",
       "    <tr>\n",
       "      <th>Holiday_Flag</th>\n",
       "      <td>0.036891</td>\n",
       "      <td>1.000000</td>\n",
       "      <td>-0.155091</td>\n",
       "      <td>-0.078347</td>\n",
       "      <td>-0.002162</td>\n",
       "      <td>0.010960</td>\n",
       "    </tr>\n",
       "    <tr>\n",
       "      <th>Temperature</th>\n",
       "      <td>-0.063810</td>\n",
       "      <td>-0.155091</td>\n",
       "      <td>1.000000</td>\n",
       "      <td>0.144982</td>\n",
       "      <td>0.176888</td>\n",
       "      <td>0.101158</td>\n",
       "    </tr>\n",
       "    <tr>\n",
       "      <th>Fuel_Price</th>\n",
       "      <td>0.009464</td>\n",
       "      <td>-0.078347</td>\n",
       "      <td>0.144982</td>\n",
       "      <td>1.000000</td>\n",
       "      <td>-0.170642</td>\n",
       "      <td>-0.034684</td>\n",
       "    </tr>\n",
       "    <tr>\n",
       "      <th>CPI</th>\n",
       "      <td>-0.072634</td>\n",
       "      <td>-0.002162</td>\n",
       "      <td>0.176888</td>\n",
       "      <td>-0.170642</td>\n",
       "      <td>1.000000</td>\n",
       "      <td>-0.302020</td>\n",
       "    </tr>\n",
       "    <tr>\n",
       "      <th>Unemployment</th>\n",
       "      <td>-0.106176</td>\n",
       "      <td>0.010960</td>\n",
       "      <td>0.101158</td>\n",
       "      <td>-0.034684</td>\n",
       "      <td>-0.302020</td>\n",
       "      <td>1.000000</td>\n",
       "    </tr>\n",
       "  </tbody>\n",
       "</table>\n",
       "</div>"
      ],
      "text/plain": [
       "              Weekly_Sales  Holiday_Flag  Temperature  Fuel_Price       CPI  \\\n",
       "Weekly_Sales      1.000000      0.036891    -0.063810    0.009464 -0.072634   \n",
       "Holiday_Flag      0.036891      1.000000    -0.155091   -0.078347 -0.002162   \n",
       "Temperature      -0.063810     -0.155091     1.000000    0.144982  0.176888   \n",
       "Fuel_Price        0.009464     -0.078347     0.144982    1.000000 -0.170642   \n",
       "CPI              -0.072634     -0.002162     0.176888   -0.170642  1.000000   \n",
       "Unemployment     -0.106176      0.010960     0.101158   -0.034684 -0.302020   \n",
       "\n",
       "              Unemployment  \n",
       "Weekly_Sales     -0.106176  \n",
       "Holiday_Flag      0.010960  \n",
       "Temperature       0.101158  \n",
       "Fuel_Price       -0.034684  \n",
       "CPI              -0.302020  \n",
       "Unemployment      1.000000  "
      ]
     },
     "execution_count": 10,
     "metadata": {},
     "output_type": "execute_result"
    }
   ],
   "source": [
    "df=walmart_data[['Weekly_Sales','Holiday_Flag','Temperature','Fuel_Price','CPI','Unemployment']]\n",
    "df.corr()"
   ]
  },
  {
   "cell_type": "markdown",
   "id": "296b1cb8",
   "metadata": {
    "papermill": {
     "duration": 0.015461,
     "end_time": "2022-11-15T10:35:52.435799",
     "exception": false,
     "start_time": "2022-11-15T10:35:52.420338",
     "status": "completed"
    },
    "tags": []
   },
   "source": [
    "Find out if any irrelevant data or rows exist"
   ]
  },
  {
   "cell_type": "code",
   "execution_count": 11,
   "id": "ca6eb5b8",
   "metadata": {
    "execution": {
     "iopub.execute_input": "2022-11-15T10:35:52.468989Z",
     "iopub.status.busy": "2022-11-15T10:35:52.468236Z",
     "iopub.status.idle": "2022-11-15T10:35:52.482545Z",
     "shell.execute_reply": "2022-11-15T10:35:52.481684Z"
    },
    "papermill": {
     "duration": 0.033658,
     "end_time": "2022-11-15T10:35:52.485024",
     "exception": false,
     "start_time": "2022-11-15T10:35:52.451366",
     "status": "completed"
    },
    "tags": []
   },
   "outputs": [
    {
     "name": "stdout",
     "output_type": "stream",
     "text": [
      "\n",
      "------------\n"
     ]
    },
    {
     "data": {
      "text/plain": [
       "0"
      ]
     },
     "execution_count": 11,
     "metadata": {},
     "output_type": "execute_result"
    }
   ],
   "source": [
    "walmart_data.isnull()              \n",
    "print(\"\\n------------\")\n",
    "walmart_data.duplicated().sum() "
   ]
  },
  {
   "cell_type": "code",
   "execution_count": 12,
   "id": "31d87fcf",
   "metadata": {
    "execution": {
     "iopub.execute_input": "2022-11-15T10:35:52.518711Z",
     "iopub.status.busy": "2022-11-15T10:35:52.518262Z",
     "iopub.status.idle": "2022-11-15T10:35:52.531100Z",
     "shell.execute_reply": "2022-11-15T10:35:52.529965Z"
    },
    "papermill": {
     "duration": 0.032835,
     "end_time": "2022-11-15T10:35:52.533619",
     "exception": false,
     "start_time": "2022-11-15T10:35:52.500784",
     "status": "completed"
    },
    "tags": []
   },
   "outputs": [
    {
     "data": {
      "text/plain": [
       "Store             45\n",
       "Date             143\n",
       "Weekly_Sales    6435\n",
       "Holiday_Flag       2\n",
       "Temperature     3528\n",
       "Fuel_Price       892\n",
       "CPI             2145\n",
       "Unemployment     349\n",
       "dtype: int64"
      ]
     },
     "execution_count": 12,
     "metadata": {},
     "output_type": "execute_result"
    }
   ],
   "source": [
    "#Checking if there is any categorical feature\n",
    "walmart_data.nunique()"
   ]
  },
  {
   "cell_type": "markdown",
   "id": "d9187872",
   "metadata": {
    "papermill": {
     "duration": 0.015269,
     "end_time": "2022-11-15T10:35:52.564545",
     "exception": false,
     "start_time": "2022-11-15T10:35:52.549276",
     "status": "completed"
    },
    "tags": []
   },
   "source": [
    "# Data Preparation"
   ]
  },
  {
   "cell_type": "markdown",
   "id": "e7e9187e",
   "metadata": {
    "papermill": {
     "duration": 0.015593,
     "end_time": "2022-11-15T10:35:52.595966",
     "exception": false,
     "start_time": "2022-11-15T10:35:52.580373",
     "status": "completed"
    },
    "tags": []
   },
   "source": [
    "As we know the weekend will not be similar in any two consecutive years and so the holiday falling that week. So we would consider taking monthly sales.\n",
    "\n",
    "Before that split the date into new columns"
   ]
  },
  {
   "cell_type": "code",
   "execution_count": 13,
   "id": "c9f758ab",
   "metadata": {
    "execution": {
     "iopub.execute_input": "2022-11-15T10:35:52.630115Z",
     "iopub.status.busy": "2022-11-15T10:35:52.629703Z",
     "iopub.status.idle": "2022-11-15T10:35:52.655801Z",
     "shell.execute_reply": "2022-11-15T10:35:52.654517Z"
    },
    "papermill": {
     "duration": 0.046061,
     "end_time": "2022-11-15T10:35:52.658246",
     "exception": false,
     "start_time": "2022-11-15T10:35:52.612185",
     "status": "completed"
    },
    "tags": []
   },
   "outputs": [
    {
     "data": {
      "text/html": [
       "<div>\n",
       "<style scoped>\n",
       "    .dataframe tbody tr th:only-of-type {\n",
       "        vertical-align: middle;\n",
       "    }\n",
       "\n",
       "    .dataframe tbody tr th {\n",
       "        vertical-align: top;\n",
       "    }\n",
       "\n",
       "    .dataframe thead th {\n",
       "        text-align: right;\n",
       "    }\n",
       "</style>\n",
       "<table border=\"1\" class=\"dataframe\">\n",
       "  <thead>\n",
       "    <tr style=\"text-align: right;\">\n",
       "      <th></th>\n",
       "      <th>Store</th>\n",
       "      <th>Date</th>\n",
       "      <th>Weekly_Sales</th>\n",
       "      <th>Holiday_Flag</th>\n",
       "      <th>Temperature</th>\n",
       "      <th>Fuel_Price</th>\n",
       "      <th>CPI</th>\n",
       "      <th>Unemployment</th>\n",
       "      <th>Month</th>\n",
       "      <th>Year</th>\n",
       "    </tr>\n",
       "  </thead>\n",
       "  <tbody>\n",
       "    <tr>\n",
       "      <th>0</th>\n",
       "      <td>1</td>\n",
       "      <td>2010-02-05</td>\n",
       "      <td>1643690.90</td>\n",
       "      <td>0</td>\n",
       "      <td>42.31</td>\n",
       "      <td>2.572</td>\n",
       "      <td>211.096358</td>\n",
       "      <td>8.106</td>\n",
       "      <td>2</td>\n",
       "      <td>2010</td>\n",
       "    </tr>\n",
       "    <tr>\n",
       "      <th>1</th>\n",
       "      <td>1</td>\n",
       "      <td>2010-02-12</td>\n",
       "      <td>1641957.44</td>\n",
       "      <td>1</td>\n",
       "      <td>38.51</td>\n",
       "      <td>2.548</td>\n",
       "      <td>211.242170</td>\n",
       "      <td>8.106</td>\n",
       "      <td>2</td>\n",
       "      <td>2010</td>\n",
       "    </tr>\n",
       "    <tr>\n",
       "      <th>2</th>\n",
       "      <td>1</td>\n",
       "      <td>2010-02-19</td>\n",
       "      <td>1611968.17</td>\n",
       "      <td>0</td>\n",
       "      <td>39.93</td>\n",
       "      <td>2.514</td>\n",
       "      <td>211.289143</td>\n",
       "      <td>8.106</td>\n",
       "      <td>2</td>\n",
       "      <td>2010</td>\n",
       "    </tr>\n",
       "    <tr>\n",
       "      <th>3</th>\n",
       "      <td>1</td>\n",
       "      <td>2010-02-26</td>\n",
       "      <td>1409727.59</td>\n",
       "      <td>0</td>\n",
       "      <td>46.63</td>\n",
       "      <td>2.561</td>\n",
       "      <td>211.319643</td>\n",
       "      <td>8.106</td>\n",
       "      <td>2</td>\n",
       "      <td>2010</td>\n",
       "    </tr>\n",
       "    <tr>\n",
       "      <th>4</th>\n",
       "      <td>1</td>\n",
       "      <td>2010-03-05</td>\n",
       "      <td>1554806.68</td>\n",
       "      <td>0</td>\n",
       "      <td>46.50</td>\n",
       "      <td>2.625</td>\n",
       "      <td>211.350143</td>\n",
       "      <td>8.106</td>\n",
       "      <td>3</td>\n",
       "      <td>2010</td>\n",
       "    </tr>\n",
       "    <tr>\n",
       "      <th>...</th>\n",
       "      <td>...</td>\n",
       "      <td>...</td>\n",
       "      <td>...</td>\n",
       "      <td>...</td>\n",
       "      <td>...</td>\n",
       "      <td>...</td>\n",
       "      <td>...</td>\n",
       "      <td>...</td>\n",
       "      <td>...</td>\n",
       "      <td>...</td>\n",
       "    </tr>\n",
       "    <tr>\n",
       "      <th>6430</th>\n",
       "      <td>45</td>\n",
       "      <td>2012-09-28</td>\n",
       "      <td>713173.95</td>\n",
       "      <td>0</td>\n",
       "      <td>64.88</td>\n",
       "      <td>3.997</td>\n",
       "      <td>192.013558</td>\n",
       "      <td>8.684</td>\n",
       "      <td>9</td>\n",
       "      <td>2012</td>\n",
       "    </tr>\n",
       "    <tr>\n",
       "      <th>6431</th>\n",
       "      <td>45</td>\n",
       "      <td>2012-10-05</td>\n",
       "      <td>733455.07</td>\n",
       "      <td>0</td>\n",
       "      <td>64.89</td>\n",
       "      <td>3.985</td>\n",
       "      <td>192.170412</td>\n",
       "      <td>8.667</td>\n",
       "      <td>10</td>\n",
       "      <td>2012</td>\n",
       "    </tr>\n",
       "    <tr>\n",
       "      <th>6432</th>\n",
       "      <td>45</td>\n",
       "      <td>2012-10-12</td>\n",
       "      <td>734464.36</td>\n",
       "      <td>0</td>\n",
       "      <td>54.47</td>\n",
       "      <td>4.000</td>\n",
       "      <td>192.327265</td>\n",
       "      <td>8.667</td>\n",
       "      <td>10</td>\n",
       "      <td>2012</td>\n",
       "    </tr>\n",
       "    <tr>\n",
       "      <th>6433</th>\n",
       "      <td>45</td>\n",
       "      <td>2012-10-19</td>\n",
       "      <td>718125.53</td>\n",
       "      <td>0</td>\n",
       "      <td>56.47</td>\n",
       "      <td>3.969</td>\n",
       "      <td>192.330854</td>\n",
       "      <td>8.667</td>\n",
       "      <td>10</td>\n",
       "      <td>2012</td>\n",
       "    </tr>\n",
       "    <tr>\n",
       "      <th>6434</th>\n",
       "      <td>45</td>\n",
       "      <td>2012-10-26</td>\n",
       "      <td>760281.43</td>\n",
       "      <td>0</td>\n",
       "      <td>58.85</td>\n",
       "      <td>3.882</td>\n",
       "      <td>192.308899</td>\n",
       "      <td>8.667</td>\n",
       "      <td>10</td>\n",
       "      <td>2012</td>\n",
       "    </tr>\n",
       "  </tbody>\n",
       "</table>\n",
       "<p>6435 rows × 10 columns</p>\n",
       "</div>"
      ],
      "text/plain": [
       "      Store       Date  Weekly_Sales  Holiday_Flag  Temperature  Fuel_Price  \\\n",
       "0         1 2010-02-05    1643690.90             0        42.31       2.572   \n",
       "1         1 2010-02-12    1641957.44             1        38.51       2.548   \n",
       "2         1 2010-02-19    1611968.17             0        39.93       2.514   \n",
       "3         1 2010-02-26    1409727.59             0        46.63       2.561   \n",
       "4         1 2010-03-05    1554806.68             0        46.50       2.625   \n",
       "...     ...        ...           ...           ...          ...         ...   \n",
       "6430     45 2012-09-28     713173.95             0        64.88       3.997   \n",
       "6431     45 2012-10-05     733455.07             0        64.89       3.985   \n",
       "6432     45 2012-10-12     734464.36             0        54.47       4.000   \n",
       "6433     45 2012-10-19     718125.53             0        56.47       3.969   \n",
       "6434     45 2012-10-26     760281.43             0        58.85       3.882   \n",
       "\n",
       "             CPI  Unemployment  Month  Year  \n",
       "0     211.096358         8.106      2  2010  \n",
       "1     211.242170         8.106      2  2010  \n",
       "2     211.289143         8.106      2  2010  \n",
       "3     211.319643         8.106      2  2010  \n",
       "4     211.350143         8.106      3  2010  \n",
       "...          ...           ...    ...   ...  \n",
       "6430  192.013558         8.684      9  2012  \n",
       "6431  192.170412         8.667     10  2012  \n",
       "6432  192.327265         8.667     10  2012  \n",
       "6433  192.330854         8.667     10  2012  \n",
       "6434  192.308899         8.667     10  2012  \n",
       "\n",
       "[6435 rows x 10 columns]"
      ]
     },
     "execution_count": 13,
     "metadata": {},
     "output_type": "execute_result"
    }
   ],
   "source": [
    "walmart_data['Month'] = pd.DatetimeIndex(walmart_data['Date']).month\n",
    "walmart_data['Year'] = pd.DatetimeIndex(walmart_data['Date']).year\n",
    "walmart_data"
   ]
  },
  {
   "cell_type": "code",
   "execution_count": 14,
   "id": "35799cda",
   "metadata": {
    "execution": {
     "iopub.execute_input": "2022-11-15T10:35:52.692352Z",
     "iopub.status.busy": "2022-11-15T10:35:52.691949Z",
     "iopub.status.idle": "2022-11-15T10:35:52.731651Z",
     "shell.execute_reply": "2022-11-15T10:35:52.730151Z"
    },
    "papermill": {
     "duration": 0.059619,
     "end_time": "2022-11-15T10:35:52.734315",
     "exception": false,
     "start_time": "2022-11-15T10:35:52.674696",
     "status": "completed"
    },
    "tags": []
   },
   "outputs": [
    {
     "data": {
      "text/html": [
       "<div>\n",
       "<style scoped>\n",
       "    .dataframe tbody tr th:only-of-type {\n",
       "        vertical-align: middle;\n",
       "    }\n",
       "\n",
       "    .dataframe tbody tr th {\n",
       "        vertical-align: top;\n",
       "    }\n",
       "\n",
       "    .dataframe thead th {\n",
       "        text-align: right;\n",
       "    }\n",
       "</style>\n",
       "<table border=\"1\" class=\"dataframe\">\n",
       "  <thead>\n",
       "    <tr style=\"text-align: right;\">\n",
       "      <th></th>\n",
       "      <th>Store</th>\n",
       "      <th>Year</th>\n",
       "      <th>Month</th>\n",
       "      <th>Monthly_Sales</th>\n",
       "      <th>Holiday_Flag</th>\n",
       "      <th>Temperature</th>\n",
       "      <th>Fuel_Price</th>\n",
       "      <th>CPI</th>\n",
       "      <th>Unemployment</th>\n",
       "    </tr>\n",
       "  </thead>\n",
       "  <tbody>\n",
       "    <tr>\n",
       "      <th>0</th>\n",
       "      <td>1</td>\n",
       "      <td>2010</td>\n",
       "      <td>2</td>\n",
       "      <td>6307344.10</td>\n",
       "      <td>1</td>\n",
       "      <td>41.8450</td>\n",
       "      <td>2.54875</td>\n",
       "      <td>211.236828</td>\n",
       "      <td>8.106</td>\n",
       "    </tr>\n",
       "    <tr>\n",
       "      <th>1</th>\n",
       "      <td>1</td>\n",
       "      <td>2010</td>\n",
       "      <td>3</td>\n",
       "      <td>5871293.98</td>\n",
       "      <td>0</td>\n",
       "      <td>52.5800</td>\n",
       "      <td>2.68600</td>\n",
       "      <td>211.241116</td>\n",
       "      <td>8.106</td>\n",
       "    </tr>\n",
       "    <tr>\n",
       "      <th>2</th>\n",
       "      <td>1</td>\n",
       "      <td>2010</td>\n",
       "      <td>4</td>\n",
       "      <td>7422801.92</td>\n",
       "      <td>0</td>\n",
       "      <td>65.3400</td>\n",
       "      <td>2.77440</td>\n",
       "      <td>210.552135</td>\n",
       "      <td>7.808</td>\n",
       "    </tr>\n",
       "    <tr>\n",
       "      <th>3</th>\n",
       "      <td>1</td>\n",
       "      <td>2010</td>\n",
       "      <td>5</td>\n",
       "      <td>5929938.64</td>\n",
       "      <td>0</td>\n",
       "      <td>76.0525</td>\n",
       "      <td>2.81850</td>\n",
       "      <td>210.547812</td>\n",
       "      <td>7.808</td>\n",
       "    </tr>\n",
       "    <tr>\n",
       "      <th>4</th>\n",
       "      <td>1</td>\n",
       "      <td>2010</td>\n",
       "      <td>6</td>\n",
       "      <td>6084081.46</td>\n",
       "      <td>0</td>\n",
       "      <td>82.3925</td>\n",
       "      <td>2.66575</td>\n",
       "      <td>211.356237</td>\n",
       "      <td>7.808</td>\n",
       "    </tr>\n",
       "    <tr>\n",
       "      <th>...</th>\n",
       "      <td>...</td>\n",
       "      <td>...</td>\n",
       "      <td>...</td>\n",
       "      <td>...</td>\n",
       "      <td>...</td>\n",
       "      <td>...</td>\n",
       "      <td>...</td>\n",
       "      <td>...</td>\n",
       "      <td>...</td>\n",
       "    </tr>\n",
       "    <tr>\n",
       "      <th>1480</th>\n",
       "      <td>45</td>\n",
       "      <td>2012</td>\n",
       "      <td>6</td>\n",
       "      <td>4049712.68</td>\n",
       "      <td>0</td>\n",
       "      <td>72.0300</td>\n",
       "      <td>3.62420</td>\n",
       "      <td>191.043707</td>\n",
       "      <td>8.567</td>\n",
       "    </tr>\n",
       "    <tr>\n",
       "      <th>1481</th>\n",
       "      <td>45</td>\n",
       "      <td>2012</td>\n",
       "      <td>7</td>\n",
       "      <td>3042463.41</td>\n",
       "      <td>0</td>\n",
       "      <td>79.7625</td>\n",
       "      <td>3.55300</td>\n",
       "      <td>191.158753</td>\n",
       "      <td>8.684</td>\n",
       "    </tr>\n",
       "    <tr>\n",
       "      <th>1482</th>\n",
       "      <td>45</td>\n",
       "      <td>2012</td>\n",
       "      <td>8</td>\n",
       "      <td>3633793.89</td>\n",
       "      <td>0</td>\n",
       "      <td>75.7300</td>\n",
       "      <td>3.77680</td>\n",
       "      <td>191.272273</td>\n",
       "      <td>8.684</td>\n",
       "    </tr>\n",
       "    <tr>\n",
       "      <th>1483</th>\n",
       "      <td>45</td>\n",
       "      <td>2012</td>\n",
       "      <td>9</td>\n",
       "      <td>2905011.08</td>\n",
       "      <td>1</td>\n",
       "      <td>68.4425</td>\n",
       "      <td>3.97350</td>\n",
       "      <td>191.786947</td>\n",
       "      <td>8.684</td>\n",
       "    </tr>\n",
       "    <tr>\n",
       "      <th>1484</th>\n",
       "      <td>45</td>\n",
       "      <td>2012</td>\n",
       "      <td>10</td>\n",
       "      <td>2946326.39</td>\n",
       "      <td>0</td>\n",
       "      <td>58.6700</td>\n",
       "      <td>3.95900</td>\n",
       "      <td>192.284357</td>\n",
       "      <td>8.667</td>\n",
       "    </tr>\n",
       "  </tbody>\n",
       "</table>\n",
       "<p>1485 rows × 9 columns</p>\n",
       "</div>"
      ],
      "text/plain": [
       "      Store  Year  Month  Monthly_Sales  Holiday_Flag  Temperature  \\\n",
       "0         1  2010      2     6307344.10             1      41.8450   \n",
       "1         1  2010      3     5871293.98             0      52.5800   \n",
       "2         1  2010      4     7422801.92             0      65.3400   \n",
       "3         1  2010      5     5929938.64             0      76.0525   \n",
       "4         1  2010      6     6084081.46             0      82.3925   \n",
       "...     ...   ...    ...            ...           ...          ...   \n",
       "1480     45  2012      6     4049712.68             0      72.0300   \n",
       "1481     45  2012      7     3042463.41             0      79.7625   \n",
       "1482     45  2012      8     3633793.89             0      75.7300   \n",
       "1483     45  2012      9     2905011.08             1      68.4425   \n",
       "1484     45  2012     10     2946326.39             0      58.6700   \n",
       "\n",
       "      Fuel_Price         CPI  Unemployment  \n",
       "0        2.54875  211.236828         8.106  \n",
       "1        2.68600  211.241116         8.106  \n",
       "2        2.77440  210.552135         7.808  \n",
       "3        2.81850  210.547812         7.808  \n",
       "4        2.66575  211.356237         7.808  \n",
       "...          ...         ...           ...  \n",
       "1480     3.62420  191.043707         8.567  \n",
       "1481     3.55300  191.158753         8.684  \n",
       "1482     3.77680  191.272273         8.684  \n",
       "1483     3.97350  191.786947         8.684  \n",
       "1484     3.95900  192.284357         8.667  \n",
       "\n",
       "[1485 rows x 9 columns]"
      ]
     },
     "execution_count": 14,
     "metadata": {},
     "output_type": "execute_result"
    }
   ],
   "source": [
    "new_cols={'Weekly_Sales':'Monthly_Sales', }\n",
    "new_data=walmart_data.groupby(['Store','Year','Month'],as_index=False).agg({'Weekly_Sales':'sum',\n",
    "       'Holiday_Flag':'max', 'Temperature':'mean','Fuel_Price':'mean', 'CPI':'mean','Unemployment':'mean'}) .rename(columns=\n",
    "                                                                                                                    {'Weekly_Sales':'Monthly_Sales', 'Holiday_Flag':'Holiday_Flag','Temperature':'Temperature','Fuel_Price':'Fuel_Price','CPI':'CPI','Unemployment':'Unemployment'})\n",
    "new_data"
   ]
  },
  {
   "cell_type": "markdown",
   "id": "81000551",
   "metadata": {
    "papermill": {
     "duration": 0.016556,
     "end_time": "2022-11-15T10:35:52.768602",
     "exception": false,
     "start_time": "2022-11-15T10:35:52.752046",
     "status": "completed"
    },
    "tags": []
   },
   "source": [
    "Now explore the new set of data"
   ]
  },
  {
   "cell_type": "code",
   "execution_count": 15,
   "id": "efa47761",
   "metadata": {
    "execution": {
     "iopub.execute_input": "2022-11-15T10:35:52.803660Z",
     "iopub.status.busy": "2022-11-15T10:35:52.803231Z",
     "iopub.status.idle": "2022-11-15T10:35:52.810134Z",
     "shell.execute_reply": "2022-11-15T10:35:52.809216Z"
    },
    "papermill": {
     "duration": 0.027487,
     "end_time": "2022-11-15T10:35:52.812426",
     "exception": false,
     "start_time": "2022-11-15T10:35:52.784939",
     "status": "completed"
    },
    "tags": []
   },
   "outputs": [
    {
     "data": {
      "text/plain": [
       "(1485, 9)"
      ]
     },
     "execution_count": 15,
     "metadata": {},
     "output_type": "execute_result"
    }
   ],
   "source": [
    "new_data.shape"
   ]
  },
  {
   "cell_type": "code",
   "execution_count": 16,
   "id": "d2509f9f",
   "metadata": {
    "execution": {
     "iopub.execute_input": "2022-11-15T10:35:52.848909Z",
     "iopub.status.busy": "2022-11-15T10:35:52.848152Z",
     "iopub.status.idle": "2022-11-15T10:35:52.889564Z",
     "shell.execute_reply": "2022-11-15T10:35:52.888172Z"
    },
    "papermill": {
     "duration": 0.06169,
     "end_time": "2022-11-15T10:35:52.891896",
     "exception": false,
     "start_time": "2022-11-15T10:35:52.830206",
     "status": "completed"
    },
    "tags": []
   },
   "outputs": [
    {
     "data": {
      "text/html": [
       "<div>\n",
       "<style scoped>\n",
       "    .dataframe tbody tr th:only-of-type {\n",
       "        vertical-align: middle;\n",
       "    }\n",
       "\n",
       "    .dataframe tbody tr th {\n",
       "        vertical-align: top;\n",
       "    }\n",
       "\n",
       "    .dataframe thead th {\n",
       "        text-align: right;\n",
       "    }\n",
       "</style>\n",
       "<table border=\"1\" class=\"dataframe\">\n",
       "  <thead>\n",
       "    <tr style=\"text-align: right;\">\n",
       "      <th></th>\n",
       "      <th>Store</th>\n",
       "      <th>Year</th>\n",
       "      <th>Month</th>\n",
       "      <th>Monthly_Sales</th>\n",
       "      <th>Holiday_Flag</th>\n",
       "      <th>Temperature</th>\n",
       "      <th>Fuel_Price</th>\n",
       "      <th>CPI</th>\n",
       "      <th>Unemployment</th>\n",
       "    </tr>\n",
       "  </thead>\n",
       "  <tbody>\n",
       "    <tr>\n",
       "      <th>count</th>\n",
       "      <td>1485.000000</td>\n",
       "      <td>1485.000000</td>\n",
       "      <td>1485.000000</td>\n",
       "      <td>1.485000e+03</td>\n",
       "      <td>1485.000000</td>\n",
       "      <td>1485.000000</td>\n",
       "      <td>1485.000000</td>\n",
       "      <td>1485.000000</td>\n",
       "      <td>1485.000000</td>\n",
       "    </tr>\n",
       "    <tr>\n",
       "      <th>mean</th>\n",
       "      <td>23.000000</td>\n",
       "      <td>2010.969697</td>\n",
       "      <td>6.363636</td>\n",
       "      <td>4.536848e+06</td>\n",
       "      <td>0.303030</td>\n",
       "      <td>60.449221</td>\n",
       "      <td>3.358050</td>\n",
       "      <td>171.575905</td>\n",
       "      <td>7.997630</td>\n",
       "    </tr>\n",
       "    <tr>\n",
       "      <th>std</th>\n",
       "      <td>12.991548</td>\n",
       "      <td>0.797417</td>\n",
       "      <td>3.246773</td>\n",
       "      <td>2.480845e+06</td>\n",
       "      <td>0.459723</td>\n",
       "      <td>17.973585</td>\n",
       "      <td>0.457132</td>\n",
       "      <td>39.369101</td>\n",
       "      <td>1.876057</td>\n",
       "    </tr>\n",
       "    <tr>\n",
       "      <th>min</th>\n",
       "      <td>1.000000</td>\n",
       "      <td>2010.000000</td>\n",
       "      <td>1.000000</td>\n",
       "      <td>9.785106e+05</td>\n",
       "      <td>0.000000</td>\n",
       "      <td>10.735000</td>\n",
       "      <td>2.519000</td>\n",
       "      <td>126.078847</td>\n",
       "      <td>3.879000</td>\n",
       "    </tr>\n",
       "    <tr>\n",
       "      <th>25%</th>\n",
       "      <td>12.000000</td>\n",
       "      <td>2010.000000</td>\n",
       "      <td>4.000000</td>\n",
       "      <td>2.403700e+06</td>\n",
       "      <td>0.000000</td>\n",
       "      <td>47.905000</td>\n",
       "      <td>2.937400</td>\n",
       "      <td>131.801605</td>\n",
       "      <td>6.891000</td>\n",
       "    </tr>\n",
       "    <tr>\n",
       "      <th>50%</th>\n",
       "      <td>23.000000</td>\n",
       "      <td>2011.000000</td>\n",
       "      <td>6.000000</td>\n",
       "      <td>4.107026e+06</td>\n",
       "      <td>0.000000</td>\n",
       "      <td>61.998000</td>\n",
       "      <td>3.446200</td>\n",
       "      <td>182.623663</td>\n",
       "      <td>7.874000</td>\n",
       "    </tr>\n",
       "    <tr>\n",
       "      <th>75%</th>\n",
       "      <td>34.000000</td>\n",
       "      <td>2012.000000</td>\n",
       "      <td>9.000000</td>\n",
       "      <td>6.147059e+06</td>\n",
       "      <td>1.000000</td>\n",
       "      <td>74.502500</td>\n",
       "      <td>3.733000</td>\n",
       "      <td>212.730021</td>\n",
       "      <td>8.622000</td>\n",
       "    </tr>\n",
       "    <tr>\n",
       "      <th>max</th>\n",
       "      <td>45.000000</td>\n",
       "      <td>2012.000000</td>\n",
       "      <td>12.000000</td>\n",
       "      <td>1.355379e+07</td>\n",
       "      <td>1.000000</td>\n",
       "      <td>97.120000</td>\n",
       "      <td>4.337500</td>\n",
       "      <td>227.145680</td>\n",
       "      <td>14.313000</td>\n",
       "    </tr>\n",
       "  </tbody>\n",
       "</table>\n",
       "</div>"
      ],
      "text/plain": [
       "             Store         Year        Month  Monthly_Sales  Holiday_Flag  \\\n",
       "count  1485.000000  1485.000000  1485.000000   1.485000e+03   1485.000000   \n",
       "mean     23.000000  2010.969697     6.363636   4.536848e+06      0.303030   \n",
       "std      12.991548     0.797417     3.246773   2.480845e+06      0.459723   \n",
       "min       1.000000  2010.000000     1.000000   9.785106e+05      0.000000   \n",
       "25%      12.000000  2010.000000     4.000000   2.403700e+06      0.000000   \n",
       "50%      23.000000  2011.000000     6.000000   4.107026e+06      0.000000   \n",
       "75%      34.000000  2012.000000     9.000000   6.147059e+06      1.000000   \n",
       "max      45.000000  2012.000000    12.000000   1.355379e+07      1.000000   \n",
       "\n",
       "       Temperature   Fuel_Price          CPI  Unemployment  \n",
       "count  1485.000000  1485.000000  1485.000000   1485.000000  \n",
       "mean     60.449221     3.358050   171.575905      7.997630  \n",
       "std      17.973585     0.457132    39.369101      1.876057  \n",
       "min      10.735000     2.519000   126.078847      3.879000  \n",
       "25%      47.905000     2.937400   131.801605      6.891000  \n",
       "50%      61.998000     3.446200   182.623663      7.874000  \n",
       "75%      74.502500     3.733000   212.730021      8.622000  \n",
       "max      97.120000     4.337500   227.145680     14.313000  "
      ]
     },
     "execution_count": 16,
     "metadata": {},
     "output_type": "execute_result"
    }
   ],
   "source": [
    "new_data.describe()"
   ]
  },
  {
   "cell_type": "code",
   "execution_count": 17,
   "id": "2f1ea8fa",
   "metadata": {
    "execution": {
     "iopub.execute_input": "2022-11-15T10:35:52.928700Z",
     "iopub.status.busy": "2022-11-15T10:35:52.928287Z",
     "iopub.status.idle": "2022-11-15T10:35:52.947970Z",
     "shell.execute_reply": "2022-11-15T10:35:52.946670Z"
    },
    "papermill": {
     "duration": 0.040844,
     "end_time": "2022-11-15T10:35:52.950771",
     "exception": false,
     "start_time": "2022-11-15T10:35:52.909927",
     "status": "completed"
    },
    "tags": []
   },
   "outputs": [
    {
     "data": {
      "text/html": [
       "<div>\n",
       "<style scoped>\n",
       "    .dataframe tbody tr th:only-of-type {\n",
       "        vertical-align: middle;\n",
       "    }\n",
       "\n",
       "    .dataframe tbody tr th {\n",
       "        vertical-align: top;\n",
       "    }\n",
       "\n",
       "    .dataframe thead th {\n",
       "        text-align: right;\n",
       "    }\n",
       "</style>\n",
       "<table border=\"1\" class=\"dataframe\">\n",
       "  <thead>\n",
       "    <tr style=\"text-align: right;\">\n",
       "      <th></th>\n",
       "      <th>Store</th>\n",
       "      <th>Year</th>\n",
       "      <th>Month</th>\n",
       "      <th>Monthly_Sales</th>\n",
       "      <th>Holiday_Flag</th>\n",
       "      <th>Temperature</th>\n",
       "      <th>Fuel_Price</th>\n",
       "      <th>CPI</th>\n",
       "      <th>Unemployment</th>\n",
       "    </tr>\n",
       "  </thead>\n",
       "  <tbody>\n",
       "    <tr>\n",
       "      <th>Store</th>\n",
       "      <td>1.000000e+00</td>\n",
       "      <td>1.556768e-12</td>\n",
       "      <td>3.291861e-17</td>\n",
       "      <td>-0.330652</td>\n",
       "      <td>-1.129362e-16</td>\n",
       "      <td>-0.023538</td>\n",
       "      <td>0.060387</td>\n",
       "      <td>-0.209493</td>\n",
       "      <td>0.223637</td>\n",
       "    </tr>\n",
       "    <tr>\n",
       "      <th>Year</th>\n",
       "      <td>1.556768e-12</td>\n",
       "      <td>1.000000e+00</td>\n",
       "      <td>-1.831374e-01</td>\n",
       "      <td>-0.028816</td>\n",
       "      <td>-1.403690e-01</td>\n",
       "      <td>0.055502</td>\n",
       "      <td>0.784136</td>\n",
       "      <td>0.074843</td>\n",
       "      <td>-0.243164</td>\n",
       "    </tr>\n",
       "    <tr>\n",
       "      <th>Month</th>\n",
       "      <td>3.291861e-17</td>\n",
       "      <td>-1.831374e-01</td>\n",
       "      <td>1.000000e+00</td>\n",
       "      <td>0.122202</td>\n",
       "      <td>3.121221e-01</td>\n",
       "      <td>0.274406</td>\n",
       "      <td>-0.022434</td>\n",
       "      <td>0.006165</td>\n",
       "      <td>-0.017501</td>\n",
       "    </tr>\n",
       "    <tr>\n",
       "      <th>Monthly_Sales</th>\n",
       "      <td>-3.306521e-01</td>\n",
       "      <td>-2.881551e-02</td>\n",
       "      <td>1.222021e-01</td>\n",
       "      <td>1.000000</td>\n",
       "      <td>5.658001e-02</td>\n",
       "      <td>-0.041241</td>\n",
       "      <td>0.012518</td>\n",
       "      <td>-0.071456</td>\n",
       "      <td>-0.103228</td>\n",
       "    </tr>\n",
       "    <tr>\n",
       "      <th>Holiday_Flag</th>\n",
       "      <td>-1.129362e-16</td>\n",
       "      <td>-1.403690e-01</td>\n",
       "      <td>3.121221e-01</td>\n",
       "      <td>0.056580</td>\n",
       "      <td>1.000000e+00</td>\n",
       "      <td>-0.332222</td>\n",
       "      <td>-0.180206</td>\n",
       "      <td>-0.004947</td>\n",
       "      <td>0.026895</td>\n",
       "    </tr>\n",
       "    <tr>\n",
       "      <th>Temperature</th>\n",
       "      <td>-2.353800e-02</td>\n",
       "      <td>5.550231e-02</td>\n",
       "      <td>2.744060e-01</td>\n",
       "      <td>-0.041241</td>\n",
       "      <td>-3.322220e-01</td>\n",
       "      <td>1.000000</td>\n",
       "      <td>0.148148</td>\n",
       "      <td>0.182686</td>\n",
       "      <td>0.103950</td>\n",
       "    </tr>\n",
       "    <tr>\n",
       "      <th>Fuel_Price</th>\n",
       "      <td>6.038685e-02</td>\n",
       "      <td>7.841356e-01</td>\n",
       "      <td>-2.243416e-02</td>\n",
       "      <td>0.012518</td>\n",
       "      <td>-1.802061e-01</td>\n",
       "      <td>0.148148</td>\n",
       "      <td>1.000000</td>\n",
       "      <td>-0.171236</td>\n",
       "      <td>-0.036741</td>\n",
       "    </tr>\n",
       "    <tr>\n",
       "      <th>CPI</th>\n",
       "      <td>-2.094927e-01</td>\n",
       "      <td>7.484331e-02</td>\n",
       "      <td>6.164562e-03</td>\n",
       "      <td>-0.071456</td>\n",
       "      <td>-4.946951e-03</td>\n",
       "      <td>0.182686</td>\n",
       "      <td>-0.171236</td>\n",
       "      <td>1.000000</td>\n",
       "      <td>-0.302781</td>\n",
       "    </tr>\n",
       "    <tr>\n",
       "      <th>Unemployment</th>\n",
       "      <td>2.236373e-01</td>\n",
       "      <td>-2.431637e-01</td>\n",
       "      <td>-1.750052e-02</td>\n",
       "      <td>-0.103228</td>\n",
       "      <td>2.689535e-02</td>\n",
       "      <td>0.103950</td>\n",
       "      <td>-0.036741</td>\n",
       "      <td>-0.302781</td>\n",
       "      <td>1.000000</td>\n",
       "    </tr>\n",
       "  </tbody>\n",
       "</table>\n",
       "</div>"
      ],
      "text/plain": [
       "                      Store          Year         Month  Monthly_Sales  \\\n",
       "Store          1.000000e+00  1.556768e-12  3.291861e-17      -0.330652   \n",
       "Year           1.556768e-12  1.000000e+00 -1.831374e-01      -0.028816   \n",
       "Month          3.291861e-17 -1.831374e-01  1.000000e+00       0.122202   \n",
       "Monthly_Sales -3.306521e-01 -2.881551e-02  1.222021e-01       1.000000   \n",
       "Holiday_Flag  -1.129362e-16 -1.403690e-01  3.121221e-01       0.056580   \n",
       "Temperature   -2.353800e-02  5.550231e-02  2.744060e-01      -0.041241   \n",
       "Fuel_Price     6.038685e-02  7.841356e-01 -2.243416e-02       0.012518   \n",
       "CPI           -2.094927e-01  7.484331e-02  6.164562e-03      -0.071456   \n",
       "Unemployment   2.236373e-01 -2.431637e-01 -1.750052e-02      -0.103228   \n",
       "\n",
       "               Holiday_Flag  Temperature  Fuel_Price       CPI  Unemployment  \n",
       "Store         -1.129362e-16    -0.023538    0.060387 -0.209493      0.223637  \n",
       "Year          -1.403690e-01     0.055502    0.784136  0.074843     -0.243164  \n",
       "Month          3.121221e-01     0.274406   -0.022434  0.006165     -0.017501  \n",
       "Monthly_Sales  5.658001e-02    -0.041241    0.012518 -0.071456     -0.103228  \n",
       "Holiday_Flag   1.000000e+00    -0.332222   -0.180206 -0.004947      0.026895  \n",
       "Temperature   -3.322220e-01     1.000000    0.148148  0.182686      0.103950  \n",
       "Fuel_Price    -1.802061e-01     0.148148    1.000000 -0.171236     -0.036741  \n",
       "CPI           -4.946951e-03     0.182686   -0.171236  1.000000     -0.302781  \n",
       "Unemployment   2.689535e-02     0.103950   -0.036741 -0.302781      1.000000  "
      ]
     },
     "execution_count": 17,
     "metadata": {},
     "output_type": "execute_result"
    }
   ],
   "source": [
    "new_data.corr()"
   ]
  },
  {
   "cell_type": "code",
   "execution_count": 18,
   "id": "ff215ec5",
   "metadata": {
    "execution": {
     "iopub.execute_input": "2022-11-15T10:35:52.987106Z",
     "iopub.status.busy": "2022-11-15T10:35:52.986716Z",
     "iopub.status.idle": "2022-11-15T10:35:53.000298Z",
     "shell.execute_reply": "2022-11-15T10:35:52.999220Z"
    },
    "papermill": {
     "duration": 0.035314,
     "end_time": "2022-11-15T10:35:53.003522",
     "exception": false,
     "start_time": "2022-11-15T10:35:52.968208",
     "status": "completed"
    },
    "tags": []
   },
   "outputs": [
    {
     "name": "stdout",
     "output_type": "stream",
     "text": [
      "<class 'pandas.core.frame.DataFrame'>\n",
      "RangeIndex: 1485 entries, 0 to 1484\n",
      "Data columns (total 9 columns):\n",
      " #   Column         Non-Null Count  Dtype  \n",
      "---  ------         --------------  -----  \n",
      " 0   Store          1485 non-null   int64  \n",
      " 1   Year           1485 non-null   int64  \n",
      " 2   Month          1485 non-null   int64  \n",
      " 3   Monthly_Sales  1485 non-null   float64\n",
      " 4   Holiday_Flag   1485 non-null   int64  \n",
      " 5   Temperature    1485 non-null   float64\n",
      " 6   Fuel_Price     1485 non-null   float64\n",
      " 7   CPI            1485 non-null   float64\n",
      " 8   Unemployment   1485 non-null   float64\n",
      "dtypes: float64(5), int64(4)\n",
      "memory usage: 104.5 KB\n"
     ]
    }
   ],
   "source": [
    "new_data.info()"
   ]
  },
  {
   "cell_type": "markdown",
   "id": "b472d243",
   "metadata": {
    "papermill": {
     "duration": 0.017134,
     "end_time": "2022-11-15T10:35:53.038879",
     "exception": false,
     "start_time": "2022-11-15T10:35:53.021745",
     "status": "completed"
    },
    "tags": []
   },
   "source": [
    "# Feature Analysis"
   ]
  },
  {
   "cell_type": "markdown",
   "id": "2d1f857b",
   "metadata": {
    "papermill": {
     "duration": 0.016905,
     "end_time": "2022-11-15T10:35:53.072884",
     "exception": false,
     "start_time": "2022-11-15T10:35:53.055979",
     "status": "completed"
    },
    "tags": []
   },
   "source": [
    "Now we know the target is Sales. So lets consider the dependent variable is Sales (ie., monthly sales here) and independent variables are store, year, month, holiday flag, temperature, fuel_price, cpi, unemployment"
   ]
  },
  {
   "cell_type": "code",
   "execution_count": 19,
   "id": "3478cd4b",
   "metadata": {
    "execution": {
     "iopub.execute_input": "2022-11-15T10:35:53.109006Z",
     "iopub.status.busy": "2022-11-15T10:35:53.108579Z",
     "iopub.status.idle": "2022-11-15T10:35:53.115088Z",
     "shell.execute_reply": "2022-11-15T10:35:53.114093Z"
    },
    "papermill": {
     "duration": 0.02678,
     "end_time": "2022-11-15T10:35:53.117176",
     "exception": false,
     "start_time": "2022-11-15T10:35:53.090396",
     "status": "completed"
    },
    "tags": []
   },
   "outputs": [],
   "source": [
    "X=new_data[['Store','Year','Month','Holiday_Flag','Temperature','Fuel_Price','CPI','Unemployment']]\n",
    "Y=new_data['Monthly_Sales']"
   ]
  },
  {
   "cell_type": "code",
   "execution_count": 20,
   "id": "441d11ce",
   "metadata": {
    "execution": {
     "iopub.execute_input": "2022-11-15T10:35:53.152810Z",
     "iopub.status.busy": "2022-11-15T10:35:53.152391Z",
     "iopub.status.idle": "2022-11-15T10:35:53.178148Z",
     "shell.execute_reply": "2022-11-15T10:35:53.177264Z"
    },
    "papermill": {
     "duration": 0.046869,
     "end_time": "2022-11-15T10:35:53.181085",
     "exception": false,
     "start_time": "2022-11-15T10:35:53.134216",
     "status": "completed"
    },
    "tags": []
   },
   "outputs": [
    {
     "data": {
      "text/plain": [
       "LinearRegression()"
      ]
     },
     "execution_count": 20,
     "metadata": {},
     "output_type": "execute_result"
    }
   ],
   "source": [
    "reg = LinearRegression()\n",
    "reg.fit(X,Y)"
   ]
  },
  {
   "cell_type": "code",
   "execution_count": 21,
   "id": "8cd7b200",
   "metadata": {
    "execution": {
     "iopub.execute_input": "2022-11-15T10:35:53.223246Z",
     "iopub.status.busy": "2022-11-15T10:35:53.222192Z",
     "iopub.status.idle": "2022-11-15T10:35:53.231285Z",
     "shell.execute_reply": "2022-11-15T10:35:53.230155Z"
    },
    "papermill": {
     "duration": 0.031214,
     "end_time": "2022-11-15T10:35:53.233749",
     "exception": false,
     "start_time": "2022-11-15T10:35:53.202535",
     "status": "completed"
    },
    "tags": []
   },
   "outputs": [
    {
     "data": {
      "text/plain": [
       "array([ -66717.28005608, -191045.47747656,   96751.93188401,\n",
       "         15945.65218827,   -7790.48772063,  362035.96510175,\n",
       "         -8882.665027  ,  -95543.47175167])"
      ]
     },
     "execution_count": 21,
     "metadata": {},
     "output_type": "execute_result"
    }
   ],
   "source": [
    "reg.coef_"
   ]
  },
  {
   "cell_type": "code",
   "execution_count": 22,
   "id": "d2a73b9e",
   "metadata": {
    "execution": {
     "iopub.execute_input": "2022-11-15T10:35:53.272069Z",
     "iopub.status.busy": "2022-11-15T10:35:53.271001Z",
     "iopub.status.idle": "2022-11-15T10:35:53.277687Z",
     "shell.execute_reply": "2022-11-15T10:35:53.276855Z"
    },
    "papermill": {
     "duration": 0.028686,
     "end_time": "2022-11-15T10:35:53.280450",
     "exception": false,
     "start_time": "2022-11-15T10:35:53.251764",
     "status": "completed"
    },
    "tags": []
   },
   "outputs": [
    {
     "data": {
      "text/plain": [
       "391180851.8990298"
      ]
     },
     "execution_count": 22,
     "metadata": {},
     "output_type": "execute_result"
    }
   ],
   "source": [
    "reg.intercept_"
   ]
  },
  {
   "cell_type": "code",
   "execution_count": 23,
   "id": "51547117",
   "metadata": {
    "execution": {
     "iopub.execute_input": "2022-11-15T10:35:53.320655Z",
     "iopub.status.busy": "2022-11-15T10:35:53.319935Z",
     "iopub.status.idle": "2022-11-15T10:35:53.334597Z",
     "shell.execute_reply": "2022-11-15T10:35:53.333323Z"
    },
    "papermill": {
     "duration": 0.037321,
     "end_time": "2022-11-15T10:35:53.338368",
     "exception": false,
     "start_time": "2022-11-15T10:35:53.301047",
     "status": "completed"
    },
    "tags": []
   },
   "outputs": [
    {
     "data": {
      "text/plain": [
       "0.15362759221275113"
      ]
     },
     "execution_count": 23,
     "metadata": {},
     "output_type": "execute_result"
    }
   ],
   "source": [
    "reg.score(X,Y)"
   ]
  },
  {
   "cell_type": "markdown",
   "id": "8b28f5bc",
   "metadata": {
    "papermill": {
     "duration": 0.028463,
     "end_time": "2022-11-15T10:35:53.397068",
     "exception": false,
     "start_time": "2022-11-15T10:35:53.368605",
     "status": "completed"
    },
    "tags": []
   },
   "source": [
    "\n",
    "> **Formula for Adjusted R^2**\n",
    "\n",
    "$R^2_{adj.} = 1 - (1-R^2)*\\frac{n-1}{n-p-1}$\n",
    "\n",
    "n=number of observation\n",
    "p=number of predictors"
   ]
  },
  {
   "cell_type": "code",
   "execution_count": 24,
   "id": "83148cd0",
   "metadata": {
    "execution": {
     "iopub.execute_input": "2022-11-15T10:35:53.454648Z",
     "iopub.status.busy": "2022-11-15T10:35:53.453248Z",
     "iopub.status.idle": "2022-11-15T10:35:53.461347Z",
     "shell.execute_reply": "2022-11-15T10:35:53.460225Z"
    },
    "papermill": {
     "duration": 0.040805,
     "end_time": "2022-11-15T10:35:53.466340",
     "exception": false,
     "start_time": "2022-11-15T10:35:53.425535",
     "status": "completed"
    },
    "tags": []
   },
   "outputs": [
    {
     "data": {
      "text/plain": [
       "(1485, 8)"
      ]
     },
     "execution_count": 24,
     "metadata": {},
     "output_type": "execute_result"
    }
   ],
   "source": [
    "X.shape"
   ]
  },
  {
   "cell_type": "code",
   "execution_count": 25,
   "id": "99ec8116",
   "metadata": {
    "execution": {
     "iopub.execute_input": "2022-11-15T10:35:53.505229Z",
     "iopub.status.busy": "2022-11-15T10:35:53.504028Z",
     "iopub.status.idle": "2022-11-15T10:35:53.514441Z",
     "shell.execute_reply": "2022-11-15T10:35:53.513450Z"
    },
    "papermill": {
     "duration": 0.03525,
     "end_time": "2022-11-15T10:35:53.519898",
     "exception": false,
     "start_time": "2022-11-15T10:35:53.484648",
     "status": "completed"
    },
    "tags": []
   },
   "outputs": [
    {
     "data": {
      "text/plain": [
       "0.1490402078887011"
      ]
     },
     "execution_count": 25,
     "metadata": {},
     "output_type": "execute_result"
    }
   ],
   "source": [
    "r2=reg.score(X,Y)\n",
    "n=X.shape[0]\n",
    "p=X.shape[1]\n",
    "\n",
    "adj_r2 = 1 - (1-r2) *(n-1)/(n-p-1)\n",
    "adj_r2"
   ]
  },
  {
   "cell_type": "markdown",
   "id": "142da528",
   "metadata": {
    "papermill": {
     "duration": 0.029105,
     "end_time": "2022-11-15T10:35:53.583840",
     "exception": false,
     "start_time": "2022-11-15T10:35:53.554735",
     "status": "completed"
    },
    "tags": []
   },
   "source": [
    "Adj.R^2 < R^2, therefore one or more of the predictors have little or no explanatory power.\n",
    "\n",
    "f_regression provides two arrays being F-statistics and p-values respectively"
   ]
  },
  {
   "cell_type": "code",
   "execution_count": 26,
   "id": "46adbadf",
   "metadata": {
    "execution": {
     "iopub.execute_input": "2022-11-15T10:35:53.640101Z",
     "iopub.status.busy": "2022-11-15T10:35:53.639674Z",
     "iopub.status.idle": "2022-11-15T10:35:53.651062Z",
     "shell.execute_reply": "2022-11-15T10:35:53.650174Z"
    },
    "papermill": {
     "duration": 0.040587,
     "end_time": "2022-11-15T10:35:53.653268",
     "exception": false,
     "start_time": "2022-11-15T10:35:53.612681",
     "status": "completed"
    },
    "tags": []
   },
   "outputs": [
    {
     "data": {
      "text/plain": [
       "(array([182.04019132,   1.23240795,  22.48187963,   4.76277083,\n",
       "          2.52661122,   0.23241279,   7.61102389,  15.9732188 ]),\n",
       " array([3.23077751e-39, 2.67119230e-01, 2.32520177e-06, 2.92381438e-02,\n",
       "        1.12153536e-01, 6.29811661e-01, 5.87254541e-03, 6.74005613e-05]))"
      ]
     },
     "execution_count": 26,
     "metadata": {},
     "output_type": "execute_result"
    }
   ],
   "source": [
    "f_regression(X,Y)"
   ]
  },
  {
   "cell_type": "markdown",
   "id": "040166f6",
   "metadata": {
    "papermill": {
     "duration": 0.01803,
     "end_time": "2022-11-15T10:35:53.689071",
     "exception": false,
     "start_time": "2022-11-15T10:35:53.671041",
     "status": "completed"
    },
    "tags": []
   },
   "source": [
    "We only need p-values. So we pick that"
   ]
  },
  {
   "cell_type": "code",
   "execution_count": 27,
   "id": "f89b1497",
   "metadata": {
    "execution": {
     "iopub.execute_input": "2022-11-15T10:35:53.727393Z",
     "iopub.status.busy": "2022-11-15T10:35:53.726627Z",
     "iopub.status.idle": "2022-11-15T10:35:53.736348Z",
     "shell.execute_reply": "2022-11-15T10:35:53.735441Z"
    },
    "papermill": {
     "duration": 0.031462,
     "end_time": "2022-11-15T10:35:53.738586",
     "exception": false,
     "start_time": "2022-11-15T10:35:53.707124",
     "status": "completed"
    },
    "tags": []
   },
   "outputs": [
    {
     "data": {
      "text/plain": [
       "array([3.23077751e-39, 2.67119230e-01, 2.32520177e-06, 2.92381438e-02,\n",
       "       1.12153536e-01, 6.29811661e-01, 5.87254541e-03, 6.74005613e-05])"
      ]
     },
     "execution_count": 27,
     "metadata": {},
     "output_type": "execute_result"
    }
   ],
   "source": [
    "p_values=f_regression(X,Y)[1]\n",
    "p_values"
   ]
  },
  {
   "cell_type": "markdown",
   "id": "2332819f",
   "metadata": {
    "papermill": {
     "duration": 0.017877,
     "end_time": "2022-11-15T10:35:53.774751",
     "exception": false,
     "start_time": "2022-11-15T10:35:53.756874",
     "status": "completed"
    },
    "tags": []
   },
   "source": [
    "So the p_values of the independent variables, 'Store','Year','Month','Holiday_Flag','Temperature','Fuel_Price','CPI','Unemployment' are below.\n",
    "\n",
    "As we know the lowest p-values has significant effect on target/dependent variable(s), we can see Fuel_Price,Year is not significant in determining values for target (as they have p_value > alpha value which is 0.05)\n",
    "\n",
    "These are univariate p-values reached from simple linear models. They do not reflect the interconnection of the features in our multi linear regression."
   ]
  },
  {
   "cell_type": "code",
   "execution_count": 28,
   "id": "9aa29662",
   "metadata": {
    "execution": {
     "iopub.execute_input": "2022-11-15T10:35:53.819999Z",
     "iopub.status.busy": "2022-11-15T10:35:53.819229Z",
     "iopub.status.idle": "2022-11-15T10:35:53.828842Z",
     "shell.execute_reply": "2022-11-15T10:35:53.827846Z"
    },
    "papermill": {
     "duration": 0.034598,
     "end_time": "2022-11-15T10:35:53.831575",
     "exception": false,
     "start_time": "2022-11-15T10:35:53.796977",
     "status": "completed"
    },
    "tags": []
   },
   "outputs": [
    {
     "data": {
      "text/plain": [
       "array([0.   , 0.267, 0.   , 0.029, 0.112, 0.63 , 0.006, 0.   ])"
      ]
     },
     "execution_count": 28,
     "metadata": {},
     "output_type": "execute_result"
    }
   ],
   "source": [
    "p_values.round(3)"
   ]
  },
  {
   "cell_type": "markdown",
   "id": "630e6b4b",
   "metadata": {
    "papermill": {
     "duration": 0.017958,
     "end_time": "2022-11-15T10:35:53.874388",
     "exception": false,
     "start_time": "2022-11-15T10:35:53.856430",
     "status": "completed"
    },
    "tags": []
   },
   "source": [
    "Creating a Summary Table"
   ]
  },
  {
   "cell_type": "code",
   "execution_count": 29,
   "id": "82e94905",
   "metadata": {
    "execution": {
     "iopub.execute_input": "2022-11-15T10:35:53.918680Z",
     "iopub.status.busy": "2022-11-15T10:35:53.917916Z",
     "iopub.status.idle": "2022-11-15T10:35:53.931769Z",
     "shell.execute_reply": "2022-11-15T10:35:53.930789Z"
    },
    "papermill": {
     "duration": 0.035409,
     "end_time": "2022-11-15T10:35:53.933978",
     "exception": false,
     "start_time": "2022-11-15T10:35:53.898569",
     "status": "completed"
    },
    "tags": []
   },
   "outputs": [
    {
     "data": {
      "text/html": [
       "<div>\n",
       "<style scoped>\n",
       "    .dataframe tbody tr th:only-of-type {\n",
       "        vertical-align: middle;\n",
       "    }\n",
       "\n",
       "    .dataframe tbody tr th {\n",
       "        vertical-align: top;\n",
       "    }\n",
       "\n",
       "    .dataframe thead th {\n",
       "        text-align: right;\n",
       "    }\n",
       "</style>\n",
       "<table border=\"1\" class=\"dataframe\">\n",
       "  <thead>\n",
       "    <tr style=\"text-align: right;\">\n",
       "      <th></th>\n",
       "      <th>Features</th>\n",
       "      <th>Coefficients</th>\n",
       "      <th>p-values</th>\n",
       "    </tr>\n",
       "  </thead>\n",
       "  <tbody>\n",
       "    <tr>\n",
       "      <th>0</th>\n",
       "      <td>Store</td>\n",
       "      <td>-66717.280056</td>\n",
       "      <td>0.000</td>\n",
       "    </tr>\n",
       "    <tr>\n",
       "      <th>1</th>\n",
       "      <td>Year</td>\n",
       "      <td>-191045.477477</td>\n",
       "      <td>0.267</td>\n",
       "    </tr>\n",
       "    <tr>\n",
       "      <th>2</th>\n",
       "      <td>Month</td>\n",
       "      <td>96751.931884</td>\n",
       "      <td>0.000</td>\n",
       "    </tr>\n",
       "    <tr>\n",
       "      <th>3</th>\n",
       "      <td>Holiday_Flag</td>\n",
       "      <td>15945.652188</td>\n",
       "      <td>0.029</td>\n",
       "    </tr>\n",
       "    <tr>\n",
       "      <th>4</th>\n",
       "      <td>Temperature</td>\n",
       "      <td>-7790.487721</td>\n",
       "      <td>0.112</td>\n",
       "    </tr>\n",
       "    <tr>\n",
       "      <th>5</th>\n",
       "      <td>Fuel_Price</td>\n",
       "      <td>362035.965102</td>\n",
       "      <td>0.630</td>\n",
       "    </tr>\n",
       "    <tr>\n",
       "      <th>6</th>\n",
       "      <td>CPI</td>\n",
       "      <td>-8882.665027</td>\n",
       "      <td>0.006</td>\n",
       "    </tr>\n",
       "    <tr>\n",
       "      <th>7</th>\n",
       "      <td>Unemployment</td>\n",
       "      <td>-95543.471752</td>\n",
       "      <td>0.000</td>\n",
       "    </tr>\n",
       "  </tbody>\n",
       "</table>\n",
       "</div>"
      ],
      "text/plain": [
       "       Features   Coefficients  p-values\n",
       "0         Store  -66717.280056     0.000\n",
       "1          Year -191045.477477     0.267\n",
       "2         Month   96751.931884     0.000\n",
       "3  Holiday_Flag   15945.652188     0.029\n",
       "4   Temperature   -7790.487721     0.112\n",
       "5    Fuel_Price  362035.965102     0.630\n",
       "6           CPI   -8882.665027     0.006\n",
       "7  Unemployment  -95543.471752     0.000"
      ]
     },
     "execution_count": 29,
     "metadata": {},
     "output_type": "execute_result"
    }
   ],
   "source": [
    "reg_summary = pd.DataFrame(data=X.columns.values, columns=['Features'])\n",
    "reg_summary['Coefficients'] = reg.coef_\n",
    "reg_summary['p-values'] = p_values.round(3)\n",
    "reg_summary"
   ]
  },
  {
   "cell_type": "markdown",
   "id": "8f3d3630",
   "metadata": {
    "papermill": {
     "duration": 0.017957,
     "end_time": "2022-11-15T10:35:53.970205",
     "exception": false,
     "start_time": "2022-11-15T10:35:53.952248",
     "status": "completed"
    },
    "tags": []
   },
   "source": [
    "# Feature Scaling - Standardization"
   ]
  },
  {
   "cell_type": "code",
   "execution_count": 30,
   "id": "f6c7074e",
   "metadata": {
    "execution": {
     "iopub.execute_input": "2022-11-15T10:35:54.008487Z",
     "iopub.status.busy": "2022-11-15T10:35:54.008071Z",
     "iopub.status.idle": "2022-11-15T10:35:54.017733Z",
     "shell.execute_reply": "2022-11-15T10:35:54.016853Z"
    },
    "papermill": {
     "duration": 0.03139,
     "end_time": "2022-11-15T10:35:54.019930",
     "exception": false,
     "start_time": "2022-11-15T10:35:53.988540",
     "status": "completed"
    },
    "tags": []
   },
   "outputs": [
    {
     "data": {
      "text/plain": [
       "StandardScaler()"
      ]
     },
     "execution_count": 30,
     "metadata": {},
     "output_type": "execute_result"
    }
   ],
   "source": [
    "scaler = StandardScaler()\n",
    "scaler.fit(X)"
   ]
  },
  {
   "cell_type": "code",
   "execution_count": 31,
   "id": "f5d6ae7b",
   "metadata": {
    "execution": {
     "iopub.execute_input": "2022-11-15T10:35:54.059357Z",
     "iopub.status.busy": "2022-11-15T10:35:54.058583Z",
     "iopub.status.idle": "2022-11-15T10:35:54.068284Z",
     "shell.execute_reply": "2022-11-15T10:35:54.067382Z"
    },
    "papermill": {
     "duration": 0.032389,
     "end_time": "2022-11-15T10:35:54.070547",
     "exception": false,
     "start_time": "2022-11-15T10:35:54.038158",
     "status": "completed"
    },
    "tags": []
   },
   "outputs": [
    {
     "data": {
      "text/plain": [
       "array([[-1.69397911, -1.21645747, -1.34444464, ..., -1.77098323,\n",
       "         1.00775183,  0.05778407],\n",
       "       [-1.69397911, -1.21645747, -1.03634274, ..., -1.47064026,\n",
       "         1.00786076,  0.05778407],\n",
       "       [-1.69397911, -1.21645747, -0.72824084, ..., -1.27719532,\n",
       "         0.99035433, -0.10111324],\n",
       "       ...,\n",
       "       [ 1.69397911,  1.29248607,  0.50416674, ...,  0.91634773,\n",
       "         0.50046869,  0.36598089],\n",
       "       [ 1.69397911,  1.29248607,  0.81226863, ...,  1.3467846 ,\n",
       "         0.51354614,  0.36598089],\n",
       "       [ 1.69397911,  1.29248607,  1.12037053, ...,  1.31505438,\n",
       "         0.52618494,  0.35691627]])"
      ]
     },
     "execution_count": 31,
     "metadata": {},
     "output_type": "execute_result"
    }
   ],
   "source": [
    "x_scaled = scaler.transform(X)\n",
    "x_scaled #this is all the standardized data"
   ]
  },
  {
   "cell_type": "markdown",
   "id": "3aab81e7",
   "metadata": {
    "papermill": {
     "duration": 0.018331,
     "end_time": "2022-11-15T10:35:54.107206",
     "exception": false,
     "start_time": "2022-11-15T10:35:54.088875",
     "status": "completed"
    },
    "tags": []
   },
   "source": [
    "# Regression with Scaled Features"
   ]
  },
  {
   "cell_type": "code",
   "execution_count": 32,
   "id": "72e9db84",
   "metadata": {
    "execution": {
     "iopub.execute_input": "2022-11-15T10:35:54.146578Z",
     "iopub.status.busy": "2022-11-15T10:35:54.145920Z",
     "iopub.status.idle": "2022-11-15T10:35:54.153967Z",
     "shell.execute_reply": "2022-11-15T10:35:54.152920Z"
    },
    "papermill": {
     "duration": 0.030181,
     "end_time": "2022-11-15T10:35:54.156149",
     "exception": false,
     "start_time": "2022-11-15T10:35:54.125968",
     "status": "completed"
    },
    "tags": []
   },
   "outputs": [
    {
     "data": {
      "text/plain": [
       "LinearRegression()"
      ]
     },
     "execution_count": 32,
     "metadata": {},
     "output_type": "execute_result"
    }
   ],
   "source": [
    "reg = LinearRegression()\n",
    "reg.fit(x_scaled,Y)"
   ]
  },
  {
   "cell_type": "code",
   "execution_count": 33,
   "id": "99c328de",
   "metadata": {
    "execution": {
     "iopub.execute_input": "2022-11-15T10:35:54.196011Z",
     "iopub.status.busy": "2022-11-15T10:35:54.195331Z",
     "iopub.status.idle": "2022-11-15T10:35:54.202276Z",
     "shell.execute_reply": "2022-11-15T10:35:54.201361Z"
    },
    "papermill": {
     "duration": 0.029314,
     "end_time": "2022-11-15T10:35:54.204435",
     "exception": false,
     "start_time": "2022-11-15T10:35:54.175121",
     "status": "completed"
    },
    "tags": []
   },
   "outputs": [
    {
     "data": {
      "text/plain": [
       "array([-866468.86879822, -152291.57166454,  314025.75959092,\n",
       "          7328.1148132 , -139975.83621128,  165442.31944327,\n",
       "       -349584.77576598, -179184.61431015])"
      ]
     },
     "execution_count": 33,
     "metadata": {},
     "output_type": "execute_result"
    }
   ],
   "source": [
    "reg.coef_"
   ]
  },
  {
   "cell_type": "code",
   "execution_count": 34,
   "id": "5de5bba3",
   "metadata": {
    "execution": {
     "iopub.execute_input": "2022-11-15T10:35:54.244865Z",
     "iopub.status.busy": "2022-11-15T10:35:54.244253Z",
     "iopub.status.idle": "2022-11-15T10:35:54.252628Z",
     "shell.execute_reply": "2022-11-15T10:35:54.251453Z"
    },
    "papermill": {
     "duration": 0.031089,
     "end_time": "2022-11-15T10:35:54.254847",
     "exception": false,
     "start_time": "2022-11-15T10:35:54.223758",
     "status": "completed"
    },
    "tags": []
   },
   "outputs": [
    {
     "data": {
      "text/plain": [
       "4536847.802767671"
      ]
     },
     "execution_count": 34,
     "metadata": {},
     "output_type": "execute_result"
    }
   ],
   "source": [
    "reg.intercept_"
   ]
  },
  {
   "cell_type": "code",
   "execution_count": 35,
   "id": "1763bc02",
   "metadata": {
    "execution": {
     "iopub.execute_input": "2022-11-15T10:35:54.294064Z",
     "iopub.status.busy": "2022-11-15T10:35:54.293682Z",
     "iopub.status.idle": "2022-11-15T10:35:54.309043Z",
     "shell.execute_reply": "2022-11-15T10:35:54.307892Z"
    },
    "papermill": {
     "duration": 0.038084,
     "end_time": "2022-11-15T10:35:54.311676",
     "exception": false,
     "start_time": "2022-11-15T10:35:54.273592",
     "status": "completed"
    },
    "tags": []
   },
   "outputs": [
    {
     "data": {
      "text/html": [
       "<div>\n",
       "<style scoped>\n",
       "    .dataframe tbody tr th:only-of-type {\n",
       "        vertical-align: middle;\n",
       "    }\n",
       "\n",
       "    .dataframe tbody tr th {\n",
       "        vertical-align: top;\n",
       "    }\n",
       "\n",
       "    .dataframe thead th {\n",
       "        text-align: right;\n",
       "    }\n",
       "</style>\n",
       "<table border=\"1\" class=\"dataframe\">\n",
       "  <thead>\n",
       "    <tr style=\"text-align: right;\">\n",
       "      <th></th>\n",
       "      <th>Features</th>\n",
       "      <th>Weights</th>\n",
       "    </tr>\n",
       "  </thead>\n",
       "  <tbody>\n",
       "    <tr>\n",
       "      <th>0</th>\n",
       "      <td>Intercept</td>\n",
       "      <td>4.536848e+06</td>\n",
       "    </tr>\n",
       "    <tr>\n",
       "      <th>1</th>\n",
       "      <td>Store</td>\n",
       "      <td>-8.664689e+05</td>\n",
       "    </tr>\n",
       "    <tr>\n",
       "      <th>2</th>\n",
       "      <td>Year</td>\n",
       "      <td>-1.522916e+05</td>\n",
       "    </tr>\n",
       "    <tr>\n",
       "      <th>3</th>\n",
       "      <td>Month</td>\n",
       "      <td>3.140258e+05</td>\n",
       "    </tr>\n",
       "    <tr>\n",
       "      <th>4</th>\n",
       "      <td>Holiday_Flag</td>\n",
       "      <td>7.328115e+03</td>\n",
       "    </tr>\n",
       "    <tr>\n",
       "      <th>5</th>\n",
       "      <td>Temperature</td>\n",
       "      <td>-1.399758e+05</td>\n",
       "    </tr>\n",
       "    <tr>\n",
       "      <th>6</th>\n",
       "      <td>Fuel_Price</td>\n",
       "      <td>1.654423e+05</td>\n",
       "    </tr>\n",
       "    <tr>\n",
       "      <th>7</th>\n",
       "      <td>CPI</td>\n",
       "      <td>-3.495848e+05</td>\n",
       "    </tr>\n",
       "    <tr>\n",
       "      <th>8</th>\n",
       "      <td>Unemployment</td>\n",
       "      <td>-1.791846e+05</td>\n",
       "    </tr>\n",
       "  </tbody>\n",
       "</table>\n",
       "</div>"
      ],
      "text/plain": [
       "       Features       Weights\n",
       "0     Intercept  4.536848e+06\n",
       "1         Store -8.664689e+05\n",
       "2          Year -1.522916e+05\n",
       "3         Month  3.140258e+05\n",
       "4  Holiday_Flag  7.328115e+03\n",
       "5   Temperature -1.399758e+05\n",
       "6    Fuel_Price  1.654423e+05\n",
       "7           CPI -3.495848e+05\n",
       "8  Unemployment -1.791846e+05"
      ]
     },
     "execution_count": 35,
     "metadata": {},
     "output_type": "execute_result"
    }
   ],
   "source": [
    "reg_summary=pd.DataFrame([['Intercept'],['Store'],['Year'],['Month'],['Holiday_Flag'],['Temperature'],['Fuel_Price'],['CPI'],['Unemployment']],columns=['Features'])\n",
    "reg_summary['Weights'] = reg.intercept_, reg.coef_[0], reg.coef_[1], reg.coef_[2], reg.coef_[3], reg.coef_[4], reg.coef_[5], reg.coef_[6], reg.coef_[7]\n",
    "reg_summary"
   ]
  },
  {
   "cell_type": "markdown",
   "id": "85846736",
   "metadata": {
    "papermill": {
     "duration": 0.01859,
     "end_time": "2022-11-15T10:35:54.349255",
     "exception": false,
     "start_time": "2022-11-15T10:35:54.330665",
     "status": "completed"
    },
    "tags": []
   },
   "source": [
    "# Lets test the model with new data"
   ]
  },
  {
   "cell_type": "code",
   "execution_count": 36,
   "id": "daa54363",
   "metadata": {
    "execution": {
     "iopub.execute_input": "2022-11-15T10:35:54.389636Z",
     "iopub.status.busy": "2022-11-15T10:35:54.389199Z",
     "iopub.status.idle": "2022-11-15T10:35:54.404285Z",
     "shell.execute_reply": "2022-11-15T10:35:54.403160Z"
    },
    "papermill": {
     "duration": 0.038472,
     "end_time": "2022-11-15T10:35:54.406582",
     "exception": false,
     "start_time": "2022-11-15T10:35:54.368110",
     "status": "completed"
    },
    "tags": []
   },
   "outputs": [
    {
     "data": {
      "text/html": [
       "<div>\n",
       "<style scoped>\n",
       "    .dataframe tbody tr th:only-of-type {\n",
       "        vertical-align: middle;\n",
       "    }\n",
       "\n",
       "    .dataframe tbody tr th {\n",
       "        vertical-align: top;\n",
       "    }\n",
       "\n",
       "    .dataframe thead th {\n",
       "        text-align: right;\n",
       "    }\n",
       "</style>\n",
       "<table border=\"1\" class=\"dataframe\">\n",
       "  <thead>\n",
       "    <tr style=\"text-align: right;\">\n",
       "      <th></th>\n",
       "      <th>Store</th>\n",
       "      <th>Year</th>\n",
       "      <th>Month</th>\n",
       "      <th>Holiday_Flag</th>\n",
       "      <th>Temperature</th>\n",
       "      <th>Fuel_Price</th>\n",
       "      <th>CPI</th>\n",
       "      <th>Unemployment</th>\n",
       "    </tr>\n",
       "  </thead>\n",
       "  <tbody>\n",
       "    <tr>\n",
       "      <th>0</th>\n",
       "      <td>5</td>\n",
       "      <td>2020</td>\n",
       "      <td>12</td>\n",
       "      <td>1</td>\n",
       "      <td>20.845</td>\n",
       "      <td>2.54875</td>\n",
       "      <td>211.236828</td>\n",
       "      <td>12.106</td>\n",
       "    </tr>\n",
       "    <tr>\n",
       "      <th>1</th>\n",
       "      <td>8</td>\n",
       "      <td>2021</td>\n",
       "      <td>10</td>\n",
       "      <td>1</td>\n",
       "      <td>25.840</td>\n",
       "      <td>4.54875</td>\n",
       "      <td>220.236828</td>\n",
       "      <td>9.106</td>\n",
       "    </tr>\n",
       "  </tbody>\n",
       "</table>\n",
       "</div>"
      ],
      "text/plain": [
       "   Store  Year  Month  Holiday_Flag  Temperature  Fuel_Price         CPI  \\\n",
       "0      5  2020     12             1       20.845     2.54875  211.236828   \n",
       "1      8  2021     10             1       25.840     4.54875  220.236828   \n",
       "\n",
       "   Unemployment  \n",
       "0        12.106  \n",
       "1         9.106  "
      ]
     },
     "execution_count": 36,
     "metadata": {},
     "output_type": "execute_result"
    }
   ],
   "source": [
    "test_data=pd.DataFrame(data=[[5,2020,12,1,20.8450,2.54875,211.236828,12.106],[8,2021,10,1,25.8400,4.54875,220.236828,9.106]], columns=['Store','Year','Month','Holiday_Flag','Temperature','Fuel_Price','CPI','Unemployment'])\n",
    "test_data"
   ]
  },
  {
   "cell_type": "markdown",
   "id": "457857d3",
   "metadata": {
    "papermill": {
     "duration": 0.018714,
     "end_time": "2022-11-15T10:35:54.444738",
     "exception": false,
     "start_time": "2022-11-15T10:35:54.426024",
     "status": "completed"
    },
    "tags": []
   },
   "source": [
    "Since our model is on scaled data, lets scale the data"
   ]
  },
  {
   "cell_type": "code",
   "execution_count": 37,
   "id": "3b4612b3",
   "metadata": {
    "execution": {
     "iopub.execute_input": "2022-11-15T10:35:54.485145Z",
     "iopub.status.busy": "2022-11-15T10:35:54.484757Z",
     "iopub.status.idle": "2022-11-15T10:35:54.494798Z",
     "shell.execute_reply": "2022-11-15T10:35:54.493500Z"
    },
    "papermill": {
     "duration": 0.033488,
     "end_time": "2022-11-15T10:35:54.497300",
     "exception": false,
     "start_time": "2022-11-15T10:35:54.463812",
     "status": "completed"
    },
    "tags": []
   },
   "outputs": [
    {
     "data": {
      "text/plain": [
       "array([[-1.38598291, 11.32826023,  1.73657432,  1.51657509, -2.20421044,\n",
       "        -1.77098323,  1.00775181,  2.19063398],\n",
       "       [-1.15498576, 12.582732  ,  1.12037053,  1.51657509, -1.92620898,\n",
       "         2.60559909,  1.2364345 ,  0.59099655]])"
      ]
     },
     "execution_count": 37,
     "metadata": {},
     "output_type": "execute_result"
    }
   ],
   "source": [
    "test_data_scaled=scaler.transform(test_data)\n",
    "test_data_scaled"
   ]
  },
  {
   "cell_type": "code",
   "execution_count": 38,
   "id": "5ae86f1a",
   "metadata": {
    "execution": {
     "iopub.execute_input": "2022-11-15T10:35:54.539197Z",
     "iopub.status.busy": "2022-11-15T10:35:54.538451Z",
     "iopub.status.idle": "2022-11-15T10:35:54.546536Z",
     "shell.execute_reply": "2022-11-15T10:35:54.545337Z"
    },
    "papermill": {
     "duration": 0.031089,
     "end_time": "2022-11-15T10:35:54.548845",
     "exception": false,
     "start_time": "2022-11-15T10:35:54.517756",
     "status": "completed"
    },
    "tags": []
   },
   "outputs": [
    {
     "data": {
      "text/plain": [
       "array([3839721.02689055, 4146864.71952866])"
      ]
     },
     "execution_count": 38,
     "metadata": {},
     "output_type": "execute_result"
    }
   ],
   "source": [
    "reg.predict(test_data_scaled)"
   ]
  },
  {
   "cell_type": "markdown",
   "id": "5d003580",
   "metadata": {
    "papermill": {
     "duration": 0.020406,
     "end_time": "2022-11-15T10:35:54.590028",
     "exception": false,
     "start_time": "2022-11-15T10:35:54.569622",
     "status": "completed"
    },
    "tags": []
   },
   "source": [
    "# Train your data"
   ]
  },
  {
   "cell_type": "code",
   "execution_count": 39,
   "id": "2f29a468",
   "metadata": {
    "execution": {
     "iopub.execute_input": "2022-11-15T10:35:54.632540Z",
     "iopub.status.busy": "2022-11-15T10:35:54.631262Z",
     "iopub.status.idle": "2022-11-15T10:35:54.640163Z",
     "shell.execute_reply": "2022-11-15T10:35:54.639035Z"
    },
    "papermill": {
     "duration": 0.033112,
     "end_time": "2022-11-15T10:35:54.642695",
     "exception": false,
     "start_time": "2022-11-15T10:35:54.609583",
     "status": "completed"
    },
    "tags": []
   },
   "outputs": [],
   "source": [
    "x_train, x_test, y_train, y_test= train_test_split(X, Y, test_size= 0.3, random_state=0)"
   ]
  },
  {
   "cell_type": "code",
   "execution_count": 40,
   "id": "10237d32",
   "metadata": {
    "execution": {
     "iopub.execute_input": "2022-11-15T10:35:54.684699Z",
     "iopub.status.busy": "2022-11-15T10:35:54.683509Z",
     "iopub.status.idle": "2022-11-15T10:35:54.694732Z",
     "shell.execute_reply": "2022-11-15T10:35:54.693815Z"
    },
    "papermill": {
     "duration": 0.034571,
     "end_time": "2022-11-15T10:35:54.697170",
     "exception": false,
     "start_time": "2022-11-15T10:35:54.662599",
     "status": "completed"
    },
    "tags": []
   },
   "outputs": [],
   "source": [
    "st_x= StandardScaler()    \n",
    "x_train= st_x.fit_transform(x_train)    \n",
    "x_test= st_x.transform(x_test)    "
   ]
  },
  {
   "cell_type": "markdown",
   "id": "f19ae4d6",
   "metadata": {
    "papermill": {
     "duration": 0.018812,
     "end_time": "2022-11-15T10:35:54.735218",
     "exception": false,
     "start_time": "2022-11-15T10:35:54.716406",
     "status": "completed"
    },
    "tags": []
   },
   "source": [
    "# Random Forest Regressor"
   ]
  },
  {
   "cell_type": "code",
   "execution_count": 41,
   "id": "0fee61a7",
   "metadata": {
    "execution": {
     "iopub.execute_input": "2022-11-15T10:35:54.776145Z",
     "iopub.status.busy": "2022-11-15T10:35:54.774876Z",
     "iopub.status.idle": "2022-11-15T10:35:55.251216Z",
     "shell.execute_reply": "2022-11-15T10:35:55.250106Z"
    },
    "papermill": {
     "duration": 0.499811,
     "end_time": "2022-11-15T10:35:55.254115",
     "exception": false,
     "start_time": "2022-11-15T10:35:54.754304",
     "status": "completed"
    },
    "tags": []
   },
   "outputs": [],
   "source": [
    "regressor = RandomForestRegressor()\n",
    "regressor.fit(x_train, y_train)\n",
    "y_pred = regressor.predict(x_test)\n",
    "#n_estimators=20, random_state=0"
   ]
  },
  {
   "cell_type": "code",
   "execution_count": 42,
   "id": "97a7492e",
   "metadata": {
    "execution": {
     "iopub.execute_input": "2022-11-15T10:35:55.295022Z",
     "iopub.status.busy": "2022-11-15T10:35:55.294563Z",
     "iopub.status.idle": "2022-11-15T10:35:55.315589Z",
     "shell.execute_reply": "2022-11-15T10:35:55.314484Z"
    },
    "papermill": {
     "duration": 0.044263,
     "end_time": "2022-11-15T10:35:55.317857",
     "exception": false,
     "start_time": "2022-11-15T10:35:55.273594",
     "status": "completed"
    },
    "tags": []
   },
   "outputs": [
    {
     "data": {
      "text/plain": [
       "array([2359670.5889, 4482366.0186])"
      ]
     },
     "execution_count": 42,
     "metadata": {},
     "output_type": "execute_result"
    }
   ],
   "source": [
    "regressor.predict(test_data_scaled)"
   ]
  },
  {
   "cell_type": "code",
   "execution_count": 43,
   "id": "6d058e37",
   "metadata": {
    "execution": {
     "iopub.execute_input": "2022-11-15T10:35:55.358163Z",
     "iopub.status.busy": "2022-11-15T10:35:55.357769Z",
     "iopub.status.idle": "2022-11-15T10:35:55.367402Z",
     "shell.execute_reply": "2022-11-15T10:35:55.366192Z"
    },
    "papermill": {
     "duration": 0.032937,
     "end_time": "2022-11-15T10:35:55.370156",
     "exception": false,
     "start_time": "2022-11-15T10:35:55.337219",
     "status": "completed"
    },
    "tags": []
   },
   "outputs": [
    {
     "name": "stdout",
     "output_type": "stream",
     "text": [
      "Mean Absolute Error: 590310.1958186103\n",
      "Mean Squared Error: 628203020750.6533\n",
      "Root Mean Squared Error: 792592.5944333907\n",
      "r2 score 0.8979389397979974\n"
     ]
    }
   ],
   "source": [
    "print('Mean Absolute Error:', metrics.mean_absolute_error(y_test, y_pred))\n",
    "print('Mean Squared Error:', metrics.mean_squared_error(y_test, y_pred))\n",
    "print('Root Mean Squared Error:', np.sqrt(metrics.mean_squared_error(y_test, y_pred)))\n",
    "print(\"r2 score\", r2_score(y_test,y_pred))"
   ]
  },
  {
   "cell_type": "markdown",
   "id": "479de9e2",
   "metadata": {
    "papermill": {
     "duration": 0.019672,
     "end_time": "2022-11-15T10:35:55.409447",
     "exception": false,
     "start_time": "2022-11-15T10:35:55.389775",
     "status": "completed"
    },
    "tags": []
   },
   "source": [
    "# XGBoost Regressor"
   ]
  },
  {
   "cell_type": "code",
   "execution_count": 44,
   "id": "9ae39e88",
   "metadata": {
    "execution": {
     "iopub.execute_input": "2022-11-15T10:35:55.450666Z",
     "iopub.status.busy": "2022-11-15T10:35:55.449822Z",
     "iopub.status.idle": "2022-11-15T10:35:55.968000Z",
     "shell.execute_reply": "2022-11-15T10:35:55.967066Z"
    },
    "papermill": {
     "duration": 0.541926,
     "end_time": "2022-11-15T10:35:55.970933",
     "exception": false,
     "start_time": "2022-11-15T10:35:55.429007",
     "status": "completed"
    },
    "tags": []
   },
   "outputs": [],
   "source": [
    "xgr = xgboost.XGBRegressor()\n",
    "xgr.fit(x_train, y_train)\n",
    "y_pred = xgr.predict(x_test)"
   ]
  },
  {
   "cell_type": "code",
   "execution_count": 45,
   "id": "3d48e87b",
   "metadata": {
    "execution": {
     "iopub.execute_input": "2022-11-15T10:35:56.012411Z",
     "iopub.status.busy": "2022-11-15T10:35:56.011994Z",
     "iopub.status.idle": "2022-11-15T10:35:56.022031Z",
     "shell.execute_reply": "2022-11-15T10:35:56.020966Z"
    },
    "papermill": {
     "duration": 0.033946,
     "end_time": "2022-11-15T10:35:56.024911",
     "exception": false,
     "start_time": "2022-11-15T10:35:55.990965",
     "status": "completed"
    },
    "tags": []
   },
   "outputs": [
    {
     "name": "stdout",
     "output_type": "stream",
     "text": [
      "Mean Absolute Error: 479899.3180381167\n",
      "Mean Squared Error: 634502633639.1079\n",
      "Root Mean Squared Error: 796556.7359825086\n",
      "r2 score 0.8969154726241376\n"
     ]
    }
   ],
   "source": [
    "print('Mean Absolute Error:', metrics.mean_absolute_error(y_test, y_pred))\n",
    "print('Mean Squared Error:', metrics.mean_squared_error(y_test, y_pred))\n",
    "print('Root Mean Squared Error:', np.sqrt(metrics.mean_squared_error(y_test, y_pred)))\n",
    "print(\"r2 score\", r2_score(y_test,y_pred))"
   ]
  }
 ],
 "metadata": {
  "kernelspec": {
   "display_name": "Python 3",
   "language": "python",
   "name": "python3"
  },
  "language_info": {
   "codemirror_mode": {
    "name": "ipython",
    "version": 3
   },
   "file_extension": ".py",
   "mimetype": "text/x-python",
   "name": "python",
   "nbconvert_exporter": "python",
   "pygments_lexer": "ipython3",
   "version": "3.7.12"
  },
  "papermill": {
   "default_parameters": {},
   "duration": 15.298387,
   "end_time": "2022-11-15T10:35:56.766606",
   "environment_variables": {},
   "exception": null,
   "input_path": "__notebook__.ipynb",
   "output_path": "__notebook__.ipynb",
   "parameters": {},
   "start_time": "2022-11-15T10:35:41.468219",
   "version": "2.3.4"
  }
 },
 "nbformat": 4,
 "nbformat_minor": 5
}
