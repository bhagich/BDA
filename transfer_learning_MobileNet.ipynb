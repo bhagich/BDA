{
  "nbformat": 4,
  "nbformat_minor": 0,
  "metadata": {
    "colab": {
      "provenance": [],
      "collapsed_sections": [
        "7ov3ECRCXw87",
        "XfaD8EeDZ_kN",
        "Qd5BKS4YamHZ",
        "UBD2FWbWeMnR",
        "Fvwl6SEyeP5p",
        "BbD4nlYkeqgR"
      ],
      "include_colab_link": true
    },
    "kernelspec": {
      "name": "python3",
      "display_name": "Python 3"
    },
    "language_info": {
      "name": "python"
    },
    "accelerator": "GPU"
  },
  "cells": [
    {
      "cell_type": "markdown",
      "metadata": {
        "id": "view-in-github",
        "colab_type": "text"
      },
      "source": [
        "<a href=\"https://colab.research.google.com/github/bhagich/BDA/blob/main/transfer_learning_MobileNet.ipynb\" target=\"_parent\"><img src=\"https://colab.research.google.com/assets/colab-badge.svg\" alt=\"Open In Colab\"/></a>"
      ]
    },
    {
      "cell_type": "code",
      "source": [
        "# Last amended: 29th Jan, 2023\n",
        "# https://www.tensorflow.org/tutorials/images/transfer_learning"
      ],
      "metadata": {
        "id": "XXZuzDlzHuNk"
      },
      "execution_count": null,
      "outputs": []
    },
    {
      "cell_type": "markdown",
      "source": [
        "Objectives\n",
        "> Examine and understand the data<br>\n",
        "> Build an input pipeline, in this case using Keras ImageDataGenerator<br>\n",
        ">>Compose the model<br>\n",
        ">>Load in the pretrained base model (and pretrained weights)<br>\n",
        ">Stack the classification layers on top<br>\n",
        ">Train the model<br>\n",
        ">Evaluate model<br>\n"
      ],
      "metadata": {
        "id": "r5c3cBZ1Fu8s"
      }
    },
    {
      "cell_type": "markdown",
      "source": [
        "Note: It appears in this model, learning rate plays a very crucial role. Further, whenever you change any model-compilation parameters, start from %reset point. Deleteing model, re-initializing etc do not appear to help."
      ],
      "metadata": {
        "id": "2Qf-GIGC09zr"
      }
    },
    {
      "cell_type": "markdown",
      "source": [
        "## Install software"
      ],
      "metadata": {
        "id": "eO6XUMURXTRD"
      }
    },
    {
      "cell_type": "code",
      "source": [
        "# 1.0 Install current tensorflow\n",
        "!pip install tensorflow==2.10.0"
      ],
      "metadata": {
        "id": "L64-cuBzH8sA"
      },
      "execution_count": null,
      "outputs": []
    },
    {
      "cell_type": "markdown",
      "source": [
        "## Call libraries"
      ],
      "metadata": {
        "id": "kRiPG-roXZEj"
      }
    },
    {
      "cell_type": "code",
      "source": [
        "# 1.1\n",
        "#%reset\n",
        "import numpy as np\n",
        "import pandas as pd\n",
        "\n",
        "# 1.1.1\n",
        "import matplotlib.pyplot as plt\n",
        "\n",
        "# 1.1.2\n",
        "import tensorflow as tf\n",
        "\n",
        "# 1.1.3\n",
        "import PIL\n",
        "import pathlib,os"
      ],
      "metadata": {
        "id": "6jiQVHZLIMaS"
      },
      "execution_count": null,
      "outputs": []
    },
    {
      "cell_type": "code",
      "source": [
        "# 1.1.4\n",
        "tf.__version__"
      ],
      "metadata": {
        "colab": {
          "base_uri": "https://localhost:8080/",
          "height": 35
        },
        "id": "Jh_eGqDBJfxg",
        "outputId": "6a3932db-9a5f-4841-f14b-cbda051b077e"
      },
      "execution_count": null,
      "outputs": [
        {
          "output_type": "execute_result",
          "data": {
            "text/plain": [
              "'2.10.0'"
            ],
            "application/vnd.google.colaboratory.intrinsic+json": {
              "type": "string"
            }
          },
          "metadata": {},
          "execution_count": 3
        }
      ]
    },
    {
      "cell_type": "markdown",
      "source": [
        "## Download data"
      ],
      "metadata": {
        "id": "7ov3ECRCXw87"
      }
    },
    {
      "cell_type": "code",
      "source": [
        "# 2.0 Data URL:\n",
        "\n",
        "data_url = 'https://storage.googleapis.com/mledu-datasets/cats_and_dogs_filtered.zip'"
      ],
      "metadata": {
        "id": "MS_pro45Hl2z"
      },
      "execution_count": null,
      "outputs": []
    },
    {
      "cell_type": "code",
      "source": [
        "# 2.1 Delete any existing data\n",
        "\n",
        "!rm -rf /root/.keras/datasets"
      ],
      "metadata": {
        "id": "-UshADsgK9RJ"
      },
      "execution_count": null,
      "outputs": []
    },
    {
      "cell_type": "code",
      "source": [
        "# 2.2 Download now:\n",
        "\n",
        "data_dir = tf.keras.utils.get_file(origin = data_url, extract= True)\n",
        "data_dir"
      ],
      "metadata": {
        "colab": {
          "base_uri": "https://localhost:8080/",
          "height": 70
        },
        "id": "EEmE_kwcH2KB",
        "outputId": "7fcb3504-ae42-4ed5-a4cb-8dd469cd116b"
      },
      "execution_count": null,
      "outputs": [
        {
          "output_type": "stream",
          "name": "stdout",
          "text": [
            "Downloading data from https://storage.googleapis.com/mledu-datasets/cats_and_dogs_filtered.zip\n",
            "68606236/68606236 [==============================] - 4s 0us/step\n"
          ]
        },
        {
          "output_type": "execute_result",
          "data": {
            "text/plain": [
              "'/root/.keras/datasets/cats_and_dogs_filtered.zip'"
            ],
            "application/vnd.google.colaboratory.intrinsic+json": {
              "type": "string"
            }
          },
          "metadata": {},
          "execution_count": 6
        }
      ]
    },
    {
      "cell_type": "code",
      "source": [
        "# 2.3 Check data files:\n",
        "\n",
        "!ls /root/.keras/datasets"
      ],
      "metadata": {
        "colab": {
          "base_uri": "https://localhost:8080/"
        },
        "id": "I2Z9lTjZKSPy",
        "outputId": "782b5d6a-bb04-44e4-e183-498903af1f0a"
      },
      "execution_count": null,
      "outputs": [
        {
          "output_type": "stream",
          "name": "stdout",
          "text": [
            "cats_and_dogs_filtered\tcats_and_dogs_filtered.zip\n"
          ]
        }
      ]
    },
    {
      "cell_type": "code",
      "source": [
        "# 2.3.1 Check data files:\n",
        "\n",
        "!ls /root/.keras/datasets/cats_and_dogs_filtered"
      ],
      "metadata": {
        "colab": {
          "base_uri": "https://localhost:8080/"
        },
        "id": "w-9d4R71LD8o",
        "outputId": "05ad6f79-240d-4873-c43a-4d43aaac4685"
      },
      "execution_count": null,
      "outputs": [
        {
          "output_type": "stream",
          "name": "stdout",
          "text": [
            "train  validation  vectorize.py\n"
          ]
        }
      ]
    },
    {
      "cell_type": "code",
      "source": [
        "!cat /root/.keras/datasets/cats_and_dogs_filtered/vectorize.py"
      ],
      "metadata": {
        "colab": {
          "base_uri": "https://localhost:8080/"
        },
        "id": "M12zbHNQeTeL",
        "outputId": "08245511-f92d-4a0b-c93b-9bc8d32b9ecf"
      },
      "execution_count": null,
      "outputs": [
        {
          "output_type": "stream",
          "name": "stdout",
          "text": [
            "from keras.preprocessing.image import array_to_img, img_to_array, load_img\n",
            "\n",
            "import os\n",
            "\n",
            "for fname in os.listdir('train/cats'):\n",
            "  print fname\n"
          ]
        }
      ]
    },
    {
      "cell_type": "markdown",
      "source": [
        "## Examine data"
      ],
      "metadata": {
        "id": "XfaD8EeDZ_kN"
      }
    },
    {
      "cell_type": "code",
      "source": [
        "# 2.3.2\n",
        "\n",
        "data_dir = pathlib.Path(\"/root/.keras/datasets/cats_and_dogs_filtered\")"
      ],
      "metadata": {
        "id": "PJAOH6JDLMOC"
      },
      "execution_count": null,
      "outputs": []
    },
    {
      "cell_type": "code",
      "source": [
        "# 2.3.3 Iterate over data_dir: \n",
        "\n",
        "for i in data_dir.iterdir():\n",
        "  print(i)"
      ],
      "metadata": {
        "id": "p6TyegESOBMx",
        "colab": {
          "base_uri": "https://localhost:8080/"
        },
        "outputId": "dde9a39f-3337-486e-d7e2-a7b9bc5b4801"
      },
      "execution_count": null,
      "outputs": [
        {
          "output_type": "stream",
          "name": "stdout",
          "text": [
            "/root/.keras/datasets/cats_and_dogs_filtered/validation\n",
            "/root/.keras/datasets/cats_and_dogs_filtered/train\n",
            "/root/.keras/datasets/cats_and_dogs_filtered/vectorize.py\n"
          ]
        }
      ]
    },
    {
      "cell_type": "code",
      "source": [
        "a = data_dir / \"train\""
      ],
      "metadata": {
        "id": "Om_R3rq5fJd1"
      },
      "execution_count": null,
      "outputs": []
    },
    {
      "cell_type": "code",
      "source": [
        "type(a)"
      ],
      "metadata": {
        "colab": {
          "base_uri": "https://localhost:8080/"
        },
        "id": "M9l_laWCfPj9",
        "outputId": "b3043fed-6256-41d8-8148-e24b3f5ee776"
      },
      "execution_count": null,
      "outputs": [
        {
          "output_type": "execute_result",
          "data": {
            "text/plain": [
              "pathlib.PosixPath"
            ]
          },
          "metadata": {},
          "execution_count": 18
        }
      ]
    },
    {
      "cell_type": "code",
      "source": [
        "# 2.3.4 Check within train:\n",
        "\n",
        "for j in (a).iterdir():\n",
        "  print(j)"
      ],
      "metadata": {
        "colab": {
          "base_uri": "https://localhost:8080/"
        },
        "id": "NiAy91uuOQZ4",
        "outputId": "ecf1b1b1-85c3-4045-f447-c44251acb7cf"
      },
      "execution_count": null,
      "outputs": [
        {
          "output_type": "stream",
          "name": "stdout",
          "text": [
            "/root/.keras/datasets/cats_and_dogs_filtered/train/cats\n",
            "/root/.keras/datasets/cats_and_dogs_filtered/train/dogs\n"
          ]
        }
      ]
    },
    {
      "cell_type": "code",
      "source": [
        "# 3.0 Plot images:\n",
        "\n",
        "plt.figure(figsize = (10,10))\n",
        "for k,i in enumerate((data_dir / \"train\").iterdir()):\n",
        "  for j in i.iterdir():\n",
        "    im = PIL.Image.open(j)\n",
        "    im = np.asarray(im)\n",
        "    plt.subplot(3,3,k+1)\n",
        "    plt.imshow(im)\n",
        "    plt.axis(\"off\")\n",
        "    break;"
      ],
      "metadata": {
        "colab": {
          "base_uri": "https://localhost:8080/",
          "height": 191
        },
        "id": "4olY8wHTRXRa",
        "outputId": "0b07875f-4703-48de-ada4-229b74b6963c"
      },
      "execution_count": null,
      "outputs": [
        {
          "output_type": "display_data",
          "data": {
            "text/plain": [
              "<Figure size 720x720 with 2 Axes>"
            ],
            "image/png": "[encoded data removed]"
          },
          "metadata": {
            "needs_background": "light"
          }
        }
      ]
    },
    {
      "cell_type": "markdown",
      "source": [
        "## train/test/validation generators"
      ],
      "metadata": {
        "id": "Qd5BKS4YamHZ"
      }
    },
    {
      "cell_type": "code",
      "source": [
        "# 3.1 Some constants:\n",
        "\n",
        "batch_size = 32\n",
        "image_size = (160,160)"
      ],
      "metadata": {
        "id": "MTVJunGCCZkS"
      },
      "execution_count": null,
      "outputs": []
    },
    {
      "cell_type": "code",
      "source": [
        "# 3.2 Create train data generator\n",
        "\n",
        "train_ds = tf.keras.utils.image_dataset_from_directory(data_dir / \"train\",\n",
        "                                                       shuffle = True,\n",
        "                                                       batch_size = batch_size,\n",
        "                                                       image_size=image_size\n",
        "                                                       )"
      ],
      "metadata": {
        "id": "j1QY9kFOTEBZ",
        "colab": {
          "base_uri": "https://localhost:8080/"
        },
        "outputId": "a0589f98-46d7-4fba-d50a-27b5fd95c10d"
      },
      "execution_count": null,
      "outputs": [
        {
          "output_type": "stream",
          "name": "stdout",
          "text": [
            "Found 2000 files belonging to 2 classes.\n"
          ]
        }
      ]
    },
    {
      "cell_type": "code",
      "source": [
        "# 3.2.1 What are the class names:\n",
        "\n",
        "train_ds.class_names"
      ],
      "metadata": {
        "colab": {
          "base_uri": "https://localhost:8080/"
        },
        "id": "FBYXwucACX0M",
        "outputId": "69a06b29-5d60-4ecd-9788-cb83f42ce3ea"
      },
      "execution_count": null,
      "outputs": [
        {
          "output_type": "execute_result",
          "data": {
            "text/plain": [
              "['cats', 'dogs']"
            ]
          },
          "metadata": {},
          "execution_count": 23
        }
      ]
    },
    {
      "cell_type": "code",
      "source": [
        "# 3.3 Validation generator:\n",
        "\n",
        "valid_ds = tf.keras.utils.image_dataset_from_directory(data_dir / \"validation\",\n",
        "                                                       shuffle = True,\n",
        "                                                       batch_size = batch_size,\n",
        "                                                       image_size=image_size\n",
        "                                                       )"
      ],
      "metadata": {
        "colab": {
          "base_uri": "https://localhost:8080/"
        },
        "id": "9MizjjOPCpRn",
        "outputId": "61fc2431-feb7-4563-cb97-b702f3a6c84d"
      },
      "execution_count": null,
      "outputs": [
        {
          "output_type": "stream",
          "name": "stdout",
          "text": [
            "Found 1000 files belonging to 2 classes.\n"
          ]
        }
      ]
    },
    {
      "cell_type": "code",
      "source": [
        "# 3.3.1\n",
        "type(valid_ds)"
      ],
      "metadata": {
        "colab": {
          "base_uri": "https://localhost:8080/"
        },
        "id": "lm_vA-o6jkor",
        "outputId": "229c3017-7f51-41ff-c20e-9cd4efdd8a48"
      },
      "execution_count": null,
      "outputs": [
        {
          "output_type": "execute_result",
          "data": {
            "text/plain": [
              "tensorflow.python.data.ops.dataset_ops.BatchDataset"
            ]
          },
          "metadata": {},
          "execution_count": 26
        }
      ]
    },
    {
      "cell_type": "code",
      "source": [
        "# 3.4 How many batches of validation data are possible:\n",
        "\n",
        "val_batches = tf.data.experimental.cardinality(valid_ds)    # <tf.Tensor: shape=(), dtype=int64, numpy=32> \n",
        "                                                            # there are 32 batches; 32 * 32 = 1024\n",
        "val_batches                                                            "
      ],
      "metadata": {
        "id": "hXtrFREeC72s",
        "outputId": "b36f98ef-1dc7-445a-d0fd-d52091fbbce0",
        "colab": {
          "base_uri": "https://localhost:8080/"
        }
      },
      "execution_count": null,
      "outputs": [
        {
          "output_type": "execute_result",
          "data": {
            "text/plain": [
              "<tf.Tensor: shape=(), dtype=int64, numpy=32>"
            ]
          },
          "metadata": {},
          "execution_count": 25
        }
      ]
    },
    {
      "cell_type": "code",
      "source": [
        "# 3.5 These are how many batches:\n",
        "\n",
        "val_batches // 5   # 6"
      ],
      "metadata": {
        "colab": {
          "base_uri": "https://localhost:8080/"
        },
        "id": "dqeWM03oNQyG",
        "outputId": "0ac3fd24-fbc3-4f02-804a-1bb6743fb07c"
      },
      "execution_count": null,
      "outputs": [
        {
          "output_type": "execute_result",
          "data": {
            "text/plain": [
              "<tf.Tensor: shape=(), dtype=int64, numpy=6>"
            ]
          },
          "metadata": {},
          "execution_count": 20
        }
      ]
    },
    {
      "cell_type": "code",
      "source": [
        "# 3.6 Just get one batch:\n",
        "\n",
        "for i,j in valid_ds.take(1):\n",
        "  print(i.shape)\n",
        "  print(type(i))\n",
        "  print(j.shape)"
      ],
      "metadata": {
        "colab": {
          "base_uri": "https://localhost:8080/"
        },
        "id": "c5cauqCoELML",
        "outputId": "154c919b-6c89-4066-ad1a-f5bcf7c74c92"
      },
      "execution_count": null,
      "outputs": [
        {
          "output_type": "stream",
          "name": "stdout",
          "text": [
            "(32, 160, 160, 3)\n",
            "<class 'tensorflow.python.framework.ops.EagerTensor'>\n",
            "(32,)\n"
          ]
        }
      ]
    },
    {
      "cell_type": "code",
      "source": [
        "# 3.7 Take initial val_batches // 5 for test data:\n",
        "\n",
        "test_dataset = valid_ds.take(val_batches // 5)"
      ],
      "metadata": {
        "id": "ZTqxGisEFo4n"
      },
      "execution_count": null,
      "outputs": []
    },
    {
      "cell_type": "code",
      "source": [
        "#  3.8 tf.data.Dataset.skip() method is used to create a dataset \n",
        "#        that skips count initial elements from this dataset.\n",
        "\n",
        "validation_dataset = valid_ds.skip(val_batches // 5)"
      ],
      "metadata": {
        "id": "D6PC7pIVNaJZ"
      },
      "execution_count": null,
      "outputs": []
    },
    {
      "cell_type": "code",
      "source": [
        "# 3.9 Skip example:\n",
        "#       https://www.tensorflow.org/api_docs/python/tf/data/Dataset#skip\n",
        "\n",
        "dataset = tf.data.Dataset.range(10)\n",
        "dataset = dataset.skip(7)\n"
      ],
      "metadata": {
        "id": "3c3ceIcLTfjU"
      },
      "execution_count": null,
      "outputs": []
    },
    {
      "cell_type": "code",
      "source": [
        "# 3.9.1 Dataset to numpy iterator:\n",
        "\n",
        "list(dataset.as_numpy_iterator())"
      ],
      "metadata": {
        "colab": {
          "base_uri": "https://localhost:8080/"
        },
        "id": "gjrgO-Syldcf",
        "outputId": "1744d2f9-ffd6-4896-988e-2fbd1cfb3ee2"
      },
      "execution_count": null,
      "outputs": [
        {
          "output_type": "execute_result",
          "data": {
            "text/plain": [
              "[7, 8, 9]"
            ]
          },
          "metadata": {},
          "execution_count": 30
        }
      ]
    },
    {
      "cell_type": "code",
      "source": [
        "# 3.9.2 Import for further eperiments:\n",
        "import tensorflow_datasets as tfds"
      ],
      "metadata": {
        "id": "ymqlgW8Kne2C"
      },
      "execution_count": null,
      "outputs": []
    },
    {
      "cell_type": "code",
      "source": [
        "# 3.9.3 Print Ist image in take(1)\n",
        "for i , j in valid_ds.take(1):\n",
        "  for k in tfds.as_numpy(i):\n",
        "    print(k.shape)\n",
        "    plt.imshow(k/255.0)\n",
        "    break\n",
        "  break"
      ],
      "metadata": {
        "colab": {
          "base_uri": "https://localhost:8080/",
          "height": 286
        },
        "id": "8jJhYNNWmKT8",
        "outputId": "3b7d8a36-dad5-4a7f-95eb-c28ab3f35d95"
      },
      "execution_count": null,
      "outputs": [
        {
          "output_type": "stream",
          "name": "stdout",
          "text": [
            "(160, 160, 3)\n"
          ]
        },
        {
          "output_type": "display_data",
          "data": {
            "text/plain": [
              "<Figure size 432x288 with 1 Axes>"
            ],
            "image/png": "[encoded data removed]"
          },
          "metadata": {
            "needs_background": "light"
          }
        }
      ]
    },
    {
      "cell_type": "markdown",
      "source": [
        "## Prefetching\n",
        "Configure pre-fetching. For `prefetch()` API, see [here](https://www.tensorflow.org/api_docs/python/tf/data/Dataset#prefetch)<br>\n",
        "prefetch() creates a Dataset that prefetches elements from this dataset."
      ],
      "metadata": {
        "id": "UBD2FWbWeMnR"
      }
    },
    {
      "cell_type": "markdown",
      "source": [
        "### Configure the dataset for performance"
      ],
      "metadata": {
        "id": "PfrJQXlYYppz"
      }
    },
    {
      "cell_type": "code",
      "source": [
        "# 4.0 prefetch expt\n",
        "dataset = tf.data.Dataset.range(3)\n",
        "dataset = dataset.prefetch(2)\n",
        "list(dataset.as_numpy_iterator())"
      ],
      "metadata": {
        "colab": {
          "base_uri": "https://localhost:8080/"
        },
        "id": "Dla-bdFA4a7J",
        "outputId": "4bac0811-bc97-4759-9532-f88582302db3"
      },
      "execution_count": null,
      "outputs": [
        {
          "output_type": "execute_result",
          "data": {
            "text/plain": [
              "[0, 1, 2]"
            ]
          },
          "metadata": {},
          "execution_count": 76
        }
      ]
    },
    {
      "cell_type": "code",
      "source": [
        "# 4.0.1 Get appropriate buffer size:\n",
        "#       in train_ds to prefetch. If a buffer\n",
        "#       is available, prefetching would be possible:\n",
        "\n",
        "buf_size = tf.data.AUTOTUNE   # number of elements to be prefetched\n",
        "train_ds = train_ds.prefetch(buffer_size = buf_size)\n",
        "validation_dataset  = validation_dataset.prefetch(buffer_size = buf_size)\n",
        "test_dataset = test_dataset.prefetch(buffer_size = buf_size)"
      ],
      "metadata": {
        "id": "yyVzTv9_N2Ku"
      },
      "execution_count": null,
      "outputs": []
    },
    {
      "cell_type": "markdown",
      "source": [
        "## MobileNetV2 model weights\n",
        "List of models available in tensorflow is [here](https://www.tensorflow.org/api_docs/python/tf/keras/applications)."
      ],
      "metadata": {
        "id": "Fvwl6SEyeP5p"
      }
    },
    {
      "cell_type": "code",
      "source": [
        "# 4.1 Create the base model from the pre-trained model MobileNet V2\n",
        "\n",
        "IMG_SHAPE = image_size + (3,)   # (160,160,3)\n",
        "# What about: f.keras.applications.mobilenet_v2.MobileNetV2\n",
        "base_model = tf.keras.applications.MobileNetV2(input_shape=IMG_SHAPE,\n",
        "                                               include_top=False,\n",
        "                                               weights='imagenet')\n",
        "\n",
        "type(base_model)  # keras.engine.functional.Functional"
      ],
      "metadata": {
        "id": "sgX_tko_ZNwe",
        "outputId": "c6391d27-778e-4e85-83af-af767a58227a",
        "colab": {
          "base_uri": "https://localhost:8080/"
        }
      },
      "execution_count": null,
      "outputs": [
        {
          "output_type": "stream",
          "name": "stdout",
          "text": [
            "Downloading data from https://storage.googleapis.com/tensorflow/keras-applications/mobilenet_v2/mobilenet_v2_weights_tf_dim_ordering_tf_kernels_1.0_160_no_top.h5\n",
            "9406464/9406464 [==============================] - 0s 0us/step\n"
          ]
        },
        {
          "output_type": "execute_result",
          "data": {
            "text/plain": [
              "keras.engine.functional.Functional"
            ]
          },
          "metadata": {},
          "execution_count": 48
        }
      ]
    },
    {
      "cell_type": "markdown",
      "source": [
        "## Data augmentation function"
      ],
      "metadata": {
        "id": "BbD4nlYkeqgR"
      }
    },
    {
      "cell_type": "code",
      "source": [
        "# 5.0 Data augmentation function:\n",
        "\n",
        "data_augmentation = tf.keras.Sequential([\n",
        "                                          tf.keras.layers.RandomFlip('horizontal'),\n",
        "                                          tf.keras.layers.RandomRotation(0.2),\n",
        "                                         ]\n",
        "                                        )"
      ],
      "metadata": {
        "id": "qhXwUd8qq8Cl"
      },
      "execution_count": null,
      "outputs": []
    },
    {
      "cell_type": "code",
      "source": [
        "# 5.1\n",
        "type(data_augmentation)"
      ],
      "metadata": {
        "colab": {
          "base_uri": "https://localhost:8080/"
        },
        "id": "yAO9eJrFslOz",
        "outputId": "e65f62b2-89f0-4df9-d989-ea44be6aa561"
      },
      "execution_count": null,
      "outputs": [
        {
          "output_type": "execute_result",
          "data": {
            "text/plain": [
              "keras.engine.sequential.Sequential"
            ]
          },
          "metadata": {},
          "execution_count": 50
        }
      ]
    },
    {
      "cell_type": "markdown",
      "source": [
        "Sequential() can also be called as below:"
      ],
      "metadata": {
        "id": "O-UTR8kB4xF6"
      }
    },
    {
      "cell_type": "code",
      "source": [
        "# 5.2\n",
        "data_augmentation = tf.keras.Sequential()"
      ],
      "metadata": {
        "id": "Z6pcXogdstP-"
      },
      "execution_count": null,
      "outputs": []
    },
    {
      "cell_type": "code",
      "source": [
        "# 5.3\n",
        "data_augmentation.add(tf.keras.layers.RandomFlip('horizontal'))"
      ],
      "metadata": {
        "id": "LiMaB8e5szBC"
      },
      "execution_count": null,
      "outputs": []
    },
    {
      "cell_type": "code",
      "source": [
        "# 5.4\n",
        "data_augmentation.add(tf.keras.layers.RandomRotation(0.2))"
      ],
      "metadata": {
        "id": "RTHDtdcDs45I"
      },
      "execution_count": null,
      "outputs": []
    },
    {
      "cell_type": "markdown",
      "source": [
        "## Our model"
      ],
      "metadata": {
        "id": "GJ6AKNKIfGVD"
      }
    },
    {
      "cell_type": "code",
      "source": [
        "# 6.0 Classification model:\n",
        "#      Each time you rerun the model, change seed\n",
        "#       to some other number\n",
        "\n",
        "# 6.1 Clear existing keras weights from model:\n",
        "tf.keras.backend.clear_session()\n",
        "seed = np.round(np.random.random() * 10000 ).astype('int')\n",
        "tf.random.set_seed(seed)\n",
        "del md\n",
        "\n",
        "\n",
        "# 6.2 The model\n",
        "inputs = tf.keras.Input(shape = IMG_SHAPE )\n",
        "x = data_augmentation(inputs)   # Note that it is a dequential model\n",
        "# Rescaling is done by scale*inputs+offset.\n",
        "# Rescaling(scale=4.0, offset=1.0) implies:\n",
        "#   [0,255] range it would give 4*[0, 255]+1 = [1, 1021]\n",
        "x = tf.keras.layers.Rescaling(1./127.5, offset=-1)(x)  # Rescale (-1,1)\n",
        "# Call the model on new inputs: (x):\n",
        "# https://www.tensorflow.org/api_docs/python/tf/keras/Model#call\n",
        "base = base_model(x, training = True)   # No training \n",
        "base = tf.keras.layers.Flatten()(base)\n",
        "# Classifier\n",
        "base = tf.keras.layers.Dense(256, activation = 'relu')(base)\n",
        "type(base)\n",
        "#base = tf.keras.layers.GlobalAveragePooling2D()(base)\n",
        "#base = tf.keras.layers.Dropout(0.2)(base)\n",
        "outputs = tf.keras.layers.Dense(1)(base)\n",
        "md = tf.keras.Model(inputs = [inputs], outputs = [outputs])"
      ],
      "metadata": {
        "id": "W-0exxUVgbqQ"
      },
      "execution_count": null,
      "outputs": []
    },
    {
      "cell_type": "markdown",
      "source": [
        "See [tf.keras.losses.BinaryCrossentropy](https://www.tensorflow.org/api_docs/python/tf/keras/losses/BinaryCrossentropy)<br>\n",
        "Als [see](https://stackoverflow.com/questions/41455101/what-is-the-meaning-of-the-word-logits-in-tensorflow)\n",
        "\n",
        "> <i>from_logits = True:</i><br>\n",
        ">> Whether to interpret `y_pred` as a tensor of logit values. By default, we assume that `y_pred` contains probabilities (i.e., values in [0, 1])."
      ],
      "metadata": {
        "id": "BEFiArndimnp"
      }
    },
    {
      "cell_type": "code",
      "source": [
        "# 6.3 Compile the mode:\n",
        "#     This compilation gives very good results.\n",
        "#     But see Note at the beginning.\n",
        "# Adam: https://www.tensorflow.org/api_docs/python/tf/keras/optimizers/Adam\n",
        "\n",
        "base_learning_rate = 0.0001\n",
        "md.compile(   optimizer=tf.keras.optimizers.Adam(\n",
        "                                                learning_rate=base_learning_rate   # Default: 0.01\n",
        "                                                ),\n",
        "              loss=tf.keras.losses.BinaryCrossentropy(\n",
        "                                                      from_logits=True  # Default: False\n",
        "                                                     ),\n",
        "              metrics=['accuracy']\n",
        "           )"
      ],
      "metadata": {
        "id": "g3cJfe0hBDDG"
      },
      "execution_count": null,
      "outputs": []
    },
    {
      "cell_type": "code",
      "source": [
        "# 6.4 Default learning rate does not give good results:\n",
        "#     This compilation does with default learning rate does not give good results: \n",
        "\n",
        "md.compile( \n",
        "            loss=tf.keras.losses.BinaryCrossentropy(\n",
        "                                                      from_logits=True  # Default: False\n",
        "                                                     ),\n",
        "            optimizer = tf.keras.optimizers.Adam(),\n",
        "            metrics = [\"accuracy\"]\n",
        "           )"
      ],
      "metadata": {
        "id": "tNIs13mjjNZw"
      },
      "execution_count": null,
      "outputs": []
    },
    {
      "cell_type": "markdown",
      "source": [
        "## Train model"
      ],
      "metadata": {
        "id": "-r91PjXD2HLS"
      }
    },
    {
      "cell_type": "code",
      "source": [
        "# 6.5 Train the model:\n",
        "\n",
        "md.fit(train_ds,\n",
        "       batch_size = batch_size,\n",
        "       epochs = 10,\n",
        "       validation_data = validation_dataset\n",
        "       )"
      ],
      "metadata": {
        "id": "Kh3ctMBPj_bt"
      },
      "execution_count": null,
      "outputs": []
    },
    {
      "cell_type": "markdown",
      "source": [
        "## Initialise model\n",
        "Does not appear to help"
      ],
      "metadata": {
        "id": "GSmhNwAj2KEZ"
      }
    },
    {
      "cell_type": "code",
      "source": [
        "# 7.0 Delete all model related variables:\n",
        "\n",
        "del x , md, base, inputs, outputs"
      ],
      "metadata": {
        "id": "c6AlbePsu40z"
      },
      "execution_count": null,
      "outputs": []
    },
    {
      "cell_type": "code",
      "source": [
        "# 7.1 Function to reinitailize model:\n",
        "\n",
        "def reinitialize(model):\n",
        "    for l in model.layers:\n",
        "        if hasattr(l,\"kernel_initializer\"):\n",
        "            l.kernel.assign(l.kernel_initializer(tf.shape(l.kernel)))\n",
        "        if hasattr(l,\"bias_initializer\"):\n",
        "            l.bias.assign(l.bias_initializer(tf.shape(l.bias)))\n",
        "        if hasattr(l,\"recurrent_initializer\"):\n",
        "            l.recurrent_kernel.assign(l.recurrent_initializer(tf.shape(l.recurrent_kernel)))"
      ],
      "metadata": {
        "id": "Jv3Mu-wjmWd_"
      },
      "execution_count": null,
      "outputs": []
    },
    {
      "cell_type": "code",
      "source": [
        "# 7.2\n",
        "reinitialize(md)"
      ],
      "metadata": {
        "id": "5eiOVaYhqnNW"
      },
      "execution_count": null,
      "outputs": []
    },
    {
      "cell_type": "code",
      "source": [
        "########################## I am done ###################"
      ],
      "metadata": {
        "id": "xvbpiPf1qsdb"
      },
      "execution_count": null,
      "outputs": []
    }
  ]
}